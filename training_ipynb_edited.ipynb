{
  "cells": [
    {
      "cell_type": "code",
      "source": [
        "!pip3 install vngrs-nlp"
      ],
      "metadata": {
        "id": "__mZqZtFA2WA"
      },
      "id": "__mZqZtFA2WA",
      "execution_count": null,
      "outputs": []
    },
    {
      "cell_type": "code",
      "source": [
        "pip install -U sentence-transformers"
      ],
      "metadata": {
        "id": "iP189ONTCiGL"
      },
      "id": "iP189ONTCiGL",
      "execution_count": null,
      "outputs": []
    },
    {
      "cell_type": "code",
      "source": [
        "pip install JPype1"
      ],
      "metadata": {
        "colab": {
          "base_uri": "https://localhost:8080/"
        },
        "id": "3OSvI3LJFFUj",
        "outputId": "d8d95300-0dd6-4d1f-ae7f-56e22946f1a6"
      },
      "id": "3OSvI3LJFFUj",
      "execution_count": 3,
      "outputs": [
        {
          "output_type": "stream",
          "name": "stdout",
          "text": [
            "Looking in indexes: https://pypi.org/simple, https://us-python.pkg.dev/colab-wheels/public/simple/\n",
            "Collecting JPype1\n",
            "  Downloading JPype1-1.4.1-cp310-cp310-manylinux_2_12_x86_64.manylinux2010_x86_64.whl (465 kB)\n",
            "\u001b[2K     \u001b[90m━━━━━━━━━━━━━━━━━━━━━━━━━━━━━━━━━━━━━━━\u001b[0m \u001b[32m465.3/465.3 kB\u001b[0m \u001b[31m3.2 MB/s\u001b[0m eta \u001b[36m0:00:00\u001b[0m\n",
            "\u001b[?25hRequirement already satisfied: packaging in /usr/local/lib/python3.10/dist-packages (from JPype1) (23.1)\n",
            "Installing collected packages: JPype1\n",
            "Successfully installed JPype1-1.4.1\n"
          ]
        }
      ]
    },
    {
      "cell_type": "code",
      "execution_count": 6,
      "id": "8d63433f",
      "metadata": {
        "id": "8d63433f"
      },
      "outputs": [],
      "source": [
        "import pandas as pd\n",
        "import numpy as np\n",
        "import zeyrek\n",
        "import nltk##lemmatization için lazım \n",
        "from jpype import JClass, getDefaultJVMPath, shutdownJVM, startJVM, JString\n",
        "from nltk.corpus import stopwords\n",
        "from nltk.tokenize import sent_tokenize\n",
        "from sklearn.feature_extraction.text import TfidfVectorizer\n",
        "import string\n",
        "from sklearn.ensemble import RandomForestRegressor\n",
        "import re\n",
        "from transformers import AutoTokenizer, AutoModel\n",
        "import torch\n",
        "from sentence_transformers import SentenceTransformer\n",
        "from vnlp import DependencyParser,PoSTagger,StopwordRemover, StemmerAnalyzer\n",
        "#from sentence_transformers import SentenceTransformer\n",
        "from sklearn.metrics.pairwise import cosine_similarity\n",
        "#from transformers import AutoTokenizer, AutoModel\n",
        "#import torch\n",
        "#from vnlp import DependencyParser,PoSTagger,StopwordRemover, StemmerAnalyzer"
      ]
    },
    {
      "cell_type": "code",
      "execution_count": null,
      "id": "6d8bb882",
      "metadata": {
        "id": "6d8bb882"
      },
      "outputs": [],
      "source": [
        "df1 = pd.read_csv(\"./data_result_added_mine\", sep='\\t')\n",
        "df2 = pd.read_csv(\"./data_result_added\", sep='\\t')\n",
        "frames = [df1, df2]\n",
        "data = pd.concat(frames,ignore_index=True)\n"
      ]
    },
    {
      "cell_type": "code",
      "execution_count": null,
      "id": "1bd66274",
      "metadata": {
        "id": "1bd66274"
      },
      "outputs": [],
      "source": [
        "from vnlp import DependencyParser,PoSTagger,StopwordRemover, StemmerAnalyzer"
      ]
    },
    {
      "cell_type": "code",
      "execution_count": null,
      "id": "e84762de",
      "metadata": {
        "id": "e84762de"
      },
      "outputs": [],
      "source": [
        "translator = str.maketrans('', '', string.punctuation)\n",
        "nltk.download('punkt')\n",
        "stopword_remover = StopwordRemover()\n",
        "analyzer = zeyrek.MorphAnalyzer()"
      ]
    },
    {
      "cell_type": "code",
      "source": [
        "def mean_pooling(model_output, attention_mask):\n",
        "    token_embeddings = model_output[0] #First element of model_output contains all token embeddings\n",
        "    input_mask_expanded = attention_mask.unsqueeze(-1).expand(token_embeddings.size()).float()\n",
        "    return torch.sum(token_embeddings * input_mask_expanded, 1) / torch.clamp(input_mask_expanded.sum(1), min=1e-9)\n",
        "\n",
        "tokenizer = AutoTokenizer.from_pretrained('emrecan/bert-base-turkish-cased-mean-nli-stsb-tr')\n",
        "model = AutoModel.from_pretrained('emrecan/bert-base-turkish-cased-mean-nli-stsb-tr')\n",
        "def giveEmbeddings(sentences):\n",
        "  encoded_input = tokenizer(sentences, padding=True, truncation=True, return_tensors='pt')\n",
        "  with torch.no_grad():\n",
        "      model_output = model(**encoded_input)\n",
        "  sentence_embeddings = mean_pooling(model_output, encoded_input['attention_mask'])\n",
        "  return sentence_embeddings\n"
      ],
      "metadata": {
        "colab": {
          "base_uri": "https://localhost:8080/",
          "height": 377,
          "referenced_widgets": [
            "692abc69b7304cbf9541529f0240bb72",
            "bab2e57c4a8d45e4a24115e3d68d255d",
            "d4889fd8e20e420a95d726adc30d9ccd",
            "df4f7dd23b76450d8e9e20888b701c02",
            "f90dbc1f3a234d9bb7ab13f8fa0c2a4e",
            "8ae2e7bf7848492d852dfa48a9ae1265",
            "1f7f494f1fd5450284cc32f23c7bec77",
            "2f1e929eda1541e6a2d16e8b4ac24096",
            "b0f24f50e9884c8eb65682471ac28e00",
            "086b16e4e66544e9929c0ce73fe2006a",
            "db2110daf9bd4fa993535668725b87f3",
            "b9cec0b7627b49918bef9cb1ce99455c",
            "91de30686477424a841801bab783f64d",
            "9c1765cb45fa4c9d9a0ae4ea33aaf340",
            "72fcc47b033047b6b171707689fadd9d",
            "c3d8d8edc9024a96b8e41e8892b47015",
            "f7be94251c464aa38ea1793b0494c8ff",
            "c6be391a913f4718a6abe2ddb64e50ab",
            "421bde99656140859bf2db09b6d17f90",
            "216e055c67ee4ccb923197ffa9717d35",
            "f16a0095727c41ef8fa0d664eca30b83",
            "d8053a121ed943e3a69bf238ab85cddc",
            "0517165d12da4884a97d6b2279069c4e",
            "727f6d32c755463cb15381e6b590e7e6",
            "2e7767b62d9e4b418f5c7bb1bce5a7e3",
            "d7edb1dd4e184d7f938eb233722e8f00",
            "739a294dade3425d9da57ab8d7a909c1",
            "308f4b9346e047c1aa170a7245621258",
            "4e0db2e4733a4f3cb75b38786b220de2",
            "fa027fbd5d244e51a482167ff40a90c9",
            "b80d167bf71d4472aaa5bbfaaa98e2e3",
            "685a0a8fe4a846e683f9154c680a9f05",
            "a81397ac1f7c4e0094c748621ba4136e",
            "a1ef8108af9c47c4b531066eb87f62f2",
            "4ca5dafeae3d45c4ab8fe6601b0fe982",
            "5fea31647c5b41f490aca7a404fa77ef",
            "019b954d89e74813866ebecd0df18402",
            "c6103e8dacf942f0b4d0dc26d2cf47b1",
            "55a538c4dbe64f7ab75169cafb30f65c",
            "5d94873262ab4505b24a743722032eb7",
            "6998a0ed42034b7fbc3fdfe478c052c8",
            "10bf9b3df7354ae4ab7ffde008f7e7c1",
            "607258e247724f5e98f8c8dd3436d489",
            "43cd8f3edb6c498198b2af4a2ab9f7d1",
            "ed14dcf7cdee49968dcdafa58577d534",
            "76ed4966724a42b7a1bf019a3560a553",
            "2166316953a749a4a0607c44c14fbf80",
            "38bfd5c647b84b0f836eb53d777e69b4",
            "a992044e1705434db109f0f5fb9ee937",
            "e65caf3e18554e2882c121a1a08dc6d0",
            "67387154b1a34b22ace7c5491e8481c1",
            "fcf64ac75e924f10952b1fe356ae2ae3",
            "cc20c76e1364490595e1a06a1b8157f5",
            "ca80503fa8b249449d5efc906778026b",
            "078976232fd54b4b9afd7aaa3e3585d7",
            "82ad89b26c854f49b910bfa221fe03ea",
            "970a560472db495a983612fd66344056",
            "fb3b210078ac4dc7a9ea2c813e38d2d0",
            "5239d26843164368924a75dbf2d40291",
            "61a6a92facf94b30bd9564be1c771c26",
            "ad55920176bf4f38845be1876229485f",
            "91d3c98477e44e008f3bc6108b05f7f6",
            "239d574b821d4a638fe08b18710d96e6",
            "9352d28e84224b14b1779a3fab0cffa1",
            "8e22cc538d2e44d284f22e106b277916",
            "491f0c84521c48d9ac217898f030e96f"
          ]
        },
        "id": "wNvvZ0T6FdQh",
        "outputId": "798a679b-e08f-47ba-a633-1fc5ff648cda"
      },
      "id": "wNvvZ0T6FdQh",
      "execution_count": 83,
      "outputs": [
        {
          "output_type": "display_data",
          "data": {
            "text/plain": [
              "Downloading (…)okenizer_config.json:   0%|          | 0.00/431 [00:00<?, ?B/s]"
            ],
            "application/vnd.jupyter.widget-view+json": {
              "version_major": 2,
              "version_minor": 0,
              "model_id": "692abc69b7304cbf9541529f0240bb72"
            }
          },
          "metadata": {}
        },
        {
          "output_type": "display_data",
          "data": {
            "text/plain": [
              "Downloading (…)solve/main/vocab.txt:   0%|          | 0.00/251k [00:00<?, ?B/s]"
            ],
            "application/vnd.jupyter.widget-view+json": {
              "version_major": 2,
              "version_minor": 0,
              "model_id": "b9cec0b7627b49918bef9cb1ce99455c"
            }
          },
          "metadata": {}
        },
        {
          "output_type": "display_data",
          "data": {
            "text/plain": [
              "Downloading (…)/main/tokenizer.json:   0%|          | 0.00/498k [00:00<?, ?B/s]"
            ],
            "application/vnd.jupyter.widget-view+json": {
              "version_major": 2,
              "version_minor": 0,
              "model_id": "0517165d12da4884a97d6b2279069c4e"
            }
          },
          "metadata": {}
        },
        {
          "output_type": "display_data",
          "data": {
            "text/plain": [
              "Downloading (…)cial_tokens_map.json:   0%|          | 0.00/112 [00:00<?, ?B/s]"
            ],
            "application/vnd.jupyter.widget-view+json": {
              "version_major": 2,
              "version_minor": 0,
              "model_id": "a1ef8108af9c47c4b531066eb87f62f2"
            }
          },
          "metadata": {}
        },
        {
          "output_type": "display_data",
          "data": {
            "text/plain": [
              "Downloading (…)lve/main/config.json:   0%|          | 0.00/693 [00:00<?, ?B/s]"
            ],
            "application/vnd.jupyter.widget-view+json": {
              "version_major": 2,
              "version_minor": 0,
              "model_id": "ed14dcf7cdee49968dcdafa58577d534"
            }
          },
          "metadata": {}
        },
        {
          "output_type": "display_data",
          "data": {
            "text/plain": [
              "Downloading pytorch_model.bin:   0%|          | 0.00/443M [00:00<?, ?B/s]"
            ],
            "application/vnd.jupyter.widget-view+json": {
              "version_major": 2,
              "version_minor": 0,
              "model_id": "82ad89b26c854f49b910bfa221fe03ea"
            }
          },
          "metadata": {}
        }
      ]
    },
    {
      "cell_type": "code",
      "source": [
        "def title_similarity():\n",
        "    data[\"result\"]=0.0\n",
        "    for i in range(len(data.sentence)):\n",
        "        title=stopword_remover.drop_stop_words(nltk.word_tokenize(data.loc[i,\"title\"].translate(translator).replace(\"“\",\"\").replace(\"’\",\"\")))\n",
        "        embeddings=giveEmbeddings([data.loc[i,\"sentence\"],data.loc[i,\"title\"]])\n",
        "        similarity=cosine_similarity([embeddings[0].numpy() ], [embeddings[1].numpy()])\n",
        "        data.loc[i,\"result\"]=similarity[0][0]\n"
      ],
      "metadata": {
        "id": "hGDkEpGqFgWf"
      },
      "id": "hGDkEpGqFgWf",
      "execution_count": null,
      "outputs": []
    },
    {
      "cell_type": "code",
      "source": [
        "title_similarity()"
      ],
      "metadata": {
        "id": "XOZ1k4mrFgaL"
      },
      "id": "XOZ1k4mrFgaL",
      "execution_count": null,
      "outputs": []
    },
    {
      "cell_type": "code",
      "source": [
        "import pandas as pd"
      ],
      "metadata": {
        "id": "FXrmLCuQX4cK"
      },
      "id": "FXrmLCuQX4cK",
      "execution_count": null,
      "outputs": []
    },
    {
      "cell_type": "code",
      "source": [
        "data.to_csv(\"last_data\",sep=\"\\t\",index=False)\n"
      ],
      "metadata": {
        "id": "hW_d1Ay7Fgg7"
      },
      "id": "hW_d1Ay7Fgg7",
      "execution_count": null,
      "outputs": []
    },
    {
      "cell_type": "code",
      "source": [
        "data = pd.read_csv(\"./last_data\", sep='\\t')"
      ],
      "metadata": {
        "id": "R7fh2k9sS1q3"
      },
      "id": "R7fh2k9sS1q3",
      "execution_count": 28,
      "outputs": []
    },
    {
      "cell_type": "code",
      "source": [
        "print(np.sum(data))"
      ],
      "metadata": {
        "colab": {
          "base_uri": "https://localhost:8080/"
        },
        "id": "iTpqiFVXRx_d",
        "outputId": "c47d33a2-7acc-478e-93e1-01af6965db99"
      },
      "id": "iTpqiFVXRx_d",
      "execution_count": null,
      "outputs": [
        {
          "output_type": "stream",
          "name": "stdout",
          "text": [
            "news_id                                                     18299693.0\n",
            "sentence             Ancak 1990’larından sonundan itibaren Türkiye,...\n",
            "title                Dünyanın yükselen değeri TürkiyeDünyanın yükse...\n",
            "is_contains_idiom                                               -18891\n",
            "NER                                                              24706\n",
            "tfidf                                                             6957\n",
            "noun_phrase                                                      12854\n",
            "words2               ['Ancak', '1990', '’', 'larından', 'sonundan',...\n",
            "sentence_length                                            1064.322524\n",
            "position                                                   3287.272428\n",
            "result                                                     4310.908189\n",
            "dtype: object\n"
          ]
        }
      ]
    },
    {
      "cell_type": "code",
      "source": [
        "print(len(data))"
      ],
      "metadata": {
        "colab": {
          "base_uri": "https://localhost:8080/"
        },
        "id": "YLXcasfbZSnb",
        "outputId": "cd6a16cc-a66b-4f50-cdd2-1f4011f02691"
      },
      "id": "YLXcasfbZSnb",
      "execution_count": null,
      "outputs": [
        {
          "output_type": "stream",
          "name": "stdout",
          "text": [
            "18891\n"
          ]
        }
      ]
    },
    {
      "cell_type": "code",
      "source": [
        "from sklearn.model_selection import train_test_split\n",
        "from sklearn import linear_model\n",
        "from sklearn.svm import SVR\n",
        "import pickle\n",
        "import math\n",
        "import numpy as np\n",
        "from sklearn.metrics import mean_absolute_error\n",
        "from sklearn.metrics import mean_squared_error\n",
        "from sklearn.ensemble import RandomForestRegressor\n",
        "from sklearn.metrics import r2_score\n",
        "from sklearn.linear_model import LinearRegression\n",
        "import inspect"
      ],
      "metadata": {
        "id": "rZPVo48sdTXu"
      },
      "id": "rZPVo48sdTXu",
      "execution_count": 29,
      "outputs": []
    },
    {
      "cell_type": "code",
      "source": [
        "data=data.dropna()\n",
        "data.isnull().sum()\n",
        "data.reset_index(drop=True, inplace=True)"
      ],
      "metadata": {
        "id": "_9jU3cSKhyhK"
      },
      "id": "_9jU3cSKhyhK",
      "execution_count": 32,
      "outputs": []
    },
    {
      "cell_type": "code",
      "source": [
        "import random\n",
        "\n",
        "# Initialize an empty set to store unique numbers\n",
        "unique_numbers = set()\n",
        "uniques=data.news_id.unique() \n",
        "# Generate random numbers until we have 2000 unique numbers\n",
        "while len(unique_numbers) < 852:\n",
        "    # Generate a random number between 0 and 2500\n",
        "    random_number = random.randint(0, len(uniques))\n",
        "    # Add the number to the set if it's not already in it\n",
        "    unique_numbers.add(uniques[random_number])\n",
        "\n",
        "# Convert the set to a list and sort it\n",
        "unique_numbers_list = sorted(list(unique_numbers))"
      ],
      "metadata": {
        "id": "Iyf9bb3GdYA0"
      },
      "id": "Iyf9bb3GdYA0",
      "execution_count": 33,
      "outputs": []
    },
    {
      "cell_type": "code",
      "source": [
        "X_rand_train=[]\n",
        "X_rand_test=[]\n",
        "for i in range(len(data)):\n",
        "  if data.loc[i,\"news_id\"] in unique_numbers_list:\n",
        "    X_rand_train.append(data.loc[i,:])\n",
        "  else:\n",
        "    X_rand_test.append(data.loc[i,:])"
      ],
      "metadata": {
        "id": "33L_JWxSdYC4",
        "colab": {
          "base_uri": "https://localhost:8080/"
        },
        "outputId": "bc5c6925-addd-42e5-e4f3-259a287aa035"
      },
      "id": "33L_JWxSdYC4",
      "execution_count": 34,
      "outputs": [
        {
          "output_type": "stream",
          "name": "stderr",
          "text": [
            "ERROR:tensorflow:==================================\n",
            "Object was never used (type <class 'tensorflow.python.ops.tensor_array_ops.TensorArray'>):\n",
            "<tensorflow.python.ops.tensor_array_ops.TensorArray object at 0x7fa4c60d2c20>\n",
            "If you want to mark it as used call its \"mark_used()\" method.\n",
            "It was originally created here:\n",
            "  File \"/usr/local/lib/python3.10/dist-packages/keras/backend.py\", line 5159, in <genexpr>\n",
            "    output_ta_t = tuple(  File \"/usr/local/lib/python3.10/dist-packages/tensorflow/python/util/tf_should_use.py\", line 243, in wrapped\n",
            "    return _add_should_use_warning(fn(*args, **kwargs),\n",
            "==================================\n"
          ]
        }
      ]
    },
    {
      "cell_type": "code",
      "source": [
        "len(X_rand_train)"
      ],
      "metadata": {
        "colab": {
          "base_uri": "https://localhost:8080/"
        },
        "id": "Ifn2-tHRSke6",
        "outputId": "42da6767-a9bc-4f51-d0c2-f73b79c133a3"
      },
      "id": "Ifn2-tHRSke6",
      "execution_count": 35,
      "outputs": [
        {
          "output_type": "execute_result",
          "data": {
            "text/plain": [
              "15023"
            ]
          },
          "metadata": {},
          "execution_count": 35
        }
      ]
    },
    {
      "cell_type": "code",
      "source": [
        "len(X_rand_test)"
      ],
      "metadata": {
        "colab": {
          "base_uri": "https://localhost:8080/"
        },
        "id": "pKA3ICiBSnMk",
        "outputId": "317d8444-30db-4e05-ff30-9daa70ba189a"
      },
      "id": "pKA3ICiBSnMk",
      "execution_count": null,
      "outputs": [
        {
          "output_type": "execute_result",
          "data": {
            "text/plain": [
              "3077"
            ]
          },
          "metadata": {},
          "execution_count": 12
        }
      ]
    },
    {
      "cell_type": "code",
      "source": [
        "random_train = pd.DataFrame (X_rand_train, columns = data.columns)\n",
        "random_test = pd.DataFrame (X_rand_test, columns = data.columns)"
      ],
      "metadata": {
        "id": "Er9jhYCddYFO"
      },
      "id": "Er9jhYCddYFO",
      "execution_count": 37,
      "outputs": []
    },
    {
      "cell_type": "code",
      "source": [
        "X_tr=random_train.loc[:,[\"news_id\",\"sentence\",\"title\",\"NER\",\"noun_phrase\",\"tfidf\",\"sentence_length\",\"position\"]]\n",
        "X_ts=random_test.loc[:,[\"news_id\",\"sentence\",\"title\",\"NER\",\"noun_phrase\",\"tfidf\",\"sentence_length\",\"position\"]]\n",
        "y_train=random_train.loc[:,[\"result\"]]\n",
        "y_test=random_test.loc[:,[\"result\"]]"
      ],
      "metadata": {
        "id": "qSadXeG6dYHo"
      },
      "id": "qSadXeG6dYHo",
      "execution_count": 38,
      "outputs": []
    },
    {
      "cell_type": "code",
      "source": [
        "X_train=X_tr.loc[:,[\"NER\",\"noun_phrase\",\"tfidf\",\"sentence_length\",\"position\"]]\n",
        "X_test=X_ts.loc[:,[\"NER\",\"noun_phrase\",\"tfidf\",\"sentence_length\",\"position\"]]"
      ],
      "metadata": {
        "id": "L_XcHb8YdYJy"
      },
      "id": "L_XcHb8YdYJy",
      "execution_count": 39,
      "outputs": []
    },
    {
      "cell_type": "code",
      "source": [
        "regressor = RandomForestRegressor(n_estimators = 600, random_state = 42)\n",
        "regressor.fit(X_train,y_train) "
      ],
      "metadata": {
        "colab": {
          "base_uri": "https://localhost:8080/",
          "height": 130
        },
        "id": "EdfUIQm6dYL4",
        "outputId": "f7b44903-7f58-4315-86e1-4907945f067d"
      },
      "id": "EdfUIQm6dYL4",
      "execution_count": 40,
      "outputs": [
        {
          "output_type": "stream",
          "name": "stderr",
          "text": [
            "<ipython-input-40-9f03bb6509aa>:2: DataConversionWarning: A column-vector y was passed when a 1d array was expected. Please change the shape of y to (n_samples,), for example using ravel().\n",
            "  regressor.fit(X_train,y_train)\n"
          ]
        },
        {
          "output_type": "execute_result",
          "data": {
            "text/plain": [
              "RandomForestRegressor(n_estimators=600, random_state=42)"
            ],
            "text/html": [
              "<style>#sk-container-id-2 {color: black;background-color: white;}#sk-container-id-2 pre{padding: 0;}#sk-container-id-2 div.sk-toggleable {background-color: white;}#sk-container-id-2 label.sk-toggleable__label {cursor: pointer;display: block;width: 100%;margin-bottom: 0;padding: 0.3em;box-sizing: border-box;text-align: center;}#sk-container-id-2 label.sk-toggleable__label-arrow:before {content: \"▸\";float: left;margin-right: 0.25em;color: #696969;}#sk-container-id-2 label.sk-toggleable__label-arrow:hover:before {color: black;}#sk-container-id-2 div.sk-estimator:hover label.sk-toggleable__label-arrow:before {color: black;}#sk-container-id-2 div.sk-toggleable__content {max-height: 0;max-width: 0;overflow: hidden;text-align: left;background-color: #f0f8ff;}#sk-container-id-2 div.sk-toggleable__content pre {margin: 0.2em;color: black;border-radius: 0.25em;background-color: #f0f8ff;}#sk-container-id-2 input.sk-toggleable__control:checked~div.sk-toggleable__content {max-height: 200px;max-width: 100%;overflow: auto;}#sk-container-id-2 input.sk-toggleable__control:checked~label.sk-toggleable__label-arrow:before {content: \"▾\";}#sk-container-id-2 div.sk-estimator input.sk-toggleable__control:checked~label.sk-toggleable__label {background-color: #d4ebff;}#sk-container-id-2 div.sk-label input.sk-toggleable__control:checked~label.sk-toggleable__label {background-color: #d4ebff;}#sk-container-id-2 input.sk-hidden--visually {border: 0;clip: rect(1px 1px 1px 1px);clip: rect(1px, 1px, 1px, 1px);height: 1px;margin: -1px;overflow: hidden;padding: 0;position: absolute;width: 1px;}#sk-container-id-2 div.sk-estimator {font-family: monospace;background-color: #f0f8ff;border: 1px dotted black;border-radius: 0.25em;box-sizing: border-box;margin-bottom: 0.5em;}#sk-container-id-2 div.sk-estimator:hover {background-color: #d4ebff;}#sk-container-id-2 div.sk-parallel-item::after {content: \"\";width: 100%;border-bottom: 1px solid gray;flex-grow: 1;}#sk-container-id-2 div.sk-label:hover label.sk-toggleable__label {background-color: #d4ebff;}#sk-container-id-2 div.sk-serial::before {content: \"\";position: absolute;border-left: 1px solid gray;box-sizing: border-box;top: 0;bottom: 0;left: 50%;z-index: 0;}#sk-container-id-2 div.sk-serial {display: flex;flex-direction: column;align-items: center;background-color: white;padding-right: 0.2em;padding-left: 0.2em;position: relative;}#sk-container-id-2 div.sk-item {position: relative;z-index: 1;}#sk-container-id-2 div.sk-parallel {display: flex;align-items: stretch;justify-content: center;background-color: white;position: relative;}#sk-container-id-2 div.sk-item::before, #sk-container-id-2 div.sk-parallel-item::before {content: \"\";position: absolute;border-left: 1px solid gray;box-sizing: border-box;top: 0;bottom: 0;left: 50%;z-index: -1;}#sk-container-id-2 div.sk-parallel-item {display: flex;flex-direction: column;z-index: 1;position: relative;background-color: white;}#sk-container-id-2 div.sk-parallel-item:first-child::after {align-self: flex-end;width: 50%;}#sk-container-id-2 div.sk-parallel-item:last-child::after {align-self: flex-start;width: 50%;}#sk-container-id-2 div.sk-parallel-item:only-child::after {width: 0;}#sk-container-id-2 div.sk-dashed-wrapped {border: 1px dashed gray;margin: 0 0.4em 0.5em 0.4em;box-sizing: border-box;padding-bottom: 0.4em;background-color: white;}#sk-container-id-2 div.sk-label label {font-family: monospace;font-weight: bold;display: inline-block;line-height: 1.2em;}#sk-container-id-2 div.sk-label-container {text-align: center;}#sk-container-id-2 div.sk-container {/* jupyter's `normalize.less` sets `[hidden] { display: none; }` but bootstrap.min.css set `[hidden] { display: none !important; }` so we also need the `!important` here to be able to override the default hidden behavior on the sphinx rendered scikit-learn.org. See: https://github.com/scikit-learn/scikit-learn/issues/21755 */display: inline-block !important;position: relative;}#sk-container-id-2 div.sk-text-repr-fallback {display: none;}</style><div id=\"sk-container-id-2\" class=\"sk-top-container\"><div class=\"sk-text-repr-fallback\"><pre>RandomForestRegressor(n_estimators=600, random_state=42)</pre><b>In a Jupyter environment, please rerun this cell to show the HTML representation or trust the notebook. <br />On GitHub, the HTML representation is unable to render, please try loading this page with nbviewer.org.</b></div><div class=\"sk-container\" hidden><div class=\"sk-item\"><div class=\"sk-estimator sk-toggleable\"><input class=\"sk-toggleable__control sk-hidden--visually\" id=\"sk-estimator-id-2\" type=\"checkbox\" checked><label for=\"sk-estimator-id-2\" class=\"sk-toggleable__label sk-toggleable__label-arrow\">RandomForestRegressor</label><div class=\"sk-toggleable__content\"><pre>RandomForestRegressor(n_estimators=600, random_state=42)</pre></div></div></div></div></div>"
            ]
          },
          "metadata": {},
          "execution_count": 40
        }
      ]
    },
    {
      "cell_type": "code",
      "source": [
        "Y_pred = regressor.predict(X_test)"
      ],
      "metadata": {
        "id": "Z2mGrxDLgZrM"
      },
      "id": "Z2mGrxDLgZrM",
      "execution_count": 41,
      "outputs": []
    },
    {
      "cell_type": "code",
      "source": [
        "m1=mean_squared_error(y_test,Y_pred)\n",
        "m2=mean_absolute_error(y_test,Y_pred)\n",
        "r2=r2_score(y_test,Y_pred, force_finite=False)\n",
        "print(m1,m2,r2)"
      ],
      "metadata": {
        "colab": {
          "base_uri": "https://localhost:8080/"
        },
        "id": "Bve8tuuwisRj",
        "outputId": "d898148c-af2d-443e-df7f-a4fcc7042b49"
      },
      "id": "Bve8tuuwisRj",
      "execution_count": 42,
      "outputs": [
        {
          "output_type": "stream",
          "name": "stdout",
          "text": [
            "0.025612581471014806 0.12385581608334119 0.1326944346824661\n"
          ]
        }
      ]
    },
    {
      "cell_type": "code",
      "source": [
        "clf = linear_model.Lasso(alpha=0.5)\n",
        "clf.fit(X_train,y_train)"
      ],
      "metadata": {
        "colab": {
          "base_uri": "https://localhost:8080/",
          "height": 75
        },
        "id": "qpYMz-73isUJ",
        "outputId": "971ca18b-ac1f-423a-e374-76b4377f3f59"
      },
      "id": "qpYMz-73isUJ",
      "execution_count": null,
      "outputs": [
        {
          "output_type": "execute_result",
          "data": {
            "text/plain": [
              "Lasso(alpha=0.5)"
            ],
            "text/html": [
              "<style>#sk-container-id-2 {color: black;background-color: white;}#sk-container-id-2 pre{padding: 0;}#sk-container-id-2 div.sk-toggleable {background-color: white;}#sk-container-id-2 label.sk-toggleable__label {cursor: pointer;display: block;width: 100%;margin-bottom: 0;padding: 0.3em;box-sizing: border-box;text-align: center;}#sk-container-id-2 label.sk-toggleable__label-arrow:before {content: \"▸\";float: left;margin-right: 0.25em;color: #696969;}#sk-container-id-2 label.sk-toggleable__label-arrow:hover:before {color: black;}#sk-container-id-2 div.sk-estimator:hover label.sk-toggleable__label-arrow:before {color: black;}#sk-container-id-2 div.sk-toggleable__content {max-height: 0;max-width: 0;overflow: hidden;text-align: left;background-color: #f0f8ff;}#sk-container-id-2 div.sk-toggleable__content pre {margin: 0.2em;color: black;border-radius: 0.25em;background-color: #f0f8ff;}#sk-container-id-2 input.sk-toggleable__control:checked~div.sk-toggleable__content {max-height: 200px;max-width: 100%;overflow: auto;}#sk-container-id-2 input.sk-toggleable__control:checked~label.sk-toggleable__label-arrow:before {content: \"▾\";}#sk-container-id-2 div.sk-estimator input.sk-toggleable__control:checked~label.sk-toggleable__label {background-color: #d4ebff;}#sk-container-id-2 div.sk-label input.sk-toggleable__control:checked~label.sk-toggleable__label {background-color: #d4ebff;}#sk-container-id-2 input.sk-hidden--visually {border: 0;clip: rect(1px 1px 1px 1px);clip: rect(1px, 1px, 1px, 1px);height: 1px;margin: -1px;overflow: hidden;padding: 0;position: absolute;width: 1px;}#sk-container-id-2 div.sk-estimator {font-family: monospace;background-color: #f0f8ff;border: 1px dotted black;border-radius: 0.25em;box-sizing: border-box;margin-bottom: 0.5em;}#sk-container-id-2 div.sk-estimator:hover {background-color: #d4ebff;}#sk-container-id-2 div.sk-parallel-item::after {content: \"\";width: 100%;border-bottom: 1px solid gray;flex-grow: 1;}#sk-container-id-2 div.sk-label:hover label.sk-toggleable__label {background-color: #d4ebff;}#sk-container-id-2 div.sk-serial::before {content: \"\";position: absolute;border-left: 1px solid gray;box-sizing: border-box;top: 0;bottom: 0;left: 50%;z-index: 0;}#sk-container-id-2 div.sk-serial {display: flex;flex-direction: column;align-items: center;background-color: white;padding-right: 0.2em;padding-left: 0.2em;position: relative;}#sk-container-id-2 div.sk-item {position: relative;z-index: 1;}#sk-container-id-2 div.sk-parallel {display: flex;align-items: stretch;justify-content: center;background-color: white;position: relative;}#sk-container-id-2 div.sk-item::before, #sk-container-id-2 div.sk-parallel-item::before {content: \"\";position: absolute;border-left: 1px solid gray;box-sizing: border-box;top: 0;bottom: 0;left: 50%;z-index: -1;}#sk-container-id-2 div.sk-parallel-item {display: flex;flex-direction: column;z-index: 1;position: relative;background-color: white;}#sk-container-id-2 div.sk-parallel-item:first-child::after {align-self: flex-end;width: 50%;}#sk-container-id-2 div.sk-parallel-item:last-child::after {align-self: flex-start;width: 50%;}#sk-container-id-2 div.sk-parallel-item:only-child::after {width: 0;}#sk-container-id-2 div.sk-dashed-wrapped {border: 1px dashed gray;margin: 0 0.4em 0.5em 0.4em;box-sizing: border-box;padding-bottom: 0.4em;background-color: white;}#sk-container-id-2 div.sk-label label {font-family: monospace;font-weight: bold;display: inline-block;line-height: 1.2em;}#sk-container-id-2 div.sk-label-container {text-align: center;}#sk-container-id-2 div.sk-container {/* jupyter's `normalize.less` sets `[hidden] { display: none; }` but bootstrap.min.css set `[hidden] { display: none !important; }` so we also need the `!important` here to be able to override the default hidden behavior on the sphinx rendered scikit-learn.org. See: https://github.com/scikit-learn/scikit-learn/issues/21755 */display: inline-block !important;position: relative;}#sk-container-id-2 div.sk-text-repr-fallback {display: none;}</style><div id=\"sk-container-id-2\" class=\"sk-top-container\"><div class=\"sk-text-repr-fallback\"><pre>Lasso(alpha=0.5)</pre><b>In a Jupyter environment, please rerun this cell to show the HTML representation or trust the notebook. <br />On GitHub, the HTML representation is unable to render, please try loading this page with nbviewer.org.</b></div><div class=\"sk-container\" hidden><div class=\"sk-item\"><div class=\"sk-estimator sk-toggleable\"><input class=\"sk-toggleable__control sk-hidden--visually\" id=\"sk-estimator-id-2\" type=\"checkbox\" checked><label for=\"sk-estimator-id-2\" class=\"sk-toggleable__label sk-toggleable__label-arrow\">Lasso</label><div class=\"sk-toggleable__content\"><pre>Lasso(alpha=0.5)</pre></div></div></div></div></div>"
            ]
          },
          "metadata": {},
          "execution_count": 17
        }
      ]
    },
    {
      "cell_type": "code",
      "source": [
        "y_pred2=clf.predict(X_test)"
      ],
      "metadata": {
        "id": "a_iviFcIisWs"
      },
      "id": "a_iviFcIisWs",
      "execution_count": null,
      "outputs": []
    },
    {
      "cell_type": "code",
      "source": [
        "mL1=mean_squared_error(y_test,y_pred2)\n",
        "mL2=mean_absolute_error(y_test,y_pred2)\n",
        "r2L=r2_score(y_test,y_pred2, force_finite=False)\n",
        "print(mL1,mL2,r2L)"
      ],
      "metadata": {
        "colab": {
          "base_uri": "https://localhost:8080/"
        },
        "id": "yM3oYfh2kgZv",
        "outputId": "2b8f0a12-b681-403b-ed91-764d12d73fac"
      },
      "id": "yM3oYfh2kgZv",
      "execution_count": null,
      "outputs": [
        {
          "output_type": "stream",
          "name": "stdout",
          "text": [
            "0.03095196612669707 0.14241248082987648 -0.0017881752125712413\n"
          ]
        }
      ]
    },
    {
      "cell_type": "code",
      "source": [
        "logr  = LinearRegression()\n",
        "logr.fit(X_train,y_train) "
      ],
      "metadata": {
        "colab": {
          "base_uri": "https://localhost:8080/",
          "height": 75
        },
        "id": "cSJyrp5wlo3t",
        "outputId": "558d7802-3389-4028-8596-85160557e2da"
      },
      "id": "cSJyrp5wlo3t",
      "execution_count": null,
      "outputs": [
        {
          "output_type": "execute_result",
          "data": {
            "text/plain": [
              "LinearRegression()"
            ],
            "text/html": [
              "<style>#sk-container-id-5 {color: black;background-color: white;}#sk-container-id-5 pre{padding: 0;}#sk-container-id-5 div.sk-toggleable {background-color: white;}#sk-container-id-5 label.sk-toggleable__label {cursor: pointer;display: block;width: 100%;margin-bottom: 0;padding: 0.3em;box-sizing: border-box;text-align: center;}#sk-container-id-5 label.sk-toggleable__label-arrow:before {content: \"▸\";float: left;margin-right: 0.25em;color: #696969;}#sk-container-id-5 label.sk-toggleable__label-arrow:hover:before {color: black;}#sk-container-id-5 div.sk-estimator:hover label.sk-toggleable__label-arrow:before {color: black;}#sk-container-id-5 div.sk-toggleable__content {max-height: 0;max-width: 0;overflow: hidden;text-align: left;background-color: #f0f8ff;}#sk-container-id-5 div.sk-toggleable__content pre {margin: 0.2em;color: black;border-radius: 0.25em;background-color: #f0f8ff;}#sk-container-id-5 input.sk-toggleable__control:checked~div.sk-toggleable__content {max-height: 200px;max-width: 100%;overflow: auto;}#sk-container-id-5 input.sk-toggleable__control:checked~label.sk-toggleable__label-arrow:before {content: \"▾\";}#sk-container-id-5 div.sk-estimator input.sk-toggleable__control:checked~label.sk-toggleable__label {background-color: #d4ebff;}#sk-container-id-5 div.sk-label input.sk-toggleable__control:checked~label.sk-toggleable__label {background-color: #d4ebff;}#sk-container-id-5 input.sk-hidden--visually {border: 0;clip: rect(1px 1px 1px 1px);clip: rect(1px, 1px, 1px, 1px);height: 1px;margin: -1px;overflow: hidden;padding: 0;position: absolute;width: 1px;}#sk-container-id-5 div.sk-estimator {font-family: monospace;background-color: #f0f8ff;border: 1px dotted black;border-radius: 0.25em;box-sizing: border-box;margin-bottom: 0.5em;}#sk-container-id-5 div.sk-estimator:hover {background-color: #d4ebff;}#sk-container-id-5 div.sk-parallel-item::after {content: \"\";width: 100%;border-bottom: 1px solid gray;flex-grow: 1;}#sk-container-id-5 div.sk-label:hover label.sk-toggleable__label {background-color: #d4ebff;}#sk-container-id-5 div.sk-serial::before {content: \"\";position: absolute;border-left: 1px solid gray;box-sizing: border-box;top: 0;bottom: 0;left: 50%;z-index: 0;}#sk-container-id-5 div.sk-serial {display: flex;flex-direction: column;align-items: center;background-color: white;padding-right: 0.2em;padding-left: 0.2em;position: relative;}#sk-container-id-5 div.sk-item {position: relative;z-index: 1;}#sk-container-id-5 div.sk-parallel {display: flex;align-items: stretch;justify-content: center;background-color: white;position: relative;}#sk-container-id-5 div.sk-item::before, #sk-container-id-5 div.sk-parallel-item::before {content: \"\";position: absolute;border-left: 1px solid gray;box-sizing: border-box;top: 0;bottom: 0;left: 50%;z-index: -1;}#sk-container-id-5 div.sk-parallel-item {display: flex;flex-direction: column;z-index: 1;position: relative;background-color: white;}#sk-container-id-5 div.sk-parallel-item:first-child::after {align-self: flex-end;width: 50%;}#sk-container-id-5 div.sk-parallel-item:last-child::after {align-self: flex-start;width: 50%;}#sk-container-id-5 div.sk-parallel-item:only-child::after {width: 0;}#sk-container-id-5 div.sk-dashed-wrapped {border: 1px dashed gray;margin: 0 0.4em 0.5em 0.4em;box-sizing: border-box;padding-bottom: 0.4em;background-color: white;}#sk-container-id-5 div.sk-label label {font-family: monospace;font-weight: bold;display: inline-block;line-height: 1.2em;}#sk-container-id-5 div.sk-label-container {text-align: center;}#sk-container-id-5 div.sk-container {/* jupyter's `normalize.less` sets `[hidden] { display: none; }` but bootstrap.min.css set `[hidden] { display: none !important; }` so we also need the `!important` here to be able to override the default hidden behavior on the sphinx rendered scikit-learn.org. See: https://github.com/scikit-learn/scikit-learn/issues/21755 */display: inline-block !important;position: relative;}#sk-container-id-5 div.sk-text-repr-fallback {display: none;}</style><div id=\"sk-container-id-5\" class=\"sk-top-container\"><div class=\"sk-text-repr-fallback\"><pre>LinearRegression()</pre><b>In a Jupyter environment, please rerun this cell to show the HTML representation or trust the notebook. <br />On GitHub, the HTML representation is unable to render, please try loading this page with nbviewer.org.</b></div><div class=\"sk-container\" hidden><div class=\"sk-item\"><div class=\"sk-estimator sk-toggleable\"><input class=\"sk-toggleable__control sk-hidden--visually\" id=\"sk-estimator-id-5\" type=\"checkbox\" checked><label for=\"sk-estimator-id-5\" class=\"sk-toggleable__label sk-toggleable__label-arrow\">LinearRegression</label><div class=\"sk-toggleable__content\"><pre>LinearRegression()</pre></div></div></div></div></div>"
            ]
          },
          "metadata": {},
          "execution_count": 36
        }
      ]
    },
    {
      "cell_type": "code",
      "source": [
        "y_pred3= logr.predict(X_test)\n",
        "mL1=mean_squared_error(y_test,y_pred3)\n",
        "mL2=mean_absolute_error(y_test,y_pred3)\n",
        "r2L=r2_score(y_test,y_pred3, force_finite=False)\n",
        "print(mL1,mL2,r2L)"
      ],
      "metadata": {
        "colab": {
          "base_uri": "https://localhost:8080/"
        },
        "id": "hUDtLWSSmyg-",
        "outputId": "5ad409b6-18e3-4d6c-d4f5-039505f89c52"
      },
      "id": "hUDtLWSSmyg-",
      "execution_count": null,
      "outputs": [
        {
          "output_type": "stream",
          "name": "stdout",
          "text": [
            "0.024609451720946855 0.12365472521370946 0.181542494741878\n"
          ]
        }
      ]
    },
    {
      "cell_type": "code",
      "source": [],
      "metadata": {
        "colab": {
          "base_uri": "https://localhost:8080/",
          "height": 424
        },
        "id": "ghnuK-Ukn3HP",
        "outputId": "e1988e36-b96f-462c-c8de-b0dffb87c3fe"
      },
      "id": "ghnuK-Ukn3HP",
      "execution_count": null,
      "outputs": [
        {
          "output_type": "execute_result",
          "data": {
            "text/plain": [
              "       is_contains_idiom  NER  noun_phrase  tfidf  sentence_length  position\n",
              "70                    -1    4            0      0         0.128205  1.000000\n",
              "71                    -1    2            3      0         0.076923  0.500000\n",
              "72                    -1    0            0      0         0.068376  0.333333\n",
              "73                    -1    1            1      0         0.068376  0.250000\n",
              "74                    -1    2            1      0         0.085470  0.200000\n",
              "...                  ...  ...          ...    ...              ...       ...\n",
              "11355                 -1    1            0      0         0.031414  0.076923\n",
              "11356                 -1    3            0      0         0.070681  0.071429\n",
              "11357                 -1    1            0      1         0.052356  0.066667\n",
              "11358                 -1    0            0      0         0.028796  0.062500\n",
              "11359                 -1    3            0      0         0.052356  0.058824\n",
              "\n",
              "[1983 rows x 6 columns]"
            ],
            "text/html": [
              "\n",
              "  <div id=\"df-ec2b2fb6-e906-4bc6-a1ba-da35860dce52\">\n",
              "    <div class=\"colab-df-container\">\n",
              "      <div>\n",
              "<style scoped>\n",
              "    .dataframe tbody tr th:only-of-type {\n",
              "        vertical-align: middle;\n",
              "    }\n",
              "\n",
              "    .dataframe tbody tr th {\n",
              "        vertical-align: top;\n",
              "    }\n",
              "\n",
              "    .dataframe thead th {\n",
              "        text-align: right;\n",
              "    }\n",
              "</style>\n",
              "<table border=\"1\" class=\"dataframe\">\n",
              "  <thead>\n",
              "    <tr style=\"text-align: right;\">\n",
              "      <th></th>\n",
              "      <th>is_contains_idiom</th>\n",
              "      <th>NER</th>\n",
              "      <th>noun_phrase</th>\n",
              "      <th>tfidf</th>\n",
              "      <th>sentence_length</th>\n",
              "      <th>position</th>\n",
              "    </tr>\n",
              "  </thead>\n",
              "  <tbody>\n",
              "    <tr>\n",
              "      <th>70</th>\n",
              "      <td>-1</td>\n",
              "      <td>4</td>\n",
              "      <td>0</td>\n",
              "      <td>0</td>\n",
              "      <td>0.128205</td>\n",
              "      <td>1.000000</td>\n",
              "    </tr>\n",
              "    <tr>\n",
              "      <th>71</th>\n",
              "      <td>-1</td>\n",
              "      <td>2</td>\n",
              "      <td>3</td>\n",
              "      <td>0</td>\n",
              "      <td>0.076923</td>\n",
              "      <td>0.500000</td>\n",
              "    </tr>\n",
              "    <tr>\n",
              "      <th>72</th>\n",
              "      <td>-1</td>\n",
              "      <td>0</td>\n",
              "      <td>0</td>\n",
              "      <td>0</td>\n",
              "      <td>0.068376</td>\n",
              "      <td>0.333333</td>\n",
              "    </tr>\n",
              "    <tr>\n",
              "      <th>73</th>\n",
              "      <td>-1</td>\n",
              "      <td>1</td>\n",
              "      <td>1</td>\n",
              "      <td>0</td>\n",
              "      <td>0.068376</td>\n",
              "      <td>0.250000</td>\n",
              "    </tr>\n",
              "    <tr>\n",
              "      <th>74</th>\n",
              "      <td>-1</td>\n",
              "      <td>2</td>\n",
              "      <td>1</td>\n",
              "      <td>0</td>\n",
              "      <td>0.085470</td>\n",
              "      <td>0.200000</td>\n",
              "    </tr>\n",
              "    <tr>\n",
              "      <th>...</th>\n",
              "      <td>...</td>\n",
              "      <td>...</td>\n",
              "      <td>...</td>\n",
              "      <td>...</td>\n",
              "      <td>...</td>\n",
              "      <td>...</td>\n",
              "    </tr>\n",
              "    <tr>\n",
              "      <th>11355</th>\n",
              "      <td>-1</td>\n",
              "      <td>1</td>\n",
              "      <td>0</td>\n",
              "      <td>0</td>\n",
              "      <td>0.031414</td>\n",
              "      <td>0.076923</td>\n",
              "    </tr>\n",
              "    <tr>\n",
              "      <th>11356</th>\n",
              "      <td>-1</td>\n",
              "      <td>3</td>\n",
              "      <td>0</td>\n",
              "      <td>0</td>\n",
              "      <td>0.070681</td>\n",
              "      <td>0.071429</td>\n",
              "    </tr>\n",
              "    <tr>\n",
              "      <th>11357</th>\n",
              "      <td>-1</td>\n",
              "      <td>1</td>\n",
              "      <td>0</td>\n",
              "      <td>1</td>\n",
              "      <td>0.052356</td>\n",
              "      <td>0.066667</td>\n",
              "    </tr>\n",
              "    <tr>\n",
              "      <th>11358</th>\n",
              "      <td>-1</td>\n",
              "      <td>0</td>\n",
              "      <td>0</td>\n",
              "      <td>0</td>\n",
              "      <td>0.028796</td>\n",
              "      <td>0.062500</td>\n",
              "    </tr>\n",
              "    <tr>\n",
              "      <th>11359</th>\n",
              "      <td>-1</td>\n",
              "      <td>3</td>\n",
              "      <td>0</td>\n",
              "      <td>0</td>\n",
              "      <td>0.052356</td>\n",
              "      <td>0.058824</td>\n",
              "    </tr>\n",
              "  </tbody>\n",
              "</table>\n",
              "<p>1983 rows × 6 columns</p>\n",
              "</div>\n",
              "      <button class=\"colab-df-convert\" onclick=\"convertToInteractive('df-ec2b2fb6-e906-4bc6-a1ba-da35860dce52')\"\n",
              "              title=\"Convert this dataframe to an interactive table.\"\n",
              "              style=\"display:none;\">\n",
              "        \n",
              "  <svg xmlns=\"http://www.w3.org/2000/svg\" height=\"24px\"viewBox=\"0 0 24 24\"\n",
              "       width=\"24px\">\n",
              "    <path d=\"M0 0h24v24H0V0z\" fill=\"none\"/>\n",
              "    <path d=\"M18.56 5.44l.94 2.06.94-2.06 2.06-.94-2.06-.94-.94-2.06-.94 2.06-2.06.94zm-11 1L8.5 8.5l.94-2.06 2.06-.94-2.06-.94L8.5 2.5l-.94 2.06-2.06.94zm10 10l.94 2.06.94-2.06 2.06-.94-2.06-.94-.94-2.06-.94 2.06-2.06.94z\"/><path d=\"M17.41 7.96l-1.37-1.37c-.4-.4-.92-.59-1.43-.59-.52 0-1.04.2-1.43.59L10.3 9.45l-7.72 7.72c-.78.78-.78 2.05 0 2.83L4 21.41c.39.39.9.59 1.41.59.51 0 1.02-.2 1.41-.59l7.78-7.78 2.81-2.81c.8-.78.8-2.07 0-2.86zM5.41 20L4 18.59l7.72-7.72 1.47 1.35L5.41 20z\"/>\n",
              "  </svg>\n",
              "      </button>\n",
              "      \n",
              "  <style>\n",
              "    .colab-df-container {\n",
              "      display:flex;\n",
              "      flex-wrap:wrap;\n",
              "      gap: 12px;\n",
              "    }\n",
              "\n",
              "    .colab-df-convert {\n",
              "      background-color: #E8F0FE;\n",
              "      border: none;\n",
              "      border-radius: 50%;\n",
              "      cursor: pointer;\n",
              "      display: none;\n",
              "      fill: #1967D2;\n",
              "      height: 32px;\n",
              "      padding: 0 0 0 0;\n",
              "      width: 32px;\n",
              "    }\n",
              "\n",
              "    .colab-df-convert:hover {\n",
              "      background-color: #E2EBFA;\n",
              "      box-shadow: 0px 1px 2px rgba(60, 64, 67, 0.3), 0px 1px 3px 1px rgba(60, 64, 67, 0.15);\n",
              "      fill: #174EA6;\n",
              "    }\n",
              "\n",
              "    [theme=dark] .colab-df-convert {\n",
              "      background-color: #3B4455;\n",
              "      fill: #D2E3FC;\n",
              "    }\n",
              "\n",
              "    [theme=dark] .colab-df-convert:hover {\n",
              "      background-color: #434B5C;\n",
              "      box-shadow: 0px 1px 3px 1px rgba(0, 0, 0, 0.15);\n",
              "      filter: drop-shadow(0px 1px 2px rgba(0, 0, 0, 0.3));\n",
              "      fill: #FFFFFF;\n",
              "    }\n",
              "  </style>\n",
              "\n",
              "      <script>\n",
              "        const buttonEl =\n",
              "          document.querySelector('#df-ec2b2fb6-e906-4bc6-a1ba-da35860dce52 button.colab-df-convert');\n",
              "        buttonEl.style.display =\n",
              "          google.colab.kernel.accessAllowed ? 'block' : 'none';\n",
              "\n",
              "        async function convertToInteractive(key) {\n",
              "          const element = document.querySelector('#df-ec2b2fb6-e906-4bc6-a1ba-da35860dce52');\n",
              "          const dataTable =\n",
              "            await google.colab.kernel.invokeFunction('convertToInteractive',\n",
              "                                                     [key], {});\n",
              "          if (!dataTable) return;\n",
              "\n",
              "          const docLinkHtml = 'Like what you see? Visit the ' +\n",
              "            '<a target=\"_blank\" href=https://colab.research.google.com/notebooks/data_table.ipynb>data table notebook</a>'\n",
              "            + ' to learn more about interactive tables.';\n",
              "          element.innerHTML = '';\n",
              "          dataTable['output_type'] = 'display_data';\n",
              "          await google.colab.output.renderOutput(dataTable, element);\n",
              "          const docLink = document.createElement('div');\n",
              "          docLink.innerHTML = docLinkHtml;\n",
              "          element.appendChild(docLink);\n",
              "        }\n",
              "      </script>\n",
              "    </div>\n",
              "  </div>\n",
              "  "
            ]
          },
          "metadata": {},
          "execution_count": 63
        }
      ]
    },
    {
      "cell_type": "code",
      "source": [
        "X_ts.reset_index(drop=True, inplace=True)\n",
        "X_ts"
      ],
      "metadata": {
        "colab": {
          "base_uri": "https://localhost:8080/",
          "height": 1000
        },
        "id": "_wFazTxQq1kM",
        "outputId": "de8bcfb2-c8e7-4de5-f66d-63e77efaa493"
      },
      "id": "_wFazTxQq1kM",
      "execution_count": 43,
      "outputs": [
        {
          "output_type": "execute_result",
          "data": {
            "text/plain": [
              "      news_id                                           sentence  \\\n",
              "0       149.0  Erzincan'da dindar vatandaşlara yönelik hukuks...   \n",
              "1       149.0  Ordu Komutanı Saldıray Berk'in ilginç bir icra...   \n",
              "2       149.0  Kara Kuvvetleri Komutanlığına ait özel ve dışa...   \n",
              "3       149.0        Orgeneral Saldıray Berk komutanlığındaki 3.   \n",
              "4       149.0  Ordu Komutanlığının intranet sitesinde, Cumhur...   \n",
              "...       ...                                                ...   \n",
              "3863   1697.0  Antrenman böylece eğlenceli bir şekilde sona e...   \n",
              "3864   1697.0  KEWELL VE NONDA RİSKE SOKULMADI Sarı-kırmızılı...   \n",
              "3865   1697.0  İki futbolcu, üst sahada koşu yapmakla yetinir...   \n",
              "3866   1697.0  Kewell'ın sakatlığının düzeldiği, Nonda'nın du...   \n",
              "3867   1697.0  Galatasaray, Gaziantepspor maçının hazırlıklar...   \n",
              "\n",
              "                                    title  NER  noun_phrase  tfidf  \\\n",
              "0     Gül, Erdoğan ve Arınça ağır hakaret    2            1      0   \n",
              "1     Gül, Erdoğan ve Arınça ağır hakaret    1            1      0   \n",
              "2     Gül, Erdoğan ve Arınça ağır hakaret    2            0      1   \n",
              "3     Gül, Erdoğan ve Arınça ağır hakaret    1            0      0   \n",
              "4     Gül, Erdoğan ve Arınça ağır hakaret    5            3      0   \n",
              "...                                   ...  ...          ...    ...   \n",
              "3863         Floryada Lucas Neill rüzgarı    1            1      0   \n",
              "3864         Floryada Lucas Neill rüzgarı    2            0      0   \n",
              "3865         Floryada Lucas Neill rüzgarı    1            0      1   \n",
              "3866         Floryada Lucas Neill rüzgarı    1            0      0   \n",
              "3867         Floryada Lucas Neill rüzgarı    2            0      0   \n",
              "\n",
              "      sentence_length  position  \n",
              "0            0.041667  1.000000  \n",
              "1            0.013889  0.500000  \n",
              "2            0.029321  0.333333  \n",
              "3            0.007716  0.250000  \n",
              "4            0.038580  0.200000  \n",
              "...               ...       ...  \n",
              "3863         0.032864  0.111111  \n",
              "3864         0.122066  0.100000  \n",
              "3865         0.084507  0.090909  \n",
              "3866         0.056338  0.083333  \n",
              "3867         0.042254  0.076923  \n",
              "\n",
              "[3868 rows x 8 columns]"
            ],
            "text/html": [
              "\n",
              "  <div id=\"df-e1935583-9fdc-4a50-b795-56826bd00b25\">\n",
              "    <div class=\"colab-df-container\">\n",
              "      <div>\n",
              "<style scoped>\n",
              "    .dataframe tbody tr th:only-of-type {\n",
              "        vertical-align: middle;\n",
              "    }\n",
              "\n",
              "    .dataframe tbody tr th {\n",
              "        vertical-align: top;\n",
              "    }\n",
              "\n",
              "    .dataframe thead th {\n",
              "        text-align: right;\n",
              "    }\n",
              "</style>\n",
              "<table border=\"1\" class=\"dataframe\">\n",
              "  <thead>\n",
              "    <tr style=\"text-align: right;\">\n",
              "      <th></th>\n",
              "      <th>news_id</th>\n",
              "      <th>sentence</th>\n",
              "      <th>title</th>\n",
              "      <th>NER</th>\n",
              "      <th>noun_phrase</th>\n",
              "      <th>tfidf</th>\n",
              "      <th>sentence_length</th>\n",
              "      <th>position</th>\n",
              "    </tr>\n",
              "  </thead>\n",
              "  <tbody>\n",
              "    <tr>\n",
              "      <th>0</th>\n",
              "      <td>149.0</td>\n",
              "      <td>Erzincan'da dindar vatandaşlara yönelik hukuks...</td>\n",
              "      <td>Gül, Erdoğan ve Arınça ağır hakaret</td>\n",
              "      <td>2</td>\n",
              "      <td>1</td>\n",
              "      <td>0</td>\n",
              "      <td>0.041667</td>\n",
              "      <td>1.000000</td>\n",
              "    </tr>\n",
              "    <tr>\n",
              "      <th>1</th>\n",
              "      <td>149.0</td>\n",
              "      <td>Ordu Komutanı Saldıray Berk'in ilginç bir icra...</td>\n",
              "      <td>Gül, Erdoğan ve Arınça ağır hakaret</td>\n",
              "      <td>1</td>\n",
              "      <td>1</td>\n",
              "      <td>0</td>\n",
              "      <td>0.013889</td>\n",
              "      <td>0.500000</td>\n",
              "    </tr>\n",
              "    <tr>\n",
              "      <th>2</th>\n",
              "      <td>149.0</td>\n",
              "      <td>Kara Kuvvetleri Komutanlığına ait özel ve dışa...</td>\n",
              "      <td>Gül, Erdoğan ve Arınça ağır hakaret</td>\n",
              "      <td>2</td>\n",
              "      <td>0</td>\n",
              "      <td>1</td>\n",
              "      <td>0.029321</td>\n",
              "      <td>0.333333</td>\n",
              "    </tr>\n",
              "    <tr>\n",
              "      <th>3</th>\n",
              "      <td>149.0</td>\n",
              "      <td>Orgeneral Saldıray Berk komutanlığındaki 3.</td>\n",
              "      <td>Gül, Erdoğan ve Arınça ağır hakaret</td>\n",
              "      <td>1</td>\n",
              "      <td>0</td>\n",
              "      <td>0</td>\n",
              "      <td>0.007716</td>\n",
              "      <td>0.250000</td>\n",
              "    </tr>\n",
              "    <tr>\n",
              "      <th>4</th>\n",
              "      <td>149.0</td>\n",
              "      <td>Ordu Komutanlığının intranet sitesinde, Cumhur...</td>\n",
              "      <td>Gül, Erdoğan ve Arınça ağır hakaret</td>\n",
              "      <td>5</td>\n",
              "      <td>3</td>\n",
              "      <td>0</td>\n",
              "      <td>0.038580</td>\n",
              "      <td>0.200000</td>\n",
              "    </tr>\n",
              "    <tr>\n",
              "      <th>...</th>\n",
              "      <td>...</td>\n",
              "      <td>...</td>\n",
              "      <td>...</td>\n",
              "      <td>...</td>\n",
              "      <td>...</td>\n",
              "      <td>...</td>\n",
              "      <td>...</td>\n",
              "      <td>...</td>\n",
              "    </tr>\n",
              "    <tr>\n",
              "      <th>3863</th>\n",
              "      <td>1697.0</td>\n",
              "      <td>Antrenman böylece eğlenceli bir şekilde sona e...</td>\n",
              "      <td>Floryada Lucas Neill rüzgarı</td>\n",
              "      <td>1</td>\n",
              "      <td>1</td>\n",
              "      <td>0</td>\n",
              "      <td>0.032864</td>\n",
              "      <td>0.111111</td>\n",
              "    </tr>\n",
              "    <tr>\n",
              "      <th>3864</th>\n",
              "      <td>1697.0</td>\n",
              "      <td>KEWELL VE NONDA RİSKE SOKULMADI Sarı-kırmızılı...</td>\n",
              "      <td>Floryada Lucas Neill rüzgarı</td>\n",
              "      <td>2</td>\n",
              "      <td>0</td>\n",
              "      <td>0</td>\n",
              "      <td>0.122066</td>\n",
              "      <td>0.100000</td>\n",
              "    </tr>\n",
              "    <tr>\n",
              "      <th>3865</th>\n",
              "      <td>1697.0</td>\n",
              "      <td>İki futbolcu, üst sahada koşu yapmakla yetinir...</td>\n",
              "      <td>Floryada Lucas Neill rüzgarı</td>\n",
              "      <td>1</td>\n",
              "      <td>0</td>\n",
              "      <td>1</td>\n",
              "      <td>0.084507</td>\n",
              "      <td>0.090909</td>\n",
              "    </tr>\n",
              "    <tr>\n",
              "      <th>3866</th>\n",
              "      <td>1697.0</td>\n",
              "      <td>Kewell'ın sakatlığının düzeldiği, Nonda'nın du...</td>\n",
              "      <td>Floryada Lucas Neill rüzgarı</td>\n",
              "      <td>1</td>\n",
              "      <td>0</td>\n",
              "      <td>0</td>\n",
              "      <td>0.056338</td>\n",
              "      <td>0.083333</td>\n",
              "    </tr>\n",
              "    <tr>\n",
              "      <th>3867</th>\n",
              "      <td>1697.0</td>\n",
              "      <td>Galatasaray, Gaziantepspor maçının hazırlıklar...</td>\n",
              "      <td>Floryada Lucas Neill rüzgarı</td>\n",
              "      <td>2</td>\n",
              "      <td>0</td>\n",
              "      <td>0</td>\n",
              "      <td>0.042254</td>\n",
              "      <td>0.076923</td>\n",
              "    </tr>\n",
              "  </tbody>\n",
              "</table>\n",
              "<p>3868 rows × 8 columns</p>\n",
              "</div>\n",
              "      <button class=\"colab-df-convert\" onclick=\"convertToInteractive('df-e1935583-9fdc-4a50-b795-56826bd00b25')\"\n",
              "              title=\"Convert this dataframe to an interactive table.\"\n",
              "              style=\"display:none;\">\n",
              "        \n",
              "  <svg xmlns=\"http://www.w3.org/2000/svg\" height=\"24px\"viewBox=\"0 0 24 24\"\n",
              "       width=\"24px\">\n",
              "    <path d=\"M0 0h24v24H0V0z\" fill=\"none\"/>\n",
              "    <path d=\"M18.56 5.44l.94 2.06.94-2.06 2.06-.94-2.06-.94-.94-2.06-.94 2.06-2.06.94zm-11 1L8.5 8.5l.94-2.06 2.06-.94-2.06-.94L8.5 2.5l-.94 2.06-2.06.94zm10 10l.94 2.06.94-2.06 2.06-.94-2.06-.94-.94-2.06-.94 2.06-2.06.94z\"/><path d=\"M17.41 7.96l-1.37-1.37c-.4-.4-.92-.59-1.43-.59-.52 0-1.04.2-1.43.59L10.3 9.45l-7.72 7.72c-.78.78-.78 2.05 0 2.83L4 21.41c.39.39.9.59 1.41.59.51 0 1.02-.2 1.41-.59l7.78-7.78 2.81-2.81c.8-.78.8-2.07 0-2.86zM5.41 20L4 18.59l7.72-7.72 1.47 1.35L5.41 20z\"/>\n",
              "  </svg>\n",
              "      </button>\n",
              "      \n",
              "  <style>\n",
              "    .colab-df-container {\n",
              "      display:flex;\n",
              "      flex-wrap:wrap;\n",
              "      gap: 12px;\n",
              "    }\n",
              "\n",
              "    .colab-df-convert {\n",
              "      background-color: #E8F0FE;\n",
              "      border: none;\n",
              "      border-radius: 50%;\n",
              "      cursor: pointer;\n",
              "      display: none;\n",
              "      fill: #1967D2;\n",
              "      height: 32px;\n",
              "      padding: 0 0 0 0;\n",
              "      width: 32px;\n",
              "    }\n",
              "\n",
              "    .colab-df-convert:hover {\n",
              "      background-color: #E2EBFA;\n",
              "      box-shadow: 0px 1px 2px rgba(60, 64, 67, 0.3), 0px 1px 3px 1px rgba(60, 64, 67, 0.15);\n",
              "      fill: #174EA6;\n",
              "    }\n",
              "\n",
              "    [theme=dark] .colab-df-convert {\n",
              "      background-color: #3B4455;\n",
              "      fill: #D2E3FC;\n",
              "    }\n",
              "\n",
              "    [theme=dark] .colab-df-convert:hover {\n",
              "      background-color: #434B5C;\n",
              "      box-shadow: 0px 1px 3px 1px rgba(0, 0, 0, 0.15);\n",
              "      filter: drop-shadow(0px 1px 2px rgba(0, 0, 0, 0.3));\n",
              "      fill: #FFFFFF;\n",
              "    }\n",
              "  </style>\n",
              "\n",
              "      <script>\n",
              "        const buttonEl =\n",
              "          document.querySelector('#df-e1935583-9fdc-4a50-b795-56826bd00b25 button.colab-df-convert');\n",
              "        buttonEl.style.display =\n",
              "          google.colab.kernel.accessAllowed ? 'block' : 'none';\n",
              "\n",
              "        async function convertToInteractive(key) {\n",
              "          const element = document.querySelector('#df-e1935583-9fdc-4a50-b795-56826bd00b25');\n",
              "          const dataTable =\n",
              "            await google.colab.kernel.invokeFunction('convertToInteractive',\n",
              "                                                     [key], {});\n",
              "          if (!dataTable) return;\n",
              "\n",
              "          const docLinkHtml = 'Like what you see? Visit the ' +\n",
              "            '<a target=\"_blank\" href=https://colab.research.google.com/notebooks/data_table.ipynb>data table notebook</a>'\n",
              "            + ' to learn more about interactive tables.';\n",
              "          element.innerHTML = '';\n",
              "          dataTable['output_type'] = 'display_data';\n",
              "          await google.colab.output.renderOutput(dataTable, element);\n",
              "          const docLink = document.createElement('div');\n",
              "          docLink.innerHTML = docLinkHtml;\n",
              "          element.appendChild(docLink);\n",
              "        }\n",
              "      </script>\n",
              "    </div>\n",
              "  </div>\n",
              "  "
            ]
          },
          "metadata": {},
          "execution_count": 43
        }
      ]
    },
    {
      "cell_type": "code",
      "source": [],
      "metadata": {
        "id": "yiSUlzBxyg-N"
      },
      "id": "yiSUlzBxyg-N",
      "execution_count": null,
      "outputs": []
    },
    {
      "cell_type": "code",
      "source": [
        "def getMaxs(X,Y,Y_real):\n",
        "  Y_real=Y_real.to_numpy()\n",
        "  max_values = []\n",
        "  real_max_values=[]\n",
        "  index=-1\n",
        "  real_index=-1\n",
        "  curr_id=0\n",
        "  max=-1\n",
        "  real_max=-1\n",
        "  for i in range(len(X.loc[:,\"news_id\"])):\n",
        "    if curr_id != X.loc[i,\"news_id\"].astype(int):\n",
        "      curr_id=X.loc[i,\"news_id\"].astype(int)\n",
        "      if index != -1:\n",
        "        max_values.append(X.loc[index,:])\n",
        "        real_max_values.append(X.loc[real_index,:])\n",
        "      max=-1\n",
        "      index=-1\n",
        "      real_max=-1\n",
        "      real_index=-1\n",
        "    if Y[i]>max:\n",
        "      max=Y[i]\n",
        "      index=i\n",
        "    if Y_real[i][0]>real_max:\n",
        "      real_max=Y_real[i][0]\n",
        "      real_index=i\n",
        "  return (max_values,real_max_values)\n",
        "    \n"
      ],
      "metadata": {
        "id": "aZVZZZDNn3KA"
      },
      "id": "aZVZZZDNn3KA",
      "execution_count": 44,
      "outputs": []
    },
    {
      "cell_type": "code",
      "source": [
        "(a,r_a)=getMaxs(X_ts,Y_pred,y_test)"
      ],
      "metadata": {
        "id": "es7g51-ZzIAU"
      },
      "id": "es7g51-ZzIAU",
      "execution_count": 88,
      "outputs": []
    },
    {
      "cell_type": "code",
      "source": [
        "a=a[:10]"
      ],
      "metadata": {
        "id": "_JWPI1CLty8C"
      },
      "id": "_JWPI1CLty8C",
      "execution_count": 50,
      "outputs": []
    },
    {
      "cell_type": "code",
      "source": [
        "summed=0\n",
        "for i in range(len(a)):\n",
        "  if a[i][\"sentence\"]==r_a[i][\"sentence\"]:\n",
        "    summed+=1"
      ],
      "metadata": {
        "id": "TX_eT3Tt8ftF"
      },
      "id": "TX_eT3Tt8ftF",
      "execution_count": 51,
      "outputs": []
    },
    {
      "cell_type": "code",
      "source": [
        "summed/len(a)"
      ],
      "metadata": {
        "colab": {
          "base_uri": "https://localhost:8080/"
        },
        "id": "IqXCEOl51kiI",
        "outputId": "5bad14fb-92ff-4b67-edda-b02f648717d7"
      },
      "id": "IqXCEOl51kiI",
      "execution_count": 52,
      "outputs": [
        {
          "output_type": "execute_result",
          "data": {
            "text/plain": [
              "0.3"
            ]
          },
          "metadata": {},
          "execution_count": 52
        }
      ]
    },
    {
      "cell_type": "code",
      "source": [
        "dep_parser = DependencyParser()\n",
        "def dependency_parser():\n",
        "    deps=[]\n",
        "    i=0\n",
        "    \n",
        "    for sentence in a:\n",
        "        #print(sentence)\n",
        "        try:\n",
        "            parsed=dep_parser.predict(sentence[\"sentence\"])\n",
        "            deps.append(parsed)\n",
        "        except Exception:\n",
        "          try:\n",
        "            h=sentence[\"sentence\"].split()\n",
        "            parsed=dep_parser.predict(\" \".join(h[0:len(h)//2]))\n",
        "            parsed+=dep_parser.predict(\" \".join(h[len(h)//2:len(h)]))\n",
        "            deps.append(parsed)\n",
        "          except Exception:\n",
        "            deps.append(sentence[\"sentence\"])\n",
        "            continue\n",
        "        i+=1\n",
        "    return deps"
      ],
      "metadata": {
        "id": "Ko8Z6PGnZuZc"
      },
      "id": "Ko8Z6PGnZuZc",
      "execution_count": 53,
      "outputs": []
    },
    {
      "cell_type": "code",
      "source": [
        "depsss=dependency_parser()"
      ],
      "metadata": {
        "id": "QkvuUs7f94Ay"
      },
      "id": "QkvuUs7f94Ay",
      "execution_count": 54,
      "outputs": []
    },
    {
      "cell_type": "code",
      "source": [
        "depsss"
      ],
      "metadata": {
        "colab": {
          "base_uri": "https://localhost:8080/"
        },
        "id": "Y76PnvdDdfx9",
        "outputId": "a5a9d9ae-5f3d-40c2-bfa7-8db3e4ad6589"
      },
      "id": "Y76PnvdDdfx9",
      "execution_count": 55,
      "outputs": [
        {
          "output_type": "execute_result",
          "data": {
            "text/plain": [
              "[[(1, \"Erzincan'da\", 16, 'obl'),\n",
              "  (2, 'dindar', 3, 'amod'),\n",
              "  (3, 'vatandaşlara', 6, 'nmod'),\n",
              "  (4, 'yönelik', 3, 'case'),\n",
              "  (5, 'hukuksuz', 6, 'amod'),\n",
              "  (6, 'gözaltılar', 7, 'nmod:poss'),\n",
              "  (7, 'sebebiyle', 16, 'obl'),\n",
              "  (8, 'savcılığın', 9, 'nmod:poss'),\n",
              "  (9, 'ifadesini', 10, 'obj'),\n",
              "  (10, 'almak', 11, 'xcomp'),\n",
              "  (11, 'istemesine', 15, 'advcl'),\n",
              "  (12, 'rağmen', 11, 'case'),\n",
              "  (13, 'günlerdir', 15, 'advmod'),\n",
              "  (14, 'ifadeye', 15, 'obl'),\n",
              "  (15, 'gitmeyen', 0, 'root'),\n",
              "  (16, ';', 28, 'punct'),\n",
              "  (17, 'bu', 19, 'nsubj'),\n",
              "  (18, 'da', 17, 'advmod:emph'),\n",
              "  (19, 'yetmezmiş', 28, 'advcl'),\n",
              "  (20, 'gibi', 19, 'case'),\n",
              "  (21, 'önceki', 22, 'amod'),\n",
              "  (22, 'gün', 28, 'obl'),\n",
              "  (23, 'de', 22, 'advmod:emph'),\n",
              "  (24, 'askeri', 25, 'amod'),\n",
              "  (25, 'araçları', 27, 'obj'),\n",
              "  (26, 'sokağa', 27, 'obl'),\n",
              "  (27, 'döken', 26, 'acl'),\n",
              "  (28, '3', 17, 'nummod'),\n",
              "  (29, '.', 28, 'punct')],\n",
              " [(1, 'Adalet', 2, 'nmod:poss'),\n",
              "  (2, 'Bakanlığı', 22, 'nsubj'),\n",
              "  (3, ',', 2, 'punct'),\n",
              "  (4, 'askerlere', 8, 'obl'),\n",
              "  (5, 'sivil', 7, 'amod'),\n",
              "  (6, 'yargı', 7, 'nmod:poss'),\n",
              "  (7, 'yolunu', 8, 'obj'),\n",
              "  (8, 'açan', 9, 'acl'),\n",
              "  (9, 'yasanın', 10, 'nmod:poss'),\n",
              "  (10, 'iptalinden', 22, 'obl'),\n",
              "  (11, 'sonra', 10, 'case'),\n",
              "  (12, ',', 22, 'punct'),\n",
              "  (13, 'aynı', 14, 'amod'),\n",
              "  (14, 'değişikliği', 16, 'obj'),\n",
              "  (15, 'Anayasa’da', 16, 'obl'),\n",
              "  (16, 'yapmak', 22, 'advcl'),\n",
              "  (17, 'üzere', 16, 'case'),\n",
              "  (18, 'bir', 20, 'det'),\n",
              "  (19, 'kanun', 20, 'nmod:poss'),\n",
              "  (20, 'teklifi', 21, 'nmod:poss'),\n",
              "  (21, 'taslağı', 22, 'obj'),\n",
              "  (22, 'hazırladı', 0, 'root'),\n",
              "  (23, '.', 22, 'punct')],\n",
              " [(1, 'Ankara', 3, 'nmod:poss'),\n",
              "  (2, 'Giyim', 3, 'nmod:poss'),\n",
              "  (3, 'Sanayicileri', 4, 'nmod:poss'),\n",
              "  (4, 'Derneği', 8, 'nmod:poss'),\n",
              "  (5, '(', 6, 'punct'),\n",
              "  (6, 'AGSD', 4, 'appos'),\n",
              "  (7, ')', 6, 'punct'),\n",
              "  (8, 'Başkanın', 9, 'nmod'),\n",
              "  (9, 'Canip', 27, 'nsubj'),\n",
              "  (10, 'Karakuş', 9, 'flat'),\n",
              "  (11, ',', 29, 'punct'),\n",
              "  (12, 'her', 13, 'det'),\n",
              "  (13, 'pazar', 29, 'obl'),\n",
              "  (14, '400', 16, 'nummod'),\n",
              "  (15, 'milyon', 14, 'flat'),\n",
              "  (16, 'kişinin', 17, 'nsubj'),\n",
              "  (17, 'ziyaret', 20, 'acl'),\n",
              "  (18, 'ettiği', 17, 'compound:lvc'),\n",
              "  (19, 'alışveriş', 20, 'nmod:poss'),\n",
              "  (20, 'merkezlerini', 31, 'obj'),\n",
              "  (21, '(', 22, 'punct'),\n",
              "  (22, 'AVM', 32, 'appos'),\n",
              "  (23, ')', 22, 'punct'),\n",
              "  (24, 'pazar', 25, 'nmod:poss'),\n",
              "  (25, 'günü', 26, 'obl'),\n",
              "  (26, 'kapatmanın', 33, 'nsubj'),\n",
              "  (27, '\"', 29, 'punct'),\n",
              "  (28, 'seri', 29, 'amod'),\n",
              "  (29, 'cinayet', 31, 'obj'),\n",
              "  (30, '\"', 29, 'punct'),\n",
              "  (31, 'olduğunu', 32, 'ccomp'),\n",
              "  (32, 'vurguladı', 0, 'root'),\n",
              "  (33, '.', 32, 'punct')],\n",
              " [(1, 'Hatta', 13, 'advmod'),\n",
              "  (2, 'Cübbeli', 3, 'nmod:poss'),\n",
              "  (3, 'Ahmet', 13, 'nsubj'),\n",
              "  (4, 'Hoca', 3, 'flat'),\n",
              "  (5, 'ünlü', 6, 'amod'),\n",
              "  (6, 'komedyen', 7, 'acl'),\n",
              "  (7, 'Cem', 13, 'nmod:poss'),\n",
              "  (8, \"Yılmaz'ın\", 7, 'flat'),\n",
              "  (9, 'bazı', 10, 'det'),\n",
              "  (10, 'esprileri', 12, 'obj'),\n",
              "  (11, 'kendinden', 12, 'obl'),\n",
              "  (12, 'aldığından', 13, 'ccomp'),\n",
              "  (13, 'emin', 0, 'root'),\n",
              "  (14, '!', 13, 'punct'),\n",
              "  (15, '...', 13, 'punct')],\n",
              " [(1, 'ÇİN', 2, 'det'),\n",
              "  (2, 'MALINA', 4, 'obl'),\n",
              "  (3, 'DİKKAT', 4, 'compound'),\n",
              "  (4, 'Aydın', 0, 'nsubj'),\n",
              "  (5, ',', 4, 'punct'),\n",
              "  (6, 'olası', 7, 'amod'),\n",
              "  (7, 'arızalarda', 15, 'obl'),\n",
              "  (8, 'da', 7, 'advmod:emph'),\n",
              "  (9, 'yan', 10, 'amod'),\n",
              "  (10, 'sanayi', 11, 'nmod:poss'),\n",
              "  (11, 'yerine', 14, 'obl'),\n",
              "  (12, 'orijinal', 13, 'amod'),\n",
              "  (13, 'parçaların', 14, 'nsubj'),\n",
              "  (14, 'kullanılması', 15, 'csubj'),\n",
              "  (15, 'gerektiğini', 17, 'ccomp'),\n",
              "  (16, 'ifade', 17, 'compound'),\n",
              "  (17, 'ederek', 15, 'advcl'),\n",
              "  (18, ',', 15, 'punct'),\n",
              "  (19, '\"', 22, 'punct'),\n",
              "  (20, 'Zaten', 22, 'advmod'),\n",
              "  (21, 'parçaları', 22, 'nsubj'),\n",
              "  (22, 'pahalı', 18, 'conj'),\n",
              "  (1, 'olan', 2, 'acl'),\n",
              "  (2, 'araçlarda', 21, 'obl'),\n",
              "  (3, ',', 21, 'punct'),\n",
              "  (4, 'özellikle', 5, 'advmod'),\n",
              "  (5, 'başta', 21, 'obl'),\n",
              "  (6, 'Çin', 7, 'nmod:poss'),\n",
              "  (7, 'menşeli', 8, 'advcl'),\n",
              "  (8, 'olmak', 18, 'advcl'),\n",
              "  (9, 'üzere', 8, 'case'),\n",
              "  (10, 'kalitesiz', 13, 'amod'),\n",
              "  (11, 'yan', 10, 'amod'),\n",
              "  (12, 'sanayi', 13, 'nmod:poss'),\n",
              "  (13, 'ürünlerinin', 14, 'nsubj'),\n",
              "  (14, 'kullanılması', 15, 'nmod:poss'),\n",
              "  (15, 'durumunda', 18, 'obl'),\n",
              "  (16, 'masraf', 18, 'nsubj'),\n",
              "  (17, 'tahmin', 18, 'acl'),\n",
              "  (18, 'edilemeyecek', 19, 'acl'),\n",
              "  (19, 'miktarda', 20, 'obl'),\n",
              "  (20, 'artabilir', 22, 'ccomp'),\n",
              "  (21, '\"', 20, 'punct'),\n",
              "  (22, 'dedi', 0, 'root'),\n",
              "  (23, '.', 22, 'punct')],\n",
              " [(1, 'İşte', 16, 'advmod'),\n",
              "  (2, 'böyle', 4, 'amod'),\n",
              "  (3, 'bir', 4, 'det'),\n",
              "  (4, 'konuşmanın', 5, 'nmod:poss'),\n",
              "  (5, 'sonucunda', 8, 'obl'),\n",
              "  (6, 'en', 7, 'advmod'),\n",
              "  (7, 'kaprisli', 8, 'amod'),\n",
              "  (8, 'oyuncuların', 13, 'nmod:poss'),\n",
              "  (9, 'Naz', 10, 'nmod:poss'),\n",
              "  (10, 'Elmas', 13, 'nsubj'),\n",
              "  (11, 've', 12, 'cc'),\n",
              "  (12, 'Cansu', 10, 'conj'),\n",
              "  (13, 'Dere', 15, 'ccomp'),\n",
              "  (14, 'olduğu', 13, 'cop'),\n",
              "  (15, 'ortaya', 0, 'root'),\n",
              "  (16, 'çıkmış', 15, 'compound'),\n",
              "  (17, '.', 15, 'punct')],\n",
              " [(1, 'Başbakan', 2, 'nmod:poss'),\n",
              "  (2, 'Yardımcısı', 6, 'nmod:poss'),\n",
              "  (3, 've', 5, 'cc'),\n",
              "  (4, 'Devlet', 5, 'nmod:poss'),\n",
              "  (5, 'Bakanı', 2, 'conj'),\n",
              "  (6, 'Bülent', 19, 'nsubj'),\n",
              "  (7, 'Arınç', 6, 'flat'),\n",
              "  (8, ',', 6, 'punct'),\n",
              "  (9, \"'Balyoz\", 11, 'amod'),\n",
              "  (10, \"'\", 9, 'punct'),\n",
              "  (11, 'darbe', 12, 'nmod:poss'),\n",
              "  (12, 'planı', 13, 'nmod:poss'),\n",
              "  (13, 'haberlerine', 14, 'obl'),\n",
              "  (14, 'tepki', 19, 'advcl'),\n",
              "  (15, 'göstererek', 14, 'compound'),\n",
              "  (16, ',', 14, 'punct'),\n",
              "  (17, 'demokrasiye', 19, 'obl'),\n",
              "  (18, 'balans', 19, 'nmod:poss'),\n",
              "  (19, 'ayarı', 20, 'obl'),\n",
              "  (20, 'yapılması', 21, 'nmod:poss'),\n",
              "  (21, 'sözlerini', 22, 'obj'),\n",
              "  (22, 'hatırlattı', 0, 'root'),\n",
              "  (23, '.', 22, 'punct')],\n",
              " [(1, 'Öğrenci', 2, 'nmod:poss'),\n",
              "  (2, 'Seçme', 5, 'nsubj'),\n",
              "  (3, 've', 4, 'cc'),\n",
              "  (4, 'Yerleştirme', 2, 'conj'),\n",
              "  (5, 'Merkezi', 14, 'nsubj'),\n",
              "  (6, '(', 7, 'punct'),\n",
              "  (7, 'ÖSYM', 5, 'appos'),\n",
              "  (8, ')', 7, 'punct'),\n",
              "  (9, ',', 14, 'punct'),\n",
              "  (10, 'üniversiteye', 14, 'obl'),\n",
              "  (11, 'giriş', 12, 'nmod:poss'),\n",
              "  (12, 'sınavını', 14, 'obj'),\n",
              "  (13, 'yeniden', 14, 'advmod'),\n",
              "  (14, 'değiştirecek', 0, 'root'),\n",
              "  (15, '.', 14, 'punct')],\n",
              " [(1, 'Tren', 16, 'nsubj'),\n",
              "  (2, ',', 1, 'punct'),\n",
              "  (3, 'Acılık', 4, 'nmod:poss'),\n",
              "  (4, 'mevkisinden', 5, 'obl'),\n",
              "  (5, 'geçtiği', 6, 'acl'),\n",
              "  (6, 'sırada', 9, 'obl'),\n",
              "  (7, 'rayların', 8, 'nmod:poss'),\n",
              "  (8, 'üzerinde', 9, 'obl'),\n",
              "  (9, 'yürüyen', 10, 'acl'),\n",
              "  (10, 'İsmail', 16, 'nsubj'),\n",
              "  (11, \"Yıldızöz'e\", 10, 'flat'),\n",
              "  (12, '(', 13, 'punct'),\n",
              "  (13, '48', 10, 'appos'),\n",
              "  (14, ')', 13, 'punct'),\n",
              "  (15, 'çarptı', 0, 'root'),\n",
              "  (16, '.', 15, 'punct')],\n",
              " [(1, 'Yenikapı', 2, 'nmod'),\n",
              "  (2, 'seferini', 3, 'obj'),\n",
              "  (3, 'yapan', 5, 'acl'),\n",
              "  (4, 'deniz', 5, 'nmod'),\n",
              "  (5, 'otobüsü', 12, 'nsubj'),\n",
              "  (6, ',', 5, 'punct'),\n",
              "  (7, 'Küçükçekmece', 8, 'nmod'),\n",
              "  (8, 'açıklarında', 12, 'obl'),\n",
              "  (9, 'hareket', 10, 'nmod'),\n",
              "  (10, 'halindeki', 11, 'amod'),\n",
              "  (11, 'gemiyle', 12, 'obl'),\n",
              "  (12, 'çarpıştı', 0, 'root'),\n",
              "  (13, '.', 12, 'punct')]]"
            ]
          },
          "metadata": {},
          "execution_count": 55
        }
      ]
    },
    {
      "cell_type": "code",
      "source": [
        "import pickle\n",
        "with open(\"test4\", \"wb\") as fp:   #Pickling\n",
        "  pickle.dump(depsss, fp)\n"
      ],
      "metadata": {
        "id": "t23USD6wgjEW"
      },
      "id": "t23USD6wgjEW",
      "execution_count": 56,
      "outputs": []
    },
    {
      "cell_type": "code",
      "source": [
        "titles=[]\n",
        "for deps_pars in depsss:\n",
        "  root=0\n",
        "  zero=0\n",
        "  title = set()\n",
        "  indexes=set()\n",
        "  deps_pars\n",
        "  if type(deps_pars[0])==str:\n",
        "    titles.append(\"şok şok şok\")\n",
        "    continue\n",
        "  if len(deps_pars)<14:\n",
        "    titles.append(\"\")\n",
        "    continue\n",
        "  for j in range(len(deps_pars)):\n",
        "    i=deps_pars[j]\n",
        "    if i[2]==0:\n",
        "      zero=i\n",
        "      indexes.add(i[0])\n",
        "      title.add(i)\n",
        "    if i[3]==\"root\":\n",
        "      root=i\n",
        "      indexes.add(i[0])\n",
        "      title.add(i)\n",
        "  \n",
        "  for j in range(len(deps_pars)):\n",
        "    i=deps_pars[j]\n",
        "    if (root!=0 and i[0]+1==root[0]) or (zero!=0 and  i[0]+1==zero[0]):\n",
        "      if i[2]!=\"punct\":\n",
        "        title.add(i)\n",
        "        indexes.add(i[0])\n",
        "\n",
        "    if  (root!=0 and (i[0]-1==root[0] or i[0]+1==root[0]) and i[3]==\"conj\") or (zero!=0 and (i[0]-1==zero[0] or i[0]+1==zero[0]) and i[3]==\"conj\"):\n",
        "      if i[2]!=\"punct\":\n",
        "        title.add(i)\n",
        "        indexes.add(i[0])\n",
        "\n",
        "    if ((root!=0 and i[2]==root[0] ) or (zero!=0 and i[2]==zero[0]) ) and (i[3]==\"nsubj\" or i[3]==\"compound\" or i[3]==\"flat\"   ):\n",
        "        if i[2]!=\"punct\":\n",
        "          title.add(i)\n",
        "          indexes.add(i[0])\n",
        "\n",
        "  for i in deps_pars:\n",
        "    if i[2] in indexes and (i[3]==\"flat\" or i[3]==\"amod\" or i[3]==\"nmod\" or i[3]==\"nmod:poss\" or i[3]==\"csubj\" or i[3]==\"obl\" or i[3]==\"compound\" or i[3]==\"det\" or i[3]==\"nummod\"):\n",
        "      if i[2]!=\"punct\":\n",
        "        title.add(i)\n",
        "        indexes.add(i[0])\n",
        "\n",
        "  for i in deps_pars:\n",
        "    if i[2] in indexes and (i[3]==\"flat\" or i[3]==\"amod\" or i[3]==\"nmod\" or i[3]==\"nmod:poss\" or i[3]==\"csubj\" or i[3]==\"obl\" or i[3]==\"compound\" or i[3]==\"det\" or i[3]==\"nummod\"):\n",
        "      if i[2]!=\"punct\":\n",
        "        title.add(i)\n",
        "        indexes.add(i[0])\n",
        "\n",
        "  for i in deps_pars:\n",
        "    if i[2] in indexes and (i[3]==\"flat\" or i[3]==\"amod\" or i[3]==\"nmod\" or i[3]==\"nmod:poss\" or i[3]==\"csubj\" or i[3]==\"obl\" or i[3]==\"compound\" or i[3]==\"det\" or i[3]==\"nummod\"):\n",
        "      if i[2]!=\"punct\":\n",
        "        title.add(i)\n",
        "        indexes.add(i[0])\n",
        "  if(len(title)==0 or title==None):\n",
        "    title=\"şok şok şok\"\n",
        "  titles.append(title)\n",
        "\n",
        "\n"
      ],
      "metadata": {
        "id": "OzFCIhqpB9bT"
      },
      "execution_count": 58,
      "outputs": [],
      "id": "OzFCIhqpB9bT"
    },
    {
      "cell_type": "code",
      "source": [
        "basliks=[]\n",
        "for title in titles:\n",
        "  baslik=\"\"\n",
        "  if type(title)==str:\n",
        "    basliks.append(title)\n",
        "    continue\n",
        "  for kelime in title:\n",
        "    baslik +=\" \"+kelime[1]\n",
        "  basliks.append(baslik)\n",
        "\n"
      ],
      "metadata": {
        "id": "MkYCfqWGjzoU"
      },
      "execution_count": 59,
      "outputs": [],
      "id": "MkYCfqWGjzoU"
    },
    {
      "cell_type": "code",
      "source": [
        "basliks"
      ],
      "metadata": {
        "colab": {
          "base_uri": "https://localhost:8080/"
        },
        "id": "mX8MGAsuDL5Z",
        "outputId": "92125185-7a7b-4069-ab16-cb17216d1c46"
      },
      "id": "mX8MGAsuDL5Z",
      "execution_count": 60,
      "outputs": [
        {
          "output_type": "execute_result",
          "data": {
            "text/plain": [
              "[' gitmeyen ifadeye',\n",
              " ' taslağı Bakanlığı iptalinden kanun bir hazırladı yasanın teklifi Adalet',\n",
              " ' olduğunu vurguladı',\n",
              " \" aldığından Cem emin kendinden Ahmet Cübbeli Hoca Yılmaz'ın\",\n",
              " ' \" başta araçlarda dedi Aydın ÇİN DİKKAT parçaları MALINA',\n",
              " ' ortaya olduğu çıkmış',\n",
              " ' balans sözlerini demokrasiye yapılması ayarı hatırlattı',\n",
              " ' yeniden üniversiteye Merkezi değiştirecek',\n",
              " ' çarptı )',\n",
              " '']"
            ]
          },
          "metadata": {},
          "execution_count": 60
        }
      ]
    },
    {
      "cell_type": "code",
      "source": [
        "a"
      ],
      "metadata": {
        "colab": {
          "base_uri": "https://localhost:8080/"
        },
        "id": "Uj2R9FwjLCfz",
        "outputId": "1eb91c3f-c673-44ef-8262-090f1d35fb1c"
      },
      "id": "Uj2R9FwjLCfz",
      "execution_count": 65,
      "outputs": [
        {
          "output_type": "execute_result",
          "data": {
            "text/plain": [
              "[news_id                                                        149.0\n",
              " sentence           Erzincan'da dindar vatandaşlara yönelik hukuks...\n",
              " title                            Gül, Erdoğan ve Arınça ağır hakaret\n",
              " NER                                                                2\n",
              " noun_phrase                                                        1\n",
              " tfidf                                                              0\n",
              " sentence_length                                             0.041667\n",
              " position                                                         1.0\n",
              " Name: 0, dtype: object,\n",
              " news_id                                                        150.0\n",
              " sentence           Adalet Bakanlığı, askerlere sivil yargı yolunu...\n",
              " title                              Hükümet Askerin peşini bırakmıyor\n",
              " NER                                                                1\n",
              " noun_phrase                                                        0\n",
              " tfidf                                                              1\n",
              " sentence_length                                             0.072848\n",
              " position                                                         1.0\n",
              " Name: 48, dtype: object,\n",
              " news_id                                                        154.0\n",
              " sentence           Ankara Giyim Sanayicileri Derneği (AGSD) Başka...\n",
              " title                               AVMlerde pazar günü seri cinayet\n",
              " NER                                                                5\n",
              " noun_phrase                                                        1\n",
              " tfidf                                                              2\n",
              " sentence_length                                             0.093284\n",
              " position                                                         1.0\n",
              " Name: 64, dtype: object,\n",
              " news_id                                                        159.0\n",
              " sentence           Hatta Cübbeli Ahmet Hoca ünlü komedyen Cem Yıl...\n",
              " title                                 Cübbeli Ahmet Hocadan U dönüşü\n",
              " NER                                                                2\n",
              " noun_phrase                                                        0\n",
              " tfidf                                                              0\n",
              " sentence_length                                             0.042484\n",
              " position                                                    0.041667\n",
              " Name: 101, dtype: object,\n",
              " news_id                                                        175.0\n",
              " sentence           ÇİN MALINA DİKKAT Aydın, olası arızalarda da y...\n",
              " title                              Çin malı parça başınızı yakabilir\n",
              " NER                                                                3\n",
              " noun_phrase                                                        2\n",
              " tfidf                                                              0\n",
              " sentence_length                                             0.127036\n",
              " position                                                    0.083333\n",
              " Name: 116, dtype: object,\n",
              " news_id                                                        178.0\n",
              " sentence           İşte böyle bir konuşmanın sonucunda en kaprisl...\n",
              " title                            Dizi setlerinin en kaprislisi onlar\n",
              " NER                                                                2\n",
              " noun_phrase                                                        0\n",
              " tfidf                                                              1\n",
              " sentence_length                                             0.175824\n",
              " position                                                         1.0\n",
              " Name: 118, dtype: object,\n",
              " news_id                                                        187.0\n",
              " sentence           Başbakan Yardımcısı ve Devlet Bakanı Bülent Ar...\n",
              " title                              Bakan Arınç Balyozu şeytani buldu\n",
              " NER                                                                1\n",
              " noun_phrase                                                        0\n",
              " tfidf                                                              0\n",
              " sentence_length                                             0.079167\n",
              " position                                                         1.0\n",
              " Name: 123, dtype: object,\n",
              " news_id                                                        199.0\n",
              " sentence           Öğrenci Seçme ve Yerleştirme Merkezi (ÖSYM), ü...\n",
              " title                            Üniversite sınavı yeniden değişiyor\n",
              " NER                                                                2\n",
              " noun_phrase                                                        0\n",
              " tfidf                                                              0\n",
              " sentence_length                                             0.017886\n",
              " position                                                         1.0\n",
              " Name: 140, dtype: object,\n",
              " news_id                                                        208.0\n",
              " sentence           Tren, Acılık mevkisinden geçtiği sırada raylar...\n",
              " title                                Yük treninin çarptığı kişi öldü\n",
              " NER                                                                2\n",
              " noun_phrase                                                        0\n",
              " tfidf                                                              0\n",
              " sentence_length                                             0.088235\n",
              " position                                                         0.5\n",
              " Name: 193, dtype: object,\n",
              " news_id                                                        220.0\n",
              " sentence           Yenikapı seferini yapan deniz otobüsü, Küçükçe...\n",
              " title                                 Deniz otobüsü gemiyle çarpıştı\n",
              " NER                                                                4\n",
              " noun_phrase                                                        4\n",
              " tfidf                                                              0\n",
              " sentence_length                                             0.060109\n",
              " position                                                         1.0\n",
              " Name: 201, dtype: object]"
            ]
          },
          "metadata": {},
          "execution_count": 65
        }
      ]
    },
    {
      "cell_type": "code",
      "source": [
        "from summa import summarizer\n",
        "print()"
      ],
      "metadata": {
        "id": "leepU4Dq-5UB",
        "colab": {
          "base_uri": "https://localhost:8080/",
          "height": 187
        },
        "outputId": "0826477f-1a9d-4542-b9ef-ee135baed625"
      },
      "execution_count": 66,
      "outputs": [
        {
          "output_type": "error",
          "ename": "NameError",
          "evalue": "ignored",
          "traceback": [
            "\u001b[0;31m---------------------------------------------------------------------------\u001b[0m",
            "\u001b[0;31mNameError\u001b[0m                                 Traceback (most recent call last)",
            "\u001b[0;32m<ipython-input-66-5196419cd4f8>\u001b[0m in \u001b[0;36m<cell line: 2>\u001b[0;34m()\u001b[0m\n\u001b[1;32m      1\u001b[0m \u001b[0;32mfrom\u001b[0m \u001b[0msumma\u001b[0m \u001b[0;32mimport\u001b[0m \u001b[0msummarizer\u001b[0m\u001b[0;34m\u001b[0m\u001b[0;34m\u001b[0m\u001b[0m\n\u001b[0;32m----> 2\u001b[0;31m \u001b[0mprint\u001b[0m\u001b[0;34m(\u001b[0m\u001b[0msummarizer\u001b[0m\u001b[0;34m.\u001b[0m\u001b[0msummarize\u001b[0m\u001b[0;34m(\u001b[0m\u001b[0mtext\u001b[0m\u001b[0;34m)\u001b[0m\u001b[0;34m)\u001b[0m\u001b[0;34m\u001b[0m\u001b[0;34m\u001b[0m\u001b[0m\n\u001b[0m",
            "\u001b[0;31mNameError\u001b[0m: name 'text' is not defined"
          ]
        }
      ],
      "id": "leepU4Dq-5UB"
    },
    {
      "cell_type": "code",
      "source": [
        "with open(\"test\", \"rb\") as fp:   # Unpickling\n",
        "  b = pickle.load(fp)"
      ],
      "metadata": {
        "id": "wA3BU5COgjG2"
      },
      "id": "wA3BU5COgjG2",
      "execution_count": null,
      "outputs": []
    },
    {
      "cell_type": "code",
      "source": [
        "raw_news = pd.read_csv(\"./sample2500.csv\", sep='\\t')\n"
      ],
      "metadata": {
        "id": "imAJwUoOB9AY"
      },
      "id": "imAJwUoOB9AY",
      "execution_count": null,
      "outputs": []
    },
    {
      "cell_type": "code",
      "source": [
        "!pip install summa\n",
        "  "
      ],
      "metadata": {
        "id": "BoqdzoWUB9C0",
        "colab": {
          "base_uri": "https://localhost:8080/"
        },
        "outputId": "52098c41-f973-44dd-c361-1d2b0e0bda95"
      },
      "id": "BoqdzoWUB9C0",
      "execution_count": 63,
      "outputs": [
        {
          "output_type": "stream",
          "name": "stdout",
          "text": [
            "Looking in indexes: https://pypi.org/simple, https://us-python.pkg.dev/colab-wheels/public/simple/\n",
            "Collecting summa\n",
            "  Downloading summa-1.2.0.tar.gz (54 kB)\n",
            "\u001b[2K     \u001b[90m━━━━━━━━━━━━━━━━━━━━━━━━━━━━━━━━━━━━━━━━\u001b[0m \u001b[32m54.9/54.9 kB\u001b[0m \u001b[31m2.9 MB/s\u001b[0m eta \u001b[36m0:00:00\u001b[0m\n",
            "\u001b[?25h  Preparing metadata (setup.py) ... \u001b[?25l\u001b[?25hdone\n",
            "Requirement already satisfied: scipy>=0.19 in /usr/local/lib/python3.10/dist-packages (from summa) (1.10.1)\n",
            "Requirement already satisfied: numpy<1.27.0,>=1.19.5 in /usr/local/lib/python3.10/dist-packages (from scipy>=0.19->summa) (1.22.4)\n",
            "Building wheels for collected packages: summa\n",
            "  Building wheel for summa (setup.py) ... \u001b[?25l\u001b[?25hdone\n",
            "  Created wheel for summa: filename=summa-1.2.0-py3-none-any.whl size=54408 sha256=2dac14c5c8ce05b728a3ec05191dffdd8db4d8bbdacd0528137e654b658dc6c7\n",
            "  Stored in directory: /root/.cache/pip/wheels/4a/ca/c5/4958614cfba88ed6ceb7cb5a849f9f89f9ac49971616bc919f\n",
            "Successfully built summa\n",
            "Installing collected packages: summa\n",
            "Successfully installed summa-1.2.0\n"
          ]
        }
      ]
    },
    {
      "cell_type": "code",
      "source": [
        "guess="
      ],
      "metadata": {
        "colab": {
          "base_uri": "https://localhost:8080/",
          "height": 490
        },
        "id": "8Q7rvtThL59h",
        "outputId": "e7599ea6-878c-40ea-dccd-2f1e596f569c"
      },
      "id": "8Q7rvtThL59h",
      "execution_count": 74,
      "outputs": [
        {
          "output_type": "error",
          "ename": "SyntaxError",
          "evalue": "ignored",
          "traceback": [
            "\u001b[0;36m  File \u001b[0;32m\"<ipython-input-74-695cd84ffeeb>\"\u001b[0;36m, line \u001b[0;32m1\u001b[0m\n\u001b[0;31m    guess=[\"Terör örgütü PKK'nın lideri Abdullah Öcalan Taraf'ın \"Sizi ne heyecanlandırır\" sorusuna \"Benden güzel ve akıllı kadınla tartışmak\" cevabını veren ünlü felsefeci Zizek ile aynı düşüncede olduğunu söyledi. İmralı'da tutuklu bulunan Öcalan avukatlarıyla yaptığı haftalık olağan görüşmesinde ilginç değerlendirmelerde bulundu. ANF'ye göre Öcalan şunları söyledi: \"Kadın konusunda şunu belirtmek istiyorum; benim kadınla ilişkilenmem farklıdır. Kendini özgürleşmeye özgürlük mücadelesine adamış insanlar için ne olursa olsun iki kişi arasındaki tutku kimseyi hiç bir yere götürmez, ancak hiyerarşiye patriarkal tutuma, baskışa tecavüz kültürüne götürür. Kadınla erkek arasında ancak felsefik temelde bir buluşma olabileceğine inanmıyorum. Geçende Taraf'ın 20 soruluk anketine felsefeci Zizek, bir cevap veriyor. Sizin için güzellik nedir diye soruyorlar. \"Benden güzel ve akıllı kadınla tartışmak\" diyor. İlginçtir ama ben de aynen böyle düşünmüştüm. Benim kadınla buluşmam da tabi yeterince anlaşılmıyorsa da bu temeldedir. Kadınla felsefi buluşma dışında bütün buluşmalar doğru bir buluşma değildir.\" APO'nun büyük yalanı Bugün bir kadınla biraraya gelmesinin sadece felsefi anlamda kendine mutluluk vereceğinin altını çizen Öcalan için dün çarğık ilişkilerle dolu. Apo'nun sağ kolu Şemdin Sakık\\'ın \"Apo\" isimli kitabında Öcalan\\'ın kadın militanları istediği gibi kullandığı göze çarpıyor. Militanları bazen tek tek bazen de grup halinde isteyen Apo\\'nun bugün söyledikleri ciddi...\n\u001b[0m                                                                                                                                                                                                                                                                                                                                                                                                                                                                                                                                                                                                                                                                                                                                                                                                                                                                                                                                                                                                                                                                                                                                                                                                                                                                                                                                                                                                                                                                                                                                                     ...\n\u001b[0;31mSyntaxError\u001b[0m\u001b[0;31m:\u001b[0m unterminated string literal (detected at line 1)\n"
          ]
        }
      ]
    },
    {
      "cell_type": "code",
      "source": [],
      "metadata": {
        "id": "8tk2USjvB9FI",
        "colab": {
          "base_uri": "https://localhost:8080/"
        },
        "outputId": "6534a9c1-2097-45fb-8e7e-dc6d49a3a51b"
      },
      "id": "8tk2USjvB9FI",
      "execution_count": 72,
      "outputs": [
        {
          "output_type": "stream",
          "name": "stdout",
          "text": [
            "news_id                                                        149.0\n",
            "sentence           Erzincan'da dindar vatandaşlara yönelik hukuks...\n",
            "title                            Gül, Erdoğan ve Arınça ağır hakaret\n",
            "NER                                                                2\n",
            "noun_phrase                                                        1\n",
            "tfidf                                                              0\n",
            "sentence_length                                             0.041667\n",
            "position                                                         1.0\n",
            "Name: 0, dtype: object\n",
            "news_id                                                        150.0\n",
            "sentence           Adalet Bakanlığı, askerlere sivil yargı yolunu...\n",
            "title                              Hükümet Askerin peşini bırakmıyor\n",
            "NER                                                                1\n",
            "noun_phrase                                                        0\n",
            "tfidf                                                              1\n",
            "sentence_length                                             0.072848\n",
            "position                                                         1.0\n",
            "Name: 48, dtype: object\n",
            "news_id                                                        154.0\n",
            "sentence           Ankara Giyim Sanayicileri Derneği (AGSD) Başka...\n",
            "title                               AVMlerde pazar günü seri cinayet\n",
            "NER                                                                5\n",
            "noun_phrase                                                        1\n",
            "tfidf                                                              2\n",
            "sentence_length                                             0.093284\n",
            "position                                                         1.0\n",
            "Name: 64, dtype: object\n",
            "news_id                                                        159.0\n",
            "sentence           Hatta Cübbeli Ahmet Hoca ünlü komedyen Cem Yıl...\n",
            "title                                 Cübbeli Ahmet Hocadan U dönüşü\n",
            "NER                                                                2\n",
            "noun_phrase                                                        0\n",
            "tfidf                                                              0\n",
            "sentence_length                                             0.042484\n",
            "position                                                    0.041667\n",
            "Name: 101, dtype: object\n",
            "news_id                                                        175.0\n",
            "sentence           ÇİN MALINA DİKKAT Aydın, olası arızalarda da y...\n",
            "title                              Çin malı parça başınızı yakabilir\n",
            "NER                                                                3\n",
            "noun_phrase                                                        2\n",
            "tfidf                                                              0\n",
            "sentence_length                                             0.127036\n",
            "position                                                    0.083333\n",
            "Name: 116, dtype: object\n",
            "news_id                                                        178.0\n",
            "sentence           İşte böyle bir konuşmanın sonucunda en kaprisl...\n",
            "title                            Dizi setlerinin en kaprislisi onlar\n",
            "NER                                                                2\n",
            "noun_phrase                                                        0\n",
            "tfidf                                                              1\n",
            "sentence_length                                             0.175824\n",
            "position                                                         1.0\n",
            "Name: 118, dtype: object\n",
            "news_id                                                        187.0\n",
            "sentence           Başbakan Yardımcısı ve Devlet Bakanı Bülent Ar...\n",
            "title                              Bakan Arınç Balyozu şeytani buldu\n",
            "NER                                                                1\n",
            "noun_phrase                                                        0\n",
            "tfidf                                                              0\n",
            "sentence_length                                             0.079167\n",
            "position                                                         1.0\n",
            "Name: 123, dtype: object\n",
            "news_id                                                        199.0\n",
            "sentence           Öğrenci Seçme ve Yerleştirme Merkezi (ÖSYM), ü...\n",
            "title                            Üniversite sınavı yeniden değişiyor\n",
            "NER                                                                2\n",
            "noun_phrase                                                        0\n",
            "tfidf                                                              0\n",
            "sentence_length                                             0.017886\n",
            "position                                                         1.0\n",
            "Name: 140, dtype: object\n",
            "news_id                                                        208.0\n",
            "sentence           Tren, Acılık mevkisinden geçtiği sırada raylar...\n",
            "title                                Yük treninin çarptığı kişi öldü\n",
            "NER                                                                2\n",
            "noun_phrase                                                        0\n",
            "tfidf                                                              0\n",
            "sentence_length                                             0.088235\n",
            "position                                                         0.5\n",
            "Name: 193, dtype: object\n",
            "news_id                                                        220.0\n",
            "sentence           Yenikapı seferini yapan deniz otobüsü, Küçükçe...\n",
            "title                                 Deniz otobüsü gemiyle çarpıştı\n",
            "NER                                                                4\n",
            "noun_phrase                                                        4\n",
            "tfidf                                                              0\n",
            "sentence_length                                             0.060109\n",
            "position                                                         1.0\n",
            "Name: 201, dtype: object\n"
          ]
        }
      ]
    },
    {
      "cell_type": "code",
      "source": [
        "predicted_s"
      ],
      "metadata": {
        "id": "xufFJl4ZB9Hn",
        "colab": {
          "base_uri": "https://localhost:8080/"
        },
        "outputId": "c8c64f65-5d4c-421c-cf99-41ba5a0d01fd"
      },
      "id": "xufFJl4ZB9Hn",
      "execution_count": 73,
      "outputs": [
        {
          "output_type": "execute_result",
          "data": {
            "text/plain": [
              "['', '', '', '', '', '', '', '', '', '']"
            ]
          },
          "metadata": {},
          "execution_count": 73
        }
      ]
    },
    {
      "cell_type": "code",
      "source": [
        "a"
      ],
      "metadata": {
        "id": "YJ5aapYDB9KG",
        "colab": {
          "base_uri": "https://localhost:8080/"
        },
        "outputId": "3969283f-a780-4c56-fa0f-54caa252d9cb"
      },
      "id": "YJ5aapYDB9KG",
      "execution_count": 70,
      "outputs": [
        {
          "output_type": "execute_result",
          "data": {
            "text/plain": [
              "[news_id                                                        149.0\n",
              " sentence           Erzincan'da dindar vatandaşlara yönelik hukuks...\n",
              " title                            Gül, Erdoğan ve Arınça ağır hakaret\n",
              " NER                                                                2\n",
              " noun_phrase                                                        1\n",
              " tfidf                                                              0\n",
              " sentence_length                                             0.041667\n",
              " position                                                         1.0\n",
              " Name: 0, dtype: object,\n",
              " news_id                                                        150.0\n",
              " sentence           Adalet Bakanlığı, askerlere sivil yargı yolunu...\n",
              " title                              Hükümet Askerin peşini bırakmıyor\n",
              " NER                                                                1\n",
              " noun_phrase                                                        0\n",
              " tfidf                                                              1\n",
              " sentence_length                                             0.072848\n",
              " position                                                         1.0\n",
              " Name: 48, dtype: object,\n",
              " news_id                                                        154.0\n",
              " sentence           Ankara Giyim Sanayicileri Derneği (AGSD) Başka...\n",
              " title                               AVMlerde pazar günü seri cinayet\n",
              " NER                                                                5\n",
              " noun_phrase                                                        1\n",
              " tfidf                                                              2\n",
              " sentence_length                                             0.093284\n",
              " position                                                         1.0\n",
              " Name: 64, dtype: object,\n",
              " news_id                                                        159.0\n",
              " sentence           Hatta Cübbeli Ahmet Hoca ünlü komedyen Cem Yıl...\n",
              " title                                 Cübbeli Ahmet Hocadan U dönüşü\n",
              " NER                                                                2\n",
              " noun_phrase                                                        0\n",
              " tfidf                                                              0\n",
              " sentence_length                                             0.042484\n",
              " position                                                    0.041667\n",
              " Name: 101, dtype: object,\n",
              " news_id                                                        175.0\n",
              " sentence           ÇİN MALINA DİKKAT Aydın, olası arızalarda da y...\n",
              " title                              Çin malı parça başınızı yakabilir\n",
              " NER                                                                3\n",
              " noun_phrase                                                        2\n",
              " tfidf                                                              0\n",
              " sentence_length                                             0.127036\n",
              " position                                                    0.083333\n",
              " Name: 116, dtype: object,\n",
              " news_id                                                        178.0\n",
              " sentence           İşte böyle bir konuşmanın sonucunda en kaprisl...\n",
              " title                            Dizi setlerinin en kaprislisi onlar\n",
              " NER                                                                2\n",
              " noun_phrase                                                        0\n",
              " tfidf                                                              1\n",
              " sentence_length                                             0.175824\n",
              " position                                                         1.0\n",
              " Name: 118, dtype: object,\n",
              " news_id                                                        187.0\n",
              " sentence           Başbakan Yardımcısı ve Devlet Bakanı Bülent Ar...\n",
              " title                              Bakan Arınç Balyozu şeytani buldu\n",
              " NER                                                                1\n",
              " noun_phrase                                                        0\n",
              " tfidf                                                              0\n",
              " sentence_length                                             0.079167\n",
              " position                                                         1.0\n",
              " Name: 123, dtype: object,\n",
              " news_id                                                        199.0\n",
              " sentence           Öğrenci Seçme ve Yerleştirme Merkezi (ÖSYM), ü...\n",
              " title                            Üniversite sınavı yeniden değişiyor\n",
              " NER                                                                2\n",
              " noun_phrase                                                        0\n",
              " tfidf                                                              0\n",
              " sentence_length                                             0.017886\n",
              " position                                                         1.0\n",
              " Name: 140, dtype: object,\n",
              " news_id                                                        208.0\n",
              " sentence           Tren, Acılık mevkisinden geçtiği sırada raylar...\n",
              " title                                Yük treninin çarptığı kişi öldü\n",
              " NER                                                                2\n",
              " noun_phrase                                                        0\n",
              " tfidf                                                              0\n",
              " sentence_length                                             0.088235\n",
              " position                                                         0.5\n",
              " Name: 193, dtype: object,\n",
              " news_id                                                        220.0\n",
              " sentence           Yenikapı seferini yapan deniz otobüsü, Küçükçe...\n",
              " title                                 Deniz otobüsü gemiyle çarpıştı\n",
              " NER                                                                4\n",
              " noun_phrase                                                        4\n",
              " tfidf                                                              0\n",
              " sentence_length                                             0.060109\n",
              " position                                                         1.0\n",
              " Name: 201, dtype: object]"
            ]
          },
          "metadata": {},
          "execution_count": 70
        }
      ]
    },
    {
      "cell_type": "code",
      "source": [
        "g = pd.read_csv(\"./sample2500.csv\", sep='\\t')"
      ],
      "metadata": {
        "id": "aewFQkVuB9Mc"
      },
      "id": "aewFQkVuB9Mc",
      "execution_count": 76,
      "outputs": []
    },
    {
      "cell_type": "code",
      "source": [
        "g"
      ],
      "metadata": {
        "colab": {
          "base_uri": "https://localhost:8080/",
          "height": 468
        },
        "id": "a5y7AA0zMkqB",
        "outputId": "4d294c7f-5efc-4156-90c3-35662a7aa2a1"
      },
      "id": "a5y7AA0zMkqB",
      "execution_count": 77,
      "outputs": [
        {
          "output_type": "execute_result",
          "data": {
            "text/plain": [
              "                                                   text  \\\n",
              "0     Araç sahipleri için pahalı benzine karşı yapıl...   \n",
              "1     İki insanın kaderini birleştiren olay, Adana S...   \n",
              "2     Meksika'nın kuzey sınırında bir grup silahlı k...   \n",
              "3     Fenerbahçe Teknik Direktörü Christoph Daum, Si...   \n",
              "4     İslam Konferansı Teşkilatı (İKT) Daimi Konsey ...   \n",
              "...                                                 ...   \n",
              "2496  Time dergisinin foto muhabiri Shaul Schwarz, k...   \n",
              "2497  Hacı Bektaş Veli Anadolu Kültür Vakfı (HBVAKV)...   \n",
              "2498  Muayene için gittiği Almanya'da ameliyat olan ...   \n",
              "2499  Kızıl gezegenin etrafında 2006'dan beri dönmek...   \n",
              "2500  İNTERNETHABER Nuray Mert'in AK Parti lideri Er...   \n",
              "\n",
              "                                         title  \n",
              "0            Aracınızda yüzde 30 tarassuf edin  \n",
              "1             Kahraman öğretmen hayat kurtardı  \n",
              "2            Parti yapanları taradılar: 13 ölü  \n",
              "3                  Daum oynanan oyundan memnun  \n",
              "4           İslam Konferansında minare tepkisi  \n",
              "...                                        ...  \n",
              "2496  Kızgın Haitililer cesetten barikat kurdu  \n",
              "2497             Aleviler yeni sol partide yok  \n",
              "2498           Galatasarayda Milan Baros şoku!  \n",
              "2499       Mars fotoğraflarındaki ağacın sırrı  \n",
              "2500           Nuray Mert Allah deyip saydırdı  \n",
              "\n",
              "[2501 rows x 2 columns]"
            ],
            "text/html": [
              "\n",
              "  <div id=\"df-345ddfae-a2e8-470c-ae04-ba1debe1500a\">\n",
              "    <div class=\"colab-df-container\">\n",
              "      <div>\n",
              "<style scoped>\n",
              "    .dataframe tbody tr th:only-of-type {\n",
              "        vertical-align: middle;\n",
              "    }\n",
              "\n",
              "    .dataframe tbody tr th {\n",
              "        vertical-align: top;\n",
              "    }\n",
              "\n",
              "    .dataframe thead th {\n",
              "        text-align: right;\n",
              "    }\n",
              "</style>\n",
              "<table border=\"1\" class=\"dataframe\">\n",
              "  <thead>\n",
              "    <tr style=\"text-align: right;\">\n",
              "      <th></th>\n",
              "      <th>text</th>\n",
              "      <th>title</th>\n",
              "    </tr>\n",
              "  </thead>\n",
              "  <tbody>\n",
              "    <tr>\n",
              "      <th>0</th>\n",
              "      <td>Araç sahipleri için pahalı benzine karşı yapıl...</td>\n",
              "      <td>Aracınızda yüzde 30 tarassuf edin</td>\n",
              "    </tr>\n",
              "    <tr>\n",
              "      <th>1</th>\n",
              "      <td>İki insanın kaderini birleştiren olay, Adana S...</td>\n",
              "      <td>Kahraman öğretmen hayat kurtardı</td>\n",
              "    </tr>\n",
              "    <tr>\n",
              "      <th>2</th>\n",
              "      <td>Meksika'nın kuzey sınırında bir grup silahlı k...</td>\n",
              "      <td>Parti yapanları taradılar: 13 ölü</td>\n",
              "    </tr>\n",
              "    <tr>\n",
              "      <th>3</th>\n",
              "      <td>Fenerbahçe Teknik Direktörü Christoph Daum, Si...</td>\n",
              "      <td>Daum oynanan oyundan memnun</td>\n",
              "    </tr>\n",
              "    <tr>\n",
              "      <th>4</th>\n",
              "      <td>İslam Konferansı Teşkilatı (İKT) Daimi Konsey ...</td>\n",
              "      <td>İslam Konferansında minare tepkisi</td>\n",
              "    </tr>\n",
              "    <tr>\n",
              "      <th>...</th>\n",
              "      <td>...</td>\n",
              "      <td>...</td>\n",
              "    </tr>\n",
              "    <tr>\n",
              "      <th>2496</th>\n",
              "      <td>Time dergisinin foto muhabiri Shaul Schwarz, k...</td>\n",
              "      <td>Kızgın Haitililer cesetten barikat kurdu</td>\n",
              "    </tr>\n",
              "    <tr>\n",
              "      <th>2497</th>\n",
              "      <td>Hacı Bektaş Veli Anadolu Kültür Vakfı (HBVAKV)...</td>\n",
              "      <td>Aleviler yeni sol partide yok</td>\n",
              "    </tr>\n",
              "    <tr>\n",
              "      <th>2498</th>\n",
              "      <td>Muayene için gittiği Almanya'da ameliyat olan ...</td>\n",
              "      <td>Galatasarayda Milan Baros şoku!</td>\n",
              "    </tr>\n",
              "    <tr>\n",
              "      <th>2499</th>\n",
              "      <td>Kızıl gezegenin etrafında 2006'dan beri dönmek...</td>\n",
              "      <td>Mars fotoğraflarındaki ağacın sırrı</td>\n",
              "    </tr>\n",
              "    <tr>\n",
              "      <th>2500</th>\n",
              "      <td>İNTERNETHABER Nuray Mert'in AK Parti lideri Er...</td>\n",
              "      <td>Nuray Mert Allah deyip saydırdı</td>\n",
              "    </tr>\n",
              "  </tbody>\n",
              "</table>\n",
              "<p>2501 rows × 2 columns</p>\n",
              "</div>\n",
              "      <button class=\"colab-df-convert\" onclick=\"convertToInteractive('df-345ddfae-a2e8-470c-ae04-ba1debe1500a')\"\n",
              "              title=\"Convert this dataframe to an interactive table.\"\n",
              "              style=\"display:none;\">\n",
              "        \n",
              "  <svg xmlns=\"http://www.w3.org/2000/svg\" height=\"24px\"viewBox=\"0 0 24 24\"\n",
              "       width=\"24px\">\n",
              "    <path d=\"M0 0h24v24H0V0z\" fill=\"none\"/>\n",
              "    <path d=\"M18.56 5.44l.94 2.06.94-2.06 2.06-.94-2.06-.94-.94-2.06-.94 2.06-2.06.94zm-11 1L8.5 8.5l.94-2.06 2.06-.94-2.06-.94L8.5 2.5l-.94 2.06-2.06.94zm10 10l.94 2.06.94-2.06 2.06-.94-2.06-.94-.94-2.06-.94 2.06-2.06.94z\"/><path d=\"M17.41 7.96l-1.37-1.37c-.4-.4-.92-.59-1.43-.59-.52 0-1.04.2-1.43.59L10.3 9.45l-7.72 7.72c-.78.78-.78 2.05 0 2.83L4 21.41c.39.39.9.59 1.41.59.51 0 1.02-.2 1.41-.59l7.78-7.78 2.81-2.81c.8-.78.8-2.07 0-2.86zM5.41 20L4 18.59l7.72-7.72 1.47 1.35L5.41 20z\"/>\n",
              "  </svg>\n",
              "      </button>\n",
              "      \n",
              "  <style>\n",
              "    .colab-df-container {\n",
              "      display:flex;\n",
              "      flex-wrap:wrap;\n",
              "      gap: 12px;\n",
              "    }\n",
              "\n",
              "    .colab-df-convert {\n",
              "      background-color: #E8F0FE;\n",
              "      border: none;\n",
              "      border-radius: 50%;\n",
              "      cursor: pointer;\n",
              "      display: none;\n",
              "      fill: #1967D2;\n",
              "      height: 32px;\n",
              "      padding: 0 0 0 0;\n",
              "      width: 32px;\n",
              "    }\n",
              "\n",
              "    .colab-df-convert:hover {\n",
              "      background-color: #E2EBFA;\n",
              "      box-shadow: 0px 1px 2px rgba(60, 64, 67, 0.3), 0px 1px 3px 1px rgba(60, 64, 67, 0.15);\n",
              "      fill: #174EA6;\n",
              "    }\n",
              "\n",
              "    [theme=dark] .colab-df-convert {\n",
              "      background-color: #3B4455;\n",
              "      fill: #D2E3FC;\n",
              "    }\n",
              "\n",
              "    [theme=dark] .colab-df-convert:hover {\n",
              "      background-color: #434B5C;\n",
              "      box-shadow: 0px 1px 3px 1px rgba(0, 0, 0, 0.15);\n",
              "      filter: drop-shadow(0px 1px 2px rgba(0, 0, 0, 0.3));\n",
              "      fill: #FFFFFF;\n",
              "    }\n",
              "  </style>\n",
              "\n",
              "      <script>\n",
              "        const buttonEl =\n",
              "          document.querySelector('#df-345ddfae-a2e8-470c-ae04-ba1debe1500a button.colab-df-convert');\n",
              "        buttonEl.style.display =\n",
              "          google.colab.kernel.accessAllowed ? 'block' : 'none';\n",
              "\n",
              "        async function convertToInteractive(key) {\n",
              "          const element = document.querySelector('#df-345ddfae-a2e8-470c-ae04-ba1debe1500a');\n",
              "          const dataTable =\n",
              "            await google.colab.kernel.invokeFunction('convertToInteractive',\n",
              "                                                     [key], {});\n",
              "          if (!dataTable) return;\n",
              "\n",
              "          const docLinkHtml = 'Like what you see? Visit the ' +\n",
              "            '<a target=\"_blank\" href=https://colab.research.google.com/notebooks/data_table.ipynb>data table notebook</a>'\n",
              "            + ' to learn more about interactive tables.';\n",
              "          element.innerHTML = '';\n",
              "          dataTable['output_type'] = 'display_data';\n",
              "          await google.colab.output.renderOutput(dataTable, element);\n",
              "          const docLink = document.createElement('div');\n",
              "          docLink.innerHTML = docLinkHtml;\n",
              "          element.appendChild(docLink);\n",
              "        }\n",
              "      </script>\n",
              "    </div>\n",
              "  </div>\n",
              "  "
            ]
          },
          "metadata": {},
          "execution_count": 77
        }
      ]
    },
    {
      "cell_type": "code",
      "source": [
        "a=[]\n",
        "a.append(g.loc[149,\"text\"])\n",
        "a.append(g.loc[150,\"text\"])\n",
        "a.append(g.loc[154,\"text\"])\n",
        "a.append(g.loc[159,\"text\"])\n",
        "a.append(g.loc[175,\"text\"])\n",
        "a.append(g.loc[178,\"text\"])\n",
        "a.append(g.loc[187,\"text\"])\n",
        "a.append(g.loc[199,\"text\"])\n",
        "a.append(g.loc[108,\"text\"])\n",
        "a.append(g.loc[220,\"text\"])\n",
        "a"
      ],
      "metadata": {
        "id": "AtKPAYEOB9Op",
        "colab": {
          "base_uri": "https://localhost:8080/"
        },
        "outputId": "cea26179-8872-44cd-a9c4-58cf3166a37f"
      },
      "id": "AtKPAYEOB9Op",
      "execution_count": 79,
      "outputs": [
        {
          "output_type": "execute_result",
          "data": {
            "text/plain": [
              "['Erzincan\\'da dindar vatandaşlara yönelik hukuksuz gözaltılar sebebiyle savcılığın ifadesini almak istemesine rağmen günlerdir ifadeye gitmeyen; bu da yetmezmiş gibi önceki gün de askeri araçları sokağa döken 3. Ordu Komutanı Saldıray Berk\\'in ilginç bir icraatı tespit edildi. Kara Kuvvetleri Komutanlığına ait özel ve dışarıdan girilemeyen özel bir intranet ağı olan KaraNET\\'te açıkça siyaset yapıldığı ortaya çıktı. Orgeneral Saldıray Berk komutanlığındaki 3. Ordu Komutanlığının intranet sitesinde, Cumhurbaşkanı Abdullah Gül, Başbakan Recep Tayyip Erdoğan ile Başbakan Yardımcısı Bülent Arınç hakkında ağır ifadeler içeren yazılar yer aldığı tespit edildi. Söz konusu yazılar komutanlık sitesine \"Mutlaka okunması gerekenler\" başlığı altında toplanmış. 3. Ordu Komutanı Saldıray Berk\\'in talimatıyla hazırlandığı belirtilen sitedeki \"Mutlaka okunması gerekenler\" başlığı altında, Cumhuriyet gazetesi başta olmak üzere ART\\'de çalışan birçok Ergenekoncunun yazıları yer alıyor. Özellikle Ak Parti ile devlet yöneticileri aleyhinde kaleme alınan yazılarda, Ergenekon terör örgütü sanıkları savunulurken Başbakan Erdoğan ile Bülent Arınç için ağır ifadeler içeren yazılar yer alıyor. KaraNET NEDİR? - Er ve erbaşlara kesinlikle yasak olan Kara Kuvvetleri Komutanlığına ait özel bir intranet sistemidir. -KaraNET hesapları Ankara\\'dan veya kullanıcı tanımları için delegasyon yapılmış olan birliklerden açılabilir ve o hesaplar da ancak ilgili güvenlik talimatlarını imzalamış subay ve astsubaylara verilir. - KaraNET\\'e internet üzerinden ulaşmak mümkün değildir. - KaraNET\\'i yetkisiz kişilerin kullanması \\'suç\\' olarak tanımlanmıştır. En son Nisan 2009\\'da güncellenen sitenin içeriği Binbaşı Gökhan Narman, tasarımı ise Kıdemli Çavuş Münüp Şevke tarafından hazırlanıyor. İŞTE 3. ORDU KOMUTANLIĞININ MUTLAKA OKUNMALI DEDİĞİ O YAZILAR 29 Mart\\'ta Hedef Ne Olmalı? (Sönmez Targan) Türkiye, son on yıldır, camilerden yönetiliyor dersek abartma yapmış sayılmayız. 16 Şubat 1969\\'da işçilerin, gençlerin ve sol güçlerin yoğun katılımıyla başlayan Amerika\\'nın 6. Filosunu protesto eylemi gerici saldırıların boy hedefi haline gelerek dağıtıldı. İki kişinin ölümü ve yüzlercesinin yaralanmasıyla sonuçlanan bu olaylar siyasal tarihimize \"Kanlı Pazar\" olarak geçerken olayların olduğu saatlerde gerici bir grup Boğaz\\'a demirlemiş Amerikan 6. Filosu\\'nu kıble yaparak namaz kılmıştı. Hatta rivayet edilir ki olayların yaşandığı o saatlerde Bülent Arınç, Abdullah Gül ve Recep Tayyip Erdoğan\\'ın, gemisinde 6. Filo komutanını ziyaret ettikleri söylenir. Ve iddia ediyorum; AKP bu yerel seçimlerde oy oranını bir iki puan daha yükselttiğinde, Türkiye bir daha genel seçimleri de göremeyecektir! Bir Kuvayi Milliyeci (Erol Ertuğrul) Menemen\\'de Kubilayı kestiler. Sonra Sivas\\'ta otuz yedi aydını diri diri yaktılar. Sonra ülkemizi kaçak kuran kursları ve imam hatip okulları ile donattılar. Laikliğe karşı eylemlerin odağı olduğu en yüksek mahkeme kararı ile belirlenen bir siyasal partiye ülkemizin ve ulusumuzun yazgısını teslim ettiler. Tarikatlar, cemaatler, gözbebeği yapıldı. Kuvayi milliyeciler, Gericilerden, bölücülerden, sömürgecilerden arındırılmış bir ülkeyi gelecek kuşaklara bırakmak hepimizin borcudur. SİTEDE ERGENEKONCU YAZAR KAYNIYOR 3. Ordu Komutanı Org. Saldıray Berk\\'in talimatıyla hazırlanan skandal internet sitesinde Ergenekon terör örgütünü öven ve Cumhurbaşkanı ile Başbakan ve hükümete hakaret içeren yüzlerce yazı ve makale yer alıyor. İşte sitede yer alan diğer yazılardan birkaçının yazarı ve başlıkları: Ergenekon Bahanesiyle Türkten İntikam alanlar: Arslan Bulut, Yalan Haber Üretmenin Yolları ve Hedefleri: Erol Manisalı, Gelsin 3\\'üncü 4\\'üncü iddianameler: İlhan Selçuk, Tolon neden tutuklandı, açıklayın: Ruhat Mengi, AKP Yol haritası: Orhan Bursalı, Halk bu Mesir Macunu\\'nu bir kez daha yer mi?: Mustafa Mutlu, F tipi örgüt\\'ün TSK\\'ya karşı yürüttüğü savaş devam ediyor: Vural Savaş SALDIRAY BERK İFADEYE GELMİYOR Aralık 2009\\'da Erzincan\\'da görevli 3 jandarma istihbaratçı ile 3 MİT personelinin tutuklandığı \"Ergenekon\" soruşturmasını yürüten özel yetkili Erzurum Cumhuriyet Savcısı Osman Şanal, 3. Ordu Komutanı Org. Saldıray Berk\\'i bilgisine başvurmak üzere Erzurum Adliyesi\\'ne davet etmişti. Org. Berk\\'in Erzurum\\'a gelmemesi durumunda, savcının Erzincan\\'a giderek görüşmenin burada yapılacağı belirtilmiş ancak Org. Berk buna da yanaşmamıştı. Bilindiği gibi soruşturma kapsamında Erzincan İl Jandarma Alay Komutanı Albay Ali Tapan, Şanal\\'a ifade vermişti. Daha önce de İl Jandarma İstihbarat Şube Müdürü Binbaşı Nedim E., Müdür Yardımcısı Üsteğmen Ersin E. ve Astsubay Başçavuş Orhan E. ile Erzincan MİT Şube Müdürü Ş.D., MİT mensupları S.B.İ. ve K.Ü. de \"örgüt üyesi olmak\" suçundan tutuklanmıştı. Son olarak ise Eskişehir\\'e tayini çıkan Erzincan eski Alay Komutanı Recep Öğütçü\\'nün ifadesine başvuruldu. Bilindiği gibi 3. Ordu Komutanlığı\\'na bağlı askeri araçlar önceki gün Erzincan\\'dan Üzümlü\\'ye kadar gidip geri dönerek gövde gösterisi yapmışlardı.',\n",
              " \"Adalet Bakanlığı, askerlere sivil yargı yolunu açan yasanın iptalinden sonra, aynı değişikliği Anayasa’da yapmak üzere bir kanun teklifi taslağı hazırladı. Vatan gazetesinin haberine göre, değişiklik yürürlüğe girerse Askeri Ceza Kanunu başta olmak üzere birçok kanun da değişecek. Askeri yargıya ilişkin yetki tartışmaları, askerlerin, askeri mahalde işledikleri Anayasal düzene, devletin güvenliğine ve hükümete karşı işledikleri suçlarda sivil yargıya tabi olacaklarını düzenleyen yasa değişikliği ile başlamıştı. Bu yasanın iptal edilmesi ve yürütmenin durdurulması üzerine özellikle darbe ve hükümete yönelik suçlarda yetki konusunda tartışma çıktı. Yürütmenin durdurulması kararında yasanın Anayasa’nın 145. maddesine açıkça aykırı olduğu yönündeki tespit de Anayasa değişikliğini gündeme getirdi. BAKAN ERGİN'E SUNULDU Anayasa değişiklikleri hükümet tasarısı olarak Meclis’e sunulamıyor. Bu tekliflerin milletvekilleri tarafından, Meclis’e sunulması gerekiyor. Buna rağmen Adalet Bakanlığı’nda askerlerin sivil yargıya tabi olmalarını sağlamak amacıyla yapılması düşünülen Anayasa değişikliği ile ilgili bir çalışma yapıldığı ortaya çıktı. Bakanlık uzmanlarının Prof. Dr. Ergun Özbudun’un başkanlığını yaptığı bilim kurulunun hazırladıkları taslak metnin Adalet Bakanı Sadullah Ergin’e sunulduğu öğrenildi. PAKETTE YER ALABİLİR Edinilen bilgiye göre taslakta, Anayasa Mahkemesi’nin askere sivil yargı yolunu açan düzenlemeyi aykırı bulduğu Anayasa’nın 145. maddesinin bütünüyle değişmesi öngörülüyor. Maddenin mevcut halinde, bir suçun askeri yargının görev alanına girip girmediğini tespitte 4 kriter esas alıyor. Buna göre asker kişi, askeri bir suç işlediğinde, askeri mahalde bir veya bir askere karşı suç işlediğinde yetki askeri yargının oluyor. Yeni düzenlemede ise askeri yargının görevi belirlenirken bütün bu kriterler bir yana bırakılarak sadece dar anlamda “askeri suç” olup olmadığına bakılması öngörülüyor. Yani sadece askerlerin işleyeceği, sivillerin işlemesinin mümkün olmadığı suçlar askeri yargının görev alanına girecek. Hükümet bir süre önce referandum sürecini 60 güne indiren teklifi TBMM’ye sunmuştu. Askeri yargının yetkilerini önemli ölçüde tırpanlayan taslağın, referanduma sunulacak olası bir pakette yer alması bekleniyor.\",\n",
              " 'Ankara Giyim Sanayicileri Derneği (AGSD) Başkanın Canip Karakuş, her pazar 400 milyon kişinin ziyaret ettiği alışveriş merkezlerini (AVM) pazar günü kapatmanın \"seri cinayet\" olduğunu vurguladı. AGSD Başkanı Karakuş, AVM\\'leri pazar günü kapalı kalmasına ilişkin önerilere ilişkin yaptığı yazılı açıklamada, alışveriş merkezlerini her yıl yaklaşık 1 milyar kişinin ziyaret ettiğini belirterek, bu ziyaretçilerin 400 milyonunun alışveriş merkezlerine pazar günü geldiğini, AVM\\'lerin cirolarının yüzde 73,8\\'inin hafta sonu gerçekleştiğini bildirdi. Karakuş, \"Alışveriş Merkezlerinin pazar günü kapatmak seri cinayettir. Bu uygulama sadece ticaret hayatını değil, kentlerin sosyal hayatına da darbe vurur\" dedi. Bugüne kadar 30 milyar dolarlık yatırım yapılan ve 2010 yılında 27 milyar lira ciro beklenen AVM\\'lerde bu cironun 22 milyar lirasının hafta sonu, 10 milyar lirasının ise Pazar günü gerçekleşmesinin beklendiğini belirten Karakuş, alışveriş merkezlerinin pazar günü kapatılması halinde perakende sektörünün çökeceğini ileri sürdü. Karakuş, şunları kaydetti: \"Özellikle büyük kentlerde insanlar günlerini AVM\\'lerde geçiriyor. Bu mekanlarda ailece sinemaya gidiyor, yemeğini yiyor, alışverişini yapıyor. AVM\\'lerin pazar günü kapanması halinde sadece sektör değil, vatandaşın sosyal hayatı da olumsuz etkilenecek. Ankara, İstanbul gibi büyük kentlerde zaman geçirecek bir mekan bulamayan vatandaşlar bunalıma girer. Kriz ortamında bir yandan alışverişi artırmak için kampanyalar düzenliyoruz, diğer yandan bu tür öneriler ortaya atılıyor. Neye hizmet ediliyor anlamış değilim\" AVM\\'lerin pazar günü kapalı olmasının, tüketici beklentilerini de karşılamayacağına dikkat çeken Karakuş, tüketicilerin yüzde 42,6\\'sının pazar günü alışverişe gitmeyi tercih ettiğini, yüzde 73,8\\'inin ise haftasonu AVM\\'leri ziyaret etmeyi seçtiğini ifade etti. Karakuş, \"Maliye\\'nin kayıpları da göz önüne alındığında bu öneri gerçek bir seri cinayettir\" dedi. Karakuş\\'un verdiği bilgiye göre Türkiye\\'de 5.6 milyon m2 kiralanabilir alana sahip 238 AVM bulunuyor. AVM\\'lerin kiranabilir alan miktarının 2010\\'da 7 milyon m2\\'ye ulaşması bekleniyor.',\n",
              " 'Gezeteciler.com- SAİD-İ Nursi’nin yazdığı Risale-i Nur’ların anlaşılmasının güç olduğu yolunda açıklamalar yapan Cübbeli Ahmet Hoca’nın sözleri başına dert oldu. Habertürk’te yayınlanan Teke Tek programındaki bu sözlerinin ardından Nurcu çevrelerden yoğun eleştiriler alan Cübbeli Ahmet Hoca, önceki gün çıktığı radyo kanalında geri adım attı. Programda ‘Yanlış aktarımlarından da olsa Üstad’a gönül verenler üzülmüş olabilir. Bu nedenle ben özür diliyorum. Bazı kere insan haddini aşar. Üstad Hazretleri Allah dostlarından, mukaddestir” dedi. İHALEYİ FATİH ALTAYLI\\'YA BIRAKTI! Ama ilginç olan şu ki Cüppeli ihaleyi Fatih Altaylı\\'ya bıraktı. Altaylı\\'nın soru soramadığını, gelen maillerin programı yönlendirdiği, önceden söylenenlerin sorulmadığı vs... Faturayı olduğu gib Altaylı\\'ya çıkaran Cüppeli bakalım bir daha Teke Tek\\'e çıkacak mı? İşte Cübbeli Ahmet Hoca’nın sözleri Fatih Altalyı hakkında söyledikleri; O progamda bana sorular önceden verilmedi. Habertürk\\'teki Fatih Altaylı\\'nın Teke Tek programı. Ben bir kaç kere rica ettim ama sorular verilmiyor. Kendisi de ne soracağını bilmiyor. Orada mailleri okuyor ve oradan atıyor ortaya bir soru. Programın şekli böyle gidiyor. Hatta reklamlar geçiyor yakanalda, ben arakadaşlara diyordum o reklamları takip edin bakalım ne soracaklar. Orada işte \\'kredi kartıyla kurban olur mu?\\' gibi şeyler söylenmiş. Ama TV de ilan edilen soruların hiçbirini sormadılar. Bu Risale-i Nur meselesi de orada çıktı, birden sordular. İŞTE İNTERNATHABER ARŞİVİNDEN CÜBBELİ\\'NİN REKOR KIRAN VİDEOLARI... [PAGE] Cübbeli Ahmet Hoca, kendisine ait web sitesinden bu kez de İsviçre\\'ye minare yasağı için seslendi. Hoca, yasakla ilgili konuşurken öyle sözler etti ki cemaat kendini gülmekten alamadı. İŞTE CÜBBELİ\\'NİN MİNARE VAAZI: CÜBBELİ CEM YILMAZ\\'A KARŞI [PAGE] Cübbeli Ahmet Hoca\\'nın televizyon ve vaaz performansı Cem Yılmaz\\'ınkini aratmıyor! Hatta Cübbeli Ahmet Hoca ünlü komedyen Cem Yılmaz\\'ın bazı esprileri kendinden aldığından emin!... \"Benim sözlerimi birebir kullanıyor\" diyor!.. Cübbeli\\'nin bu sözlerinden yola çıkan Bizden Kaçmaz ekibi Cübbeli ve Cem Yılmaz\\'ın sözlerinden bir kolaj yapmış... İzleyin siz karar verin! Sizce hangisi daha komik?',\n",
              " \"Benzinliye göre fiyatı 3-5 bin lira arasında farklılık gösteren yeni nesil dizel araç sahiplerinin, temiz yakıt kullanmalarının yanı sıra olası arızalarda, özellikle başta Çin menşeli olmak üzere kalitesiz yan sanayi yerine orijinal yedek parça kullanılmasına dikkat etmeleri gerektiği bildirildi. Çukurova Üniversitesi Mühendislik Mimarlık Fakültesi Makine Mühendisliği Bölüm Başkanı ve Otomotiv Anabilim Dalı Başkanı Prof. Dr. Kadir Aydın, AA muhabirine yaptığı açıklamada, benzinlilere göre yakıtta önemli düzeyde avantaj yaratan dizel araçlara olan talebin dünyada olduğu gibi Türkiye'de de son yıllarda hızla arttığını söyledi. Pazar ve rekabetin artmasının ardından firmaların yaptıkları yatırımlarla artık yeni nesil dizel araç üretimine yöneldiklerini belirten Prof. Dr. Aydın, ''Üretimi yapılan yeni araçlarda 3. nesil püskürtme sistemleri ile yeni nesil turbo üniteler kullanılıyor. Böylece, dizel motorlar güçlendi, egzos emisyonları da benzinli araçlara göre düşürüldü'' dedi. Prof. Dr. Aydın, ''dizel araçların 100 bin kilometreden sonra genelde motorda sorun çıkardıkları'' yönündeki görüşlerin de gerçeği yansıtmadığını, ancak araç sahiplerinin temiz yakıtın yanı sıra olası arızalarda orijinal parça kullanılması, yakıt, yağ ve su seviyeleri konusunda duyarlı olması gerektiğini bildirdi. Bunlara dikkat edilmemesi durumunda aracın 5 bin kilometrede bile arızalanabileceğini anlatan Aydın, şöyle konuştu: ''Yeni nesil dizel araçların motorları oldukça hassas. Bu nedenle kükürt oranı 50 PPM'in altında olan motorin kullanılmalı. Kalitesiz yakıtın kullanılması durumunda motorda en az 4-5 bin lira arasında değişen masraf çıkabilir. Gösterge tablolarındaki tüm uyarılar araç sahipleri tarafından dikkate alınmalı. Hava yapmaması için yakıt kontrolüne azami önem verilmeli. Yakıtı son aşamasına kadar tüketmek yerine uyarı sinyalini görür görmez yakıt alınmalı.'' ÇİN MALINA DİKKAT Aydın, olası arızalarda da yan sanayi yerine orijinal parçaların kullanılması gerektiğini ifade ederek, ''Zaten parçaları pahalı olan araçlarda, özellikle başta Çin menşeli olmak üzere kalitesiz yan sanayi ürünlerinin kullanılması durumunda masraf tahmin edilemeyecek miktarda artabilir'' dedi. Kadir Aydın, temiz yakıt kullanılması, yağına ve suyuna bakılması durumunda bir dizel otomobilin motor ömrünün 300-400 bin kilometre, otobüsün ise 1,5-2 milyon kilometre arasında olabileceğini sözlerine ekledi.\",\n",
              " 'İşte böyle bir konuşmanın sonucunda en kaprisli oyuncuların Naz Elmas ve Cansu Dere olduğu ortaya çıkmış. Esin Övet’in haberine göre Naz\\'ın çıkan yemeği beğenmemesinden tutun da setteki herkese kötü davranması, sevilmemesinin en büyük nedeni. Cansu için çok şey söyleniyor ama tek bir örnek ile her şeyi özetleyebilir: Cansu, \"Sıla\" dizisindeki en mütevazı oyuncu olarak bilinen Mehmet Akif Alakurt ile sevgili rolünü küs olarak oynamayı başaran nadir insanlardan biri. Kısaca, iki güzelin kaprisi dillerde. Diğer bir taraftan Kenan İmirzalıoğlu ile Mehmet Akif Alakurt, en sevilen, en taktir edilen iki isim.',\n",
              " 'Başbakan Yardımcısı ve Devlet Bakanı Bülent Arınç, \\'Balyoz\\' darbe planı haberlerine tepki göstererek, demokrasiye balans ayarı yapılması sözlerini hatırlattı. Arınç, \"Hadi artık oradan, senin dönemin bitti. Yeni Türkiye var diyoruz. Herhalde, birilerinin aklından neler geçirdiğini, şeytanın bile aklına gelmeyecek ne herzeler yediğini görüyorsunuz.\" dedi. Bülent Arınç, Manisa\\'nın Akhisar ilçesinde düzenlenen AK Parti İl Danışma Meclisi toplantısının açılışında partililere seslendi. \"YUMRUĞU MASAYA VURANLARA...\" Yumruğunu masaya vurarak, yanlış yapanların hesabını yargıda vereceğini ifade eden Arınç, kendilerinin milletin hayrı için doğru bildikleri şeyleri yapacaklarını kaydetti. Kendileri iktidara gelinceye kadarki dönemde millet iradesiyle gelenlerin ayakta duramadıklarını ve \\'höt\\' denince kaçtıklarını ifade eden Başbakan Yardımcısı Arınç, vesayet rejiminin insanları gerici, ilerici diye böldüğünü, kıyafetinden dolayı insanların fişlenir hale getirildiğini hatırlattı. Arınç, artık bu dönemlerin sona erdiğini, iktidarı birilerinin kucağına bırakmayacaklaını söyledi. \"Biz milletten aldığımızı millete iade ederiz. Halkımızla birlikte varız, halkımızla birlikte olacağız.\" diyen Arınç, milletin iradesinin güçlendiğini, cesur ve kararlı bir iktidarın işbaşında olduğunu vurguladı. İstanbul\\'da yarın akşam \\'Euronews\\' ismiyle bir haber kanalını TRT\\'nin 11. kanalı olarak hizmete alacaklarını anlatan Arınç, Arapça yayın yapan bir kanalın da yakında hizmete sokulacağını ifade etti. AK Parti Yerel Yönetimlerden Sorumlu Başkan Yardımcısı Hüseyin Tanrıverdi ise yaptığı konuşmada, Tekel işçileriyle ilgili son pürüzlerin ortadan kaldırılması için Başbakan tarafından iki bakanın görevlendirildiğini belirtti. Toplantıya, demokratik açılım paketi damgasını vurdu. Paketle ilgili kitapçık hazırlandığı ve sorulu cevaplı bu kitapçığın önümüzdeki hafta il teşkilatına 2 bin tane gönderileceği öğrenildi. Ayrıca, il teşkilatının kitapçığı, sesli ve görüntülü bir yayına uyarlaması ilgi çekti.',\n",
              " 'Öğrenci Seçme ve Yerleştirme Merkezi (ÖSYM), üniversiteye giriş sınavını yeniden değiştirecek. Birkaç yıl sonra yapılması düşünülen değişiklikle adaylara açık uçlu sorular da sorulacak. Öğrenciler altında 5 tane seçenek yer alan soruların dışında kendi yorumlarını ifade eden soruları da cevaplama imkânı bulacak. ÖSYM Başkanı Prof. Dr. Ünal Yarımağan, ABD ve Avrupa ülkelerinde uygulanan açık uçlu soru sorabilmeleri için 2 milyon civarında olan öğrenci sayısının 500 bine indirilmesi gerektiğini ifade etti. Yükseköğretimle ilgili dünyada ciddi değişiklikler olduğunu, Türkiye\\'nin ise bunun dışında kalmasının söz konusu olmadığını ifade eden ÖSYM Başkanı, sınav sistemi üzerinde yapılan değişiklikleri eleştirenlere, \"1974\\'teki sistemi aynen devam ettirmemiz söz konusu değildi. Sistemi çok değiştirdiğimiz konusunda eleştiriliyoruz. Ne aynı kaldı ki, sınavlar aynı kalsın! 1974 yılından beri yediğimizden, içtiğimizden, giyindiğimizden tutun, televizyonlarımızı, otomobillerimizi, eğitim sistemimizi, okullardaki ders kitaplarını düşünün, eğitimin amaçlarını düşünün. Her şey değiştiği için doğal olarak sınav sistemi de değişti.\" diye konuştu. \"28 ŞUBAT ÖĞRENCİLERİ BİLGİ AÇISINDAN YETERSİZLEŞTİRDİ\" Yükseköğretim sınav sisteminde 28 Şubat dönemini içine alan 1998 yılında ciddi bir değişiklik yapıldığın hatırlatan Yarımağan, \"O değişikliğin amacı lise müfredatına dayalı soru sormama biçimindeydi. Sadece, \\'ortak müfredata dayalı sorular soralım, böylece bilgi eksiğini gidermek için daha çok yeteneğe dayalı olsun sınav, bilgi eksiğini gidermek için adaylar dershanelere gitmeye ihtiyaç duymasınlar\\' noktasından hareket edildi. O dönemki yanlışlığı düzeltmek için sınav sisteminin 2006\\'da yeniden değiştirildiğini anımsatan Yarımağan, \"Müfredata dayalı bir sınav yapmaya başladık. Seçmelilere değil, zorunlu alan derslerine yer verdik. Açıkçası biz o günden bugünleri planladık. Yani 2006 yılında tüm değişikliği bir anda yapmak yerine birkaç aşamalı yapmayı düşündük. 2006 yılında sadece içeriği değiştirdik. Tek aşamalı sınavı değiştirmedik. İkinci aşamasını bu yıl gerçekleştiriyoruz. Sınavları yayıyoruz. Bu sefer içeriği değiştirmeden uygulamayı değiştirip, sınavları yayıyoruz.\" dedi. \"BİRKAÇ YIL SONRA YENİ BİR DEĞİŞİKLİK PLANLANIYOR\" Sınavların bu yıl iki aşamalı hale getirilmesi dışında bir üçüncü değişiklik daha yapmayı düşündüklerini anlatan ÖSYM Başkanı Ünal Yarımağan, \"Bir de üçüncü aşama var. Üçüncü aşamada, tabi kesin konuşmak pek mümkün değil ama 3-5 yıl sonra gerçekleştirilebileceğini sanıyorum, o da çoktan seçmeli soruların yanında açık uçlu soruların da sorulması biçiminde. Açık uçlu soruların sorulabileceği bir alt yapı oluşturmayı amaçladık.\" açıklamasında bulundu. Dünya üzerinde tüm ölçme değerlendirme sistemlerini çoktan seçmeli testlerle yapan tek ülkenin Türkiye kaldığını, gelişmiş ülkelerin bunun yanında açık uçlu sorularla da ölçme değerlendirme yaptıklarını dile getiren Yarımağan, \"Çünkü her şeyi çoktan seçmeli sorularla ölçerseniz öğrencilerin belirli yetenekleri gelişmiyor. Öğrenciler belirli yeteneklerini geliştirmek için gayret sarf etmiyor. Bunu gören ABD ve Avrupa ülkeleri çok sayıda adayın girdiği sınavlarda bile açık uçlu sorulara yer vermeye başladı. Biz tam tersini yapıyoruz. Sınav sayısını artırıyoruz. Milli Eğitim Bakanlığı (MEB) sınavları yaydı. Biz sınav sayısını artırdık ama yaymıyoruz. İkisinin arasında bir fark var. MEB sınavları 3 yıla yaydı. Üç yıl üst üste sınav yapıyor. Biz aynı yıl içinde sınav yapıyoruz. En azından öğrencinin sınav stresine üç yıl süreyle girmesini önleyerek, birbirini izleyen sınavlarla iki ay içinde bitirmeye çalışıyoruz.\" şeklinde konuştu. Çoktan seçmeli sınavın sakıncaları nedeniyle açık uçlu soruların da sorulabileceği bir alt yapı oluşturmaya çalıştıkları bilgisini veren ÖSYM Başkanı sözlerini şöyle sürdürdü: \"Alt yapıyı oluşturmak için de aday sayısının azaltılması lazım. 2 milyon kişiye açık uçlu soru sormak çok zor ama biz kabaca 500 bin rakamını amaç aldık. 500 binin altına inince yapabiliriz dedik. Çünkü yapan ülkeler var. İngiltere gibi. Açık uçlu soru dediğimizde şu anda sizlerin sınavlarınızda sorduğunuz gibi tamamen serbest formatta değil. Yine kısa sorular olacak. Neredeyse bugün sorduğumuz sorulara yakın uzunlukta veya onlardan biraz daha uzun. Aradaki tek fark, sorunun altında 5 tane seçenek yok. Adaydan bir yorum yapmasını, bir işlem yapmasını, bir sonuç bulmasını istiyorsunuz. Talimatları da hazırlayıp değerlendirme yapacak öğretmenlere verince bu değerlendirme objektif biçimde yapılabiliyor. Bütün dünyada yapıldığını gördük, bizim de yapabileceğimiz kanaatine vardık.\" Ünal Yarımağan, açık uçlu soruların bu sene iki aşamalı hale getirilen sınavların birinci değil ikincisinde sorulacağını da sözlerine ekledi.',\n",
              " \"Karşılıklı basketlerle giden mücadelede ilk periyodun son dakikalarında özellikle dışarıdan Evren ve Rancik ile isabetli oynayan Galatasaray Cafe Crown 1. çeyreği 7 sayılık farkla 24-17 önde geçti. İkinci periyotta iki takım da savunmada sert oynarken ilk 5 dakikalık bölüm ev sahibi ekibin önde olduğu 5-4'lük seriyle geçildi (29-21). Galatasaray Cafe Crown, bu dakikadan sonra Caner (3), Jasaitis (2) ve Washington (2) ile üst üste bulduğu 7 sayı ile 17. dakikada 36-21 öne geçti. Oyundan düşen ve hücumlarda skor üretemeyen Kepez Belediyesi karşısında Washington ile üst üste sayılar bulan sarı-kırmızılı ekip 18. dakikada 19 sayı farklı (42-23) üstünlüğü yakaladığı mücadelenin ilk yarısını 44-31 üstün tamamladı. İkinci yarıya kötü başlayan rakibi karşısında oyunun kontrolünü elinde tutan, 25. dakikada Murat'ın üçlüğüyle 27 sayı (60-33) öne geçen Galatasaray Cafe Crown, üçüncü periyodu da 69-43 önde kapadı. Son çeyrekte de üstün oyununu sürdüren Galatasaray Cafe Crown, karşılaşmadan 78-64 galip ayrıldı. Salon: Abdi İpekçi Hakemler: Fatih Söylemezoğlu xxx, Zafer Yılmaz xxx, Semih Vural xxx Galatasaray Cafe Crown: Evren xx 11, Can xx 3, Wilkinson xxx 14, Jasaitis xx 9, Rancik xxx 16, Murat xx 5, Washington xxx 16, Caner xx 4, Fatih xx, Polat xx, Hüseyin x Kepez Belediyesi: Mazutis xx 3, Foster xx 11, Ersin xx 4, Levent xx, Buckman xx 4, Mesut x 2, Stanojevic xxx 17, Barış xxx 12, Gökper x 3, Erdem xx 8 1. Periyot: 24-17 Devre: 44-31 3. Periyot: 69-43 Beş Faulle Çıkanlar: 35.34 Levent, 36.55 Ersin (Kepez Belediyesi), 39.56 Rancik (Galatasaray Cafe Crown)\",\n",
              " \"Yenikapı seferini yapan deniz otobüsü, Küçükçekmece açıklarında hareket halindeki gemiyle çarpıştı. Katamaran tekne tipi, 42,9 metre boyunda, 12,4 metre genişliğindeki Mehmet Reis, bugün saat 15.30'da Bandırma'dan hareket etti. İçindeke 350 yolcunun bulunduğu Mehmet Reis, saat 18.00, ticari gemi New Breeze ile karşılaştı. Sol tarafından hasar oluşan İstanbul Deniz Otobüsleri'ne (İDO) ait Mehmet Reis'te iki yolcunun ayakları kırıldı, bir yolcu da kalp krizi geçirdi. Mehmet Reis, içindeki yaralılar ve hasta ile birlikte yoluna devam etti. Mehmet Reis, saat 18.30'da Yenikapı İskelesi'ne yanaştı. Yaralı anne ile kızı ile kalp krizi geçiren yolcu hemen yakındaki hastanelere kaldırıldı. Anne kız tedavilerinden sonra taburcu edildi. İDO Genel Müdürü Ahmet Paksoy, “Mehmet Reis, İstanbul'a yaklaşırken bir yük gemisiyle çarpıştı. Kaptan durumu acil operasyon merkezimize iletti. Hemen acil eylem planına geçtik. Deniz otübüsünde hemen araştırma yapıldı. Hareket ettiği belirlenince yolcuların güvenliği için deniz otobüsünün hızlı bir şekilde seyrini devam etmesi kararı verildi. Tüm yolcular Yenikapı İskelesi'nde hemen tahliye edildi ” dedi. Singapur'da 2007 yılında inşa edilen 449 yolcu kapasiteli Mehmet Reis, 28 Mart 2008’de Orhan Gazi Hızlı Feribotu ve Murat Reis Deniz otobüsü ile beraber hizmete girmişti.\"]"
            ]
          },
          "metadata": {},
          "execution_count": 79
        }
      ]
    },
    {
      "cell_type": "code",
      "source": [
        "predicted_s=[]\n",
        "for ss in a:\n",
        "  print(ss)\n",
        "  predicted_s.append(summarizer.summarize(ss))"
      ],
      "metadata": {
        "colab": {
          "base_uri": "https://localhost:8080/"
        },
        "id": "33rSiATcNAA1",
        "outputId": "ccde4bcd-1bcd-47cb-ee6d-71be410c8436"
      },
      "id": "33rSiATcNAA1",
      "execution_count": 81,
      "outputs": [
        {
          "output_type": "stream",
          "name": "stdout",
          "text": [
            "Erzincan'da dindar vatandaşlara yönelik hukuksuz gözaltılar sebebiyle savcılığın ifadesini almak istemesine rağmen günlerdir ifadeye gitmeyen; bu da yetmezmiş gibi önceki gün de askeri araçları sokağa döken 3. Ordu Komutanı Saldıray Berk'in ilginç bir icraatı tespit edildi. Kara Kuvvetleri Komutanlığına ait özel ve dışarıdan girilemeyen özel bir intranet ağı olan KaraNET'te açıkça siyaset yapıldığı ortaya çıktı. Orgeneral Saldıray Berk komutanlığındaki 3. Ordu Komutanlığının intranet sitesinde, Cumhurbaşkanı Abdullah Gül, Başbakan Recep Tayyip Erdoğan ile Başbakan Yardımcısı Bülent Arınç hakkında ağır ifadeler içeren yazılar yer aldığı tespit edildi. Söz konusu yazılar komutanlık sitesine \"Mutlaka okunması gerekenler\" başlığı altında toplanmış. 3. Ordu Komutanı Saldıray Berk'in talimatıyla hazırlandığı belirtilen sitedeki \"Mutlaka okunması gerekenler\" başlığı altında, Cumhuriyet gazetesi başta olmak üzere ART'de çalışan birçok Ergenekoncunun yazıları yer alıyor. Özellikle Ak Parti ile devlet yöneticileri aleyhinde kaleme alınan yazılarda, Ergenekon terör örgütü sanıkları savunulurken Başbakan Erdoğan ile Bülent Arınç için ağır ifadeler içeren yazılar yer alıyor. KaraNET NEDİR? - Er ve erbaşlara kesinlikle yasak olan Kara Kuvvetleri Komutanlığına ait özel bir intranet sistemidir. -KaraNET hesapları Ankara'dan veya kullanıcı tanımları için delegasyon yapılmış olan birliklerden açılabilir ve o hesaplar da ancak ilgili güvenlik talimatlarını imzalamış subay ve astsubaylara verilir. - KaraNET'e internet üzerinden ulaşmak mümkün değildir. - KaraNET'i yetkisiz kişilerin kullanması 'suç' olarak tanımlanmıştır. En son Nisan 2009'da güncellenen sitenin içeriği Binbaşı Gökhan Narman, tasarımı ise Kıdemli Çavuş Münüp Şevke tarafından hazırlanıyor. İŞTE 3. ORDU KOMUTANLIĞININ MUTLAKA OKUNMALI DEDİĞİ O YAZILAR 29 Mart'ta Hedef Ne Olmalı? (Sönmez Targan) Türkiye, son on yıldır, camilerden yönetiliyor dersek abartma yapmış sayılmayız. 16 Şubat 1969'da işçilerin, gençlerin ve sol güçlerin yoğun katılımıyla başlayan Amerika'nın 6. Filosunu protesto eylemi gerici saldırıların boy hedefi haline gelerek dağıtıldı. İki kişinin ölümü ve yüzlercesinin yaralanmasıyla sonuçlanan bu olaylar siyasal tarihimize \"Kanlı Pazar\" olarak geçerken olayların olduğu saatlerde gerici bir grup Boğaz'a demirlemiş Amerikan 6. Filosu'nu kıble yaparak namaz kılmıştı. Hatta rivayet edilir ki olayların yaşandığı o saatlerde Bülent Arınç, Abdullah Gül ve Recep Tayyip Erdoğan'ın, gemisinde 6. Filo komutanını ziyaret ettikleri söylenir. Ve iddia ediyorum; AKP bu yerel seçimlerde oy oranını bir iki puan daha yükselttiğinde, Türkiye bir daha genel seçimleri de göremeyecektir! Bir Kuvayi Milliyeci (Erol Ertuğrul) Menemen'de Kubilayı kestiler. Sonra Sivas'ta otuz yedi aydını diri diri yaktılar. Sonra ülkemizi kaçak kuran kursları ve imam hatip okulları ile donattılar. Laikliğe karşı eylemlerin odağı olduğu en yüksek mahkeme kararı ile belirlenen bir siyasal partiye ülkemizin ve ulusumuzun yazgısını teslim ettiler. Tarikatlar, cemaatler, gözbebeği yapıldı. Kuvayi milliyeciler, Gericilerden, bölücülerden, sömürgecilerden arındırılmış bir ülkeyi gelecek kuşaklara bırakmak hepimizin borcudur. SİTEDE ERGENEKONCU YAZAR KAYNIYOR 3. Ordu Komutanı Org. Saldıray Berk'in talimatıyla hazırlanan skandal internet sitesinde Ergenekon terör örgütünü öven ve Cumhurbaşkanı ile Başbakan ve hükümete hakaret içeren yüzlerce yazı ve makale yer alıyor. İşte sitede yer alan diğer yazılardan birkaçının yazarı ve başlıkları: Ergenekon Bahanesiyle Türkten İntikam alanlar: Arslan Bulut, Yalan Haber Üretmenin Yolları ve Hedefleri: Erol Manisalı, Gelsin 3'üncü 4'üncü iddianameler: İlhan Selçuk, Tolon neden tutuklandı, açıklayın: Ruhat Mengi, AKP Yol haritası: Orhan Bursalı, Halk bu Mesir Macunu'nu bir kez daha yer mi?: Mustafa Mutlu, F tipi örgüt'ün TSK'ya karşı yürüttüğü savaş devam ediyor: Vural Savaş SALDIRAY BERK İFADEYE GELMİYOR Aralık 2009'da Erzincan'da görevli 3 jandarma istihbaratçı ile 3 MİT personelinin tutuklandığı \"Ergenekon\" soruşturmasını yürüten özel yetkili Erzurum Cumhuriyet Savcısı Osman Şanal, 3. Ordu Komutanı Org. Saldıray Berk'i bilgisine başvurmak üzere Erzurum Adliyesi'ne davet etmişti. Org. Berk'in Erzurum'a gelmemesi durumunda, savcının Erzincan'a giderek görüşmenin burada yapılacağı belirtilmiş ancak Org. Berk buna da yanaşmamıştı. Bilindiği gibi soruşturma kapsamında Erzincan İl Jandarma Alay Komutanı Albay Ali Tapan, Şanal'a ifade vermişti. Daha önce de İl Jandarma İstihbarat Şube Müdürü Binbaşı Nedim E., Müdür Yardımcısı Üsteğmen Ersin E. ve Astsubay Başçavuş Orhan E. ile Erzincan MİT Şube Müdürü Ş.D., MİT mensupları S.B.İ. ve K.Ü. de \"örgüt üyesi olmak\" suçundan tutuklanmıştı. Son olarak ise Eskişehir'e tayini çıkan Erzincan eski Alay Komutanı Recep Öğütçü'nün ifadesine başvuruldu. Bilindiği gibi 3. Ordu Komutanlığı'na bağlı askeri araçlar önceki gün Erzincan'dan Üzümlü'ye kadar gidip geri dönerek gövde gösterisi yapmışlardı.\n",
            "Adalet Bakanlığı, askerlere sivil yargı yolunu açan yasanın iptalinden sonra, aynı değişikliği Anayasa’da yapmak üzere bir kanun teklifi taslağı hazırladı. Vatan gazetesinin haberine göre, değişiklik yürürlüğe girerse Askeri Ceza Kanunu başta olmak üzere birçok kanun da değişecek. Askeri yargıya ilişkin yetki tartışmaları, askerlerin, askeri mahalde işledikleri Anayasal düzene, devletin güvenliğine ve hükümete karşı işledikleri suçlarda sivil yargıya tabi olacaklarını düzenleyen yasa değişikliği ile başlamıştı. Bu yasanın iptal edilmesi ve yürütmenin durdurulması üzerine özellikle darbe ve hükümete yönelik suçlarda yetki konusunda tartışma çıktı. Yürütmenin durdurulması kararında yasanın Anayasa’nın 145. maddesine açıkça aykırı olduğu yönündeki tespit de Anayasa değişikliğini gündeme getirdi. BAKAN ERGİN'E SUNULDU Anayasa değişiklikleri hükümet tasarısı olarak Meclis’e sunulamıyor. Bu tekliflerin milletvekilleri tarafından, Meclis’e sunulması gerekiyor. Buna rağmen Adalet Bakanlığı’nda askerlerin sivil yargıya tabi olmalarını sağlamak amacıyla yapılması düşünülen Anayasa değişikliği ile ilgili bir çalışma yapıldığı ortaya çıktı. Bakanlık uzmanlarının Prof. Dr. Ergun Özbudun’un başkanlığını yaptığı bilim kurulunun hazırladıkları taslak metnin Adalet Bakanı Sadullah Ergin’e sunulduğu öğrenildi. PAKETTE YER ALABİLİR Edinilen bilgiye göre taslakta, Anayasa Mahkemesi’nin askere sivil yargı yolunu açan düzenlemeyi aykırı bulduğu Anayasa’nın 145. maddesinin bütünüyle değişmesi öngörülüyor. Maddenin mevcut halinde, bir suçun askeri yargının görev alanına girip girmediğini tespitte 4 kriter esas alıyor. Buna göre asker kişi, askeri bir suç işlediğinde, askeri mahalde bir veya bir askere karşı suç işlediğinde yetki askeri yargının oluyor. Yeni düzenlemede ise askeri yargının görevi belirlenirken bütün bu kriterler bir yana bırakılarak sadece dar anlamda “askeri suç” olup olmadığına bakılması öngörülüyor. Yani sadece askerlerin işleyeceği, sivillerin işlemesinin mümkün olmadığı suçlar askeri yargının görev alanına girecek. Hükümet bir süre önce referandum sürecini 60 güne indiren teklifi TBMM’ye sunmuştu. Askeri yargının yetkilerini önemli ölçüde tırpanlayan taslağın, referanduma sunulacak olası bir pakette yer alması bekleniyor.\n",
            "Ankara Giyim Sanayicileri Derneği (AGSD) Başkanın Canip Karakuş, her pazar 400 milyon kişinin ziyaret ettiği alışveriş merkezlerini (AVM) pazar günü kapatmanın \"seri cinayet\" olduğunu vurguladı. AGSD Başkanı Karakuş, AVM'leri pazar günü kapalı kalmasına ilişkin önerilere ilişkin yaptığı yazılı açıklamada, alışveriş merkezlerini her yıl yaklaşık 1 milyar kişinin ziyaret ettiğini belirterek, bu ziyaretçilerin 400 milyonunun alışveriş merkezlerine pazar günü geldiğini, AVM'lerin cirolarının yüzde 73,8'inin hafta sonu gerçekleştiğini bildirdi. Karakuş, \"Alışveriş Merkezlerinin pazar günü kapatmak seri cinayettir. Bu uygulama sadece ticaret hayatını değil, kentlerin sosyal hayatına da darbe vurur\" dedi. Bugüne kadar 30 milyar dolarlık yatırım yapılan ve 2010 yılında 27 milyar lira ciro beklenen AVM'lerde bu cironun 22 milyar lirasının hafta sonu, 10 milyar lirasının ise Pazar günü gerçekleşmesinin beklendiğini belirten Karakuş, alışveriş merkezlerinin pazar günü kapatılması halinde perakende sektörünün çökeceğini ileri sürdü. Karakuş, şunları kaydetti: \"Özellikle büyük kentlerde insanlar günlerini AVM'lerde geçiriyor. Bu mekanlarda ailece sinemaya gidiyor, yemeğini yiyor, alışverişini yapıyor. AVM'lerin pazar günü kapanması halinde sadece sektör değil, vatandaşın sosyal hayatı da olumsuz etkilenecek. Ankara, İstanbul gibi büyük kentlerde zaman geçirecek bir mekan bulamayan vatandaşlar bunalıma girer. Kriz ortamında bir yandan alışverişi artırmak için kampanyalar düzenliyoruz, diğer yandan bu tür öneriler ortaya atılıyor. Neye hizmet ediliyor anlamış değilim\" AVM'lerin pazar günü kapalı olmasının, tüketici beklentilerini de karşılamayacağına dikkat çeken Karakuş, tüketicilerin yüzde 42,6'sının pazar günü alışverişe gitmeyi tercih ettiğini, yüzde 73,8'inin ise haftasonu AVM'leri ziyaret etmeyi seçtiğini ifade etti. Karakuş, \"Maliye'nin kayıpları da göz önüne alındığında bu öneri gerçek bir seri cinayettir\" dedi. Karakuş'un verdiği bilgiye göre Türkiye'de 5.6 milyon m2 kiralanabilir alana sahip 238 AVM bulunuyor. AVM'lerin kiranabilir alan miktarının 2010'da 7 milyon m2'ye ulaşması bekleniyor.\n",
            "Gezeteciler.com- SAİD-İ Nursi’nin yazdığı Risale-i Nur’ların anlaşılmasının güç olduğu yolunda açıklamalar yapan Cübbeli Ahmet Hoca’nın sözleri başına dert oldu. Habertürk’te yayınlanan Teke Tek programındaki bu sözlerinin ardından Nurcu çevrelerden yoğun eleştiriler alan Cübbeli Ahmet Hoca, önceki gün çıktığı radyo kanalında geri adım attı. Programda ‘Yanlış aktarımlarından da olsa Üstad’a gönül verenler üzülmüş olabilir. Bu nedenle ben özür diliyorum. Bazı kere insan haddini aşar. Üstad Hazretleri Allah dostlarından, mukaddestir” dedi. İHALEYİ FATİH ALTAYLI'YA BIRAKTI! Ama ilginç olan şu ki Cüppeli ihaleyi Fatih Altaylı'ya bıraktı. Altaylı'nın soru soramadığını, gelen maillerin programı yönlendirdiği, önceden söylenenlerin sorulmadığı vs... Faturayı olduğu gib Altaylı'ya çıkaran Cüppeli bakalım bir daha Teke Tek'e çıkacak mı? İşte Cübbeli Ahmet Hoca’nın sözleri Fatih Altalyı hakkında söyledikleri; O progamda bana sorular önceden verilmedi. Habertürk'teki Fatih Altaylı'nın Teke Tek programı. Ben bir kaç kere rica ettim ama sorular verilmiyor. Kendisi de ne soracağını bilmiyor. Orada mailleri okuyor ve oradan atıyor ortaya bir soru. Programın şekli böyle gidiyor. Hatta reklamlar geçiyor yakanalda, ben arakadaşlara diyordum o reklamları takip edin bakalım ne soracaklar. Orada işte 'kredi kartıyla kurban olur mu?' gibi şeyler söylenmiş. Ama TV de ilan edilen soruların hiçbirini sormadılar. Bu Risale-i Nur meselesi de orada çıktı, birden sordular. İŞTE İNTERNATHABER ARŞİVİNDEN CÜBBELİ'NİN REKOR KIRAN VİDEOLARI... [PAGE] Cübbeli Ahmet Hoca, kendisine ait web sitesinden bu kez de İsviçre'ye minare yasağı için seslendi. Hoca, yasakla ilgili konuşurken öyle sözler etti ki cemaat kendini gülmekten alamadı. İŞTE CÜBBELİ'NİN MİNARE VAAZI: CÜBBELİ CEM YILMAZ'A KARŞI [PAGE] Cübbeli Ahmet Hoca'nın televizyon ve vaaz performansı Cem Yılmaz'ınkini aratmıyor! Hatta Cübbeli Ahmet Hoca ünlü komedyen Cem Yılmaz'ın bazı esprileri kendinden aldığından emin!... \"Benim sözlerimi birebir kullanıyor\" diyor!.. Cübbeli'nin bu sözlerinden yola çıkan Bizden Kaçmaz ekibi Cübbeli ve Cem Yılmaz'ın sözlerinden bir kolaj yapmış... İzleyin siz karar verin! Sizce hangisi daha komik?\n",
            "Benzinliye göre fiyatı 3-5 bin lira arasında farklılık gösteren yeni nesil dizel araç sahiplerinin, temiz yakıt kullanmalarının yanı sıra olası arızalarda, özellikle başta Çin menşeli olmak üzere kalitesiz yan sanayi yerine orijinal yedek parça kullanılmasına dikkat etmeleri gerektiği bildirildi. Çukurova Üniversitesi Mühendislik Mimarlık Fakültesi Makine Mühendisliği Bölüm Başkanı ve Otomotiv Anabilim Dalı Başkanı Prof. Dr. Kadir Aydın, AA muhabirine yaptığı açıklamada, benzinlilere göre yakıtta önemli düzeyde avantaj yaratan dizel araçlara olan talebin dünyada olduğu gibi Türkiye'de de son yıllarda hızla arttığını söyledi. Pazar ve rekabetin artmasının ardından firmaların yaptıkları yatırımlarla artık yeni nesil dizel araç üretimine yöneldiklerini belirten Prof. Dr. Aydın, ''Üretimi yapılan yeni araçlarda 3. nesil püskürtme sistemleri ile yeni nesil turbo üniteler kullanılıyor. Böylece, dizel motorlar güçlendi, egzos emisyonları da benzinli araçlara göre düşürüldü'' dedi. Prof. Dr. Aydın, ''dizel araçların 100 bin kilometreden sonra genelde motorda sorun çıkardıkları'' yönündeki görüşlerin de gerçeği yansıtmadığını, ancak araç sahiplerinin temiz yakıtın yanı sıra olası arızalarda orijinal parça kullanılması, yakıt, yağ ve su seviyeleri konusunda duyarlı olması gerektiğini bildirdi. Bunlara dikkat edilmemesi durumunda aracın 5 bin kilometrede bile arızalanabileceğini anlatan Aydın, şöyle konuştu: ''Yeni nesil dizel araçların motorları oldukça hassas. Bu nedenle kükürt oranı 50 PPM'in altında olan motorin kullanılmalı. Kalitesiz yakıtın kullanılması durumunda motorda en az 4-5 bin lira arasında değişen masraf çıkabilir. Gösterge tablolarındaki tüm uyarılar araç sahipleri tarafından dikkate alınmalı. Hava yapmaması için yakıt kontrolüne azami önem verilmeli. Yakıtı son aşamasına kadar tüketmek yerine uyarı sinyalini görür görmez yakıt alınmalı.'' ÇİN MALINA DİKKAT Aydın, olası arızalarda da yan sanayi yerine orijinal parçaların kullanılması gerektiğini ifade ederek, ''Zaten parçaları pahalı olan araçlarda, özellikle başta Çin menşeli olmak üzere kalitesiz yan sanayi ürünlerinin kullanılması durumunda masraf tahmin edilemeyecek miktarda artabilir'' dedi. Kadir Aydın, temiz yakıt kullanılması, yağına ve suyuna bakılması durumunda bir dizel otomobilin motor ömrünün 300-400 bin kilometre, otobüsün ise 1,5-2 milyon kilometre arasında olabileceğini sözlerine ekledi.\n",
            "İşte böyle bir konuşmanın sonucunda en kaprisli oyuncuların Naz Elmas ve Cansu Dere olduğu ortaya çıkmış. Esin Övet’in haberine göre Naz'ın çıkan yemeği beğenmemesinden tutun da setteki herkese kötü davranması, sevilmemesinin en büyük nedeni. Cansu için çok şey söyleniyor ama tek bir örnek ile her şeyi özetleyebilir: Cansu, \"Sıla\" dizisindeki en mütevazı oyuncu olarak bilinen Mehmet Akif Alakurt ile sevgili rolünü küs olarak oynamayı başaran nadir insanlardan biri. Kısaca, iki güzelin kaprisi dillerde. Diğer bir taraftan Kenan İmirzalıoğlu ile Mehmet Akif Alakurt, en sevilen, en taktir edilen iki isim.\n",
            "Başbakan Yardımcısı ve Devlet Bakanı Bülent Arınç, 'Balyoz' darbe planı haberlerine tepki göstererek, demokrasiye balans ayarı yapılması sözlerini hatırlattı. Arınç, \"Hadi artık oradan, senin dönemin bitti. Yeni Türkiye var diyoruz. Herhalde, birilerinin aklından neler geçirdiğini, şeytanın bile aklına gelmeyecek ne herzeler yediğini görüyorsunuz.\" dedi. Bülent Arınç, Manisa'nın Akhisar ilçesinde düzenlenen AK Parti İl Danışma Meclisi toplantısının açılışında partililere seslendi. \"YUMRUĞU MASAYA VURANLARA...\" Yumruğunu masaya vurarak, yanlış yapanların hesabını yargıda vereceğini ifade eden Arınç, kendilerinin milletin hayrı için doğru bildikleri şeyleri yapacaklarını kaydetti. Kendileri iktidara gelinceye kadarki dönemde millet iradesiyle gelenlerin ayakta duramadıklarını ve 'höt' denince kaçtıklarını ifade eden Başbakan Yardımcısı Arınç, vesayet rejiminin insanları gerici, ilerici diye böldüğünü, kıyafetinden dolayı insanların fişlenir hale getirildiğini hatırlattı. Arınç, artık bu dönemlerin sona erdiğini, iktidarı birilerinin kucağına bırakmayacaklaını söyledi. \"Biz milletten aldığımızı millete iade ederiz. Halkımızla birlikte varız, halkımızla birlikte olacağız.\" diyen Arınç, milletin iradesinin güçlendiğini, cesur ve kararlı bir iktidarın işbaşında olduğunu vurguladı. İstanbul'da yarın akşam 'Euronews' ismiyle bir haber kanalını TRT'nin 11. kanalı olarak hizmete alacaklarını anlatan Arınç, Arapça yayın yapan bir kanalın da yakında hizmete sokulacağını ifade etti. AK Parti Yerel Yönetimlerden Sorumlu Başkan Yardımcısı Hüseyin Tanrıverdi ise yaptığı konuşmada, Tekel işçileriyle ilgili son pürüzlerin ortadan kaldırılması için Başbakan tarafından iki bakanın görevlendirildiğini belirtti. Toplantıya, demokratik açılım paketi damgasını vurdu. Paketle ilgili kitapçık hazırlandığı ve sorulu cevaplı bu kitapçığın önümüzdeki hafta il teşkilatına 2 bin tane gönderileceği öğrenildi. Ayrıca, il teşkilatının kitapçığı, sesli ve görüntülü bir yayına uyarlaması ilgi çekti.\n",
            "Öğrenci Seçme ve Yerleştirme Merkezi (ÖSYM), üniversiteye giriş sınavını yeniden değiştirecek. Birkaç yıl sonra yapılması düşünülen değişiklikle adaylara açık uçlu sorular da sorulacak. Öğrenciler altında 5 tane seçenek yer alan soruların dışında kendi yorumlarını ifade eden soruları da cevaplama imkânı bulacak. ÖSYM Başkanı Prof. Dr. Ünal Yarımağan, ABD ve Avrupa ülkelerinde uygulanan açık uçlu soru sorabilmeleri için 2 milyon civarında olan öğrenci sayısının 500 bine indirilmesi gerektiğini ifade etti. Yükseköğretimle ilgili dünyada ciddi değişiklikler olduğunu, Türkiye'nin ise bunun dışında kalmasının söz konusu olmadığını ifade eden ÖSYM Başkanı, sınav sistemi üzerinde yapılan değişiklikleri eleştirenlere, \"1974'teki sistemi aynen devam ettirmemiz söz konusu değildi. Sistemi çok değiştirdiğimiz konusunda eleştiriliyoruz. Ne aynı kaldı ki, sınavlar aynı kalsın! 1974 yılından beri yediğimizden, içtiğimizden, giyindiğimizden tutun, televizyonlarımızı, otomobillerimizi, eğitim sistemimizi, okullardaki ders kitaplarını düşünün, eğitimin amaçlarını düşünün. Her şey değiştiği için doğal olarak sınav sistemi de değişti.\" diye konuştu. \"28 ŞUBAT ÖĞRENCİLERİ BİLGİ AÇISINDAN YETERSİZLEŞTİRDİ\" Yükseköğretim sınav sisteminde 28 Şubat dönemini içine alan 1998 yılında ciddi bir değişiklik yapıldığın hatırlatan Yarımağan, \"O değişikliğin amacı lise müfredatına dayalı soru sormama biçimindeydi. Sadece, 'ortak müfredata dayalı sorular soralım, böylece bilgi eksiğini gidermek için daha çok yeteneğe dayalı olsun sınav, bilgi eksiğini gidermek için adaylar dershanelere gitmeye ihtiyaç duymasınlar' noktasından hareket edildi. O dönemki yanlışlığı düzeltmek için sınav sisteminin 2006'da yeniden değiştirildiğini anımsatan Yarımağan, \"Müfredata dayalı bir sınav yapmaya başladık. Seçmelilere değil, zorunlu alan derslerine yer verdik. Açıkçası biz o günden bugünleri planladık. Yani 2006 yılında tüm değişikliği bir anda yapmak yerine birkaç aşamalı yapmayı düşündük. 2006 yılında sadece içeriği değiştirdik. Tek aşamalı sınavı değiştirmedik. İkinci aşamasını bu yıl gerçekleştiriyoruz. Sınavları yayıyoruz. Bu sefer içeriği değiştirmeden uygulamayı değiştirip, sınavları yayıyoruz.\" dedi. \"BİRKAÇ YIL SONRA YENİ BİR DEĞİŞİKLİK PLANLANIYOR\" Sınavların bu yıl iki aşamalı hale getirilmesi dışında bir üçüncü değişiklik daha yapmayı düşündüklerini anlatan ÖSYM Başkanı Ünal Yarımağan, \"Bir de üçüncü aşama var. Üçüncü aşamada, tabi kesin konuşmak pek mümkün değil ama 3-5 yıl sonra gerçekleştirilebileceğini sanıyorum, o da çoktan seçmeli soruların yanında açık uçlu soruların da sorulması biçiminde. Açık uçlu soruların sorulabileceği bir alt yapı oluşturmayı amaçladık.\" açıklamasında bulundu. Dünya üzerinde tüm ölçme değerlendirme sistemlerini çoktan seçmeli testlerle yapan tek ülkenin Türkiye kaldığını, gelişmiş ülkelerin bunun yanında açık uçlu sorularla da ölçme değerlendirme yaptıklarını dile getiren Yarımağan, \"Çünkü her şeyi çoktan seçmeli sorularla ölçerseniz öğrencilerin belirli yetenekleri gelişmiyor. Öğrenciler belirli yeteneklerini geliştirmek için gayret sarf etmiyor. Bunu gören ABD ve Avrupa ülkeleri çok sayıda adayın girdiği sınavlarda bile açık uçlu sorulara yer vermeye başladı. Biz tam tersini yapıyoruz. Sınav sayısını artırıyoruz. Milli Eğitim Bakanlığı (MEB) sınavları yaydı. Biz sınav sayısını artırdık ama yaymıyoruz. İkisinin arasında bir fark var. MEB sınavları 3 yıla yaydı. Üç yıl üst üste sınav yapıyor. Biz aynı yıl içinde sınav yapıyoruz. En azından öğrencinin sınav stresine üç yıl süreyle girmesini önleyerek, birbirini izleyen sınavlarla iki ay içinde bitirmeye çalışıyoruz.\" şeklinde konuştu. Çoktan seçmeli sınavın sakıncaları nedeniyle açık uçlu soruların da sorulabileceği bir alt yapı oluşturmaya çalıştıkları bilgisini veren ÖSYM Başkanı sözlerini şöyle sürdürdü: \"Alt yapıyı oluşturmak için de aday sayısının azaltılması lazım. 2 milyon kişiye açık uçlu soru sormak çok zor ama biz kabaca 500 bin rakamını amaç aldık. 500 binin altına inince yapabiliriz dedik. Çünkü yapan ülkeler var. İngiltere gibi. Açık uçlu soru dediğimizde şu anda sizlerin sınavlarınızda sorduğunuz gibi tamamen serbest formatta değil. Yine kısa sorular olacak. Neredeyse bugün sorduğumuz sorulara yakın uzunlukta veya onlardan biraz daha uzun. Aradaki tek fark, sorunun altında 5 tane seçenek yok. Adaydan bir yorum yapmasını, bir işlem yapmasını, bir sonuç bulmasını istiyorsunuz. Talimatları da hazırlayıp değerlendirme yapacak öğretmenlere verince bu değerlendirme objektif biçimde yapılabiliyor. Bütün dünyada yapıldığını gördük, bizim de yapabileceğimiz kanaatine vardık.\" Ünal Yarımağan, açık uçlu soruların bu sene iki aşamalı hale getirilen sınavların birinci değil ikincisinde sorulacağını da sözlerine ekledi.\n",
            "Karşılıklı basketlerle giden mücadelede ilk periyodun son dakikalarında özellikle dışarıdan Evren ve Rancik ile isabetli oynayan Galatasaray Cafe Crown 1. çeyreği 7 sayılık farkla 24-17 önde geçti. İkinci periyotta iki takım da savunmada sert oynarken ilk 5 dakikalık bölüm ev sahibi ekibin önde olduğu 5-4'lük seriyle geçildi (29-21). Galatasaray Cafe Crown, bu dakikadan sonra Caner (3), Jasaitis (2) ve Washington (2) ile üst üste bulduğu 7 sayı ile 17. dakikada 36-21 öne geçti. Oyundan düşen ve hücumlarda skor üretemeyen Kepez Belediyesi karşısında Washington ile üst üste sayılar bulan sarı-kırmızılı ekip 18. dakikada 19 sayı farklı (42-23) üstünlüğü yakaladığı mücadelenin ilk yarısını 44-31 üstün tamamladı. İkinci yarıya kötü başlayan rakibi karşısında oyunun kontrolünü elinde tutan, 25. dakikada Murat'ın üçlüğüyle 27 sayı (60-33) öne geçen Galatasaray Cafe Crown, üçüncü periyodu da 69-43 önde kapadı. Son çeyrekte de üstün oyununu sürdüren Galatasaray Cafe Crown, karşılaşmadan 78-64 galip ayrıldı. Salon: Abdi İpekçi Hakemler: Fatih Söylemezoğlu xxx, Zafer Yılmaz xxx, Semih Vural xxx Galatasaray Cafe Crown: Evren xx 11, Can xx 3, Wilkinson xxx 14, Jasaitis xx 9, Rancik xxx 16, Murat xx 5, Washington xxx 16, Caner xx 4, Fatih xx, Polat xx, Hüseyin x Kepez Belediyesi: Mazutis xx 3, Foster xx 11, Ersin xx 4, Levent xx, Buckman xx 4, Mesut x 2, Stanojevic xxx 17, Barış xxx 12, Gökper x 3, Erdem xx 8 1. Periyot: 24-17 Devre: 44-31 3. Periyot: 69-43 Beş Faulle Çıkanlar: 35.34 Levent, 36.55 Ersin (Kepez Belediyesi), 39.56 Rancik (Galatasaray Cafe Crown)\n",
            "Yenikapı seferini yapan deniz otobüsü, Küçükçekmece açıklarında hareket halindeki gemiyle çarpıştı. Katamaran tekne tipi, 42,9 metre boyunda, 12,4 metre genişliğindeki Mehmet Reis, bugün saat 15.30'da Bandırma'dan hareket etti. İçindeke 350 yolcunun bulunduğu Mehmet Reis, saat 18.00, ticari gemi New Breeze ile karşılaştı. Sol tarafından hasar oluşan İstanbul Deniz Otobüsleri'ne (İDO) ait Mehmet Reis'te iki yolcunun ayakları kırıldı, bir yolcu da kalp krizi geçirdi. Mehmet Reis, içindeki yaralılar ve hasta ile birlikte yoluna devam etti. Mehmet Reis, saat 18.30'da Yenikapı İskelesi'ne yanaştı. Yaralı anne ile kızı ile kalp krizi geçiren yolcu hemen yakındaki hastanelere kaldırıldı. Anne kız tedavilerinden sonra taburcu edildi. İDO Genel Müdürü Ahmet Paksoy, “Mehmet Reis, İstanbul'a yaklaşırken bir yük gemisiyle çarpıştı. Kaptan durumu acil operasyon merkezimize iletti. Hemen acil eylem planına geçtik. Deniz otübüsünde hemen araştırma yapıldı. Hareket ettiği belirlenince yolcuların güvenliği için deniz otobüsünün hızlı bir şekilde seyrini devam etmesi kararı verildi. Tüm yolcular Yenikapı İskelesi'nde hemen tahliye edildi ” dedi. Singapur'da 2007 yılında inşa edilen 449 yolcu kapasiteli Mehmet Reis, 28 Mart 2008’de Orhan Gazi Hızlı Feribotu ve Murat Reis Deniz otobüsü ile beraber hizmete girmişti.\n"
          ]
        }
      ]
    },
    {
      "cell_type": "code",
      "source": [
        "predicted_s"
      ],
      "metadata": {
        "colab": {
          "base_uri": "https://localhost:8080/"
        },
        "id": "A9Gjmm1HNADB",
        "outputId": "b18e7b53-7108-4b9d-a68e-7721504de50b"
      },
      "id": "A9Gjmm1HNADB",
      "execution_count": 82,
      "outputs": [
        {
          "output_type": "execute_result",
          "data": {
            "text/plain": [
              "['Ordu Komutanı Saldıray Berk\\'in ilginç bir icraatı tespit edildi.\\nKara Kuvvetleri Komutanlığına ait özel ve dışarıdan girilemeyen özel bir intranet ağı olan KaraNET\\'te açıkça siyaset yapıldığı ortaya çıktı.\\nOrdu Komutanlığının intranet sitesinde, Cumhurbaşkanı Abdullah Gül, Başbakan Recep Tayyip Erdoğan ile Başbakan Yardımcısı Bülent Arınç hakkında ağır ifadeler içeren yazılar yer aldığı tespit edildi.\\n3. Ordu Komutanı Saldıray Berk\\'in talimatıyla hazırlandığı belirtilen sitedeki \"Mutlaka okunması gerekenler\" başlığı altında, Cumhuriyet gazetesi başta olmak üzere ART\\'de çalışan birçok Ergenekoncunun yazıları yer alıyor.\\n- Er ve erbaşlara kesinlikle yasak olan Kara Kuvvetleri Komutanlığına ait özel bir intranet sistemidir.\\nİki kişinin ölümü ve yüzlercesinin yaralanmasıyla sonuçlanan bu olaylar siyasal tarihimize \"Kanlı Pazar\" olarak geçerken olayların olduğu saatlerde gerici bir grup Boğaz\\'a demirlemiş Amerikan 6.\\nOrdu Komutanı Org. Saldıray Berk\\'in talimatıyla hazırlanan skandal internet sitesinde Ergenekon terör örgütünü öven ve Cumhurbaşkanı ile Başbakan ve hükümete hakaret içeren yüzlerce yazı ve makale yer alıyor.\\nİşte sitede yer alan diğer yazılardan birkaçının yazarı ve başlıkları: Ergenekon Bahanesiyle Türkten İntikam alanlar: Arslan Bulut, Yalan Haber Üretmenin Yolları ve Hedefleri: Erol Manisalı, Gelsin 3\\'üncü 4\\'üncü iddianameler: İlhan Selçuk, Tolon neden tutuklandı, açıklayın: Ruhat Mengi, AKP Yol haritası: Orhan Bursalı, Halk bu Mesir Macunu\\'nu bir kez daha yer mi?: Mustafa Mutlu, F tipi örgüt\\'ün TSK\\'ya karşı yürüttüğü savaş devam ediyor: Vural Savaş SALDIRAY BERK İFADEYE GELMİYOR Aralık 2009\\'da Erzincan\\'da görevli 3 jandarma istihbaratçı ile 3 MİT personelinin tutuklandığı \"Ergenekon\" soruşturmasını yürüten özel yetkili Erzurum Cumhuriyet Savcısı Osman Şanal, 3.',\n",
              " 'Adalet Bakanlığı, askerlere sivil yargı yolunu açan yasanın iptalinden sonra, aynı değişikliği Anayasa’da yapmak üzere bir kanun teklifi taslağı hazırladı.\\nBuna rağmen Adalet Bakanlığı’nda askerlerin sivil yargıya tabi olmalarını sağlamak amacıyla yapılması düşünülen Anayasa değişikliği ile ilgili bir çalışma yapıldığı ortaya çıktı.\\nBuna göre asker kişi, askeri bir suç işlediğinde, askeri mahalde bir veya bir askere karşı suç işlediğinde yetki askeri yargının oluyor.',\n",
              " 'Ankara Giyim Sanayicileri Derneği (AGSD) Başkanın Canip Karakuş, her pazar 400 milyon kişinin ziyaret ettiği alışveriş merkezlerini (AVM) pazar günü kapatmanın \"seri cinayet\" olduğunu vurguladı.\\nAGSD Başkanı Karakuş, AVM\\'leri pazar günü kapalı kalmasına ilişkin önerilere ilişkin yaptığı yazılı açıklamada, alışveriş merkezlerini her yıl yaklaşık 1 milyar kişinin ziyaret ettiğini belirterek, bu ziyaretçilerin 400 milyonunun alışveriş merkezlerine pazar günü geldiğini, AVM\\'lerin cirolarının yüzde 73,8\\'inin hafta sonu gerçekleştiğini bildirdi.',\n",
              " \"Habertürk’te yayınlanan Teke Tek programındaki bu sözlerinin ardından Nurcu çevrelerden yoğun eleştiriler alan Cübbeli Ahmet Hoca, önceki gün çıktığı radyo kanalında geri adım attı.\\nFaturayı olduğu gib Altaylı'ya çıkaran Cüppeli bakalım bir daha Teke Tek'e çıkacak mı?\\nİşte Cübbeli Ahmet Hoca’nın sözleri Fatih Altalyı hakkında söyledikleri; O progamda bana sorular önceden verilmedi.\\nİŞTE CÜBBELİ'NİN MİNARE VAAZI: CÜBBELİ CEM YILMAZ'A KARŞI [PAGE] Cübbeli Ahmet Hoca'nın televizyon ve vaaz performansı Cem Yılmaz'ınkini aratmıyor!\\nHatta Cübbeli Ahmet Hoca ünlü komedyen Cem Yılmaz'ın bazı esprileri kendinden aldığından emin!...\",\n",
              " \"Benzinliye göre fiyatı 3-5 bin lira arasında farklılık gösteren yeni nesil dizel araç sahiplerinin, temiz yakıt kullanmalarının yanı sıra olası arızalarda, özellikle başta Çin menşeli olmak üzere kalitesiz yan sanayi yerine orijinal yedek parça kullanılmasına dikkat etmeleri gerektiği bildirildi.\\nDr. Aydın, ''dizel araçların 100 bin kilometreden sonra genelde motorda sorun çıkardıkları'' yönündeki görüşlerin de gerçeği yansıtmadığını, ancak araç sahiplerinin temiz yakıtın yanı sıra olası arızalarda orijinal parça kullanılması, yakıt, yağ ve su seviyeleri konusunda duyarlı olması gerektiğini bildirdi.\\nYakıtı son aşamasına kadar tüketmek yerine uyarı sinyalini görür görmez yakıt alınmalı.'' ÇİN MALINA DİKKAT Aydın, olası arızalarda da yan sanayi yerine orijinal parçaların kullanılması gerektiğini ifade ederek, ''Zaten parçaları pahalı olan araçlarda, özellikle başta Çin menşeli olmak üzere kalitesiz yan sanayi ürünlerinin kullanılması durumunda masraf tahmin edilemeyecek miktarda artabilir'' dedi.\",\n",
              " 'Diğer bir taraftan Kenan İmirzalıoğlu ile Mehmet Akif Alakurt, en sevilen, en taktir edilen iki isim.',\n",
              " 'Başbakan Yardımcısı ve Devlet Bakanı Bülent Arınç, \\'Balyoz\\' darbe planı haberlerine tepki göstererek, demokrasiye balans ayarı yapılması sözlerini hatırlattı.\\nKendileri iktidara gelinceye kadarki dönemde millet iradesiyle gelenlerin ayakta duramadıklarını ve \\'höt\\' denince kaçtıklarını ifade eden Başbakan Yardımcısı Arınç, vesayet rejiminin insanları gerici, ilerici diye böldüğünü, kıyafetinden dolayı insanların fişlenir hale getirildiğini hatırlattı.\\nHalkımızla birlikte varız, halkımızla birlikte olacağız.\" diyen Arınç, milletin iradesinin güçlendiğini, cesur ve kararlı bir iktidarın işbaşında olduğunu vurguladı.',\n",
              " 'Birkaç yıl sonra yapılması düşünülen değişiklikle adaylara açık uçlu sorular da sorulacak.\\nDr. Ünal Yarımağan, ABD ve Avrupa ülkelerinde uygulanan açık uçlu soru sorabilmeleri için 2 milyon civarında olan öğrenci sayısının 500 bine indirilmesi gerektiğini ifade etti.\\n\"28 ŞUBAT ÖĞRENCİLERİ BİLGİ AÇISINDAN YETERSİZLEŞTİRDİ\" Yükseköğretim sınav sisteminde 28 Şubat dönemini içine alan 1998 yılında ciddi bir değişiklik yapıldığın hatırlatan Yarımağan, \"O değişikliğin amacı lise müfredatına dayalı soru sormama biçimindeydi.\\nO dönemki yanlışlığı düzeltmek için sınav sisteminin 2006\\'da yeniden değiştirildiğini anımsatan Yarımağan, \"Müfredata dayalı bir sınav yapmaya başladık.\\n\"BİRKAÇ YIL SONRA YENİ BİR DEĞİŞİKLİK PLANLANIYOR\" Sınavların bu yıl iki aşamalı hale getirilmesi dışında bir üçüncü değişiklik daha yapmayı düşündüklerini anlatan ÖSYM Başkanı Ünal Yarımağan, \"Bir de üçüncü aşama var.\\nÜçüncü aşamada, tabi kesin konuşmak pek mümkün değil ama 3-5 yıl sonra gerçekleştirilebileceğini sanıyorum, o da çoktan seçmeli soruların yanında açık uçlu soruların da sorulması biçiminde.\\nDünya üzerinde tüm ölçme değerlendirme sistemlerini çoktan seçmeli testlerle yapan tek ülkenin Türkiye kaldığını, gelişmiş ülkelerin bunun yanında açık uçlu sorularla da ölçme değerlendirme yaptıklarını dile getiren Yarımağan, \"Çünkü her şeyi çoktan seçmeli sorularla ölçerseniz öğrencilerin belirli yetenekleri gelişmiyor.\\nÇoktan seçmeli sınavın sakıncaları nedeniyle açık uçlu soruların da sorulabileceği bir alt yapı oluşturmaya çalıştıkları bilgisini veren ÖSYM Başkanı sözlerini şöyle sürdürdü: \"Alt yapıyı oluşturmak için de aday sayısının azaltılması lazım.\\nBütün dünyada yapıldığını gördük, bizim de yapabileceğimiz kanaatine vardık.\" Ünal Yarımağan, açık uçlu soruların bu sene iki aşamalı hale getirilen sınavların birinci değil ikincisinde sorulacağını da sözlerine ekledi.',\n",
              " \"Galatasaray Cafe Crown, bu dakikadan sonra Caner (3), Jasaitis (2) ve Washington (2) ile üst üste bulduğu 7 sayı ile 17.\\ndakikada Murat'ın üçlüğüyle 27 sayı (60-33) öne geçen Galatasaray Cafe Crown, üçüncü periyodu da 69-43 önde kapadı.\",\n",
              " \"Sol tarafından hasar oluşan İstanbul Deniz Otobüsleri'ne (İDO) ait Mehmet Reis'te iki yolcunun ayakları kırıldı, bir yolcu da kalp krizi geçirdi.\\nMehmet Reis, saat 18.30'da Yenikapı İskelesi'ne yanaştı.\\nSingapur'da 2007 yılında inşa edilen 449 yolcu kapasiteli Mehmet Reis, 28 Mart 2008’de Orhan Gazi Hızlı Feribotu ve Murat Reis Deniz otobüsü ile beraber hizmete girmişti.\"]"
            ]
          },
          "metadata": {},
          "execution_count": 82
        }
      ]
    },
    {
      "cell_type": "code",
      "source": [
        "def title_similarity():\n",
        "    for i in range(len(data.sentence)):\n",
        "        title=stopword_remover.drop_stop_words(nltk.word_tokenize(data.loc[i,\"title\"].translate(translator).replace(\"“\",\"\").replace(\"’\",\"\")))\n",
        "        embeddings=giveEmbeddings([data.loc[i,\"sentence\"],data.loc[i,\"title\"]])\n",
        "        similarity=cosine_similarity([embeddings[0].numpy() ], [embeddings[1].numpy()])\n",
        "        data.loc[i,\"result\"]=similarity[0][0]"
      ],
      "metadata": {
        "id": "saYieyMKNAFV"
      },
      "id": "saYieyMKNAFV",
      "execution_count": 84,
      "outputs": []
    },
    {
      "cell_type": "code",
      "source": [
        "toplam=0\n",
        "for f in range(10):\n",
        "  embeddings=giveEmbeddings([basliks[f],predicted_s[f]])\n",
        "  similarity=cosine_similarity([embeddings[0].numpy()], [embeddings[1].numpy()])\n",
        "  print(similarity)     "
      ],
      "metadata": {
        "id": "2OSJ3E-8NAHW"
      },
      "id": "2OSJ3E-8NAHW",
      "execution_count": 92,
      "outputs": []
    },
    {
      "cell_type": "code",
      "source": [
        "toplam/10"
      ],
      "metadata": {
        "colab": {
          "base_uri": "https://localhost:8080/"
        },
        "id": "c5W5GhluOJ2g",
        "outputId": "e851cf28-9ed0-4b91-afb1-1c47946a5d23"
      },
      "id": "c5W5GhluOJ2g",
      "execution_count": 93,
      "outputs": [
        {
          "output_type": "execute_result",
          "data": {
            "text/plain": [
              "array([[0.31325048]], dtype=float32)"
            ]
          },
          "metadata": {},
          "execution_count": 93
        }
      ]
    },
    {
      "cell_type": "code",
      "source": [
        "toplam=0\n",
        "for f in range(10):\n",
        "  embeddings=giveEmbeddings([a[f][\"title\"],predicted_s[f]])\n",
        "  similarity=cosine_similarity([embeddings[0].numpy()], [embeddings[1].numpy()])\n",
        "  toplam+=  similarity  "
      ],
      "metadata": {
        "id": "hOYTI9sqOJ6y"
      },
      "id": "hOYTI9sqOJ6y",
      "execution_count": null,
      "outputs": []
    }
  ],
  "metadata": {
    "kernelspec": {
      "display_name": "Python 3 (ipykernel)",
      "language": "python",
      "name": "python3"
    },
    "language_info": {
      "codemirror_mode": {
        "name": "ipython",
        "version": 3
      },
      "file_extension": ".py",
      "mimetype": "text/x-python",
      "name": "python",
      "nbconvert_exporter": "python",
      "pygments_lexer": "ipython3",
      "version": "3.10.9"
    },
    "colab": {
      "provenance": []
    },
    "gpuClass": "standard",
    "widgets": {
      "application/vnd.jupyter.widget-state+json": {
        "692abc69b7304cbf9541529f0240bb72": {
          "model_module": "@jupyter-widgets/controls",
          "model_name": "HBoxModel",
          "model_module_version": "1.5.0",
          "state": {
            "_dom_classes": [],
            "_model_module": "@jupyter-widgets/controls",
            "_model_module_version": "1.5.0",
            "_model_name": "HBoxModel",
            "_view_count": null,
            "_view_module": "@jupyter-widgets/controls",
            "_view_module_version": "1.5.0",
            "_view_name": "HBoxView",
            "box_style": "",
            "children": [
              "IPY_MODEL_bab2e57c4a8d45e4a24115e3d68d255d",
              "IPY_MODEL_d4889fd8e20e420a95d726adc30d9ccd",
              "IPY_MODEL_df4f7dd23b76450d8e9e20888b701c02"
            ],
            "layout": "IPY_MODEL_f90dbc1f3a234d9bb7ab13f8fa0c2a4e"
          }
        },
        "bab2e57c4a8d45e4a24115e3d68d255d": {
          "model_module": "@jupyter-widgets/controls",
          "model_name": "HTMLModel",
          "model_module_version": "1.5.0",
          "state": {
            "_dom_classes": [],
            "_model_module": "@jupyter-widgets/controls",
            "_model_module_version": "1.5.0",
            "_model_name": "HTMLModel",
            "_view_count": null,
            "_view_module": "@jupyter-widgets/controls",
            "_view_module_version": "1.5.0",
            "_view_name": "HTMLView",
            "description": "",
            "description_tooltip": null,
            "layout": "IPY_MODEL_8ae2e7bf7848492d852dfa48a9ae1265",
            "placeholder": "​",
            "style": "IPY_MODEL_1f7f494f1fd5450284cc32f23c7bec77",
            "value": "Downloading (…)okenizer_config.json: 100%"
          }
        },
        "d4889fd8e20e420a95d726adc30d9ccd": {
          "model_module": "@jupyter-widgets/controls",
          "model_name": "FloatProgressModel",
          "model_module_version": "1.5.0",
          "state": {
            "_dom_classes": [],
            "_model_module": "@jupyter-widgets/controls",
            "_model_module_version": "1.5.0",
            "_model_name": "FloatProgressModel",
            "_view_count": null,
            "_view_module": "@jupyter-widgets/controls",
            "_view_module_version": "1.5.0",
            "_view_name": "ProgressView",
            "bar_style": "success",
            "description": "",
            "description_tooltip": null,
            "layout": "IPY_MODEL_2f1e929eda1541e6a2d16e8b4ac24096",
            "max": 431,
            "min": 0,
            "orientation": "horizontal",
            "style": "IPY_MODEL_b0f24f50e9884c8eb65682471ac28e00",
            "value": 431
          }
        },
        "df4f7dd23b76450d8e9e20888b701c02": {
          "model_module": "@jupyter-widgets/controls",
          "model_name": "HTMLModel",
          "model_module_version": "1.5.0",
          "state": {
            "_dom_classes": [],
            "_model_module": "@jupyter-widgets/controls",
            "_model_module_version": "1.5.0",
            "_model_name": "HTMLModel",
            "_view_count": null,
            "_view_module": "@jupyter-widgets/controls",
            "_view_module_version": "1.5.0",
            "_view_name": "HTMLView",
            "description": "",
            "description_tooltip": null,
            "layout": "IPY_MODEL_086b16e4e66544e9929c0ce73fe2006a",
            "placeholder": "​",
            "style": "IPY_MODEL_db2110daf9bd4fa993535668725b87f3",
            "value": " 431/431 [00:00&lt;00:00, 16.0kB/s]"
          }
        },
        "f90dbc1f3a234d9bb7ab13f8fa0c2a4e": {
          "model_module": "@jupyter-widgets/base",
          "model_name": "LayoutModel",
          "model_module_version": "1.2.0",
          "state": {
            "_model_module": "@jupyter-widgets/base",
            "_model_module_version": "1.2.0",
            "_model_name": "LayoutModel",
            "_view_count": null,
            "_view_module": "@jupyter-widgets/base",
            "_view_module_version": "1.2.0",
            "_view_name": "LayoutView",
            "align_content": null,
            "align_items": null,
            "align_self": null,
            "border": null,
            "bottom": null,
            "display": null,
            "flex": null,
            "flex_flow": null,
            "grid_area": null,
            "grid_auto_columns": null,
            "grid_auto_flow": null,
            "grid_auto_rows": null,
            "grid_column": null,
            "grid_gap": null,
            "grid_row": null,
            "grid_template_areas": null,
            "grid_template_columns": null,
            "grid_template_rows": null,
            "height": null,
            "justify_content": null,
            "justify_items": null,
            "left": null,
            "margin": null,
            "max_height": null,
            "max_width": null,
            "min_height": null,
            "min_width": null,
            "object_fit": null,
            "object_position": null,
            "order": null,
            "overflow": null,
            "overflow_x": null,
            "overflow_y": null,
            "padding": null,
            "right": null,
            "top": null,
            "visibility": null,
            "width": null
          }
        },
        "8ae2e7bf7848492d852dfa48a9ae1265": {
          "model_module": "@jupyter-widgets/base",
          "model_name": "LayoutModel",
          "model_module_version": "1.2.0",
          "state": {
            "_model_module": "@jupyter-widgets/base",
            "_model_module_version": "1.2.0",
            "_model_name": "LayoutModel",
            "_view_count": null,
            "_view_module": "@jupyter-widgets/base",
            "_view_module_version": "1.2.0",
            "_view_name": "LayoutView",
            "align_content": null,
            "align_items": null,
            "align_self": null,
            "border": null,
            "bottom": null,
            "display": null,
            "flex": null,
            "flex_flow": null,
            "grid_area": null,
            "grid_auto_columns": null,
            "grid_auto_flow": null,
            "grid_auto_rows": null,
            "grid_column": null,
            "grid_gap": null,
            "grid_row": null,
            "grid_template_areas": null,
            "grid_template_columns": null,
            "grid_template_rows": null,
            "height": null,
            "justify_content": null,
            "justify_items": null,
            "left": null,
            "margin": null,
            "max_height": null,
            "max_width": null,
            "min_height": null,
            "min_width": null,
            "object_fit": null,
            "object_position": null,
            "order": null,
            "overflow": null,
            "overflow_x": null,
            "overflow_y": null,
            "padding": null,
            "right": null,
            "top": null,
            "visibility": null,
            "width": null
          }
        },
        "1f7f494f1fd5450284cc32f23c7bec77": {
          "model_module": "@jupyter-widgets/controls",
          "model_name": "DescriptionStyleModel",
          "model_module_version": "1.5.0",
          "state": {
            "_model_module": "@jupyter-widgets/controls",
            "_model_module_version": "1.5.0",
            "_model_name": "DescriptionStyleModel",
            "_view_count": null,
            "_view_module": "@jupyter-widgets/base",
            "_view_module_version": "1.2.0",
            "_view_name": "StyleView",
            "description_width": ""
          }
        },
        "2f1e929eda1541e6a2d16e8b4ac24096": {
          "model_module": "@jupyter-widgets/base",
          "model_name": "LayoutModel",
          "model_module_version": "1.2.0",
          "state": {
            "_model_module": "@jupyter-widgets/base",
            "_model_module_version": "1.2.0",
            "_model_name": "LayoutModel",
            "_view_count": null,
            "_view_module": "@jupyter-widgets/base",
            "_view_module_version": "1.2.0",
            "_view_name": "LayoutView",
            "align_content": null,
            "align_items": null,
            "align_self": null,
            "border": null,
            "bottom": null,
            "display": null,
            "flex": null,
            "flex_flow": null,
            "grid_area": null,
            "grid_auto_columns": null,
            "grid_auto_flow": null,
            "grid_auto_rows": null,
            "grid_column": null,
            "grid_gap": null,
            "grid_row": null,
            "grid_template_areas": null,
            "grid_template_columns": null,
            "grid_template_rows": null,
            "height": null,
            "justify_content": null,
            "justify_items": null,
            "left": null,
            "margin": null,
            "max_height": null,
            "max_width": null,
            "min_height": null,
            "min_width": null,
            "object_fit": null,
            "object_position": null,
            "order": null,
            "overflow": null,
            "overflow_x": null,
            "overflow_y": null,
            "padding": null,
            "right": null,
            "top": null,
            "visibility": null,
            "width": null
          }
        },
        "b0f24f50e9884c8eb65682471ac28e00": {
          "model_module": "@jupyter-widgets/controls",
          "model_name": "ProgressStyleModel",
          "model_module_version": "1.5.0",
          "state": {
            "_model_module": "@jupyter-widgets/controls",
            "_model_module_version": "1.5.0",
            "_model_name": "ProgressStyleModel",
            "_view_count": null,
            "_view_module": "@jupyter-widgets/base",
            "_view_module_version": "1.2.0",
            "_view_name": "StyleView",
            "bar_color": null,
            "description_width": ""
          }
        },
        "086b16e4e66544e9929c0ce73fe2006a": {
          "model_module": "@jupyter-widgets/base",
          "model_name": "LayoutModel",
          "model_module_version": "1.2.0",
          "state": {
            "_model_module": "@jupyter-widgets/base",
            "_model_module_version": "1.2.0",
            "_model_name": "LayoutModel",
            "_view_count": null,
            "_view_module": "@jupyter-widgets/base",
            "_view_module_version": "1.2.0",
            "_view_name": "LayoutView",
            "align_content": null,
            "align_items": null,
            "align_self": null,
            "border": null,
            "bottom": null,
            "display": null,
            "flex": null,
            "flex_flow": null,
            "grid_area": null,
            "grid_auto_columns": null,
            "grid_auto_flow": null,
            "grid_auto_rows": null,
            "grid_column": null,
            "grid_gap": null,
            "grid_row": null,
            "grid_template_areas": null,
            "grid_template_columns": null,
            "grid_template_rows": null,
            "height": null,
            "justify_content": null,
            "justify_items": null,
            "left": null,
            "margin": null,
            "max_height": null,
            "max_width": null,
            "min_height": null,
            "min_width": null,
            "object_fit": null,
            "object_position": null,
            "order": null,
            "overflow": null,
            "overflow_x": null,
            "overflow_y": null,
            "padding": null,
            "right": null,
            "top": null,
            "visibility": null,
            "width": null
          }
        },
        "db2110daf9bd4fa993535668725b87f3": {
          "model_module": "@jupyter-widgets/controls",
          "model_name": "DescriptionStyleModel",
          "model_module_version": "1.5.0",
          "state": {
            "_model_module": "@jupyter-widgets/controls",
            "_model_module_version": "1.5.0",
            "_model_name": "DescriptionStyleModel",
            "_view_count": null,
            "_view_module": "@jupyter-widgets/base",
            "_view_module_version": "1.2.0",
            "_view_name": "StyleView",
            "description_width": ""
          }
        },
        "b9cec0b7627b49918bef9cb1ce99455c": {
          "model_module": "@jupyter-widgets/controls",
          "model_name": "HBoxModel",
          "model_module_version": "1.5.0",
          "state": {
            "_dom_classes": [],
            "_model_module": "@jupyter-widgets/controls",
            "_model_module_version": "1.5.0",
            "_model_name": "HBoxModel",
            "_view_count": null,
            "_view_module": "@jupyter-widgets/controls",
            "_view_module_version": "1.5.0",
            "_view_name": "HBoxView",
            "box_style": "",
            "children": [
              "IPY_MODEL_91de30686477424a841801bab783f64d",
              "IPY_MODEL_9c1765cb45fa4c9d9a0ae4ea33aaf340",
              "IPY_MODEL_72fcc47b033047b6b171707689fadd9d"
            ],
            "layout": "IPY_MODEL_c3d8d8edc9024a96b8e41e8892b47015"
          }
        },
        "91de30686477424a841801bab783f64d": {
          "model_module": "@jupyter-widgets/controls",
          "model_name": "HTMLModel",
          "model_module_version": "1.5.0",
          "state": {
            "_dom_classes": [],
            "_model_module": "@jupyter-widgets/controls",
            "_model_module_version": "1.5.0",
            "_model_name": "HTMLModel",
            "_view_count": null,
            "_view_module": "@jupyter-widgets/controls",
            "_view_module_version": "1.5.0",
            "_view_name": "HTMLView",
            "description": "",
            "description_tooltip": null,
            "layout": "IPY_MODEL_f7be94251c464aa38ea1793b0494c8ff",
            "placeholder": "​",
            "style": "IPY_MODEL_c6be391a913f4718a6abe2ddb64e50ab",
            "value": "Downloading (…)solve/main/vocab.txt: 100%"
          }
        },
        "9c1765cb45fa4c9d9a0ae4ea33aaf340": {
          "model_module": "@jupyter-widgets/controls",
          "model_name": "FloatProgressModel",
          "model_module_version": "1.5.0",
          "state": {
            "_dom_classes": [],
            "_model_module": "@jupyter-widgets/controls",
            "_model_module_version": "1.5.0",
            "_model_name": "FloatProgressModel",
            "_view_count": null,
            "_view_module": "@jupyter-widgets/controls",
            "_view_module_version": "1.5.0",
            "_view_name": "ProgressView",
            "bar_style": "success",
            "description": "",
            "description_tooltip": null,
            "layout": "IPY_MODEL_421bde99656140859bf2db09b6d17f90",
            "max": 251003,
            "min": 0,
            "orientation": "horizontal",
            "style": "IPY_MODEL_216e055c67ee4ccb923197ffa9717d35",
            "value": 251003
          }
        },
        "72fcc47b033047b6b171707689fadd9d": {
          "model_module": "@jupyter-widgets/controls",
          "model_name": "HTMLModel",
          "model_module_version": "1.5.0",
          "state": {
            "_dom_classes": [],
            "_model_module": "@jupyter-widgets/controls",
            "_model_module_version": "1.5.0",
            "_model_name": "HTMLModel",
            "_view_count": null,
            "_view_module": "@jupyter-widgets/controls",
            "_view_module_version": "1.5.0",
            "_view_name": "HTMLView",
            "description": "",
            "description_tooltip": null,
            "layout": "IPY_MODEL_f16a0095727c41ef8fa0d664eca30b83",
            "placeholder": "​",
            "style": "IPY_MODEL_d8053a121ed943e3a69bf238ab85cddc",
            "value": " 251k/251k [00:00&lt;00:00, 3.30MB/s]"
          }
        },
        "c3d8d8edc9024a96b8e41e8892b47015": {
          "model_module": "@jupyter-widgets/base",
          "model_name": "LayoutModel",
          "model_module_version": "1.2.0",
          "state": {
            "_model_module": "@jupyter-widgets/base",
            "_model_module_version": "1.2.0",
            "_model_name": "LayoutModel",
            "_view_count": null,
            "_view_module": "@jupyter-widgets/base",
            "_view_module_version": "1.2.0",
            "_view_name": "LayoutView",
            "align_content": null,
            "align_items": null,
            "align_self": null,
            "border": null,
            "bottom": null,
            "display": null,
            "flex": null,
            "flex_flow": null,
            "grid_area": null,
            "grid_auto_columns": null,
            "grid_auto_flow": null,
            "grid_auto_rows": null,
            "grid_column": null,
            "grid_gap": null,
            "grid_row": null,
            "grid_template_areas": null,
            "grid_template_columns": null,
            "grid_template_rows": null,
            "height": null,
            "justify_content": null,
            "justify_items": null,
            "left": null,
            "margin": null,
            "max_height": null,
            "max_width": null,
            "min_height": null,
            "min_width": null,
            "object_fit": null,
            "object_position": null,
            "order": null,
            "overflow": null,
            "overflow_x": null,
            "overflow_y": null,
            "padding": null,
            "right": null,
            "top": null,
            "visibility": null,
            "width": null
          }
        },
        "f7be94251c464aa38ea1793b0494c8ff": {
          "model_module": "@jupyter-widgets/base",
          "model_name": "LayoutModel",
          "model_module_version": "1.2.0",
          "state": {
            "_model_module": "@jupyter-widgets/base",
            "_model_module_version": "1.2.0",
            "_model_name": "LayoutModel",
            "_view_count": null,
            "_view_module": "@jupyter-widgets/base",
            "_view_module_version": "1.2.0",
            "_view_name": "LayoutView",
            "align_content": null,
            "align_items": null,
            "align_self": null,
            "border": null,
            "bottom": null,
            "display": null,
            "flex": null,
            "flex_flow": null,
            "grid_area": null,
            "grid_auto_columns": null,
            "grid_auto_flow": null,
            "grid_auto_rows": null,
            "grid_column": null,
            "grid_gap": null,
            "grid_row": null,
            "grid_template_areas": null,
            "grid_template_columns": null,
            "grid_template_rows": null,
            "height": null,
            "justify_content": null,
            "justify_items": null,
            "left": null,
            "margin": null,
            "max_height": null,
            "max_width": null,
            "min_height": null,
            "min_width": null,
            "object_fit": null,
            "object_position": null,
            "order": null,
            "overflow": null,
            "overflow_x": null,
            "overflow_y": null,
            "padding": null,
            "right": null,
            "top": null,
            "visibility": null,
            "width": null
          }
        },
        "c6be391a913f4718a6abe2ddb64e50ab": {
          "model_module": "@jupyter-widgets/controls",
          "model_name": "DescriptionStyleModel",
          "model_module_version": "1.5.0",
          "state": {
            "_model_module": "@jupyter-widgets/controls",
            "_model_module_version": "1.5.0",
            "_model_name": "DescriptionStyleModel",
            "_view_count": null,
            "_view_module": "@jupyter-widgets/base",
            "_view_module_version": "1.2.0",
            "_view_name": "StyleView",
            "description_width": ""
          }
        },
        "421bde99656140859bf2db09b6d17f90": {
          "model_module": "@jupyter-widgets/base",
          "model_name": "LayoutModel",
          "model_module_version": "1.2.0",
          "state": {
            "_model_module": "@jupyter-widgets/base",
            "_model_module_version": "1.2.0",
            "_model_name": "LayoutModel",
            "_view_count": null,
            "_view_module": "@jupyter-widgets/base",
            "_view_module_version": "1.2.0",
            "_view_name": "LayoutView",
            "align_content": null,
            "align_items": null,
            "align_self": null,
            "border": null,
            "bottom": null,
            "display": null,
            "flex": null,
            "flex_flow": null,
            "grid_area": null,
            "grid_auto_columns": null,
            "grid_auto_flow": null,
            "grid_auto_rows": null,
            "grid_column": null,
            "grid_gap": null,
            "grid_row": null,
            "grid_template_areas": null,
            "grid_template_columns": null,
            "grid_template_rows": null,
            "height": null,
            "justify_content": null,
            "justify_items": null,
            "left": null,
            "margin": null,
            "max_height": null,
            "max_width": null,
            "min_height": null,
            "min_width": null,
            "object_fit": null,
            "object_position": null,
            "order": null,
            "overflow": null,
            "overflow_x": null,
            "overflow_y": null,
            "padding": null,
            "right": null,
            "top": null,
            "visibility": null,
            "width": null
          }
        },
        "216e055c67ee4ccb923197ffa9717d35": {
          "model_module": "@jupyter-widgets/controls",
          "model_name": "ProgressStyleModel",
          "model_module_version": "1.5.0",
          "state": {
            "_model_module": "@jupyter-widgets/controls",
            "_model_module_version": "1.5.0",
            "_model_name": "ProgressStyleModel",
            "_view_count": null,
            "_view_module": "@jupyter-widgets/base",
            "_view_module_version": "1.2.0",
            "_view_name": "StyleView",
            "bar_color": null,
            "description_width": ""
          }
        },
        "f16a0095727c41ef8fa0d664eca30b83": {
          "model_module": "@jupyter-widgets/base",
          "model_name": "LayoutModel",
          "model_module_version": "1.2.0",
          "state": {
            "_model_module": "@jupyter-widgets/base",
            "_model_module_version": "1.2.0",
            "_model_name": "LayoutModel",
            "_view_count": null,
            "_view_module": "@jupyter-widgets/base",
            "_view_module_version": "1.2.0",
            "_view_name": "LayoutView",
            "align_content": null,
            "align_items": null,
            "align_self": null,
            "border": null,
            "bottom": null,
            "display": null,
            "flex": null,
            "flex_flow": null,
            "grid_area": null,
            "grid_auto_columns": null,
            "grid_auto_flow": null,
            "grid_auto_rows": null,
            "grid_column": null,
            "grid_gap": null,
            "grid_row": null,
            "grid_template_areas": null,
            "grid_template_columns": null,
            "grid_template_rows": null,
            "height": null,
            "justify_content": null,
            "justify_items": null,
            "left": null,
            "margin": null,
            "max_height": null,
            "max_width": null,
            "min_height": null,
            "min_width": null,
            "object_fit": null,
            "object_position": null,
            "order": null,
            "overflow": null,
            "overflow_x": null,
            "overflow_y": null,
            "padding": null,
            "right": null,
            "top": null,
            "visibility": null,
            "width": null
          }
        },
        "d8053a121ed943e3a69bf238ab85cddc": {
          "model_module": "@jupyter-widgets/controls",
          "model_name": "DescriptionStyleModel",
          "model_module_version": "1.5.0",
          "state": {
            "_model_module": "@jupyter-widgets/controls",
            "_model_module_version": "1.5.0",
            "_model_name": "DescriptionStyleModel",
            "_view_count": null,
            "_view_module": "@jupyter-widgets/base",
            "_view_module_version": "1.2.0",
            "_view_name": "StyleView",
            "description_width": ""
          }
        },
        "0517165d12da4884a97d6b2279069c4e": {
          "model_module": "@jupyter-widgets/controls",
          "model_name": "HBoxModel",
          "model_module_version": "1.5.0",
          "state": {
            "_dom_classes": [],
            "_model_module": "@jupyter-widgets/controls",
            "_model_module_version": "1.5.0",
            "_model_name": "HBoxModel",
            "_view_count": null,
            "_view_module": "@jupyter-widgets/controls",
            "_view_module_version": "1.5.0",
            "_view_name": "HBoxView",
            "box_style": "",
            "children": [
              "IPY_MODEL_727f6d32c755463cb15381e6b590e7e6",
              "IPY_MODEL_2e7767b62d9e4b418f5c7bb1bce5a7e3",
              "IPY_MODEL_d7edb1dd4e184d7f938eb233722e8f00"
            ],
            "layout": "IPY_MODEL_739a294dade3425d9da57ab8d7a909c1"
          }
        },
        "727f6d32c755463cb15381e6b590e7e6": {
          "model_module": "@jupyter-widgets/controls",
          "model_name": "HTMLModel",
          "model_module_version": "1.5.0",
          "state": {
            "_dom_classes": [],
            "_model_module": "@jupyter-widgets/controls",
            "_model_module_version": "1.5.0",
            "_model_name": "HTMLModel",
            "_view_count": null,
            "_view_module": "@jupyter-widgets/controls",
            "_view_module_version": "1.5.0",
            "_view_name": "HTMLView",
            "description": "",
            "description_tooltip": null,
            "layout": "IPY_MODEL_308f4b9346e047c1aa170a7245621258",
            "placeholder": "​",
            "style": "IPY_MODEL_4e0db2e4733a4f3cb75b38786b220de2",
            "value": "Downloading (…)/main/tokenizer.json: 100%"
          }
        },
        "2e7767b62d9e4b418f5c7bb1bce5a7e3": {
          "model_module": "@jupyter-widgets/controls",
          "model_name": "FloatProgressModel",
          "model_module_version": "1.5.0",
          "state": {
            "_dom_classes": [],
            "_model_module": "@jupyter-widgets/controls",
            "_model_module_version": "1.5.0",
            "_model_name": "FloatProgressModel",
            "_view_count": null,
            "_view_module": "@jupyter-widgets/controls",
            "_view_module_version": "1.5.0",
            "_view_name": "ProgressView",
            "bar_style": "success",
            "description": "",
            "description_tooltip": null,
            "layout": "IPY_MODEL_fa027fbd5d244e51a482167ff40a90c9",
            "max": 497553,
            "min": 0,
            "orientation": "horizontal",
            "style": "IPY_MODEL_b80d167bf71d4472aaa5bbfaaa98e2e3",
            "value": 497553
          }
        },
        "d7edb1dd4e184d7f938eb233722e8f00": {
          "model_module": "@jupyter-widgets/controls",
          "model_name": "HTMLModel",
          "model_module_version": "1.5.0",
          "state": {
            "_dom_classes": [],
            "_model_module": "@jupyter-widgets/controls",
            "_model_module_version": "1.5.0",
            "_model_name": "HTMLModel",
            "_view_count": null,
            "_view_module": "@jupyter-widgets/controls",
            "_view_module_version": "1.5.0",
            "_view_name": "HTMLView",
            "description": "",
            "description_tooltip": null,
            "layout": "IPY_MODEL_685a0a8fe4a846e683f9154c680a9f05",
            "placeholder": "​",
            "style": "IPY_MODEL_a81397ac1f7c4e0094c748621ba4136e",
            "value": " 498k/498k [00:00&lt;00:00, 16.6MB/s]"
          }
        },
        "739a294dade3425d9da57ab8d7a909c1": {
          "model_module": "@jupyter-widgets/base",
          "model_name": "LayoutModel",
          "model_module_version": "1.2.0",
          "state": {
            "_model_module": "@jupyter-widgets/base",
            "_model_module_version": "1.2.0",
            "_model_name": "LayoutModel",
            "_view_count": null,
            "_view_module": "@jupyter-widgets/base",
            "_view_module_version": "1.2.0",
            "_view_name": "LayoutView",
            "align_content": null,
            "align_items": null,
            "align_self": null,
            "border": null,
            "bottom": null,
            "display": null,
            "flex": null,
            "flex_flow": null,
            "grid_area": null,
            "grid_auto_columns": null,
            "grid_auto_flow": null,
            "grid_auto_rows": null,
            "grid_column": null,
            "grid_gap": null,
            "grid_row": null,
            "grid_template_areas": null,
            "grid_template_columns": null,
            "grid_template_rows": null,
            "height": null,
            "justify_content": null,
            "justify_items": null,
            "left": null,
            "margin": null,
            "max_height": null,
            "max_width": null,
            "min_height": null,
            "min_width": null,
            "object_fit": null,
            "object_position": null,
            "order": null,
            "overflow": null,
            "overflow_x": null,
            "overflow_y": null,
            "padding": null,
            "right": null,
            "top": null,
            "visibility": null,
            "width": null
          }
        },
        "308f4b9346e047c1aa170a7245621258": {
          "model_module": "@jupyter-widgets/base",
          "model_name": "LayoutModel",
          "model_module_version": "1.2.0",
          "state": {
            "_model_module": "@jupyter-widgets/base",
            "_model_module_version": "1.2.0",
            "_model_name": "LayoutModel",
            "_view_count": null,
            "_view_module": "@jupyter-widgets/base",
            "_view_module_version": "1.2.0",
            "_view_name": "LayoutView",
            "align_content": null,
            "align_items": null,
            "align_self": null,
            "border": null,
            "bottom": null,
            "display": null,
            "flex": null,
            "flex_flow": null,
            "grid_area": null,
            "grid_auto_columns": null,
            "grid_auto_flow": null,
            "grid_auto_rows": null,
            "grid_column": null,
            "grid_gap": null,
            "grid_row": null,
            "grid_template_areas": null,
            "grid_template_columns": null,
            "grid_template_rows": null,
            "height": null,
            "justify_content": null,
            "justify_items": null,
            "left": null,
            "margin": null,
            "max_height": null,
            "max_width": null,
            "min_height": null,
            "min_width": null,
            "object_fit": null,
            "object_position": null,
            "order": null,
            "overflow": null,
            "overflow_x": null,
            "overflow_y": null,
            "padding": null,
            "right": null,
            "top": null,
            "visibility": null,
            "width": null
          }
        },
        "4e0db2e4733a4f3cb75b38786b220de2": {
          "model_module": "@jupyter-widgets/controls",
          "model_name": "DescriptionStyleModel",
          "model_module_version": "1.5.0",
          "state": {
            "_model_module": "@jupyter-widgets/controls",
            "_model_module_version": "1.5.0",
            "_model_name": "DescriptionStyleModel",
            "_view_count": null,
            "_view_module": "@jupyter-widgets/base",
            "_view_module_version": "1.2.0",
            "_view_name": "StyleView",
            "description_width": ""
          }
        },
        "fa027fbd5d244e51a482167ff40a90c9": {
          "model_module": "@jupyter-widgets/base",
          "model_name": "LayoutModel",
          "model_module_version": "1.2.0",
          "state": {
            "_model_module": "@jupyter-widgets/base",
            "_model_module_version": "1.2.0",
            "_model_name": "LayoutModel",
            "_view_count": null,
            "_view_module": "@jupyter-widgets/base",
            "_view_module_version": "1.2.0",
            "_view_name": "LayoutView",
            "align_content": null,
            "align_items": null,
            "align_self": null,
            "border": null,
            "bottom": null,
            "display": null,
            "flex": null,
            "flex_flow": null,
            "grid_area": null,
            "grid_auto_columns": null,
            "grid_auto_flow": null,
            "grid_auto_rows": null,
            "grid_column": null,
            "grid_gap": null,
            "grid_row": null,
            "grid_template_areas": null,
            "grid_template_columns": null,
            "grid_template_rows": null,
            "height": null,
            "justify_content": null,
            "justify_items": null,
            "left": null,
            "margin": null,
            "max_height": null,
            "max_width": null,
            "min_height": null,
            "min_width": null,
            "object_fit": null,
            "object_position": null,
            "order": null,
            "overflow": null,
            "overflow_x": null,
            "overflow_y": null,
            "padding": null,
            "right": null,
            "top": null,
            "visibility": null,
            "width": null
          }
        },
        "b80d167bf71d4472aaa5bbfaaa98e2e3": {
          "model_module": "@jupyter-widgets/controls",
          "model_name": "ProgressStyleModel",
          "model_module_version": "1.5.0",
          "state": {
            "_model_module": "@jupyter-widgets/controls",
            "_model_module_version": "1.5.0",
            "_model_name": "ProgressStyleModel",
            "_view_count": null,
            "_view_module": "@jupyter-widgets/base",
            "_view_module_version": "1.2.0",
            "_view_name": "StyleView",
            "bar_color": null,
            "description_width": ""
          }
        },
        "685a0a8fe4a846e683f9154c680a9f05": {
          "model_module": "@jupyter-widgets/base",
          "model_name": "LayoutModel",
          "model_module_version": "1.2.0",
          "state": {
            "_model_module": "@jupyter-widgets/base",
            "_model_module_version": "1.2.0",
            "_model_name": "LayoutModel",
            "_view_count": null,
            "_view_module": "@jupyter-widgets/base",
            "_view_module_version": "1.2.0",
            "_view_name": "LayoutView",
            "align_content": null,
            "align_items": null,
            "align_self": null,
            "border": null,
            "bottom": null,
            "display": null,
            "flex": null,
            "flex_flow": null,
            "grid_area": null,
            "grid_auto_columns": null,
            "grid_auto_flow": null,
            "grid_auto_rows": null,
            "grid_column": null,
            "grid_gap": null,
            "grid_row": null,
            "grid_template_areas": null,
            "grid_template_columns": null,
            "grid_template_rows": null,
            "height": null,
            "justify_content": null,
            "justify_items": null,
            "left": null,
            "margin": null,
            "max_height": null,
            "max_width": null,
            "min_height": null,
            "min_width": null,
            "object_fit": null,
            "object_position": null,
            "order": null,
            "overflow": null,
            "overflow_x": null,
            "overflow_y": null,
            "padding": null,
            "right": null,
            "top": null,
            "visibility": null,
            "width": null
          }
        },
        "a81397ac1f7c4e0094c748621ba4136e": {
          "model_module": "@jupyter-widgets/controls",
          "model_name": "DescriptionStyleModel",
          "model_module_version": "1.5.0",
          "state": {
            "_model_module": "@jupyter-widgets/controls",
            "_model_module_version": "1.5.0",
            "_model_name": "DescriptionStyleModel",
            "_view_count": null,
            "_view_module": "@jupyter-widgets/base",
            "_view_module_version": "1.2.0",
            "_view_name": "StyleView",
            "description_width": ""
          }
        },
        "a1ef8108af9c47c4b531066eb87f62f2": {
          "model_module": "@jupyter-widgets/controls",
          "model_name": "HBoxModel",
          "model_module_version": "1.5.0",
          "state": {
            "_dom_classes": [],
            "_model_module": "@jupyter-widgets/controls",
            "_model_module_version": "1.5.0",
            "_model_name": "HBoxModel",
            "_view_count": null,
            "_view_module": "@jupyter-widgets/controls",
            "_view_module_version": "1.5.0",
            "_view_name": "HBoxView",
            "box_style": "",
            "children": [
              "IPY_MODEL_4ca5dafeae3d45c4ab8fe6601b0fe982",
              "IPY_MODEL_5fea31647c5b41f490aca7a404fa77ef",
              "IPY_MODEL_019b954d89e74813866ebecd0df18402"
            ],
            "layout": "IPY_MODEL_c6103e8dacf942f0b4d0dc26d2cf47b1"
          }
        },
        "4ca5dafeae3d45c4ab8fe6601b0fe982": {
          "model_module": "@jupyter-widgets/controls",
          "model_name": "HTMLModel",
          "model_module_version": "1.5.0",
          "state": {
            "_dom_classes": [],
            "_model_module": "@jupyter-widgets/controls",
            "_model_module_version": "1.5.0",
            "_model_name": "HTMLModel",
            "_view_count": null,
            "_view_module": "@jupyter-widgets/controls",
            "_view_module_version": "1.5.0",
            "_view_name": "HTMLView",
            "description": "",
            "description_tooltip": null,
            "layout": "IPY_MODEL_55a538c4dbe64f7ab75169cafb30f65c",
            "placeholder": "​",
            "style": "IPY_MODEL_5d94873262ab4505b24a743722032eb7",
            "value": "Downloading (…)cial_tokens_map.json: 100%"
          }
        },
        "5fea31647c5b41f490aca7a404fa77ef": {
          "model_module": "@jupyter-widgets/controls",
          "model_name": "FloatProgressModel",
          "model_module_version": "1.5.0",
          "state": {
            "_dom_classes": [],
            "_model_module": "@jupyter-widgets/controls",
            "_model_module_version": "1.5.0",
            "_model_name": "FloatProgressModel",
            "_view_count": null,
            "_view_module": "@jupyter-widgets/controls",
            "_view_module_version": "1.5.0",
            "_view_name": "ProgressView",
            "bar_style": "success",
            "description": "",
            "description_tooltip": null,
            "layout": "IPY_MODEL_6998a0ed42034b7fbc3fdfe478c052c8",
            "max": 112,
            "min": 0,
            "orientation": "horizontal",
            "style": "IPY_MODEL_10bf9b3df7354ae4ab7ffde008f7e7c1",
            "value": 112
          }
        },
        "019b954d89e74813866ebecd0df18402": {
          "model_module": "@jupyter-widgets/controls",
          "model_name": "HTMLModel",
          "model_module_version": "1.5.0",
          "state": {
            "_dom_classes": [],
            "_model_module": "@jupyter-widgets/controls",
            "_model_module_version": "1.5.0",
            "_model_name": "HTMLModel",
            "_view_count": null,
            "_view_module": "@jupyter-widgets/controls",
            "_view_module_version": "1.5.0",
            "_view_name": "HTMLView",
            "description": "",
            "description_tooltip": null,
            "layout": "IPY_MODEL_607258e247724f5e98f8c8dd3436d489",
            "placeholder": "​",
            "style": "IPY_MODEL_43cd8f3edb6c498198b2af4a2ab9f7d1",
            "value": " 112/112 [00:00&lt;00:00, 5.29kB/s]"
          }
        },
        "c6103e8dacf942f0b4d0dc26d2cf47b1": {
          "model_module": "@jupyter-widgets/base",
          "model_name": "LayoutModel",
          "model_module_version": "1.2.0",
          "state": {
            "_model_module": "@jupyter-widgets/base",
            "_model_module_version": "1.2.0",
            "_model_name": "LayoutModel",
            "_view_count": null,
            "_view_module": "@jupyter-widgets/base",
            "_view_module_version": "1.2.0",
            "_view_name": "LayoutView",
            "align_content": null,
            "align_items": null,
            "align_self": null,
            "border": null,
            "bottom": null,
            "display": null,
            "flex": null,
            "flex_flow": null,
            "grid_area": null,
            "grid_auto_columns": null,
            "grid_auto_flow": null,
            "grid_auto_rows": null,
            "grid_column": null,
            "grid_gap": null,
            "grid_row": null,
            "grid_template_areas": null,
            "grid_template_columns": null,
            "grid_template_rows": null,
            "height": null,
            "justify_content": null,
            "justify_items": null,
            "left": null,
            "margin": null,
            "max_height": null,
            "max_width": null,
            "min_height": null,
            "min_width": null,
            "object_fit": null,
            "object_position": null,
            "order": null,
            "overflow": null,
            "overflow_x": null,
            "overflow_y": null,
            "padding": null,
            "right": null,
            "top": null,
            "visibility": null,
            "width": null
          }
        },
        "55a538c4dbe64f7ab75169cafb30f65c": {
          "model_module": "@jupyter-widgets/base",
          "model_name": "LayoutModel",
          "model_module_version": "1.2.0",
          "state": {
            "_model_module": "@jupyter-widgets/base",
            "_model_module_version": "1.2.0",
            "_model_name": "LayoutModel",
            "_view_count": null,
            "_view_module": "@jupyter-widgets/base",
            "_view_module_version": "1.2.0",
            "_view_name": "LayoutView",
            "align_content": null,
            "align_items": null,
            "align_self": null,
            "border": null,
            "bottom": null,
            "display": null,
            "flex": null,
            "flex_flow": null,
            "grid_area": null,
            "grid_auto_columns": null,
            "grid_auto_flow": null,
            "grid_auto_rows": null,
            "grid_column": null,
            "grid_gap": null,
            "grid_row": null,
            "grid_template_areas": null,
            "grid_template_columns": null,
            "grid_template_rows": null,
            "height": null,
            "justify_content": null,
            "justify_items": null,
            "left": null,
            "margin": null,
            "max_height": null,
            "max_width": null,
            "min_height": null,
            "min_width": null,
            "object_fit": null,
            "object_position": null,
            "order": null,
            "overflow": null,
            "overflow_x": null,
            "overflow_y": null,
            "padding": null,
            "right": null,
            "top": null,
            "visibility": null,
            "width": null
          }
        },
        "5d94873262ab4505b24a743722032eb7": {
          "model_module": "@jupyter-widgets/controls",
          "model_name": "DescriptionStyleModel",
          "model_module_version": "1.5.0",
          "state": {
            "_model_module": "@jupyter-widgets/controls",
            "_model_module_version": "1.5.0",
            "_model_name": "DescriptionStyleModel",
            "_view_count": null,
            "_view_module": "@jupyter-widgets/base",
            "_view_module_version": "1.2.0",
            "_view_name": "StyleView",
            "description_width": ""
          }
        },
        "6998a0ed42034b7fbc3fdfe478c052c8": {
          "model_module": "@jupyter-widgets/base",
          "model_name": "LayoutModel",
          "model_module_version": "1.2.0",
          "state": {
            "_model_module": "@jupyter-widgets/base",
            "_model_module_version": "1.2.0",
            "_model_name": "LayoutModel",
            "_view_count": null,
            "_view_module": "@jupyter-widgets/base",
            "_view_module_version": "1.2.0",
            "_view_name": "LayoutView",
            "align_content": null,
            "align_items": null,
            "align_self": null,
            "border": null,
            "bottom": null,
            "display": null,
            "flex": null,
            "flex_flow": null,
            "grid_area": null,
            "grid_auto_columns": null,
            "grid_auto_flow": null,
            "grid_auto_rows": null,
            "grid_column": null,
            "grid_gap": null,
            "grid_row": null,
            "grid_template_areas": null,
            "grid_template_columns": null,
            "grid_template_rows": null,
            "height": null,
            "justify_content": null,
            "justify_items": null,
            "left": null,
            "margin": null,
            "max_height": null,
            "max_width": null,
            "min_height": null,
            "min_width": null,
            "object_fit": null,
            "object_position": null,
            "order": null,
            "overflow": null,
            "overflow_x": null,
            "overflow_y": null,
            "padding": null,
            "right": null,
            "top": null,
            "visibility": null,
            "width": null
          }
        },
        "10bf9b3df7354ae4ab7ffde008f7e7c1": {
          "model_module": "@jupyter-widgets/controls",
          "model_name": "ProgressStyleModel",
          "model_module_version": "1.5.0",
          "state": {
            "_model_module": "@jupyter-widgets/controls",
            "_model_module_version": "1.5.0",
            "_model_name": "ProgressStyleModel",
            "_view_count": null,
            "_view_module": "@jupyter-widgets/base",
            "_view_module_version": "1.2.0",
            "_view_name": "StyleView",
            "bar_color": null,
            "description_width": ""
          }
        },
        "607258e247724f5e98f8c8dd3436d489": {
          "model_module": "@jupyter-widgets/base",
          "model_name": "LayoutModel",
          "model_module_version": "1.2.0",
          "state": {
            "_model_module": "@jupyter-widgets/base",
            "_model_module_version": "1.2.0",
            "_model_name": "LayoutModel",
            "_view_count": null,
            "_view_module": "@jupyter-widgets/base",
            "_view_module_version": "1.2.0",
            "_view_name": "LayoutView",
            "align_content": null,
            "align_items": null,
            "align_self": null,
            "border": null,
            "bottom": null,
            "display": null,
            "flex": null,
            "flex_flow": null,
            "grid_area": null,
            "grid_auto_columns": null,
            "grid_auto_flow": null,
            "grid_auto_rows": null,
            "grid_column": null,
            "grid_gap": null,
            "grid_row": null,
            "grid_template_areas": null,
            "grid_template_columns": null,
            "grid_template_rows": null,
            "height": null,
            "justify_content": null,
            "justify_items": null,
            "left": null,
            "margin": null,
            "max_height": null,
            "max_width": null,
            "min_height": null,
            "min_width": null,
            "object_fit": null,
            "object_position": null,
            "order": null,
            "overflow": null,
            "overflow_x": null,
            "overflow_y": null,
            "padding": null,
            "right": null,
            "top": null,
            "visibility": null,
            "width": null
          }
        },
        "43cd8f3edb6c498198b2af4a2ab9f7d1": {
          "model_module": "@jupyter-widgets/controls",
          "model_name": "DescriptionStyleModel",
          "model_module_version": "1.5.0",
          "state": {
            "_model_module": "@jupyter-widgets/controls",
            "_model_module_version": "1.5.0",
            "_model_name": "DescriptionStyleModel",
            "_view_count": null,
            "_view_module": "@jupyter-widgets/base",
            "_view_module_version": "1.2.0",
            "_view_name": "StyleView",
            "description_width": ""
          }
        },
        "ed14dcf7cdee49968dcdafa58577d534": {
          "model_module": "@jupyter-widgets/controls",
          "model_name": "HBoxModel",
          "model_module_version": "1.5.0",
          "state": {
            "_dom_classes": [],
            "_model_module": "@jupyter-widgets/controls",
            "_model_module_version": "1.5.0",
            "_model_name": "HBoxModel",
            "_view_count": null,
            "_view_module": "@jupyter-widgets/controls",
            "_view_module_version": "1.5.0",
            "_view_name": "HBoxView",
            "box_style": "",
            "children": [
              "IPY_MODEL_76ed4966724a42b7a1bf019a3560a553",
              "IPY_MODEL_2166316953a749a4a0607c44c14fbf80",
              "IPY_MODEL_38bfd5c647b84b0f836eb53d777e69b4"
            ],
            "layout": "IPY_MODEL_a992044e1705434db109f0f5fb9ee937"
          }
        },
        "76ed4966724a42b7a1bf019a3560a553": {
          "model_module": "@jupyter-widgets/controls",
          "model_name": "HTMLModel",
          "model_module_version": "1.5.0",
          "state": {
            "_dom_classes": [],
            "_model_module": "@jupyter-widgets/controls",
            "_model_module_version": "1.5.0",
            "_model_name": "HTMLModel",
            "_view_count": null,
            "_view_module": "@jupyter-widgets/controls",
            "_view_module_version": "1.5.0",
            "_view_name": "HTMLView",
            "description": "",
            "description_tooltip": null,
            "layout": "IPY_MODEL_e65caf3e18554e2882c121a1a08dc6d0",
            "placeholder": "​",
            "style": "IPY_MODEL_67387154b1a34b22ace7c5491e8481c1",
            "value": "Downloading (…)lve/main/config.json: 100%"
          }
        },
        "2166316953a749a4a0607c44c14fbf80": {
          "model_module": "@jupyter-widgets/controls",
          "model_name": "FloatProgressModel",
          "model_module_version": "1.5.0",
          "state": {
            "_dom_classes": [],
            "_model_module": "@jupyter-widgets/controls",
            "_model_module_version": "1.5.0",
            "_model_name": "FloatProgressModel",
            "_view_count": null,
            "_view_module": "@jupyter-widgets/controls",
            "_view_module_version": "1.5.0",
            "_view_name": "ProgressView",
            "bar_style": "success",
            "description": "",
            "description_tooltip": null,
            "layout": "IPY_MODEL_fcf64ac75e924f10952b1fe356ae2ae3",
            "max": 693,
            "min": 0,
            "orientation": "horizontal",
            "style": "IPY_MODEL_cc20c76e1364490595e1a06a1b8157f5",
            "value": 693
          }
        },
        "38bfd5c647b84b0f836eb53d777e69b4": {
          "model_module": "@jupyter-widgets/controls",
          "model_name": "HTMLModel",
          "model_module_version": "1.5.0",
          "state": {
            "_dom_classes": [],
            "_model_module": "@jupyter-widgets/controls",
            "_model_module_version": "1.5.0",
            "_model_name": "HTMLModel",
            "_view_count": null,
            "_view_module": "@jupyter-widgets/controls",
            "_view_module_version": "1.5.0",
            "_view_name": "HTMLView",
            "description": "",
            "description_tooltip": null,
            "layout": "IPY_MODEL_ca80503fa8b249449d5efc906778026b",
            "placeholder": "​",
            "style": "IPY_MODEL_078976232fd54b4b9afd7aaa3e3585d7",
            "value": " 693/693 [00:00&lt;00:00, 25.5kB/s]"
          }
        },
        "a992044e1705434db109f0f5fb9ee937": {
          "model_module": "@jupyter-widgets/base",
          "model_name": "LayoutModel",
          "model_module_version": "1.2.0",
          "state": {
            "_model_module": "@jupyter-widgets/base",
            "_model_module_version": "1.2.0",
            "_model_name": "LayoutModel",
            "_view_count": null,
            "_view_module": "@jupyter-widgets/base",
            "_view_module_version": "1.2.0",
            "_view_name": "LayoutView",
            "align_content": null,
            "align_items": null,
            "align_self": null,
            "border": null,
            "bottom": null,
            "display": null,
            "flex": null,
            "flex_flow": null,
            "grid_area": null,
            "grid_auto_columns": null,
            "grid_auto_flow": null,
            "grid_auto_rows": null,
            "grid_column": null,
            "grid_gap": null,
            "grid_row": null,
            "grid_template_areas": null,
            "grid_template_columns": null,
            "grid_template_rows": null,
            "height": null,
            "justify_content": null,
            "justify_items": null,
            "left": null,
            "margin": null,
            "max_height": null,
            "max_width": null,
            "min_height": null,
            "min_width": null,
            "object_fit": null,
            "object_position": null,
            "order": null,
            "overflow": null,
            "overflow_x": null,
            "overflow_y": null,
            "padding": null,
            "right": null,
            "top": null,
            "visibility": null,
            "width": null
          }
        },
        "e65caf3e18554e2882c121a1a08dc6d0": {
          "model_module": "@jupyter-widgets/base",
          "model_name": "LayoutModel",
          "model_module_version": "1.2.0",
          "state": {
            "_model_module": "@jupyter-widgets/base",
            "_model_module_version": "1.2.0",
            "_model_name": "LayoutModel",
            "_view_count": null,
            "_view_module": "@jupyter-widgets/base",
            "_view_module_version": "1.2.0",
            "_view_name": "LayoutView",
            "align_content": null,
            "align_items": null,
            "align_self": null,
            "border": null,
            "bottom": null,
            "display": null,
            "flex": null,
            "flex_flow": null,
            "grid_area": null,
            "grid_auto_columns": null,
            "grid_auto_flow": null,
            "grid_auto_rows": null,
            "grid_column": null,
            "grid_gap": null,
            "grid_row": null,
            "grid_template_areas": null,
            "grid_template_columns": null,
            "grid_template_rows": null,
            "height": null,
            "justify_content": null,
            "justify_items": null,
            "left": null,
            "margin": null,
            "max_height": null,
            "max_width": null,
            "min_height": null,
            "min_width": null,
            "object_fit": null,
            "object_position": null,
            "order": null,
            "overflow": null,
            "overflow_x": null,
            "overflow_y": null,
            "padding": null,
            "right": null,
            "top": null,
            "visibility": null,
            "width": null
          }
        },
        "67387154b1a34b22ace7c5491e8481c1": {
          "model_module": "@jupyter-widgets/controls",
          "model_name": "DescriptionStyleModel",
          "model_module_version": "1.5.0",
          "state": {
            "_model_module": "@jupyter-widgets/controls",
            "_model_module_version": "1.5.0",
            "_model_name": "DescriptionStyleModel",
            "_view_count": null,
            "_view_module": "@jupyter-widgets/base",
            "_view_module_version": "1.2.0",
            "_view_name": "StyleView",
            "description_width": ""
          }
        },
        "fcf64ac75e924f10952b1fe356ae2ae3": {
          "model_module": "@jupyter-widgets/base",
          "model_name": "LayoutModel",
          "model_module_version": "1.2.0",
          "state": {
            "_model_module": "@jupyter-widgets/base",
            "_model_module_version": "1.2.0",
            "_model_name": "LayoutModel",
            "_view_count": null,
            "_view_module": "@jupyter-widgets/base",
            "_view_module_version": "1.2.0",
            "_view_name": "LayoutView",
            "align_content": null,
            "align_items": null,
            "align_self": null,
            "border": null,
            "bottom": null,
            "display": null,
            "flex": null,
            "flex_flow": null,
            "grid_area": null,
            "grid_auto_columns": null,
            "grid_auto_flow": null,
            "grid_auto_rows": null,
            "grid_column": null,
            "grid_gap": null,
            "grid_row": null,
            "grid_template_areas": null,
            "grid_template_columns": null,
            "grid_template_rows": null,
            "height": null,
            "justify_content": null,
            "justify_items": null,
            "left": null,
            "margin": null,
            "max_height": null,
            "max_width": null,
            "min_height": null,
            "min_width": null,
            "object_fit": null,
            "object_position": null,
            "order": null,
            "overflow": null,
            "overflow_x": null,
            "overflow_y": null,
            "padding": null,
            "right": null,
            "top": null,
            "visibility": null,
            "width": null
          }
        },
        "cc20c76e1364490595e1a06a1b8157f5": {
          "model_module": "@jupyter-widgets/controls",
          "model_name": "ProgressStyleModel",
          "model_module_version": "1.5.0",
          "state": {
            "_model_module": "@jupyter-widgets/controls",
            "_model_module_version": "1.5.0",
            "_model_name": "ProgressStyleModel",
            "_view_count": null,
            "_view_module": "@jupyter-widgets/base",
            "_view_module_version": "1.2.0",
            "_view_name": "StyleView",
            "bar_color": null,
            "description_width": ""
          }
        },
        "ca80503fa8b249449d5efc906778026b": {
          "model_module": "@jupyter-widgets/base",
          "model_name": "LayoutModel",
          "model_module_version": "1.2.0",
          "state": {
            "_model_module": "@jupyter-widgets/base",
            "_model_module_version": "1.2.0",
            "_model_name": "LayoutModel",
            "_view_count": null,
            "_view_module": "@jupyter-widgets/base",
            "_view_module_version": "1.2.0",
            "_view_name": "LayoutView",
            "align_content": null,
            "align_items": null,
            "align_self": null,
            "border": null,
            "bottom": null,
            "display": null,
            "flex": null,
            "flex_flow": null,
            "grid_area": null,
            "grid_auto_columns": null,
            "grid_auto_flow": null,
            "grid_auto_rows": null,
            "grid_column": null,
            "grid_gap": null,
            "grid_row": null,
            "grid_template_areas": null,
            "grid_template_columns": null,
            "grid_template_rows": null,
            "height": null,
            "justify_content": null,
            "justify_items": null,
            "left": null,
            "margin": null,
            "max_height": null,
            "max_width": null,
            "min_height": null,
            "min_width": null,
            "object_fit": null,
            "object_position": null,
            "order": null,
            "overflow": null,
            "overflow_x": null,
            "overflow_y": null,
            "padding": null,
            "right": null,
            "top": null,
            "visibility": null,
            "width": null
          }
        },
        "078976232fd54b4b9afd7aaa3e3585d7": {
          "model_module": "@jupyter-widgets/controls",
          "model_name": "DescriptionStyleModel",
          "model_module_version": "1.5.0",
          "state": {
            "_model_module": "@jupyter-widgets/controls",
            "_model_module_version": "1.5.0",
            "_model_name": "DescriptionStyleModel",
            "_view_count": null,
            "_view_module": "@jupyter-widgets/base",
            "_view_module_version": "1.2.0",
            "_view_name": "StyleView",
            "description_width": ""
          }
        },
        "82ad89b26c854f49b910bfa221fe03ea": {
          "model_module": "@jupyter-widgets/controls",
          "model_name": "HBoxModel",
          "model_module_version": "1.5.0",
          "state": {
            "_dom_classes": [],
            "_model_module": "@jupyter-widgets/controls",
            "_model_module_version": "1.5.0",
            "_model_name": "HBoxModel",
            "_view_count": null,
            "_view_module": "@jupyter-widgets/controls",
            "_view_module_version": "1.5.0",
            "_view_name": "HBoxView",
            "box_style": "",
            "children": [
              "IPY_MODEL_970a560472db495a983612fd66344056",
              "IPY_MODEL_fb3b210078ac4dc7a9ea2c813e38d2d0",
              "IPY_MODEL_5239d26843164368924a75dbf2d40291"
            ],
            "layout": "IPY_MODEL_61a6a92facf94b30bd9564be1c771c26"
          }
        },
        "970a560472db495a983612fd66344056": {
          "model_module": "@jupyter-widgets/controls",
          "model_name": "HTMLModel",
          "model_module_version": "1.5.0",
          "state": {
            "_dom_classes": [],
            "_model_module": "@jupyter-widgets/controls",
            "_model_module_version": "1.5.0",
            "_model_name": "HTMLModel",
            "_view_count": null,
            "_view_module": "@jupyter-widgets/controls",
            "_view_module_version": "1.5.0",
            "_view_name": "HTMLView",
            "description": "",
            "description_tooltip": null,
            "layout": "IPY_MODEL_ad55920176bf4f38845be1876229485f",
            "placeholder": "​",
            "style": "IPY_MODEL_91d3c98477e44e008f3bc6108b05f7f6",
            "value": "Downloading pytorch_model.bin: 100%"
          }
        },
        "fb3b210078ac4dc7a9ea2c813e38d2d0": {
          "model_module": "@jupyter-widgets/controls",
          "model_name": "FloatProgressModel",
          "model_module_version": "1.5.0",
          "state": {
            "_dom_classes": [],
            "_model_module": "@jupyter-widgets/controls",
            "_model_module_version": "1.5.0",
            "_model_name": "FloatProgressModel",
            "_view_count": null,
            "_view_module": "@jupyter-widgets/controls",
            "_view_module_version": "1.5.0",
            "_view_name": "ProgressView",
            "bar_style": "success",
            "description": "",
            "description_tooltip": null,
            "layout": "IPY_MODEL_239d574b821d4a638fe08b18710d96e6",
            "max": 442547953,
            "min": 0,
            "orientation": "horizontal",
            "style": "IPY_MODEL_9352d28e84224b14b1779a3fab0cffa1",
            "value": 442547953
          }
        },
        "5239d26843164368924a75dbf2d40291": {
          "model_module": "@jupyter-widgets/controls",
          "model_name": "HTMLModel",
          "model_module_version": "1.5.0",
          "state": {
            "_dom_classes": [],
            "_model_module": "@jupyter-widgets/controls",
            "_model_module_version": "1.5.0",
            "_model_name": "HTMLModel",
            "_view_count": null,
            "_view_module": "@jupyter-widgets/controls",
            "_view_module_version": "1.5.0",
            "_view_name": "HTMLView",
            "description": "",
            "description_tooltip": null,
            "layout": "IPY_MODEL_8e22cc538d2e44d284f22e106b277916",
            "placeholder": "​",
            "style": "IPY_MODEL_491f0c84521c48d9ac217898f030e96f",
            "value": " 443M/443M [00:08&lt;00:00, 71.3MB/s]"
          }
        },
        "61a6a92facf94b30bd9564be1c771c26": {
          "model_module": "@jupyter-widgets/base",
          "model_name": "LayoutModel",
          "model_module_version": "1.2.0",
          "state": {
            "_model_module": "@jupyter-widgets/base",
            "_model_module_version": "1.2.0",
            "_model_name": "LayoutModel",
            "_view_count": null,
            "_view_module": "@jupyter-widgets/base",
            "_view_module_version": "1.2.0",
            "_view_name": "LayoutView",
            "align_content": null,
            "align_items": null,
            "align_self": null,
            "border": null,
            "bottom": null,
            "display": null,
            "flex": null,
            "flex_flow": null,
            "grid_area": null,
            "grid_auto_columns": null,
            "grid_auto_flow": null,
            "grid_auto_rows": null,
            "grid_column": null,
            "grid_gap": null,
            "grid_row": null,
            "grid_template_areas": null,
            "grid_template_columns": null,
            "grid_template_rows": null,
            "height": null,
            "justify_content": null,
            "justify_items": null,
            "left": null,
            "margin": null,
            "max_height": null,
            "max_width": null,
            "min_height": null,
            "min_width": null,
            "object_fit": null,
            "object_position": null,
            "order": null,
            "overflow": null,
            "overflow_x": null,
            "overflow_y": null,
            "padding": null,
            "right": null,
            "top": null,
            "visibility": null,
            "width": null
          }
        },
        "ad55920176bf4f38845be1876229485f": {
          "model_module": "@jupyter-widgets/base",
          "model_name": "LayoutModel",
          "model_module_version": "1.2.0",
          "state": {
            "_model_module": "@jupyter-widgets/base",
            "_model_module_version": "1.2.0",
            "_model_name": "LayoutModel",
            "_view_count": null,
            "_view_module": "@jupyter-widgets/base",
            "_view_module_version": "1.2.0",
            "_view_name": "LayoutView",
            "align_content": null,
            "align_items": null,
            "align_self": null,
            "border": null,
            "bottom": null,
            "display": null,
            "flex": null,
            "flex_flow": null,
            "grid_area": null,
            "grid_auto_columns": null,
            "grid_auto_flow": null,
            "grid_auto_rows": null,
            "grid_column": null,
            "grid_gap": null,
            "grid_row": null,
            "grid_template_areas": null,
            "grid_template_columns": null,
            "grid_template_rows": null,
            "height": null,
            "justify_content": null,
            "justify_items": null,
            "left": null,
            "margin": null,
            "max_height": null,
            "max_width": null,
            "min_height": null,
            "min_width": null,
            "object_fit": null,
            "object_position": null,
            "order": null,
            "overflow": null,
            "overflow_x": null,
            "overflow_y": null,
            "padding": null,
            "right": null,
            "top": null,
            "visibility": null,
            "width": null
          }
        },
        "91d3c98477e44e008f3bc6108b05f7f6": {
          "model_module": "@jupyter-widgets/controls",
          "model_name": "DescriptionStyleModel",
          "model_module_version": "1.5.0",
          "state": {
            "_model_module": "@jupyter-widgets/controls",
            "_model_module_version": "1.5.0",
            "_model_name": "DescriptionStyleModel",
            "_view_count": null,
            "_view_module": "@jupyter-widgets/base",
            "_view_module_version": "1.2.0",
            "_view_name": "StyleView",
            "description_width": ""
          }
        },
        "239d574b821d4a638fe08b18710d96e6": {
          "model_module": "@jupyter-widgets/base",
          "model_name": "LayoutModel",
          "model_module_version": "1.2.0",
          "state": {
            "_model_module": "@jupyter-widgets/base",
            "_model_module_version": "1.2.0",
            "_model_name": "LayoutModel",
            "_view_count": null,
            "_view_module": "@jupyter-widgets/base",
            "_view_module_version": "1.2.0",
            "_view_name": "LayoutView",
            "align_content": null,
            "align_items": null,
            "align_self": null,
            "border": null,
            "bottom": null,
            "display": null,
            "flex": null,
            "flex_flow": null,
            "grid_area": null,
            "grid_auto_columns": null,
            "grid_auto_flow": null,
            "grid_auto_rows": null,
            "grid_column": null,
            "grid_gap": null,
            "grid_row": null,
            "grid_template_areas": null,
            "grid_template_columns": null,
            "grid_template_rows": null,
            "height": null,
            "justify_content": null,
            "justify_items": null,
            "left": null,
            "margin": null,
            "max_height": null,
            "max_width": null,
            "min_height": null,
            "min_width": null,
            "object_fit": null,
            "object_position": null,
            "order": null,
            "overflow": null,
            "overflow_x": null,
            "overflow_y": null,
            "padding": null,
            "right": null,
            "top": null,
            "visibility": null,
            "width": null
          }
        },
        "9352d28e84224b14b1779a3fab0cffa1": {
          "model_module": "@jupyter-widgets/controls",
          "model_name": "ProgressStyleModel",
          "model_module_version": "1.5.0",
          "state": {
            "_model_module": "@jupyter-widgets/controls",
            "_model_module_version": "1.5.0",
            "_model_name": "ProgressStyleModel",
            "_view_count": null,
            "_view_module": "@jupyter-widgets/base",
            "_view_module_version": "1.2.0",
            "_view_name": "StyleView",
            "bar_color": null,
            "description_width": ""
          }
        },
        "8e22cc538d2e44d284f22e106b277916": {
          "model_module": "@jupyter-widgets/base",
          "model_name": "LayoutModel",
          "model_module_version": "1.2.0",
          "state": {
            "_model_module": "@jupyter-widgets/base",
            "_model_module_version": "1.2.0",
            "_model_name": "LayoutModel",
            "_view_count": null,
            "_view_module": "@jupyter-widgets/base",
            "_view_module_version": "1.2.0",
            "_view_name": "LayoutView",
            "align_content": null,
            "align_items": null,
            "align_self": null,
            "border": null,
            "bottom": null,
            "display": null,
            "flex": null,
            "flex_flow": null,
            "grid_area": null,
            "grid_auto_columns": null,
            "grid_auto_flow": null,
            "grid_auto_rows": null,
            "grid_column": null,
            "grid_gap": null,
            "grid_row": null,
            "grid_template_areas": null,
            "grid_template_columns": null,
            "grid_template_rows": null,
            "height": null,
            "justify_content": null,
            "justify_items": null,
            "left": null,
            "margin": null,
            "max_height": null,
            "max_width": null,
            "min_height": null,
            "min_width": null,
            "object_fit": null,
            "object_position": null,
            "order": null,
            "overflow": null,
            "overflow_x": null,
            "overflow_y": null,
            "padding": null,
            "right": null,
            "top": null,
            "visibility": null,
            "width": null
          }
        },
        "491f0c84521c48d9ac217898f030e96f": {
          "model_module": "@jupyter-widgets/controls",
          "model_name": "DescriptionStyleModel",
          "model_module_version": "1.5.0",
          "state": {
            "_model_module": "@jupyter-widgets/controls",
            "_model_module_version": "1.5.0",
            "_model_name": "DescriptionStyleModel",
            "_view_count": null,
            "_view_module": "@jupyter-widgets/base",
            "_view_module_version": "1.2.0",
            "_view_name": "StyleView",
            "description_width": ""
          }
        }
      }
    },
    "accelerator": "GPU"
  },
  "nbformat": 4,
  "nbformat_minor": 5
}