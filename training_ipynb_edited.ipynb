{
  "cells": [
    {
      "cell_type": "code",
      "source": [
        "!pip install zeyrek"
      ],
      "metadata": {
        "id": "__mZqZtFA2WA",
        "colab": {
          "base_uri": "https://localhost:8080/"
        },
        "outputId": "64cc5118-c27d-47f0-9b85-1f867d1d7e99"
      },
      "id": "__mZqZtFA2WA",
      "execution_count": 96,
      "outputs": [
        {
          "output_type": "stream",
          "name": "stdout",
          "text": [
            "Looking in indexes: https://pypi.org/simple, https://us-python.pkg.dev/colab-wheels/public/simple/\n",
            "Collecting zeyrek\n",
            "  Downloading zeyrek-0.1.3-py2.py3-none-any.whl (930 kB)\n",
            "\u001b[2K     \u001b[90m━━━━━━━━━━━━━━━━━━━━━━━━━━━━━━━━━━━━━━\u001b[0m \u001b[32m931.0/931.0 kB\u001b[0m \u001b[31m19.2 MB/s\u001b[0m eta \u001b[36m0:00:00\u001b[0m\n",
            "\u001b[?25hRequirement already satisfied: nltk>=3 in /usr/local/lib/python3.10/dist-packages (from zeyrek) (3.8.1)\n",
            "Requirement already satisfied: click in /usr/local/lib/python3.10/dist-packages (from nltk>=3->zeyrek) (8.1.3)\n",
            "Requirement already satisfied: regex>=2021.8.3 in /usr/local/lib/python3.10/dist-packages (from nltk>=3->zeyrek) (2022.10.31)\n",
            "Requirement already satisfied: tqdm in /usr/local/lib/python3.10/dist-packages (from nltk>=3->zeyrek) (4.65.0)\n",
            "Requirement already satisfied: joblib in /usr/local/lib/python3.10/dist-packages (from nltk>=3->zeyrek) (1.2.0)\n",
            "Installing collected packages: zeyrek\n",
            "Successfully installed zeyrek-0.1.3\n"
          ]
        }
      ]
    },
    {
      "cell_type": "code",
      "source": [
        "pip install -U sentence-transformers"
      ],
      "metadata": {
        "id": "iP189ONTCiGL",
        "colab": {
          "base_uri": "https://localhost:8080/"
        },
        "outputId": "7d86c0d8-7f0a-418a-ffc4-af1cd9c40ce8"
      },
      "id": "iP189ONTCiGL",
      "execution_count": 88,
      "outputs": [
        {
          "output_type": "stream",
          "name": "stdout",
          "text": [
            "Looking in indexes: https://pypi.org/simple, https://us-python.pkg.dev/colab-wheels/public/simple/\n",
            "Collecting sentence-transformers\n",
            "  Downloading sentence-transformers-2.2.2.tar.gz (85 kB)\n",
            "\u001b[2K     \u001b[90m━━━━━━━━━━━━━━━━━━━━━━━━━━━━━━━━━━━━━━━━\u001b[0m \u001b[32m86.0/86.0 kB\u001b[0m \u001b[31m4.6 MB/s\u001b[0m eta \u001b[36m0:00:00\u001b[0m\n",
            "\u001b[?25h  Preparing metadata (setup.py) ... \u001b[?25l\u001b[?25hdone\n",
            "Collecting transformers<5.0.0,>=4.6.0\n",
            "  Downloading transformers-4.28.1-py3-none-any.whl (7.0 MB)\n",
            "\u001b[2K     \u001b[90m━━━━━━━━━━━━━━━━━━━━━━━━━━━━━━━━━━━━━━━━\u001b[0m \u001b[32m7.0/7.0 MB\u001b[0m \u001b[31m59.3 MB/s\u001b[0m eta \u001b[36m0:00:00\u001b[0m\n",
            "\u001b[?25hRequirement already satisfied: tqdm in /usr/local/lib/python3.10/dist-packages (from sentence-transformers) (4.65.0)\n",
            "Requirement already satisfied: torch>=1.6.0 in /usr/local/lib/python3.10/dist-packages (from sentence-transformers) (2.0.0+cu118)\n",
            "Requirement already satisfied: torchvision in /usr/local/lib/python3.10/dist-packages (from sentence-transformers) (0.15.1+cu118)\n",
            "Requirement already satisfied: numpy in /usr/local/lib/python3.10/dist-packages (from sentence-transformers) (1.22.4)\n",
            "Requirement already satisfied: scikit-learn in /usr/local/lib/python3.10/dist-packages (from sentence-transformers) (1.2.2)\n",
            "Requirement already satisfied: scipy in /usr/local/lib/python3.10/dist-packages (from sentence-transformers) (1.10.1)\n",
            "Requirement already satisfied: nltk in /usr/local/lib/python3.10/dist-packages (from sentence-transformers) (3.8.1)\n",
            "Requirement already satisfied: sentencepiece in /usr/local/lib/python3.10/dist-packages (from sentence-transformers) (0.1.99)\n",
            "Collecting huggingface-hub>=0.4.0\n",
            "  Downloading huggingface_hub-0.14.1-py3-none-any.whl (224 kB)\n",
            "\u001b[2K     \u001b[90m━━━━━━━━━━━━━━━━━━━━━━━━━━━━━━━━━━━━━━\u001b[0m \u001b[32m224.5/224.5 kB\u001b[0m \u001b[31m23.3 MB/s\u001b[0m eta \u001b[36m0:00:00\u001b[0m\n",
            "\u001b[?25hRequirement already satisfied: requests in /usr/local/lib/python3.10/dist-packages (from huggingface-hub>=0.4.0->sentence-transformers) (2.27.1)\n",
            "Requirement already satisfied: packaging>=20.9 in /usr/local/lib/python3.10/dist-packages (from huggingface-hub>=0.4.0->sentence-transformers) (23.1)\n",
            "Requirement already satisfied: typing-extensions>=3.7.4.3 in /usr/local/lib/python3.10/dist-packages (from huggingface-hub>=0.4.0->sentence-transformers) (4.5.0)\n",
            "Requirement already satisfied: filelock in /usr/local/lib/python3.10/dist-packages (from huggingface-hub>=0.4.0->sentence-transformers) (3.12.0)\n",
            "Requirement already satisfied: pyyaml>=5.1 in /usr/local/lib/python3.10/dist-packages (from huggingface-hub>=0.4.0->sentence-transformers) (6.0)\n",
            "Requirement already satisfied: fsspec in /usr/local/lib/python3.10/dist-packages (from huggingface-hub>=0.4.0->sentence-transformers) (2023.4.0)\n",
            "Requirement already satisfied: sympy in /usr/local/lib/python3.10/dist-packages (from torch>=1.6.0->sentence-transformers) (1.11.1)\n",
            "Requirement already satisfied: triton==2.0.0 in /usr/local/lib/python3.10/dist-packages (from torch>=1.6.0->sentence-transformers) (2.0.0)\n",
            "Requirement already satisfied: jinja2 in /usr/local/lib/python3.10/dist-packages (from torch>=1.6.0->sentence-transformers) (3.1.2)\n",
            "Requirement already satisfied: networkx in /usr/local/lib/python3.10/dist-packages (from torch>=1.6.0->sentence-transformers) (3.1)\n",
            "Requirement already satisfied: lit in /usr/local/lib/python3.10/dist-packages (from triton==2.0.0->torch>=1.6.0->sentence-transformers) (16.0.2)\n",
            "Requirement already satisfied: cmake in /usr/local/lib/python3.10/dist-packages (from triton==2.0.0->torch>=1.6.0->sentence-transformers) (3.25.2)\n",
            "Requirement already satisfied: regex!=2019.12.17 in /usr/local/lib/python3.10/dist-packages (from transformers<5.0.0,>=4.6.0->sentence-transformers) (2022.10.31)\n",
            "Collecting tokenizers!=0.11.3,<0.14,>=0.11.1\n",
            "  Downloading tokenizers-0.13.3-cp310-cp310-manylinux_2_17_x86_64.manylinux2014_x86_64.whl (7.8 MB)\n",
            "\u001b[2K     \u001b[90m━━━━━━━━━━━━━━━━━━━━━━━━━━━━━━━━━━━━━━━━\u001b[0m \u001b[32m7.8/7.8 MB\u001b[0m \u001b[31m76.3 MB/s\u001b[0m eta \u001b[36m0:00:00\u001b[0m\n",
            "\u001b[?25hRequirement already satisfied: click in /usr/local/lib/python3.10/dist-packages (from nltk->sentence-transformers) (8.1.3)\n",
            "Requirement already satisfied: joblib in /usr/local/lib/python3.10/dist-packages (from nltk->sentence-transformers) (1.2.0)\n",
            "Requirement already satisfied: threadpoolctl>=2.0.0 in /usr/local/lib/python3.10/dist-packages (from scikit-learn->sentence-transformers) (3.1.0)\n",
            "Requirement already satisfied: pillow!=8.3.*,>=5.3.0 in /usr/local/lib/python3.10/dist-packages (from torchvision->sentence-transformers) (8.4.0)\n",
            "Requirement already satisfied: MarkupSafe>=2.0 in /usr/local/lib/python3.10/dist-packages (from jinja2->torch>=1.6.0->sentence-transformers) (2.1.2)\n",
            "Requirement already satisfied: idna<4,>=2.5 in /usr/local/lib/python3.10/dist-packages (from requests->huggingface-hub>=0.4.0->sentence-transformers) (3.4)\n",
            "Requirement already satisfied: urllib3<1.27,>=1.21.1 in /usr/local/lib/python3.10/dist-packages (from requests->huggingface-hub>=0.4.0->sentence-transformers) (1.26.15)\n",
            "Requirement already satisfied: certifi>=2017.4.17 in /usr/local/lib/python3.10/dist-packages (from requests->huggingface-hub>=0.4.0->sentence-transformers) (2022.12.7)\n",
            "Requirement already satisfied: charset-normalizer~=2.0.0 in /usr/local/lib/python3.10/dist-packages (from requests->huggingface-hub>=0.4.0->sentence-transformers) (2.0.12)\n",
            "Requirement already satisfied: mpmath>=0.19 in /usr/local/lib/python3.10/dist-packages (from sympy->torch>=1.6.0->sentence-transformers) (1.3.0)\n",
            "Building wheels for collected packages: sentence-transformers\n",
            "  Building wheel for sentence-transformers (setup.py) ... \u001b[?25l\u001b[?25hdone\n",
            "  Created wheel for sentence-transformers: filename=sentence_transformers-2.2.2-py3-none-any.whl size=125942 sha256=3c689fe7ef0b35328f2a267ff06d3413fa490820a189e35a4c8cabaa2b7f01b9\n",
            "  Stored in directory: /root/.cache/pip/wheels/62/f2/10/1e606fd5f02395388f74e7462910fe851042f97238cbbd902f\n",
            "Successfully built sentence-transformers\n",
            "Installing collected packages: tokenizers, huggingface-hub, transformers, sentence-transformers\n",
            "Successfully installed huggingface-hub-0.14.1 sentence-transformers-2.2.2 tokenizers-0.13.3 transformers-4.28.1\n"
          ]
        }
      ]
    },
    {
      "cell_type": "code",
      "source": [
        "pip install JPype1"
      ],
      "metadata": {
        "colab": {
          "base_uri": "https://localhost:8080/"
        },
        "id": "3OSvI3LJFFUj",
        "outputId": "378f7302-d860-4a29-f0cc-7f0be83b105c"
      },
      "id": "3OSvI3LJFFUj",
      "execution_count": 87,
      "outputs": [
        {
          "output_type": "stream",
          "name": "stdout",
          "text": [
            "Looking in indexes: https://pypi.org/simple, https://us-python.pkg.dev/colab-wheels/public/simple/\n",
            "Collecting JPype1\n",
            "  Downloading JPype1-1.4.1-cp310-cp310-manylinux_2_12_x86_64.manylinux2010_x86_64.whl (465 kB)\n",
            "\u001b[2K     \u001b[90m━━━━━━━━━━━━━━━━━━━━━━━━━━━━━━━━━━━━━━━\u001b[0m \u001b[32m465.3/465.3 kB\u001b[0m \u001b[31m9.5 MB/s\u001b[0m eta \u001b[36m0:00:00\u001b[0m\n",
            "\u001b[?25hRequirement already satisfied: packaging in /usr/local/lib/python3.10/dist-packages (from JPype1) (23.1)\n",
            "Installing collected packages: JPype1\n",
            "Successfully installed JPype1-1.4.1\n"
          ]
        }
      ]
    },
    {
      "cell_type": "code",
      "execution_count": 97,
      "id": "8d63433f",
      "metadata": {
        "id": "8d63433f"
      },
      "outputs": [],
      "source": [
        "import pandas as pd\n",
        "import numpy as np\n",
        "import zeyrek\n",
        "import nltk##lemmatization için lazım \n",
        "from jpype import JClass, getDefaultJVMPath, shutdownJVM, startJVM, JString\n",
        "from nltk.corpus import stopwords\n",
        "from nltk.tokenize import sent_tokenize\n",
        "from sklearn.feature_extraction.text import TfidfVectorizer\n",
        "import string\n",
        "from sklearn.ensemble import RandomForestRegressor\n",
        "import re\n",
        "from transformers import AutoTokenizer, AutoModel\n",
        "import torch\n",
        "from sentence_transformers import SentenceTransformer\n",
        "from vnlp import DependencyParser,PoSTagger,StopwordRemover, StemmerAnalyzer\n",
        "#from sentence_transformers import SentenceTransformer\n",
        "from sklearn.metrics.pairwise import cosine_similarity\n",
        "#from transformers import AutoTokenizer, AutoModel\n",
        "#import torch\n",
        "#from vnlp import DependencyParser,PoSTagger,StopwordRemover, StemmerAnalyzer"
      ]
    },
    {
      "cell_type": "code",
      "execution_count": null,
      "id": "6d8bb882",
      "metadata": {
        "id": "6d8bb882"
      },
      "outputs": [],
      "source": [
        "df1 = pd.read_csv(\"./data_result_added_mine\", sep='\\t')\n",
        "df2 = pd.read_csv(\"./data_result_added\", sep='\\t')\n",
        "frames = [df1, df2]\n",
        "data = pd.concat(frames,ignore_index=True)\n"
      ]
    },
    {
      "cell_type": "code",
      "execution_count": null,
      "id": "1bd66274",
      "metadata": {
        "id": "1bd66274"
      },
      "outputs": [],
      "source": [
        "from vnlp import DependencyParser,PoSTagger,StopwordRemover, StemmerAnalyzer"
      ]
    },
    {
      "cell_type": "code",
      "execution_count": 98,
      "id": "e84762de",
      "metadata": {
        "id": "e84762de",
        "colab": {
          "base_uri": "https://localhost:8080/"
        },
        "outputId": "2c1d91f7-e2ba-4d75-f5b2-42d82b5efd42"
      },
      "outputs": [
        {
          "output_type": "stream",
          "name": "stderr",
          "text": [
            "[nltk_data] Downloading package punkt to /root/nltk_data...\n",
            "[nltk_data]   Unzipping tokenizers/punkt.zip.\n"
          ]
        }
      ],
      "source": [
        "translator = str.maketrans('', '', string.punctuation)\n",
        "nltk.download('punkt')\n",
        "stopword_remover = StopwordRemover()\n",
        "analyzer = zeyrek.MorphAnalyzer()"
      ]
    },
    {
      "cell_type": "code",
      "source": [
        "def mean_pooling(model_output, attention_mask):\n",
        "    token_embeddings = model_output[0] #First element of model_output contains all token embeddings\n",
        "    input_mask_expanded = attention_mask.unsqueeze(-1).expand(token_embeddings.size()).float()\n",
        "    return torch.sum(token_embeddings * input_mask_expanded, 1) / torch.clamp(input_mask_expanded.sum(1), min=1e-9)\n",
        "\n",
        "tokenizer = AutoTokenizer.from_pretrained('emrecan/bert-base-turkish-cased-mean-nli-stsb-tr')\n",
        "model = AutoModel.from_pretrained('emrecan/bert-base-turkish-cased-mean-nli-stsb-tr')\n",
        "def giveEmbeddings(sentences):\n",
        "  encoded_input = tokenizer(sentences, padding=True, truncation=True, return_tensors='pt')\n",
        "  with torch.no_grad():\n",
        "      model_output = model(**encoded_input)\n",
        "  sentence_embeddings = mean_pooling(model_output, encoded_input['attention_mask'])\n",
        "  return sentence_embeddings\n"
      ],
      "metadata": {
        "colab": {
          "base_uri": "https://localhost:8080/",
          "height": 209,
          "referenced_widgets": [
            "8af8c3c4285b4457bce0767c20109a92",
            "7fc0feb3e0224fa2b3c3946fe3696c67",
            "61616abb5f1d42c88211297baab1ef6c",
            "f62912a763744837abd891c75dc9fc66",
            "db688d55d4ce401abdb7534aba093218",
            "4bd79ec5f6a441fb82f81befa379eb78",
            "79bde942d11b4cb586476924b30e296f",
            "20829a7484cc42f4bc2186616a9adb7e",
            "cc045d918cad4cd79829a5c54bd6c4b1",
            "0dbaf666758a44d7aa5576b7804dd2b4",
            "71e3fa7c4bd646bd87c361ce81bacd80",
            "f11888a7930b49fa98cbea09c0473596",
            "6d7069ce9d854a21a2d7fb00039dcf26",
            "b945e0f0161c40b0b7924b9732f4e3b9",
            "450cc5388b954f138eb993db33fb937f",
            "f6f496c78ef6434ebdfdf41298db4a30",
            "9a375dd2b3d74092a45a148f24bed8cc",
            "a069b66e843f4f699b9e73b3e257f69e",
            "1cfa2b8e60f941bf89a3c313996ac930",
            "cd59c8f7d11c4446aa3b8f618357635b",
            "4d01c7a4256347a5b8796c0a8414be13",
            "75bdb04326a841ad99767e56a8493f41",
            "299c4572d50e4c3c9f3932ef4a2b9ad8",
            "754fd5bbdc7548d3a695ad96703b90df",
            "53647f2f15404e099682e6f173ae64d3",
            "97a8e8be96074891bc8eafd445bb6208",
            "e536be6dd60c45ed84993832735d78c1",
            "9a980ff79a1f4026a82bc9a3e682cfe7",
            "9c8caaf09e174ffaaeafb157346ac16f",
            "06b92ac0be774144906b827dc9e42a80",
            "9cd3dfc33f09465eb55501641862882a",
            "38bab171b6f546f2a906abdee93712b9",
            "0a2c106d43eb4b40be906080a67187a6",
            "0d6acc6cc81b43cbb60f3f14948cb100",
            "edf1fdafe41445988fceff0a621d0e6a",
            "5fc78bc6f6914e6b9afdbb7f435eadf5",
            "44c15eb4c02c4bb28c743b7882fbfcff",
            "89754674d2e3499eab8080ee1aad8278",
            "b8231372149c416eba849060caa5bdf5",
            "baa18f348e12433d9221e94bb1a1dfad",
            "6d28af0cbb794284aadbcd2a327752b2",
            "a873b5c8e63e4b54a184e8b4b5ee8d83",
            "f2e7f03b61a348928df61177346fce5f",
            "ded6ad7b6618466594aa8d1804bb3518",
            "bfcb6cfa34ef4cd185304ee653c0cca6",
            "0554f8d31f8b45c2ba9f28f9e053b921",
            "03efc46182f94cd397ef1cfd794fb0d1",
            "c4e7f4b320944e88a0210ec8411fd42f",
            "47baaa959014485cb59facd5f91a05d6",
            "36e041631acf45559cb1331e7d588af3",
            "aefeb752e1ad45d3b590b4eb8d0cd9d5",
            "0cdbc56ee2324d1e969e0e547f164cc9",
            "e4910670055d432d9040e93542444d05",
            "e3cb00e844bc4df3abc36a62d47eb5bd",
            "735570731aca4f4997e277050321c1a5",
            "7e4db9372a4b4fd8b5270a95dc516a62",
            "d151e47920cd4c7888de56bab0034fd7",
            "535806b0a115458ab5c306bc039ebe5a",
            "874387186fa441f1bd37e22b0c7c15ff",
            "7be87c177f4e4791905cee7a37084b4c",
            "7c97ef7ade3e424fb730e06a7edc27a4",
            "8d403ae2ce0f4456bd240c8c5883bb78",
            "981592bd6a094e7896a7b05f2d42d071",
            "5cca8201861a499ab7d0408cf1e23e29",
            "282778606ece4c778975e8676e7ffe93",
            "15cc683812ec4c6fb6ee7047ec82b343"
          ]
        },
        "id": "wNvvZ0T6FdQh",
        "outputId": "02abe88f-593b-4d75-b0a7-a2f29915c840"
      },
      "id": "wNvvZ0T6FdQh",
      "execution_count": 99,
      "outputs": [
        {
          "output_type": "display_data",
          "data": {
            "text/plain": [
              "Downloading (…)okenizer_config.json:   0%|          | 0.00/431 [00:00<?, ?B/s]"
            ],
            "application/vnd.jupyter.widget-view+json": {
              "version_major": 2,
              "version_minor": 0,
              "model_id": "8af8c3c4285b4457bce0767c20109a92"
            }
          },
          "metadata": {}
        },
        {
          "output_type": "display_data",
          "data": {
            "text/plain": [
              "Downloading (…)solve/main/vocab.txt:   0%|          | 0.00/251k [00:00<?, ?B/s]"
            ],
            "application/vnd.jupyter.widget-view+json": {
              "version_major": 2,
              "version_minor": 0,
              "model_id": "f11888a7930b49fa98cbea09c0473596"
            }
          },
          "metadata": {}
        },
        {
          "output_type": "display_data",
          "data": {
            "text/plain": [
              "Downloading (…)/main/tokenizer.json:   0%|          | 0.00/498k [00:00<?, ?B/s]"
            ],
            "application/vnd.jupyter.widget-view+json": {
              "version_major": 2,
              "version_minor": 0,
              "model_id": "299c4572d50e4c3c9f3932ef4a2b9ad8"
            }
          },
          "metadata": {}
        },
        {
          "output_type": "display_data",
          "data": {
            "text/plain": [
              "Downloading (…)cial_tokens_map.json:   0%|          | 0.00/112 [00:00<?, ?B/s]"
            ],
            "application/vnd.jupyter.widget-view+json": {
              "version_major": 2,
              "version_minor": 0,
              "model_id": "0d6acc6cc81b43cbb60f3f14948cb100"
            }
          },
          "metadata": {}
        },
        {
          "output_type": "display_data",
          "data": {
            "text/plain": [
              "Downloading (…)lve/main/config.json:   0%|          | 0.00/693 [00:00<?, ?B/s]"
            ],
            "application/vnd.jupyter.widget-view+json": {
              "version_major": 2,
              "version_minor": 0,
              "model_id": "bfcb6cfa34ef4cd185304ee653c0cca6"
            }
          },
          "metadata": {}
        },
        {
          "output_type": "display_data",
          "data": {
            "text/plain": [
              "Downloading pytorch_model.bin:   0%|          | 0.00/443M [00:00<?, ?B/s]"
            ],
            "application/vnd.jupyter.widget-view+json": {
              "version_major": 2,
              "version_minor": 0,
              "model_id": "7e4db9372a4b4fd8b5270a95dc516a62"
            }
          },
          "metadata": {}
        }
      ]
    },
    {
      "cell_type": "code",
      "source": [
        "def title_similarity():\n",
        "    data[\"result\"]=0.0\n",
        "    for i in range(len(data.sentence)):\n",
        "        title=stopword_remover.drop_stop_words(nltk.word_tokenize(data.loc[i,\"title\"].translate(translator).replace(\"“\",\"\").replace(\"’\",\"\")))\n",
        "        embeddings=giveEmbeddings([data.loc[i,\"sentence\"],data.loc[i,\"title\"]])\n",
        "        similarity=cosine_similarity([embeddings[0].numpy() ], [embeddings[1].numpy()])\n",
        "        data.loc[i,\"result\"]=similarity[0][0]\n"
      ],
      "metadata": {
        "id": "hGDkEpGqFgWf"
      },
      "id": "hGDkEpGqFgWf",
      "execution_count": 100,
      "outputs": []
    },
    {
      "cell_type": "code",
      "source": [
        "title_similarity()"
      ],
      "metadata": {
        "id": "XOZ1k4mrFgaL"
      },
      "id": "XOZ1k4mrFgaL",
      "execution_count": null,
      "outputs": []
    },
    {
      "cell_type": "code",
      "source": [
        "import pandas as pd"
      ],
      "metadata": {
        "id": "FXrmLCuQX4cK"
      },
      "id": "FXrmLCuQX4cK",
      "execution_count": null,
      "outputs": []
    },
    {
      "cell_type": "code",
      "source": [
        "data.to_csv(\"last_data\",sep=\"\\t\",index=False)\n"
      ],
      "metadata": {
        "id": "hW_d1Ay7Fgg7"
      },
      "id": "hW_d1Ay7Fgg7",
      "execution_count": null,
      "outputs": []
    },
    {
      "cell_type": "code",
      "source": [
        "data = pd.read_csv(\"./last_data\", sep='\\t')"
      ],
      "metadata": {
        "id": "R7fh2k9sS1q3"
      },
      "id": "R7fh2k9sS1q3",
      "execution_count": 18,
      "outputs": []
    },
    {
      "cell_type": "code",
      "source": [
        "data"
      ],
      "metadata": {
        "colab": {
          "base_uri": "https://localhost:8080/",
          "height": 919
        },
        "id": "iTpqiFVXRx_d",
        "outputId": "ef264bb5-3558-459a-bc17-8446909599f7"
      },
      "id": "iTpqiFVXRx_d",
      "execution_count": 26,
      "outputs": [
        {
          "output_type": "execute_result",
          "data": {
            "text/plain": [
              "       news_id                                           sentence  \\\n",
              "0        144.0  Ancak 1990’larından sonundan itibaren Türkiye,...   \n",
              "1        144.0  Bugün artık Batı değerlerinin belirlediği ulus...   \n",
              "2        144.0  Birçok devlet için serseri devlet kavramı artı...   \n",
              "3        144.0  HAVUÇ VE SOPA POLİTİKASI BİTTİ Newsweek, eski ...   \n",
              "4        144.0  Ama bu katkıyı verirken Amerika’nın başı çekme...   \n",
              "...        ...                                                ...   \n",
              "18886   1697.0  Galatasaray, Gaziantepspor maçının hazırlıklar...   \n",
              "18887   1698.0  Başbakan Recep Tayyip Erdoğan, özel bir haber ...   \n",
              "18888   1698.0                                          Ankara 3.   \n",
              "18889   1698.0  Asliye Hukuk Mahkemesi'nde görülen davanın kar...   \n",
              "18890   1698.0  Avukat Cemaloğlu, daha önceki iddialarını tekr...   \n",
              "\n",
              "                                  title  is_contains_idiom  NER  tfidf  \\\n",
              "0      Dünyanın yükselen değeri Türkiye                 -1    5      1   \n",
              "1      Dünyanın yükselen değeri Türkiye                 -1    2      0   \n",
              "2      Dünyanın yükselen değeri Türkiye                 -1    1      0   \n",
              "3      Dünyanın yükselen değeri Türkiye                 -1    3      1   \n",
              "4      Dünyanın yükselen değeri Türkiye                 -1    1      1   \n",
              "...                                 ...                ...  ...    ...   \n",
              "18886      Floryada Lucas Neill rüzgarı                 -1    2      0   \n",
              "18887     Erdoğan bir dava daha kazandı                 -1    3      1   \n",
              "18888     Erdoğan bir dava daha kazandı                 -1    0      0   \n",
              "18889     Erdoğan bir dava daha kazandı                 -1    5      1   \n",
              "18890     Erdoğan bir dava daha kazandı                 -1    1      1   \n",
              "\n",
              "       noun_phrase                                             words2  \\\n",
              "0                0  ['Ancak', '1990', '’', 'larından', 'sonundan',...   \n",
              "1                1  ['Bugün', 'artık', 'Batı', 'değerlerinin', 'be...   \n",
              "2                1  ['Birçok', 'devlet', 'için', 'serseri', 'devle...   \n",
              "3                0  ['HAVUÇ', 'VE', 'SOPA', 'POLİTİKASI', 'BİTTİ',...   \n",
              "4                0  ['Ama', 'bu', 'katkıyı', 'verirken', 'Amerika'...   \n",
              "...            ...                                                ...   \n",
              "18886            0  ['Galatasaray', 'Gaziantepspor', 'maçının', 'h...   \n",
              "18887            3  ['Başbakan', 'Recep', 'Tayyip', 'Erdoğan', 'öz...   \n",
              "18888            0                                    ['Ankara', '3']   \n",
              "18889            2  ['Asliye', 'Hukuk', 'Mahkemesinde', 'görülen',...   \n",
              "18890            0  ['Avukat', 'Cemaloğlu', 'daha', 'önceki', 'idd...   \n",
              "\n",
              "       sentence_length  position    result  \n",
              "0             0.068528  0.200000  0.278959  \n",
              "1             0.025381  0.166667  0.110602  \n",
              "2             0.040609  0.142857  0.076235  \n",
              "3             0.073604  0.125000  0.054456  \n",
              "4             0.045685  0.111111  0.047487  \n",
              "...                ...       ...       ...  \n",
              "18886         0.042254  0.076923  0.073290  \n",
              "18887         0.200000  1.000000  0.404898  \n",
              "18888         0.013793  0.500000  0.271632  \n",
              "18889         0.117241  0.333333  0.568497  \n",
              "18890         0.082759  0.250000  0.418087  \n",
              "\n",
              "[18891 rows x 11 columns]"
            ],
            "text/html": [
              "\n",
              "  <div id=\"df-636fda6f-a2a6-484f-9c3a-c72e140c6c2d\">\n",
              "    <div class=\"colab-df-container\">\n",
              "      <div>\n",
              "<style scoped>\n",
              "    .dataframe tbody tr th:only-of-type {\n",
              "        vertical-align: middle;\n",
              "    }\n",
              "\n",
              "    .dataframe tbody tr th {\n",
              "        vertical-align: top;\n",
              "    }\n",
              "\n",
              "    .dataframe thead th {\n",
              "        text-align: right;\n",
              "    }\n",
              "</style>\n",
              "<table border=\"1\" class=\"dataframe\">\n",
              "  <thead>\n",
              "    <tr style=\"text-align: right;\">\n",
              "      <th></th>\n",
              "      <th>news_id</th>\n",
              "      <th>sentence</th>\n",
              "      <th>title</th>\n",
              "      <th>is_contains_idiom</th>\n",
              "      <th>NER</th>\n",
              "      <th>tfidf</th>\n",
              "      <th>noun_phrase</th>\n",
              "      <th>words2</th>\n",
              "      <th>sentence_length</th>\n",
              "      <th>position</th>\n",
              "      <th>result</th>\n",
              "    </tr>\n",
              "  </thead>\n",
              "  <tbody>\n",
              "    <tr>\n",
              "      <th>0</th>\n",
              "      <td>144.0</td>\n",
              "      <td>Ancak 1990’larından sonundan itibaren Türkiye,...</td>\n",
              "      <td>Dünyanın yükselen değeri Türkiye</td>\n",
              "      <td>-1</td>\n",
              "      <td>5</td>\n",
              "      <td>1</td>\n",
              "      <td>0</td>\n",
              "      <td>['Ancak', '1990', '’', 'larından', 'sonundan',...</td>\n",
              "      <td>0.068528</td>\n",
              "      <td>0.200000</td>\n",
              "      <td>0.278959</td>\n",
              "    </tr>\n",
              "    <tr>\n",
              "      <th>1</th>\n",
              "      <td>144.0</td>\n",
              "      <td>Bugün artık Batı değerlerinin belirlediği ulus...</td>\n",
              "      <td>Dünyanın yükselen değeri Türkiye</td>\n",
              "      <td>-1</td>\n",
              "      <td>2</td>\n",
              "      <td>0</td>\n",
              "      <td>1</td>\n",
              "      <td>['Bugün', 'artık', 'Batı', 'değerlerinin', 'be...</td>\n",
              "      <td>0.025381</td>\n",
              "      <td>0.166667</td>\n",
              "      <td>0.110602</td>\n",
              "    </tr>\n",
              "    <tr>\n",
              "      <th>2</th>\n",
              "      <td>144.0</td>\n",
              "      <td>Birçok devlet için serseri devlet kavramı artı...</td>\n",
              "      <td>Dünyanın yükselen değeri Türkiye</td>\n",
              "      <td>-1</td>\n",
              "      <td>1</td>\n",
              "      <td>0</td>\n",
              "      <td>1</td>\n",
              "      <td>['Birçok', 'devlet', 'için', 'serseri', 'devle...</td>\n",
              "      <td>0.040609</td>\n",
              "      <td>0.142857</td>\n",
              "      <td>0.076235</td>\n",
              "    </tr>\n",
              "    <tr>\n",
              "      <th>3</th>\n",
              "      <td>144.0</td>\n",
              "      <td>HAVUÇ VE SOPA POLİTİKASI BİTTİ Newsweek, eski ...</td>\n",
              "      <td>Dünyanın yükselen değeri Türkiye</td>\n",
              "      <td>-1</td>\n",
              "      <td>3</td>\n",
              "      <td>1</td>\n",
              "      <td>0</td>\n",
              "      <td>['HAVUÇ', 'VE', 'SOPA', 'POLİTİKASI', 'BİTTİ',...</td>\n",
              "      <td>0.073604</td>\n",
              "      <td>0.125000</td>\n",
              "      <td>0.054456</td>\n",
              "    </tr>\n",
              "    <tr>\n",
              "      <th>4</th>\n",
              "      <td>144.0</td>\n",
              "      <td>Ama bu katkıyı verirken Amerika’nın başı çekme...</td>\n",
              "      <td>Dünyanın yükselen değeri Türkiye</td>\n",
              "      <td>-1</td>\n",
              "      <td>1</td>\n",
              "      <td>1</td>\n",
              "      <td>0</td>\n",
              "      <td>['Ama', 'bu', 'katkıyı', 'verirken', 'Amerika'...</td>\n",
              "      <td>0.045685</td>\n",
              "      <td>0.111111</td>\n",
              "      <td>0.047487</td>\n",
              "    </tr>\n",
              "    <tr>\n",
              "      <th>...</th>\n",
              "      <td>...</td>\n",
              "      <td>...</td>\n",
              "      <td>...</td>\n",
              "      <td>...</td>\n",
              "      <td>...</td>\n",
              "      <td>...</td>\n",
              "      <td>...</td>\n",
              "      <td>...</td>\n",
              "      <td>...</td>\n",
              "      <td>...</td>\n",
              "      <td>...</td>\n",
              "    </tr>\n",
              "    <tr>\n",
              "      <th>18886</th>\n",
              "      <td>1697.0</td>\n",
              "      <td>Galatasaray, Gaziantepspor maçının hazırlıklar...</td>\n",
              "      <td>Floryada Lucas Neill rüzgarı</td>\n",
              "      <td>-1</td>\n",
              "      <td>2</td>\n",
              "      <td>0</td>\n",
              "      <td>0</td>\n",
              "      <td>['Galatasaray', 'Gaziantepspor', 'maçının', 'h...</td>\n",
              "      <td>0.042254</td>\n",
              "      <td>0.076923</td>\n",
              "      <td>0.073290</td>\n",
              "    </tr>\n",
              "    <tr>\n",
              "      <th>18887</th>\n",
              "      <td>1698.0</td>\n",
              "      <td>Başbakan Recep Tayyip Erdoğan, özel bir haber ...</td>\n",
              "      <td>Erdoğan bir dava daha kazandı</td>\n",
              "      <td>-1</td>\n",
              "      <td>3</td>\n",
              "      <td>1</td>\n",
              "      <td>3</td>\n",
              "      <td>['Başbakan', 'Recep', 'Tayyip', 'Erdoğan', 'öz...</td>\n",
              "      <td>0.200000</td>\n",
              "      <td>1.000000</td>\n",
              "      <td>0.404898</td>\n",
              "    </tr>\n",
              "    <tr>\n",
              "      <th>18888</th>\n",
              "      <td>1698.0</td>\n",
              "      <td>Ankara 3.</td>\n",
              "      <td>Erdoğan bir dava daha kazandı</td>\n",
              "      <td>-1</td>\n",
              "      <td>0</td>\n",
              "      <td>0</td>\n",
              "      <td>0</td>\n",
              "      <td>['Ankara', '3']</td>\n",
              "      <td>0.013793</td>\n",
              "      <td>0.500000</td>\n",
              "      <td>0.271632</td>\n",
              "    </tr>\n",
              "    <tr>\n",
              "      <th>18889</th>\n",
              "      <td>1698.0</td>\n",
              "      <td>Asliye Hukuk Mahkemesi'nde görülen davanın kar...</td>\n",
              "      <td>Erdoğan bir dava daha kazandı</td>\n",
              "      <td>-1</td>\n",
              "      <td>5</td>\n",
              "      <td>1</td>\n",
              "      <td>2</td>\n",
              "      <td>['Asliye', 'Hukuk', 'Mahkemesinde', 'görülen',...</td>\n",
              "      <td>0.117241</td>\n",
              "      <td>0.333333</td>\n",
              "      <td>0.568497</td>\n",
              "    </tr>\n",
              "    <tr>\n",
              "      <th>18890</th>\n",
              "      <td>1698.0</td>\n",
              "      <td>Avukat Cemaloğlu, daha önceki iddialarını tekr...</td>\n",
              "      <td>Erdoğan bir dava daha kazandı</td>\n",
              "      <td>-1</td>\n",
              "      <td>1</td>\n",
              "      <td>1</td>\n",
              "      <td>0</td>\n",
              "      <td>['Avukat', 'Cemaloğlu', 'daha', 'önceki', 'idd...</td>\n",
              "      <td>0.082759</td>\n",
              "      <td>0.250000</td>\n",
              "      <td>0.418087</td>\n",
              "    </tr>\n",
              "  </tbody>\n",
              "</table>\n",
              "<p>18891 rows × 11 columns</p>\n",
              "</div>\n",
              "      <button class=\"colab-df-convert\" onclick=\"convertToInteractive('df-636fda6f-a2a6-484f-9c3a-c72e140c6c2d')\"\n",
              "              title=\"Convert this dataframe to an interactive table.\"\n",
              "              style=\"display:none;\">\n",
              "        \n",
              "  <svg xmlns=\"http://www.w3.org/2000/svg\" height=\"24px\"viewBox=\"0 0 24 24\"\n",
              "       width=\"24px\">\n",
              "    <path d=\"M0 0h24v24H0V0z\" fill=\"none\"/>\n",
              "    <path d=\"M18.56 5.44l.94 2.06.94-2.06 2.06-.94-2.06-.94-.94-2.06-.94 2.06-2.06.94zm-11 1L8.5 8.5l.94-2.06 2.06-.94-2.06-.94L8.5 2.5l-.94 2.06-2.06.94zm10 10l.94 2.06.94-2.06 2.06-.94-2.06-.94-.94-2.06-.94 2.06-2.06.94z\"/><path d=\"M17.41 7.96l-1.37-1.37c-.4-.4-.92-.59-1.43-.59-.52 0-1.04.2-1.43.59L10.3 9.45l-7.72 7.72c-.78.78-.78 2.05 0 2.83L4 21.41c.39.39.9.59 1.41.59.51 0 1.02-.2 1.41-.59l7.78-7.78 2.81-2.81c.8-.78.8-2.07 0-2.86zM5.41 20L4 18.59l7.72-7.72 1.47 1.35L5.41 20z\"/>\n",
              "  </svg>\n",
              "      </button>\n",
              "      \n",
              "  <style>\n",
              "    .colab-df-container {\n",
              "      display:flex;\n",
              "      flex-wrap:wrap;\n",
              "      gap: 12px;\n",
              "    }\n",
              "\n",
              "    .colab-df-convert {\n",
              "      background-color: #E8F0FE;\n",
              "      border: none;\n",
              "      border-radius: 50%;\n",
              "      cursor: pointer;\n",
              "      display: none;\n",
              "      fill: #1967D2;\n",
              "      height: 32px;\n",
              "      padding: 0 0 0 0;\n",
              "      width: 32px;\n",
              "    }\n",
              "\n",
              "    .colab-df-convert:hover {\n",
              "      background-color: #E2EBFA;\n",
              "      box-shadow: 0px 1px 2px rgba(60, 64, 67, 0.3), 0px 1px 3px 1px rgba(60, 64, 67, 0.15);\n",
              "      fill: #174EA6;\n",
              "    }\n",
              "\n",
              "    [theme=dark] .colab-df-convert {\n",
              "      background-color: #3B4455;\n",
              "      fill: #D2E3FC;\n",
              "    }\n",
              "\n",
              "    [theme=dark] .colab-df-convert:hover {\n",
              "      background-color: #434B5C;\n",
              "      box-shadow: 0px 1px 3px 1px rgba(0, 0, 0, 0.15);\n",
              "      filter: drop-shadow(0px 1px 2px rgba(0, 0, 0, 0.3));\n",
              "      fill: #FFFFFF;\n",
              "    }\n",
              "  </style>\n",
              "\n",
              "      <script>\n",
              "        const buttonEl =\n",
              "          document.querySelector('#df-636fda6f-a2a6-484f-9c3a-c72e140c6c2d button.colab-df-convert');\n",
              "        buttonEl.style.display =\n",
              "          google.colab.kernel.accessAllowed ? 'block' : 'none';\n",
              "\n",
              "        async function convertToInteractive(key) {\n",
              "          const element = document.querySelector('#df-636fda6f-a2a6-484f-9c3a-c72e140c6c2d');\n",
              "          const dataTable =\n",
              "            await google.colab.kernel.invokeFunction('convertToInteractive',\n",
              "                                                     [key], {});\n",
              "          if (!dataTable) return;\n",
              "\n",
              "          const docLinkHtml = 'Like what you see? Visit the ' +\n",
              "            '<a target=\"_blank\" href=https://colab.research.google.com/notebooks/data_table.ipynb>data table notebook</a>'\n",
              "            + ' to learn more about interactive tables.';\n",
              "          element.innerHTML = '';\n",
              "          dataTable['output_type'] = 'display_data';\n",
              "          await google.colab.output.renderOutput(dataTable, element);\n",
              "          const docLink = document.createElement('div');\n",
              "          docLink.innerHTML = docLinkHtml;\n",
              "          element.appendChild(docLink);\n",
              "        }\n",
              "      </script>\n",
              "    </div>\n",
              "  </div>\n",
              "  "
            ]
          },
          "metadata": {},
          "execution_count": 26
        }
      ]
    },
    {
      "cell_type": "code",
      "source": [
        "print(len(data))\n",
        "import zipfile"
      ],
      "metadata": {
        "colab": {
          "base_uri": "https://localhost:8080/"
        },
        "id": "YLXcasfbZSnb",
        "outputId": "70dcd965-7345-47bf-fd99-1d9c77ff9003"
      },
      "id": "YLXcasfbZSnb",
      "execution_count": 110,
      "outputs": [
        {
          "output_type": "stream",
          "name": "stdout",
          "text": [
            "18904\n"
          ]
        }
      ]
    },
    {
      "cell_type": "code",
      "source": [
        "from google.colab import drive\n",
        "drive.mount('/content/drive')"
      ],
      "metadata": {
        "colab": {
          "base_uri": "https://localhost:8080/"
        },
        "id": "i8J5l9AOZAJS",
        "outputId": "9bfb1898-ee57-4d8c-da09-93d7cc91af78"
      },
      "id": "i8J5l9AOZAJS",
      "execution_count": 108,
      "outputs": [
        {
          "output_type": "stream",
          "name": "stdout",
          "text": [
            "Mounted at /content/drive\n"
          ]
        }
      ]
    },
    {
      "cell_type": "code",
      "source": [
        "zip_ref = zipfile.ZipFile(\"/content/drive/My Drive/nlp/zip.zip\", 'r')\n",
        "zip_ref.extractall(\"/content\")\n",
        "zip_ref.close()"
      ],
      "metadata": {
        "id": "ZU7h9QeMZEec"
      },
      "id": "ZU7h9QeMZEec",
      "execution_count": 111,
      "outputs": []
    },
    {
      "cell_type": "code",
      "source": [
        "from sklearn.model_selection import train_test_split\n",
        "from sklearn import linear_model\n",
        "from sklearn.svm import SVR\n",
        "import pickle\n",
        "import math\n",
        "import numpy as np\n",
        "from sklearn.metrics import mean_absolute_error\n",
        "from sklearn.metrics import mean_squared_error\n",
        "from sklearn.ensemble import RandomForestRegressor\n",
        "from sklearn.metrics import r2_score\n",
        "from sklearn.linear_model import LinearRegression\n",
        "import inspect"
      ],
      "metadata": {
        "id": "rZPVo48sdTXu"
      },
      "id": "rZPVo48sdTXu",
      "execution_count": 20,
      "outputs": []
    },
    {
      "cell_type": "code",
      "source": [
        "data=data.dropna()\n",
        "data.isnull().sum()\n",
        "data.reset_index(drop=True, inplace=True)"
      ],
      "metadata": {
        "id": "_9jU3cSKhyhK"
      },
      "id": "_9jU3cSKhyhK",
      "execution_count": 24,
      "outputs": []
    },
    {
      "cell_type": "code",
      "source": [
        "import random\n",
        "\n",
        "# Initialize an empty set to store unique numbers\n",
        "unique_numbers = set()\n",
        "uniques=data.news_id.unique() \n",
        "# Generate random numbers until we have 2000 unique numbers\n",
        "while len(unique_numbers) < 852:\n",
        "    # Generate a random number between 0 and 2500\n",
        "    random_number = random.randint(0, len(uniques)-1)\n",
        "    # Add the number to the set if it's not already in it\n",
        "    unique_numbers.add(uniques[random_number])\n",
        "\n",
        "# Convert the set to a list and sort it\n",
        "unique_numbers_list = sorted(list(unique_numbers))"
      ],
      "metadata": {
        "id": "Iyf9bb3GdYA0"
      },
      "id": "Iyf9bb3GdYA0",
      "execution_count": 60,
      "outputs": []
    },
    {
      "cell_type": "code",
      "source": [
        "X_rand_train=[]\n",
        "X_rand_test=[]\n",
        "for i in range(len(data)):\n",
        "  if data.loc[i,\"news_id\"] in unique_numbers_list:\n",
        "    X_rand_train.append(data.loc[i,:])\n",
        "  else:\n",
        "    X_rand_test.append(data.loc[i,:])"
      ],
      "metadata": {
        "id": "33L_JWxSdYC4"
      },
      "id": "33L_JWxSdYC4",
      "execution_count": 61,
      "outputs": []
    },
    {
      "cell_type": "code",
      "source": [
        "len(X_rand_train)"
      ],
      "metadata": {
        "colab": {
          "base_uri": "https://localhost:8080/"
        },
        "id": "Ifn2-tHRSke6",
        "outputId": "42da6767-a9bc-4f51-d0c2-f73b79c133a3"
      },
      "id": "Ifn2-tHRSke6",
      "execution_count": null,
      "outputs": [
        {
          "output_type": "execute_result",
          "data": {
            "text/plain": [
              "15023"
            ]
          },
          "metadata": {},
          "execution_count": 35
        }
      ]
    },
    {
      "cell_type": "code",
      "source": [
        "len(X_rand_test)"
      ],
      "metadata": {
        "colab": {
          "base_uri": "https://localhost:8080/"
        },
        "id": "pKA3ICiBSnMk",
        "outputId": "317d8444-30db-4e05-ff30-9daa70ba189a"
      },
      "id": "pKA3ICiBSnMk",
      "execution_count": null,
      "outputs": [
        {
          "output_type": "execute_result",
          "data": {
            "text/plain": [
              "3077"
            ]
          },
          "metadata": {},
          "execution_count": 12
        }
      ]
    },
    {
      "cell_type": "code",
      "source": [
        "random_train = pd.DataFrame (X_rand_train, columns = data.columns)\n",
        "random_test = pd.DataFrame (X_rand_test, columns = data.columns)"
      ],
      "metadata": {
        "id": "Er9jhYCddYFO"
      },
      "id": "Er9jhYCddYFO",
      "execution_count": 62,
      "outputs": []
    },
    {
      "cell_type": "code",
      "source": [
        "X_tr=random_train.loc[:,[\"news_id\",\"sentence\",\"title\",\"NER\",\"noun_phrase\",\"tfidf\",\"sentence_length\",\"position\"]]\n",
        "X_ts=random_test.loc[:,[\"news_id\",\"sentence\",\"title\",\"NER\",\"noun_phrase\",\"tfidf\",\"sentence_length\",\"position\"]]\n",
        "y_train=random_train.loc[:,[\"result\"]]\n",
        "y_test=random_test.loc[:,[\"result\"]]"
      ],
      "metadata": {
        "id": "qSadXeG6dYHo"
      },
      "id": "qSadXeG6dYHo",
      "execution_count": 63,
      "outputs": []
    },
    {
      "cell_type": "code",
      "source": [
        "X_train=X_tr.loc[:,[\"NER\",\"noun_phrase\",\"tfidf\",\"sentence_length\",\"position\"]]\n",
        "X_test=X_ts.loc[:,[\"NER\",\"noun_phrase\",\"tfidf\",\"sentence_length\",\"position\"]]"
      ],
      "metadata": {
        "id": "L_XcHb8YdYJy"
      },
      "id": "L_XcHb8YdYJy",
      "execution_count": 64,
      "outputs": []
    },
    {
      "cell_type": "code",
      "source": [
        "regressor = RandomForestRegressor(n_estimators = 600, random_state = 42)\n",
        "regressor.fit(X_train,y_train) "
      ],
      "metadata": {
        "colab": {
          "base_uri": "https://localhost:8080/",
          "height": 130
        },
        "id": "EdfUIQm6dYL4",
        "outputId": "4435b0ea-802f-49be-a02d-e02eb02d417e"
      },
      "id": "EdfUIQm6dYL4",
      "execution_count": 65,
      "outputs": [
        {
          "output_type": "stream",
          "name": "stderr",
          "text": [
            "<ipython-input-65-9f03bb6509aa>:2: DataConversionWarning: A column-vector y was passed when a 1d array was expected. Please change the shape of y to (n_samples,), for example using ravel().\n",
            "  regressor.fit(X_train,y_train)\n"
          ]
        },
        {
          "output_type": "execute_result",
          "data": {
            "text/plain": [
              "RandomForestRegressor(n_estimators=600, random_state=42)"
            ],
            "text/html": [
              "<style>#sk-container-id-3 {color: black;background-color: white;}#sk-container-id-3 pre{padding: 0;}#sk-container-id-3 div.sk-toggleable {background-color: white;}#sk-container-id-3 label.sk-toggleable__label {cursor: pointer;display: block;width: 100%;margin-bottom: 0;padding: 0.3em;box-sizing: border-box;text-align: center;}#sk-container-id-3 label.sk-toggleable__label-arrow:before {content: \"▸\";float: left;margin-right: 0.25em;color: #696969;}#sk-container-id-3 label.sk-toggleable__label-arrow:hover:before {color: black;}#sk-container-id-3 div.sk-estimator:hover label.sk-toggleable__label-arrow:before {color: black;}#sk-container-id-3 div.sk-toggleable__content {max-height: 0;max-width: 0;overflow: hidden;text-align: left;background-color: #f0f8ff;}#sk-container-id-3 div.sk-toggleable__content pre {margin: 0.2em;color: black;border-radius: 0.25em;background-color: #f0f8ff;}#sk-container-id-3 input.sk-toggleable__control:checked~div.sk-toggleable__content {max-height: 200px;max-width: 100%;overflow: auto;}#sk-container-id-3 input.sk-toggleable__control:checked~label.sk-toggleable__label-arrow:before {content: \"▾\";}#sk-container-id-3 div.sk-estimator input.sk-toggleable__control:checked~label.sk-toggleable__label {background-color: #d4ebff;}#sk-container-id-3 div.sk-label input.sk-toggleable__control:checked~label.sk-toggleable__label {background-color: #d4ebff;}#sk-container-id-3 input.sk-hidden--visually {border: 0;clip: rect(1px 1px 1px 1px);clip: rect(1px, 1px, 1px, 1px);height: 1px;margin: -1px;overflow: hidden;padding: 0;position: absolute;width: 1px;}#sk-container-id-3 div.sk-estimator {font-family: monospace;background-color: #f0f8ff;border: 1px dotted black;border-radius: 0.25em;box-sizing: border-box;margin-bottom: 0.5em;}#sk-container-id-3 div.sk-estimator:hover {background-color: #d4ebff;}#sk-container-id-3 div.sk-parallel-item::after {content: \"\";width: 100%;border-bottom: 1px solid gray;flex-grow: 1;}#sk-container-id-3 div.sk-label:hover label.sk-toggleable__label {background-color: #d4ebff;}#sk-container-id-3 div.sk-serial::before {content: \"\";position: absolute;border-left: 1px solid gray;box-sizing: border-box;top: 0;bottom: 0;left: 50%;z-index: 0;}#sk-container-id-3 div.sk-serial {display: flex;flex-direction: column;align-items: center;background-color: white;padding-right: 0.2em;padding-left: 0.2em;position: relative;}#sk-container-id-3 div.sk-item {position: relative;z-index: 1;}#sk-container-id-3 div.sk-parallel {display: flex;align-items: stretch;justify-content: center;background-color: white;position: relative;}#sk-container-id-3 div.sk-item::before, #sk-container-id-3 div.sk-parallel-item::before {content: \"\";position: absolute;border-left: 1px solid gray;box-sizing: border-box;top: 0;bottom: 0;left: 50%;z-index: -1;}#sk-container-id-3 div.sk-parallel-item {display: flex;flex-direction: column;z-index: 1;position: relative;background-color: white;}#sk-container-id-3 div.sk-parallel-item:first-child::after {align-self: flex-end;width: 50%;}#sk-container-id-3 div.sk-parallel-item:last-child::after {align-self: flex-start;width: 50%;}#sk-container-id-3 div.sk-parallel-item:only-child::after {width: 0;}#sk-container-id-3 div.sk-dashed-wrapped {border: 1px dashed gray;margin: 0 0.4em 0.5em 0.4em;box-sizing: border-box;padding-bottom: 0.4em;background-color: white;}#sk-container-id-3 div.sk-label label {font-family: monospace;font-weight: bold;display: inline-block;line-height: 1.2em;}#sk-container-id-3 div.sk-label-container {text-align: center;}#sk-container-id-3 div.sk-container {/* jupyter's `normalize.less` sets `[hidden] { display: none; }` but bootstrap.min.css set `[hidden] { display: none !important; }` so we also need the `!important` here to be able to override the default hidden behavior on the sphinx rendered scikit-learn.org. See: https://github.com/scikit-learn/scikit-learn/issues/21755 */display: inline-block !important;position: relative;}#sk-container-id-3 div.sk-text-repr-fallback {display: none;}</style><div id=\"sk-container-id-3\" class=\"sk-top-container\"><div class=\"sk-text-repr-fallback\"><pre>RandomForestRegressor(n_estimators=600, random_state=42)</pre><b>In a Jupyter environment, please rerun this cell to show the HTML representation or trust the notebook. <br />On GitHub, the HTML representation is unable to render, please try loading this page with nbviewer.org.</b></div><div class=\"sk-container\" hidden><div class=\"sk-item\"><div class=\"sk-estimator sk-toggleable\"><input class=\"sk-toggleable__control sk-hidden--visually\" id=\"sk-estimator-id-3\" type=\"checkbox\" checked><label for=\"sk-estimator-id-3\" class=\"sk-toggleable__label sk-toggleable__label-arrow\">RandomForestRegressor</label><div class=\"sk-toggleable__content\"><pre>RandomForestRegressor(n_estimators=600, random_state=42)</pre></div></div></div></div></div>"
            ]
          },
          "metadata": {},
          "execution_count": 65
        }
      ]
    },
    {
      "cell_type": "code",
      "source": [
        "# path to jar file \n",
        "ZEMBEREK_PATH = r\"./zip/zemberek-full.jar\"\n",
        "# start jvm\n",
        "startJVM(getDefaultJVMPath(), \"-ea\", \"-Djava.class.path=%s\" % (ZEMBEREK_PATH),convertStrings=False)\n",
        "TurkishMorphology: JClass = JClass(\"zemberek.morphology.TurkishMorphology\")\n",
        "PerceptronNer: JClass = JClass(\"zemberek.ner.PerceptronNer\")\n",
        "Paths: JClass = JClass(\"java.nio.file.Paths\")\n",
        "modelRoot = Paths.get('zip/test-model/model')\n",
        "morphology = TurkishMorphology.createWithDefaults()\n",
        "ner = PerceptronNer.loadModel(modelRoot, morphology)"
      ],
      "metadata": {
        "colab": {
          "base_uri": "https://localhost:8080/",
          "height": 365
        },
        "id": "GqohVHKaWnuP",
        "outputId": "2b0ce4cc-e49e-47d0-8433-2970f94407ea"
      },
      "id": "GqohVHKaWnuP",
      "execution_count": 133,
      "outputs": [
        {
          "output_type": "error",
          "ename": "OSError",
          "evalue": "ignored",
          "traceback": [
            "\u001b[0;31m---------------------------------------------------------------------------\u001b[0m",
            "\u001b[0;31mOSError\u001b[0m                                   Traceback (most recent call last)",
            "\u001b[0;32m<ipython-input-133-a4c8676e710c>\u001b[0m in \u001b[0;36m<cell line: 4>\u001b[0;34m()\u001b[0m\n\u001b[1;32m      2\u001b[0m \u001b[0mZEMBEREK_PATH\u001b[0m \u001b[0;34m=\u001b[0m \u001b[0;34mr\"./zip/zemberek-full.jar\"\u001b[0m\u001b[0;34m\u001b[0m\u001b[0;34m\u001b[0m\u001b[0m\n\u001b[1;32m      3\u001b[0m \u001b[0;31m# start jvm\u001b[0m\u001b[0;34m\u001b[0m\u001b[0;34m\u001b[0m\u001b[0m\n\u001b[0;32m----> 4\u001b[0;31m \u001b[0mstartJVM\u001b[0m\u001b[0;34m(\u001b[0m\u001b[0mgetDefaultJVMPath\u001b[0m\u001b[0;34m(\u001b[0m\u001b[0;34m)\u001b[0m\u001b[0;34m,\u001b[0m \u001b[0;34m\"-ea\"\u001b[0m\u001b[0;34m,\u001b[0m \u001b[0;34m\"-Djava.class.path=%s\"\u001b[0m \u001b[0;34m%\u001b[0m \u001b[0;34m(\u001b[0m\u001b[0mZEMBEREK_PATH\u001b[0m\u001b[0;34m)\u001b[0m\u001b[0;34m,\u001b[0m\u001b[0mconvertStrings\u001b[0m\u001b[0;34m=\u001b[0m\u001b[0;32mFalse\u001b[0m\u001b[0;34m)\u001b[0m\u001b[0;34m\u001b[0m\u001b[0;34m\u001b[0m\u001b[0m\n\u001b[0m\u001b[1;32m      5\u001b[0m \u001b[0mTurkishMorphology\u001b[0m\u001b[0;34m:\u001b[0m \u001b[0mJClass\u001b[0m \u001b[0;34m=\u001b[0m \u001b[0mJClass\u001b[0m\u001b[0;34m(\u001b[0m\u001b[0;34m\"zemberek.morphology.TurkishMorphology\"\u001b[0m\u001b[0;34m)\u001b[0m\u001b[0;34m\u001b[0m\u001b[0;34m\u001b[0m\u001b[0m\n\u001b[1;32m      6\u001b[0m \u001b[0mPerceptronNer\u001b[0m\u001b[0;34m:\u001b[0m \u001b[0mJClass\u001b[0m \u001b[0;34m=\u001b[0m \u001b[0mJClass\u001b[0m\u001b[0;34m(\u001b[0m\u001b[0;34m\"zemberek.ner.PerceptronNer\"\u001b[0m\u001b[0;34m)\u001b[0m\u001b[0;34m\u001b[0m\u001b[0;34m\u001b[0m\u001b[0m\n",
            "\u001b[0;32m/usr/local/lib/python3.10/dist-packages/jpype/_core.py\u001b[0m in \u001b[0;36mstartJVM\u001b[0;34m(*args, **kwargs)\u001b[0m\n\u001b[1;32m    164\u001b[0m      \"\"\"\n\u001b[1;32m    165\u001b[0m     \u001b[0;32mif\u001b[0m \u001b[0m_jpype\u001b[0m\u001b[0;34m.\u001b[0m\u001b[0misStarted\u001b[0m\u001b[0;34m(\u001b[0m\u001b[0;34m)\u001b[0m\u001b[0;34m:\u001b[0m\u001b[0;34m\u001b[0m\u001b[0;34m\u001b[0m\u001b[0m\n\u001b[0;32m--> 166\u001b[0;31m         \u001b[0;32mraise\u001b[0m \u001b[0mOSError\u001b[0m\u001b[0;34m(\u001b[0m\u001b[0;34m'JVM is already started'\u001b[0m\u001b[0;34m)\u001b[0m\u001b[0;34m\u001b[0m\u001b[0;34m\u001b[0m\u001b[0m\n\u001b[0m\u001b[1;32m    167\u001b[0m     \u001b[0;32mglobal\u001b[0m \u001b[0m_JVM_started\u001b[0m\u001b[0;34m\u001b[0m\u001b[0;34m\u001b[0m\u001b[0m\n\u001b[1;32m    168\u001b[0m     \u001b[0;32mif\u001b[0m \u001b[0m_JVM_started\u001b[0m\u001b[0;34m:\u001b[0m\u001b[0;34m\u001b[0m\u001b[0;34m\u001b[0m\u001b[0m\n",
            "\u001b[0;31mOSError\u001b[0m: JVM is already started"
          ]
        }
      ]
    },
    {
      "cell_type": "code",
      "source": [
        "Y_pred = regressor.predict(X_test)"
      ],
      "metadata": {
        "id": "Z2mGrxDLgZrM"
      },
      "id": "Z2mGrxDLgZrM",
      "execution_count": 66,
      "outputs": []
    },
    {
      "cell_type": "code",
      "source": [
        "m1=mean_squared_error(y_test,Y_pred)\n",
        "m2=mean_absolute_error(y_test,Y_pred)\n",
        "r2=r2_score(y_test,Y_pred, force_finite=False)\n",
        "print(m1,m2,r2)"
      ],
      "metadata": {
        "colab": {
          "base_uri": "https://localhost:8080/"
        },
        "id": "Bve8tuuwisRj",
        "outputId": "cc4ddb9c-e68f-48fb-ebd9-5a759fd5f0f8"
      },
      "id": "Bve8tuuwisRj",
      "execution_count": 67,
      "outputs": [
        {
          "output_type": "stream",
          "name": "stdout",
          "text": [
            "0.026706858624689658 0.1273855112736133 0.13004233126732312\n"
          ]
        }
      ]
    },
    {
      "cell_type": "code",
      "source": [
        "logr  = LinearRegression()\n",
        "logr.fit(X_train,y_train) "
      ],
      "metadata": {
        "colab": {
          "base_uri": "https://localhost:8080/",
          "height": 75
        },
        "id": "cSJyrp5wlo3t",
        "outputId": "60a6f3c3-c828-4175-f7df-96dab69ff512"
      },
      "id": "cSJyrp5wlo3t",
      "execution_count": 68,
      "outputs": [
        {
          "output_type": "execute_result",
          "data": {
            "text/plain": [
              "LinearRegression()"
            ],
            "text/html": [
              "<style>#sk-container-id-4 {color: black;background-color: white;}#sk-container-id-4 pre{padding: 0;}#sk-container-id-4 div.sk-toggleable {background-color: white;}#sk-container-id-4 label.sk-toggleable__label {cursor: pointer;display: block;width: 100%;margin-bottom: 0;padding: 0.3em;box-sizing: border-box;text-align: center;}#sk-container-id-4 label.sk-toggleable__label-arrow:before {content: \"▸\";float: left;margin-right: 0.25em;color: #696969;}#sk-container-id-4 label.sk-toggleable__label-arrow:hover:before {color: black;}#sk-container-id-4 div.sk-estimator:hover label.sk-toggleable__label-arrow:before {color: black;}#sk-container-id-4 div.sk-toggleable__content {max-height: 0;max-width: 0;overflow: hidden;text-align: left;background-color: #f0f8ff;}#sk-container-id-4 div.sk-toggleable__content pre {margin: 0.2em;color: black;border-radius: 0.25em;background-color: #f0f8ff;}#sk-container-id-4 input.sk-toggleable__control:checked~div.sk-toggleable__content {max-height: 200px;max-width: 100%;overflow: auto;}#sk-container-id-4 input.sk-toggleable__control:checked~label.sk-toggleable__label-arrow:before {content: \"▾\";}#sk-container-id-4 div.sk-estimator input.sk-toggleable__control:checked~label.sk-toggleable__label {background-color: #d4ebff;}#sk-container-id-4 div.sk-label input.sk-toggleable__control:checked~label.sk-toggleable__label {background-color: #d4ebff;}#sk-container-id-4 input.sk-hidden--visually {border: 0;clip: rect(1px 1px 1px 1px);clip: rect(1px, 1px, 1px, 1px);height: 1px;margin: -1px;overflow: hidden;padding: 0;position: absolute;width: 1px;}#sk-container-id-4 div.sk-estimator {font-family: monospace;background-color: #f0f8ff;border: 1px dotted black;border-radius: 0.25em;box-sizing: border-box;margin-bottom: 0.5em;}#sk-container-id-4 div.sk-estimator:hover {background-color: #d4ebff;}#sk-container-id-4 div.sk-parallel-item::after {content: \"\";width: 100%;border-bottom: 1px solid gray;flex-grow: 1;}#sk-container-id-4 div.sk-label:hover label.sk-toggleable__label {background-color: #d4ebff;}#sk-container-id-4 div.sk-serial::before {content: \"\";position: absolute;border-left: 1px solid gray;box-sizing: border-box;top: 0;bottom: 0;left: 50%;z-index: 0;}#sk-container-id-4 div.sk-serial {display: flex;flex-direction: column;align-items: center;background-color: white;padding-right: 0.2em;padding-left: 0.2em;position: relative;}#sk-container-id-4 div.sk-item {position: relative;z-index: 1;}#sk-container-id-4 div.sk-parallel {display: flex;align-items: stretch;justify-content: center;background-color: white;position: relative;}#sk-container-id-4 div.sk-item::before, #sk-container-id-4 div.sk-parallel-item::before {content: \"\";position: absolute;border-left: 1px solid gray;box-sizing: border-box;top: 0;bottom: 0;left: 50%;z-index: -1;}#sk-container-id-4 div.sk-parallel-item {display: flex;flex-direction: column;z-index: 1;position: relative;background-color: white;}#sk-container-id-4 div.sk-parallel-item:first-child::after {align-self: flex-end;width: 50%;}#sk-container-id-4 div.sk-parallel-item:last-child::after {align-self: flex-start;width: 50%;}#sk-container-id-4 div.sk-parallel-item:only-child::after {width: 0;}#sk-container-id-4 div.sk-dashed-wrapped {border: 1px dashed gray;margin: 0 0.4em 0.5em 0.4em;box-sizing: border-box;padding-bottom: 0.4em;background-color: white;}#sk-container-id-4 div.sk-label label {font-family: monospace;font-weight: bold;display: inline-block;line-height: 1.2em;}#sk-container-id-4 div.sk-label-container {text-align: center;}#sk-container-id-4 div.sk-container {/* jupyter's `normalize.less` sets `[hidden] { display: none; }` but bootstrap.min.css set `[hidden] { display: none !important; }` so we also need the `!important` here to be able to override the default hidden behavior on the sphinx rendered scikit-learn.org. See: https://github.com/scikit-learn/scikit-learn/issues/21755 */display: inline-block !important;position: relative;}#sk-container-id-4 div.sk-text-repr-fallback {display: none;}</style><div id=\"sk-container-id-4\" class=\"sk-top-container\"><div class=\"sk-text-repr-fallback\"><pre>LinearRegression()</pre><b>In a Jupyter environment, please rerun this cell to show the HTML representation or trust the notebook. <br />On GitHub, the HTML representation is unable to render, please try loading this page with nbviewer.org.</b></div><div class=\"sk-container\" hidden><div class=\"sk-item\"><div class=\"sk-estimator sk-toggleable\"><input class=\"sk-toggleable__control sk-hidden--visually\" id=\"sk-estimator-id-4\" type=\"checkbox\" checked><label for=\"sk-estimator-id-4\" class=\"sk-toggleable__label sk-toggleable__label-arrow\">LinearRegression</label><div class=\"sk-toggleable__content\"><pre>LinearRegression()</pre></div></div></div></div></div>"
            ]
          },
          "metadata": {},
          "execution_count": 68
        }
      ]
    },
    {
      "cell_type": "code",
      "source": [
        "y_pred3= logr.predict(X_test)\n",
        "mL1=mean_squared_error(y_test,y_pred3)\n",
        "mL2=mean_absolute_error(y_test,y_pred3)\n",
        "r2L=r2_score(y_test,y_pred3, force_finite=False)\n",
        "print(mL1,mL2,r2L)"
      ],
      "metadata": {
        "colab": {
          "base_uri": "https://localhost:8080/"
        },
        "id": "hUDtLWSSmyg-",
        "outputId": "6e63e908-0033-40c2-d21c-69b18c376395"
      },
      "id": "hUDtLWSSmyg-",
      "execution_count": 69,
      "outputs": [
        {
          "output_type": "stream",
          "name": "stdout",
          "text": [
            "0.02491782843422872 0.12552475343028147 0.18831876713188977\n"
          ]
        }
      ]
    },
    {
      "cell_type": "code",
      "source": [
        "X_ts.reset_index(drop=True, inplace=True)\n",
        "X_ts"
      ],
      "metadata": {
        "colab": {
          "base_uri": "https://localhost:8080/",
          "height": 424
        },
        "id": "_wFazTxQq1kM",
        "outputId": "0bd115f2-c209-471b-94a2-79b432128d6e"
      },
      "id": "_wFazTxQq1kM",
      "execution_count": 70,
      "outputs": [
        {
          "output_type": "execute_result",
          "data": {
            "text/plain": [
              "      news_id                                           sentence  \\\n",
              "0       145.0  Antalya 12 Şubat 2008'den itibaren şehrin deği...   \n",
              "1       145.0  158'i hareketli, 337 tanesi sabit olan kameral...   \n",
              "2       145.0  Kameraların aktardığı görüntüler mobese merkez...   \n",
              "3       145.0  Güvenlik güçleri gördükleri en ufak olumsuzluk...   \n",
              "4       145.0  Suçluların tespit edilmesinde kameralar polisi...   \n",
              "...       ...                                                ...   \n",
              "3753   1695.0  Manchester derbisinde 1996'dan bu yana gol ata...   \n",
              "3754   1695.0  Evsahibi taraftarları sevindiren gol ise Rafae...   \n",
              "3755   1695.0  Tevez, takımını öne geçiren golünü ise 65. dak...   \n",
              "3756   1695.0  2-1 yenik duruma düşmesinin ardından rakibini ...   \n",
              "3757   1695.0  Ezeli rakipler, yarı finalin ikinci maçını haf...   \n",
              "\n",
              "                                title  NER  noun_phrase  tfidf  \\\n",
              "0     MOBESEler suç oranını düşürüyor    1            4      0   \n",
              "1     MOBESEler suç oranını düşürüyor    1            2      0   \n",
              "2     MOBESEler suç oranını düşürüyor    0            2      0   \n",
              "3     MOBESEler suç oranını düşürüyor    0            2      0   \n",
              "4     MOBESEler suç oranını düşürüyor    0            0      0   \n",
              "...                               ...  ...          ...    ...   \n",
              "3753    Tevezin intikamı korkunç oldu    2            0      1   \n",
              "3754    Tevezin intikamı korkunç oldu    3            0      1   \n",
              "3755    Tevezin intikamı korkunç oldu    0            0      1   \n",
              "3756    Tevezin intikamı korkunç oldu    3            0      1   \n",
              "3757    Tevezin intikamı korkunç oldu    0            0      0   \n",
              "\n",
              "      sentence_length  position  \n",
              "0            0.049057  1.000000  \n",
              "1            0.045283  0.500000  \n",
              "2            0.033962  0.333333  \n",
              "3            0.045283  0.250000  \n",
              "4            0.033962  0.200000  \n",
              "...               ...       ...  \n",
              "3753         0.090426  0.200000  \n",
              "3754         0.122340  0.166667  \n",
              "3755         0.058511  0.142857  \n",
              "3756         0.164894  0.125000  \n",
              "3757         0.063830  0.111111  \n",
              "\n",
              "[3758 rows x 8 columns]"
            ],
            "text/html": [
              "\n",
              "  <div id=\"df-2a3567c4-eb14-4b20-93fd-6821dddfe0ff\">\n",
              "    <div class=\"colab-df-container\">\n",
              "      <div>\n",
              "<style scoped>\n",
              "    .dataframe tbody tr th:only-of-type {\n",
              "        vertical-align: middle;\n",
              "    }\n",
              "\n",
              "    .dataframe tbody tr th {\n",
              "        vertical-align: top;\n",
              "    }\n",
              "\n",
              "    .dataframe thead th {\n",
              "        text-align: right;\n",
              "    }\n",
              "</style>\n",
              "<table border=\"1\" class=\"dataframe\">\n",
              "  <thead>\n",
              "    <tr style=\"text-align: right;\">\n",
              "      <th></th>\n",
              "      <th>news_id</th>\n",
              "      <th>sentence</th>\n",
              "      <th>title</th>\n",
              "      <th>NER</th>\n",
              "      <th>noun_phrase</th>\n",
              "      <th>tfidf</th>\n",
              "      <th>sentence_length</th>\n",
              "      <th>position</th>\n",
              "    </tr>\n",
              "  </thead>\n",
              "  <tbody>\n",
              "    <tr>\n",
              "      <th>0</th>\n",
              "      <td>145.0</td>\n",
              "      <td>Antalya 12 Şubat 2008'den itibaren şehrin deği...</td>\n",
              "      <td>MOBESEler suç oranını düşürüyor</td>\n",
              "      <td>1</td>\n",
              "      <td>4</td>\n",
              "      <td>0</td>\n",
              "      <td>0.049057</td>\n",
              "      <td>1.000000</td>\n",
              "    </tr>\n",
              "    <tr>\n",
              "      <th>1</th>\n",
              "      <td>145.0</td>\n",
              "      <td>158'i hareketli, 337 tanesi sabit olan kameral...</td>\n",
              "      <td>MOBESEler suç oranını düşürüyor</td>\n",
              "      <td>1</td>\n",
              "      <td>2</td>\n",
              "      <td>0</td>\n",
              "      <td>0.045283</td>\n",
              "      <td>0.500000</td>\n",
              "    </tr>\n",
              "    <tr>\n",
              "      <th>2</th>\n",
              "      <td>145.0</td>\n",
              "      <td>Kameraların aktardığı görüntüler mobese merkez...</td>\n",
              "      <td>MOBESEler suç oranını düşürüyor</td>\n",
              "      <td>0</td>\n",
              "      <td>2</td>\n",
              "      <td>0</td>\n",
              "      <td>0.033962</td>\n",
              "      <td>0.333333</td>\n",
              "    </tr>\n",
              "    <tr>\n",
              "      <th>3</th>\n",
              "      <td>145.0</td>\n",
              "      <td>Güvenlik güçleri gördükleri en ufak olumsuzluk...</td>\n",
              "      <td>MOBESEler suç oranını düşürüyor</td>\n",
              "      <td>0</td>\n",
              "      <td>2</td>\n",
              "      <td>0</td>\n",
              "      <td>0.045283</td>\n",
              "      <td>0.250000</td>\n",
              "    </tr>\n",
              "    <tr>\n",
              "      <th>4</th>\n",
              "      <td>145.0</td>\n",
              "      <td>Suçluların tespit edilmesinde kameralar polisi...</td>\n",
              "      <td>MOBESEler suç oranını düşürüyor</td>\n",
              "      <td>0</td>\n",
              "      <td>0</td>\n",
              "      <td>0</td>\n",
              "      <td>0.033962</td>\n",
              "      <td>0.200000</td>\n",
              "    </tr>\n",
              "    <tr>\n",
              "      <th>...</th>\n",
              "      <td>...</td>\n",
              "      <td>...</td>\n",
              "      <td>...</td>\n",
              "      <td>...</td>\n",
              "      <td>...</td>\n",
              "      <td>...</td>\n",
              "      <td>...</td>\n",
              "      <td>...</td>\n",
              "    </tr>\n",
              "    <tr>\n",
              "      <th>3753</th>\n",
              "      <td>1695.0</td>\n",
              "      <td>Manchester derbisinde 1996'dan bu yana gol ata...</td>\n",
              "      <td>Tevezin intikamı korkunç oldu</td>\n",
              "      <td>2</td>\n",
              "      <td>0</td>\n",
              "      <td>1</td>\n",
              "      <td>0.090426</td>\n",
              "      <td>0.200000</td>\n",
              "    </tr>\n",
              "    <tr>\n",
              "      <th>3754</th>\n",
              "      <td>1695.0</td>\n",
              "      <td>Evsahibi taraftarları sevindiren gol ise Rafae...</td>\n",
              "      <td>Tevezin intikamı korkunç oldu</td>\n",
              "      <td>3</td>\n",
              "      <td>0</td>\n",
              "      <td>1</td>\n",
              "      <td>0.122340</td>\n",
              "      <td>0.166667</td>\n",
              "    </tr>\n",
              "    <tr>\n",
              "      <th>3755</th>\n",
              "      <td>1695.0</td>\n",
              "      <td>Tevez, takımını öne geçiren golünü ise 65. dak...</td>\n",
              "      <td>Tevezin intikamı korkunç oldu</td>\n",
              "      <td>0</td>\n",
              "      <td>0</td>\n",
              "      <td>1</td>\n",
              "      <td>0.058511</td>\n",
              "      <td>0.142857</td>\n",
              "    </tr>\n",
              "    <tr>\n",
              "      <th>3756</th>\n",
              "      <td>1695.0</td>\n",
              "      <td>2-1 yenik duruma düşmesinin ardından rakibini ...</td>\n",
              "      <td>Tevezin intikamı korkunç oldu</td>\n",
              "      <td>3</td>\n",
              "      <td>0</td>\n",
              "      <td>1</td>\n",
              "      <td>0.164894</td>\n",
              "      <td>0.125000</td>\n",
              "    </tr>\n",
              "    <tr>\n",
              "      <th>3757</th>\n",
              "      <td>1695.0</td>\n",
              "      <td>Ezeli rakipler, yarı finalin ikinci maçını haf...</td>\n",
              "      <td>Tevezin intikamı korkunç oldu</td>\n",
              "      <td>0</td>\n",
              "      <td>0</td>\n",
              "      <td>0</td>\n",
              "      <td>0.063830</td>\n",
              "      <td>0.111111</td>\n",
              "    </tr>\n",
              "  </tbody>\n",
              "</table>\n",
              "<p>3758 rows × 8 columns</p>\n",
              "</div>\n",
              "      <button class=\"colab-df-convert\" onclick=\"convertToInteractive('df-2a3567c4-eb14-4b20-93fd-6821dddfe0ff')\"\n",
              "              title=\"Convert this dataframe to an interactive table.\"\n",
              "              style=\"display:none;\">\n",
              "        \n",
              "  <svg xmlns=\"http://www.w3.org/2000/svg\" height=\"24px\"viewBox=\"0 0 24 24\"\n",
              "       width=\"24px\">\n",
              "    <path d=\"M0 0h24v24H0V0z\" fill=\"none\"/>\n",
              "    <path d=\"M18.56 5.44l.94 2.06.94-2.06 2.06-.94-2.06-.94-.94-2.06-.94 2.06-2.06.94zm-11 1L8.5 8.5l.94-2.06 2.06-.94-2.06-.94L8.5 2.5l-.94 2.06-2.06.94zm10 10l.94 2.06.94-2.06 2.06-.94-2.06-.94-.94-2.06-.94 2.06-2.06.94z\"/><path d=\"M17.41 7.96l-1.37-1.37c-.4-.4-.92-.59-1.43-.59-.52 0-1.04.2-1.43.59L10.3 9.45l-7.72 7.72c-.78.78-.78 2.05 0 2.83L4 21.41c.39.39.9.59 1.41.59.51 0 1.02-.2 1.41-.59l7.78-7.78 2.81-2.81c.8-.78.8-2.07 0-2.86zM5.41 20L4 18.59l7.72-7.72 1.47 1.35L5.41 20z\"/>\n",
              "  </svg>\n",
              "      </button>\n",
              "      \n",
              "  <style>\n",
              "    .colab-df-container {\n",
              "      display:flex;\n",
              "      flex-wrap:wrap;\n",
              "      gap: 12px;\n",
              "    }\n",
              "\n",
              "    .colab-df-convert {\n",
              "      background-color: #E8F0FE;\n",
              "      border: none;\n",
              "      border-radius: 50%;\n",
              "      cursor: pointer;\n",
              "      display: none;\n",
              "      fill: #1967D2;\n",
              "      height: 32px;\n",
              "      padding: 0 0 0 0;\n",
              "      width: 32px;\n",
              "    }\n",
              "\n",
              "    .colab-df-convert:hover {\n",
              "      background-color: #E2EBFA;\n",
              "      box-shadow: 0px 1px 2px rgba(60, 64, 67, 0.3), 0px 1px 3px 1px rgba(60, 64, 67, 0.15);\n",
              "      fill: #174EA6;\n",
              "    }\n",
              "\n",
              "    [theme=dark] .colab-df-convert {\n",
              "      background-color: #3B4455;\n",
              "      fill: #D2E3FC;\n",
              "    }\n",
              "\n",
              "    [theme=dark] .colab-df-convert:hover {\n",
              "      background-color: #434B5C;\n",
              "      box-shadow: 0px 1px 3px 1px rgba(0, 0, 0, 0.15);\n",
              "      filter: drop-shadow(0px 1px 2px rgba(0, 0, 0, 0.3));\n",
              "      fill: #FFFFFF;\n",
              "    }\n",
              "  </style>\n",
              "\n",
              "      <script>\n",
              "        const buttonEl =\n",
              "          document.querySelector('#df-2a3567c4-eb14-4b20-93fd-6821dddfe0ff button.colab-df-convert');\n",
              "        buttonEl.style.display =\n",
              "          google.colab.kernel.accessAllowed ? 'block' : 'none';\n",
              "\n",
              "        async function convertToInteractive(key) {\n",
              "          const element = document.querySelector('#df-2a3567c4-eb14-4b20-93fd-6821dddfe0ff');\n",
              "          const dataTable =\n",
              "            await google.colab.kernel.invokeFunction('convertToInteractive',\n",
              "                                                     [key], {});\n",
              "          if (!dataTable) return;\n",
              "\n",
              "          const docLinkHtml = 'Like what you see? Visit the ' +\n",
              "            '<a target=\"_blank\" href=https://colab.research.google.com/notebooks/data_table.ipynb>data table notebook</a>'\n",
              "            + ' to learn more about interactive tables.';\n",
              "          element.innerHTML = '';\n",
              "          dataTable['output_type'] = 'display_data';\n",
              "          await google.colab.output.renderOutput(dataTable, element);\n",
              "          const docLink = document.createElement('div');\n",
              "          docLink.innerHTML = docLinkHtml;\n",
              "          element.appendChild(docLink);\n",
              "        }\n",
              "      </script>\n",
              "    </div>\n",
              "  </div>\n",
              "  "
            ]
          },
          "metadata": {},
          "execution_count": 70
        }
      ]
    },
    {
      "cell_type": "code",
      "source": [],
      "metadata": {
        "id": "yiSUlzBxyg-N"
      },
      "id": "yiSUlzBxyg-N",
      "execution_count": null,
      "outputs": []
    },
    {
      "cell_type": "code",
      "source": [
        "def getMaxs(X,Y,Y_real):\n",
        "  Y_real=Y_real.to_numpy()\n",
        "  max_values = []\n",
        "  real_max_values=[]\n",
        "  index=-1\n",
        "  real_index=-1\n",
        "  curr_id=0\n",
        "  max=-1\n",
        "  real_max=-1\n",
        "  for i in range(len(X.loc[:,\"news_id\"])):\n",
        "    if curr_id != X.loc[i,\"news_id\"].astype(int):\n",
        "      curr_id=X.loc[i,\"news_id\"].astype(int)\n",
        "      if index != -1:\n",
        "        max_values.append(X.loc[index,:])\n",
        "        real_max_values.append(X.loc[real_index,:])\n",
        "      max=-1\n",
        "      index=-1\n",
        "      real_max=-1\n",
        "      real_index=-1\n",
        "    if Y[i]>max:\n",
        "      max=Y[i]\n",
        "      index=i\n",
        "    if Y_real[i][0]>real_max:\n",
        "      real_max=Y_real[i][0]\n",
        "      real_index=i\n",
        "  return (max_values,real_max_values)\n",
        "    \n"
      ],
      "metadata": {
        "id": "aZVZZZDNn3KA"
      },
      "id": "aZVZZZDNn3KA",
      "execution_count": 71,
      "outputs": []
    },
    {
      "cell_type": "code",
      "source": [
        "(b,r_b)=getMaxs(X_ts,Y_pred,y_test)"
      ],
      "metadata": {
        "id": "es7g51-ZzIAU"
      },
      "id": "es7g51-ZzIAU",
      "execution_count": 72,
      "outputs": []
    },
    {
      "cell_type": "code",
      "source": [
        "a=b[:2]"
      ],
      "metadata": {
        "id": "_JWPI1CLty8C"
      },
      "id": "_JWPI1CLty8C",
      "execution_count": 84,
      "outputs": []
    },
    {
      "cell_type": "code",
      "source": [
        "summed=0\n",
        "for i in range(len(b)):\n",
        "  if b[i][\"sentence\"]==r_b[i][\"sentence\"]:\n",
        "    summed+=1"
      ],
      "metadata": {
        "id": "TX_eT3Tt8ftF"
      },
      "id": "TX_eT3Tt8ftF",
      "execution_count": 74,
      "outputs": []
    },
    {
      "cell_type": "code",
      "source": [
        "summed/len(b)"
      ],
      "metadata": {
        "colab": {
          "base_uri": "https://localhost:8080/"
        },
        "id": "IqXCEOl51kiI",
        "outputId": "d2c91536-66df-4c9b-d83f-3fea5b628c21"
      },
      "id": "IqXCEOl51kiI",
      "execution_count": 79,
      "outputs": [
        {
          "output_type": "execute_result",
          "data": {
            "text/plain": [
              "0.27358490566037735"
            ]
          },
          "metadata": {},
          "execution_count": 79
        }
      ]
    },
    {
      "cell_type": "code",
      "source": [
        "from vnlp import DependencyParser,PoSTagger,StopwordRemover, StemmerAnalyzer"
      ],
      "metadata": {
        "id": "ineWX3KtVfBX"
      },
      "id": "ineWX3KtVfBX",
      "execution_count": 80,
      "outputs": []
    },
    {
      "cell_type": "code",
      "source": [
        "deps_parser=dependency_parser()"
      ],
      "metadata": {
        "id": "QkvuUs7f94Ay"
      },
      "id": "QkvuUs7f94Ay",
      "execution_count": 86,
      "outputs": []
    },
    {
      "cell_type": "code",
      "source": [
        "deps_parser"
      ],
      "metadata": {
        "colab": {
          "base_uri": "https://localhost:8080/"
        },
        "id": "Y76PnvdDdfx9",
        "outputId": "a5a9d9ae-5f3d-40c2-bfa7-8db3e4ad6589"
      },
      "id": "Y76PnvdDdfx9",
      "execution_count": null,
      "outputs": [
        {
          "output_type": "execute_result",
          "data": {
            "text/plain": [
              "[[(1, \"Erzincan'da\", 16, 'obl'),\n",
              "  (2, 'dindar', 3, 'amod'),\n",
              "  (3, 'vatandaşlara', 6, 'nmod'),\n",
              "  (4, 'yönelik', 3, 'case'),\n",
              "  (5, 'hukuksuz', 6, 'amod'),\n",
              "  (6, 'gözaltılar', 7, 'nmod:poss'),\n",
              "  (7, 'sebebiyle', 16, 'obl'),\n",
              "  (8, 'savcılığın', 9, 'nmod:poss'),\n",
              "  (9, 'ifadesini', 10, 'obj'),\n",
              "  (10, 'almak', 11, 'xcomp'),\n",
              "  (11, 'istemesine', 15, 'advcl'),\n",
              "  (12, 'rağmen', 11, 'case'),\n",
              "  (13, 'günlerdir', 15, 'advmod'),\n",
              "  (14, 'ifadeye', 15, 'obl'),\n",
              "  (15, 'gitmeyen', 0, 'root'),\n",
              "  (16, ';', 28, 'punct'),\n",
              "  (17, 'bu', 19, 'nsubj'),\n",
              "  (18, 'da', 17, 'advmod:emph'),\n",
              "  (19, 'yetmezmiş', 28, 'advcl'),\n",
              "  (20, 'gibi', 19, 'case'),\n",
              "  (21, 'önceki', 22, 'amod'),\n",
              "  (22, 'gün', 28, 'obl'),\n",
              "  (23, 'de', 22, 'advmod:emph'),\n",
              "  (24, 'askeri', 25, 'amod'),\n",
              "  (25, 'araçları', 27, 'obj'),\n",
              "  (26, 'sokağa', 27, 'obl'),\n",
              "  (27, 'döken', 26, 'acl'),\n",
              "  (28, '3', 17, 'nummod'),\n",
              "  (29, '.', 28, 'punct')],\n",
              " [(1, 'Adalet', 2, 'nmod:poss'),\n",
              "  (2, 'Bakanlığı', 22, 'nsubj'),\n",
              "  (3, ',', 2, 'punct'),\n",
              "  (4, 'askerlere', 8, 'obl'),\n",
              "  (5, 'sivil', 7, 'amod'),\n",
              "  (6, 'yargı', 7, 'nmod:poss'),\n",
              "  (7, 'yolunu', 8, 'obj'),\n",
              "  (8, 'açan', 9, 'acl'),\n",
              "  (9, 'yasanın', 10, 'nmod:poss'),\n",
              "  (10, 'iptalinden', 22, 'obl'),\n",
              "  (11, 'sonra', 10, 'case'),\n",
              "  (12, ',', 22, 'punct'),\n",
              "  (13, 'aynı', 14, 'amod'),\n",
              "  (14, 'değişikliği', 16, 'obj'),\n",
              "  (15, 'Anayasa’da', 16, 'obl'),\n",
              "  (16, 'yapmak', 22, 'advcl'),\n",
              "  (17, 'üzere', 16, 'case'),\n",
              "  (18, 'bir', 20, 'det'),\n",
              "  (19, 'kanun', 20, 'nmod:poss'),\n",
              "  (20, 'teklifi', 21, 'nmod:poss'),\n",
              "  (21, 'taslağı', 22, 'obj'),\n",
              "  (22, 'hazırladı', 0, 'root'),\n",
              "  (23, '.', 22, 'punct')],\n",
              " [(1, 'Ankara', 3, 'nmod:poss'),\n",
              "  (2, 'Giyim', 3, 'nmod:poss'),\n",
              "  (3, 'Sanayicileri', 4, 'nmod:poss'),\n",
              "  (4, 'Derneği', 8, 'nmod:poss'),\n",
              "  (5, '(', 6, 'punct'),\n",
              "  (6, 'AGSD', 4, 'appos'),\n",
              "  (7, ')', 6, 'punct'),\n",
              "  (8, 'Başkanın', 9, 'nmod'),\n",
              "  (9, 'Canip', 27, 'nsubj'),\n",
              "  (10, 'Karakuş', 9, 'flat'),\n",
              "  (11, ',', 29, 'punct'),\n",
              "  (12, 'her', 13, 'det'),\n",
              "  (13, 'pazar', 29, 'obl'),\n",
              "  (14, '400', 16, 'nummod'),\n",
              "  (15, 'milyon', 14, 'flat'),\n",
              "  (16, 'kişinin', 17, 'nsubj'),\n",
              "  (17, 'ziyaret', 20, 'acl'),\n",
              "  (18, 'ettiği', 17, 'compound:lvc'),\n",
              "  (19, 'alışveriş', 20, 'nmod:poss'),\n",
              "  (20, 'merkezlerini', 31, 'obj'),\n",
              "  (21, '(', 22, 'punct'),\n",
              "  (22, 'AVM', 32, 'appos'),\n",
              "  (23, ')', 22, 'punct'),\n",
              "  (24, 'pazar', 25, 'nmod:poss'),\n",
              "  (25, 'günü', 26, 'obl'),\n",
              "  (26, 'kapatmanın', 33, 'nsubj'),\n",
              "  (27, '\"', 29, 'punct'),\n",
              "  (28, 'seri', 29, 'amod'),\n",
              "  (29, 'cinayet', 31, 'obj'),\n",
              "  (30, '\"', 29, 'punct'),\n",
              "  (31, 'olduğunu', 32, 'ccomp'),\n",
              "  (32, 'vurguladı', 0, 'root'),\n",
              "  (33, '.', 32, 'punct')],\n",
              " [(1, 'Hatta', 13, 'advmod'),\n",
              "  (2, 'Cübbeli', 3, 'nmod:poss'),\n",
              "  (3, 'Ahmet', 13, 'nsubj'),\n",
              "  (4, 'Hoca', 3, 'flat'),\n",
              "  (5, 'ünlü', 6, 'amod'),\n",
              "  (6, 'komedyen', 7, 'acl'),\n",
              "  (7, 'Cem', 13, 'nmod:poss'),\n",
              "  (8, \"Yılmaz'ın\", 7, 'flat'),\n",
              "  (9, 'bazı', 10, 'det'),\n",
              "  (10, 'esprileri', 12, 'obj'),\n",
              "  (11, 'kendinden', 12, 'obl'),\n",
              "  (12, 'aldığından', 13, 'ccomp'),\n",
              "  (13, 'emin', 0, 'root'),\n",
              "  (14, '!', 13, 'punct'),\n",
              "  (15, '...', 13, 'punct')],\n",
              " [(1, 'ÇİN', 2, 'det'),\n",
              "  (2, 'MALINA', 4, 'obl'),\n",
              "  (3, 'DİKKAT', 4, 'compound'),\n",
              "  (4, 'Aydın', 0, 'nsubj'),\n",
              "  (5, ',', 4, 'punct'),\n",
              "  (6, 'olası', 7, 'amod'),\n",
              "  (7, 'arızalarda', 15, 'obl'),\n",
              "  (8, 'da', 7, 'advmod:emph'),\n",
              "  (9, 'yan', 10, 'amod'),\n",
              "  (10, 'sanayi', 11, 'nmod:poss'),\n",
              "  (11, 'yerine', 14, 'obl'),\n",
              "  (12, 'orijinal', 13, 'amod'),\n",
              "  (13, 'parçaların', 14, 'nsubj'),\n",
              "  (14, 'kullanılması', 15, 'csubj'),\n",
              "  (15, 'gerektiğini', 17, 'ccomp'),\n",
              "  (16, 'ifade', 17, 'compound'),\n",
              "  (17, 'ederek', 15, 'advcl'),\n",
              "  (18, ',', 15, 'punct'),\n",
              "  (19, '\"', 22, 'punct'),\n",
              "  (20, 'Zaten', 22, 'advmod'),\n",
              "  (21, 'parçaları', 22, 'nsubj'),\n",
              "  (22, 'pahalı', 18, 'conj'),\n",
              "  (1, 'olan', 2, 'acl'),\n",
              "  (2, 'araçlarda', 21, 'obl'),\n",
              "  (3, ',', 21, 'punct'),\n",
              "  (4, 'özellikle', 5, 'advmod'),\n",
              "  (5, 'başta', 21, 'obl'),\n",
              "  (6, 'Çin', 7, 'nmod:poss'),\n",
              "  (7, 'menşeli', 8, 'advcl'),\n",
              "  (8, 'olmak', 18, 'advcl'),\n",
              "  (9, 'üzere', 8, 'case'),\n",
              "  (10, 'kalitesiz', 13, 'amod'),\n",
              "  (11, 'yan', 10, 'amod'),\n",
              "  (12, 'sanayi', 13, 'nmod:poss'),\n",
              "  (13, 'ürünlerinin', 14, 'nsubj'),\n",
              "  (14, 'kullanılması', 15, 'nmod:poss'),\n",
              "  (15, 'durumunda', 18, 'obl'),\n",
              "  (16, 'masraf', 18, 'nsubj'),\n",
              "  (17, 'tahmin', 18, 'acl'),\n",
              "  (18, 'edilemeyecek', 19, 'acl'),\n",
              "  (19, 'miktarda', 20, 'obl'),\n",
              "  (20, 'artabilir', 22, 'ccomp'),\n",
              "  (21, '\"', 20, 'punct'),\n",
              "  (22, 'dedi', 0, 'root'),\n",
              "  (23, '.', 22, 'punct')],\n",
              " [(1, 'İşte', 16, 'advmod'),\n",
              "  (2, 'böyle', 4, 'amod'),\n",
              "  (3, 'bir', 4, 'det'),\n",
              "  (4, 'konuşmanın', 5, 'nmod:poss'),\n",
              "  (5, 'sonucunda', 8, 'obl'),\n",
              "  (6, 'en', 7, 'advmod'),\n",
              "  (7, 'kaprisli', 8, 'amod'),\n",
              "  (8, 'oyuncuların', 13, 'nmod:poss'),\n",
              "  (9, 'Naz', 10, 'nmod:poss'),\n",
              "  (10, 'Elmas', 13, 'nsubj'),\n",
              "  (11, 've', 12, 'cc'),\n",
              "  (12, 'Cansu', 10, 'conj'),\n",
              "  (13, 'Dere', 15, 'ccomp'),\n",
              "  (14, 'olduğu', 13, 'cop'),\n",
              "  (15, 'ortaya', 0, 'root'),\n",
              "  (16, 'çıkmış', 15, 'compound'),\n",
              "  (17, '.', 15, 'punct')],\n",
              " [(1, 'Başbakan', 2, 'nmod:poss'),\n",
              "  (2, 'Yardımcısı', 6, 'nmod:poss'),\n",
              "  (3, 've', 5, 'cc'),\n",
              "  (4, 'Devlet', 5, 'nmod:poss'),\n",
              "  (5, 'Bakanı', 2, 'conj'),\n",
              "  (6, 'Bülent', 19, 'nsubj'),\n",
              "  (7, 'Arınç', 6, 'flat'),\n",
              "  (8, ',', 6, 'punct'),\n",
              "  (9, \"'Balyoz\", 11, 'amod'),\n",
              "  (10, \"'\", 9, 'punct'),\n",
              "  (11, 'darbe', 12, 'nmod:poss'),\n",
              "  (12, 'planı', 13, 'nmod:poss'),\n",
              "  (13, 'haberlerine', 14, 'obl'),\n",
              "  (14, 'tepki', 19, 'advcl'),\n",
              "  (15, 'göstererek', 14, 'compound'),\n",
              "  (16, ',', 14, 'punct'),\n",
              "  (17, 'demokrasiye', 19, 'obl'),\n",
              "  (18, 'balans', 19, 'nmod:poss'),\n",
              "  (19, 'ayarı', 20, 'obl'),\n",
              "  (20, 'yapılması', 21, 'nmod:poss'),\n",
              "  (21, 'sözlerini', 22, 'obj'),\n",
              "  (22, 'hatırlattı', 0, 'root'),\n",
              "  (23, '.', 22, 'punct')],\n",
              " [(1, 'Öğrenci', 2, 'nmod:poss'),\n",
              "  (2, 'Seçme', 5, 'nsubj'),\n",
              "  (3, 've', 4, 'cc'),\n",
              "  (4, 'Yerleştirme', 2, 'conj'),\n",
              "  (5, 'Merkezi', 14, 'nsubj'),\n",
              "  (6, '(', 7, 'punct'),\n",
              "  (7, 'ÖSYM', 5, 'appos'),\n",
              "  (8, ')', 7, 'punct'),\n",
              "  (9, ',', 14, 'punct'),\n",
              "  (10, 'üniversiteye', 14, 'obl'),\n",
              "  (11, 'giriş', 12, 'nmod:poss'),\n",
              "  (12, 'sınavını', 14, 'obj'),\n",
              "  (13, 'yeniden', 14, 'advmod'),\n",
              "  (14, 'değiştirecek', 0, 'root'),\n",
              "  (15, '.', 14, 'punct')],\n",
              " [(1, 'Tren', 16, 'nsubj'),\n",
              "  (2, ',', 1, 'punct'),\n",
              "  (3, 'Acılık', 4, 'nmod:poss'),\n",
              "  (4, 'mevkisinden', 5, 'obl'),\n",
              "  (5, 'geçtiği', 6, 'acl'),\n",
              "  (6, 'sırada', 9, 'obl'),\n",
              "  (7, 'rayların', 8, 'nmod:poss'),\n",
              "  (8, 'üzerinde', 9, 'obl'),\n",
              "  (9, 'yürüyen', 10, 'acl'),\n",
              "  (10, 'İsmail', 16, 'nsubj'),\n",
              "  (11, \"Yıldızöz'e\", 10, 'flat'),\n",
              "  (12, '(', 13, 'punct'),\n",
              "  (13, '48', 10, 'appos'),\n",
              "  (14, ')', 13, 'punct'),\n",
              "  (15, 'çarptı', 0, 'root'),\n",
              "  (16, '.', 15, 'punct')],\n",
              " [(1, 'Yenikapı', 2, 'nmod'),\n",
              "  (2, 'seferini', 3, 'obj'),\n",
              "  (3, 'yapan', 5, 'acl'),\n",
              "  (4, 'deniz', 5, 'nmod'),\n",
              "  (5, 'otobüsü', 12, 'nsubj'),\n",
              "  (6, ',', 5, 'punct'),\n",
              "  (7, 'Küçükçekmece', 8, 'nmod'),\n",
              "  (8, 'açıklarında', 12, 'obl'),\n",
              "  (9, 'hareket', 10, 'nmod'),\n",
              "  (10, 'halindeki', 11, 'amod'),\n",
              "  (11, 'gemiyle', 12, 'obl'),\n",
              "  (12, 'çarpıştı', 0, 'root'),\n",
              "  (13, '.', 12, 'punct')]]"
            ]
          },
          "metadata": {},
          "execution_count": 55
        }
      ]
    },
    {
      "cell_type": "code",
      "source": [
        "import pickle\n",
        "with open(\"test4\", \"wb\") as fp:   #Pickling\n",
        "  pickle.dump(depsss, fp)\n"
      ],
      "metadata": {
        "id": "t23USD6wgjEW"
      },
      "id": "t23USD6wgjEW",
      "execution_count": null,
      "outputs": []
    },
    {
      "cell_type": "code",
      "source": [
        "basliks=[]\n",
        "for title in titles:\n",
        "  baslik=\"\"\n",
        "  if type(title)==str:\n",
        "    basliks.append(title)\n",
        "    continue\n",
        "  for kelime in title:\n",
        "    baslik +=\" \"+kelime[1]\n",
        "  basliks.append(baslik)\n",
        "\n"
      ],
      "metadata": {
        "id": "MkYCfqWGjzoU"
      },
      "execution_count": null,
      "outputs": [],
      "id": "MkYCfqWGjzoU"
    },
    {
      "cell_type": "code",
      "source": [
        "basliks"
      ],
      "metadata": {
        "colab": {
          "base_uri": "https://localhost:8080/"
        },
        "id": "mX8MGAsuDL5Z",
        "outputId": "92125185-7a7b-4069-ab16-cb17216d1c46"
      },
      "id": "mX8MGAsuDL5Z",
      "execution_count": null,
      "outputs": [
        {
          "output_type": "execute_result",
          "data": {
            "text/plain": [
              "[' gitmeyen ifadeye',\n",
              " ' taslağı Bakanlığı iptalinden kanun bir hazırladı yasanın teklifi Adalet',\n",
              " ' olduğunu vurguladı',\n",
              " \" aldığından Cem emin kendinden Ahmet Cübbeli Hoca Yılmaz'ın\",\n",
              " ' \" başta araçlarda dedi Aydın ÇİN DİKKAT parçaları MALINA',\n",
              " ' ortaya olduğu çıkmış',\n",
              " ' balans sözlerini demokrasiye yapılması ayarı hatırlattı',\n",
              " ' yeniden üniversiteye Merkezi değiştirecek',\n",
              " ' çarptı )',\n",
              " '']"
            ]
          },
          "metadata": {},
          "execution_count": 60
        }
      ]
    },
    {
      "cell_type": "code",
      "source": [],
      "metadata": {
        "id": "eFpsQGf7f2db"
      },
      "id": "eFpsQGf7f2db",
      "execution_count": null,
      "outputs": []
    },
    {
      "cell_type": "code",
      "source": [],
      "metadata": {
        "id": "sJed2ahZf2fl"
      },
      "id": "sJed2ahZf2fl",
      "execution_count": null,
      "outputs": []
    },
    {
      "cell_type": "code",
      "source": [],
      "metadata": {
        "id": "8Ed9X69Gf2h8"
      },
      "id": "8Ed9X69Gf2h8",
      "execution_count": null,
      "outputs": []
    },
    {
      "cell_type": "code",
      "source": [],
      "metadata": {
        "id": "4yUTR3XVf2kX"
      },
      "id": "4yUTR3XVf2kX",
      "execution_count": null,
      "outputs": []
    },
    {
      "cell_type": "code",
      "source": [],
      "metadata": {
        "id": "QLygQerOf2mk"
      },
      "id": "QLygQerOf2mk",
      "execution_count": null,
      "outputs": []
    },
    {
      "cell_type": "code",
      "source": [],
      "metadata": {
        "id": "i8kmyZMQf2pT"
      },
      "id": "i8kmyZMQf2pT",
      "execution_count": null,
      "outputs": []
    },
    {
      "cell_type": "code",
      "source": [],
      "metadata": {
        "id": "LNClPuJEf2sH"
      },
      "id": "LNClPuJEf2sH",
      "execution_count": null,
      "outputs": []
    },
    {
      "cell_type": "code",
      "source": [
        "sentence=\"\"\"Salı günü yayınlanan bir röportajda Krishna, şirketin insan kaynakları gibi arka ofis işlevleri için işe alımları yavaşlatmayı veya tamamen askıya almayı planladığını açıkladı ve bu müşteriyle doğrudan karşı karşıya olmayan rollerin şu anda yaklaşık 26 bin çalışana ulaştığına dikkat çekti. Krishna , \"Beş yıllık bir süre içinde bunun yüzde 30'unun yapay zeka ve otomasyonla değiştirildiğini kolayca görebiliyorum\" dedi ve yapay zeka kaynaklı işten çıkarmaların yaklaşık 7 bin 800 işçiyi etkileyebileceğini öne sürdü. Bir IBM sözcüsü, şirketin şu anda bu pozisyonları dolduran herhangi bir kişiyi kovma niyetinde olmadığını, ancak yıpranma nedeniyle boşalan işlerin artık yeniden doldurulmayacağına dikkat çekti. Teknoloji devinin başka bir sözcüsü de genel bir işe alma 'duraklatma' uygulamasının olmadığını ve IBM'in gelir getirici rollere odaklanarak işe alımlarda düşünceli davrandığını açıkladı. Sözcü, şirketin \"müşterilerimize veya teknolojimize doğrudan temas etmeyen işleri doldururken çok seçici\" olduğunu sözlerine ekledi. IBM'in hala binlerce pozisyon için aktif olarak işe aldığına dikkat çekiyor\"\"\""
      ],
      "metadata": {
        "id": "mvf6WVefWnnA"
      },
      "id": "mvf6WVefWnnA",
      "execution_count": 214,
      "outputs": []
    },
    {
      "cell_type": "code",
      "source": [
        "d = {'news_id': [], 'sentence': [],\"words\":[],\"title\":[]}\n",
        "data = pd.DataFrame(data=d)\n",
        "data"
      ],
      "metadata": {
        "colab": {
          "base_uri": "https://localhost:8080/",
          "height": 49
        },
        "id": "04sJ8rqecDAY",
        "outputId": "f1e33b77-24f4-4fbe-e1cf-65382e80d7c3"
      },
      "id": "04sJ8rqecDAY",
      "execution_count": 215,
      "outputs": [
        {
          "output_type": "execute_result",
          "data": {
            "text/plain": [
              "Empty DataFrame\n",
              "Columns: [news_id, sentence, words, title]\n",
              "Index: []"
            ],
            "text/html": [
              "\n",
              "  <div id=\"df-df31e4f6-7233-4803-a601-aa71d14ae0aa\">\n",
              "    <div class=\"colab-df-container\">\n",
              "      <div>\n",
              "<style scoped>\n",
              "    .dataframe tbody tr th:only-of-type {\n",
              "        vertical-align: middle;\n",
              "    }\n",
              "\n",
              "    .dataframe tbody tr th {\n",
              "        vertical-align: top;\n",
              "    }\n",
              "\n",
              "    .dataframe thead th {\n",
              "        text-align: right;\n",
              "    }\n",
              "</style>\n",
              "<table border=\"1\" class=\"dataframe\">\n",
              "  <thead>\n",
              "    <tr style=\"text-align: right;\">\n",
              "      <th></th>\n",
              "      <th>news_id</th>\n",
              "      <th>sentence</th>\n",
              "      <th>words</th>\n",
              "      <th>title</th>\n",
              "    </tr>\n",
              "  </thead>\n",
              "  <tbody>\n",
              "  </tbody>\n",
              "</table>\n",
              "</div>\n",
              "      <button class=\"colab-df-convert\" onclick=\"convertToInteractive('df-df31e4f6-7233-4803-a601-aa71d14ae0aa')\"\n",
              "              title=\"Convert this dataframe to an interactive table.\"\n",
              "              style=\"display:none;\">\n",
              "        \n",
              "  <svg xmlns=\"http://www.w3.org/2000/svg\" height=\"24px\"viewBox=\"0 0 24 24\"\n",
              "       width=\"24px\">\n",
              "    <path d=\"M0 0h24v24H0V0z\" fill=\"none\"/>\n",
              "    <path d=\"M18.56 5.44l.94 2.06.94-2.06 2.06-.94-2.06-.94-.94-2.06-.94 2.06-2.06.94zm-11 1L8.5 8.5l.94-2.06 2.06-.94-2.06-.94L8.5 2.5l-.94 2.06-2.06.94zm10 10l.94 2.06.94-2.06 2.06-.94-2.06-.94-.94-2.06-.94 2.06-2.06.94z\"/><path d=\"M17.41 7.96l-1.37-1.37c-.4-.4-.92-.59-1.43-.59-.52 0-1.04.2-1.43.59L10.3 9.45l-7.72 7.72c-.78.78-.78 2.05 0 2.83L4 21.41c.39.39.9.59 1.41.59.51 0 1.02-.2 1.41-.59l7.78-7.78 2.81-2.81c.8-.78.8-2.07 0-2.86zM5.41 20L4 18.59l7.72-7.72 1.47 1.35L5.41 20z\"/>\n",
              "  </svg>\n",
              "      </button>\n",
              "      \n",
              "  <style>\n",
              "    .colab-df-container {\n",
              "      display:flex;\n",
              "      flex-wrap:wrap;\n",
              "      gap: 12px;\n",
              "    }\n",
              "\n",
              "    .colab-df-convert {\n",
              "      background-color: #E8F0FE;\n",
              "      border: none;\n",
              "      border-radius: 50%;\n",
              "      cursor: pointer;\n",
              "      display: none;\n",
              "      fill: #1967D2;\n",
              "      height: 32px;\n",
              "      padding: 0 0 0 0;\n",
              "      width: 32px;\n",
              "    }\n",
              "\n",
              "    .colab-df-convert:hover {\n",
              "      background-color: #E2EBFA;\n",
              "      box-shadow: 0px 1px 2px rgba(60, 64, 67, 0.3), 0px 1px 3px 1px rgba(60, 64, 67, 0.15);\n",
              "      fill: #174EA6;\n",
              "    }\n",
              "\n",
              "    [theme=dark] .colab-df-convert {\n",
              "      background-color: #3B4455;\n",
              "      fill: #D2E3FC;\n",
              "    }\n",
              "\n",
              "    [theme=dark] .colab-df-convert:hover {\n",
              "      background-color: #434B5C;\n",
              "      box-shadow: 0px 1px 3px 1px rgba(0, 0, 0, 0.15);\n",
              "      filter: drop-shadow(0px 1px 2px rgba(0, 0, 0, 0.3));\n",
              "      fill: #FFFFFF;\n",
              "    }\n",
              "  </style>\n",
              "\n",
              "      <script>\n",
              "        const buttonEl =\n",
              "          document.querySelector('#df-df31e4f6-7233-4803-a601-aa71d14ae0aa button.colab-df-convert');\n",
              "        buttonEl.style.display =\n",
              "          google.colab.kernel.accessAllowed ? 'block' : 'none';\n",
              "\n",
              "        async function convertToInteractive(key) {\n",
              "          const element = document.querySelector('#df-df31e4f6-7233-4803-a601-aa71d14ae0aa');\n",
              "          const dataTable =\n",
              "            await google.colab.kernel.invokeFunction('convertToInteractive',\n",
              "                                                     [key], {});\n",
              "          if (!dataTable) return;\n",
              "\n",
              "          const docLinkHtml = 'Like what you see? Visit the ' +\n",
              "            '<a target=\"_blank\" href=https://colab.research.google.com/notebooks/data_table.ipynb>data table notebook</a>'\n",
              "            + ' to learn more about interactive tables.';\n",
              "          element.innerHTML = '';\n",
              "          dataTable['output_type'] = 'display_data';\n",
              "          await google.colab.output.renderOutput(dataTable, element);\n",
              "          const docLink = document.createElement('div');\n",
              "          docLink.innerHTML = docLinkHtml;\n",
              "          element.appendChild(docLink);\n",
              "        }\n",
              "      </script>\n",
              "    </div>\n",
              "  </div>\n",
              "  "
            ]
          },
          "metadata": {},
          "execution_count": 215
        }
      ]
    },
    {
      "cell_type": "code",
      "source": [
        "translator = str.maketrans('', '', string.punctuation)\n",
        "stopword_remover = StopwordRemover()"
      ],
      "metadata": {
        "id": "HZnA37lwWnpd"
      },
      "id": "HZnA37lwWnpd",
      "execution_count": 130,
      "outputs": []
    },
    {
      "cell_type": "code",
      "source": [
        "arr=sent_tokenize(sentence)\n",
        "for j in arr:\n",
        "    dicta = {'news_id':0,'sentence': j,\"words\":[nltk.word_tokenize(j.translate(translator).replace(\"“\",\"\").replace(\"’\",\"\").replace(\"'\",\"\"))]}\n",
        "    result = pd.DataFrame(dicta)\n",
        "    data = pd.concat([data,result],ignore_index=True)"
      ],
      "metadata": {
        "id": "aqg1urLxWnr7"
      },
      "id": "aqg1urLxWnr7",
      "execution_count": 216,
      "outputs": []
    },
    {
      "cell_type": "code",
      "source": [
        "data"
      ],
      "metadata": {
        "colab": {
          "base_uri": "https://localhost:8080/",
          "height": 206
        },
        "id": "fTrtZppQcFaG",
        "outputId": "bde129ed-76d0-4579-c82f-aa63be3d8ac8"
      },
      "id": "fTrtZppQcFaG",
      "execution_count": 217,
      "outputs": [
        {
          "output_type": "execute_result",
          "data": {
            "text/plain": [
              "   news_id                                           sentence  \\\n",
              "0      0.0  Salı günü yayınlanan bir röportajda Krishna, ş...   \n",
              "1      0.0  Krishna , \"Beş yıllık bir süre içinde bunun yü...   \n",
              "2      0.0  Bir IBM sözcüsü, şirketin şu anda bu pozisyonl...   \n",
              "3      0.0  Teknoloji devinin başka bir sözcüsü de genel b...   \n",
              "4      0.0  IBM'in hala binlerce pozisyon için aktif olara...   \n",
              "\n",
              "                                               words  title  \n",
              "0  [Salı, günü, yayınlanan, bir, röportajda, Kris...    NaN  \n",
              "1  [Krishna, Beş, yıllık, bir, süre, içinde, bunu...    NaN  \n",
              "2  [Bir, IBM, sözcüsü, şirketin, şu, anda, bu, po...    NaN  \n",
              "3  [Teknoloji, devinin, başka, bir, sözcüsü, de, ...    NaN  \n",
              "4  [IBMin, hala, binlerce, pozisyon, için, aktif,...    NaN  "
            ],
            "text/html": [
              "\n",
              "  <div id=\"df-ac25581c-9712-4f20-8474-9ece70ea141e\">\n",
              "    <div class=\"colab-df-container\">\n",
              "      <div>\n",
              "<style scoped>\n",
              "    .dataframe tbody tr th:only-of-type {\n",
              "        vertical-align: middle;\n",
              "    }\n",
              "\n",
              "    .dataframe tbody tr th {\n",
              "        vertical-align: top;\n",
              "    }\n",
              "\n",
              "    .dataframe thead th {\n",
              "        text-align: right;\n",
              "    }\n",
              "</style>\n",
              "<table border=\"1\" class=\"dataframe\">\n",
              "  <thead>\n",
              "    <tr style=\"text-align: right;\">\n",
              "      <th></th>\n",
              "      <th>news_id</th>\n",
              "      <th>sentence</th>\n",
              "      <th>words</th>\n",
              "      <th>title</th>\n",
              "    </tr>\n",
              "  </thead>\n",
              "  <tbody>\n",
              "    <tr>\n",
              "      <th>0</th>\n",
              "      <td>0.0</td>\n",
              "      <td>Salı günü yayınlanan bir röportajda Krishna, ş...</td>\n",
              "      <td>[Salı, günü, yayınlanan, bir, röportajda, Kris...</td>\n",
              "      <td>NaN</td>\n",
              "    </tr>\n",
              "    <tr>\n",
              "      <th>1</th>\n",
              "      <td>0.0</td>\n",
              "      <td>Krishna , \"Beş yıllık bir süre içinde bunun yü...</td>\n",
              "      <td>[Krishna, Beş, yıllık, bir, süre, içinde, bunu...</td>\n",
              "      <td>NaN</td>\n",
              "    </tr>\n",
              "    <tr>\n",
              "      <th>2</th>\n",
              "      <td>0.0</td>\n",
              "      <td>Bir IBM sözcüsü, şirketin şu anda bu pozisyonl...</td>\n",
              "      <td>[Bir, IBM, sözcüsü, şirketin, şu, anda, bu, po...</td>\n",
              "      <td>NaN</td>\n",
              "    </tr>\n",
              "    <tr>\n",
              "      <th>3</th>\n",
              "      <td>0.0</td>\n",
              "      <td>Teknoloji devinin başka bir sözcüsü de genel b...</td>\n",
              "      <td>[Teknoloji, devinin, başka, bir, sözcüsü, de, ...</td>\n",
              "      <td>NaN</td>\n",
              "    </tr>\n",
              "    <tr>\n",
              "      <th>4</th>\n",
              "      <td>0.0</td>\n",
              "      <td>IBM'in hala binlerce pozisyon için aktif olara...</td>\n",
              "      <td>[IBMin, hala, binlerce, pozisyon, için, aktif,...</td>\n",
              "      <td>NaN</td>\n",
              "    </tr>\n",
              "  </tbody>\n",
              "</table>\n",
              "</div>\n",
              "      <button class=\"colab-df-convert\" onclick=\"convertToInteractive('df-ac25581c-9712-4f20-8474-9ece70ea141e')\"\n",
              "              title=\"Convert this dataframe to an interactive table.\"\n",
              "              style=\"display:none;\">\n",
              "        \n",
              "  <svg xmlns=\"http://www.w3.org/2000/svg\" height=\"24px\"viewBox=\"0 0 24 24\"\n",
              "       width=\"24px\">\n",
              "    <path d=\"M0 0h24v24H0V0z\" fill=\"none\"/>\n",
              "    <path d=\"M18.56 5.44l.94 2.06.94-2.06 2.06-.94-2.06-.94-.94-2.06-.94 2.06-2.06.94zm-11 1L8.5 8.5l.94-2.06 2.06-.94-2.06-.94L8.5 2.5l-.94 2.06-2.06.94zm10 10l.94 2.06.94-2.06 2.06-.94-2.06-.94-.94-2.06-.94 2.06-2.06.94z\"/><path d=\"M17.41 7.96l-1.37-1.37c-.4-.4-.92-.59-1.43-.59-.52 0-1.04.2-1.43.59L10.3 9.45l-7.72 7.72c-.78.78-.78 2.05 0 2.83L4 21.41c.39.39.9.59 1.41.59.51 0 1.02-.2 1.41-.59l7.78-7.78 2.81-2.81c.8-.78.8-2.07 0-2.86zM5.41 20L4 18.59l7.72-7.72 1.47 1.35L5.41 20z\"/>\n",
              "  </svg>\n",
              "      </button>\n",
              "      \n",
              "  <style>\n",
              "    .colab-df-container {\n",
              "      display:flex;\n",
              "      flex-wrap:wrap;\n",
              "      gap: 12px;\n",
              "    }\n",
              "\n",
              "    .colab-df-convert {\n",
              "      background-color: #E8F0FE;\n",
              "      border: none;\n",
              "      border-radius: 50%;\n",
              "      cursor: pointer;\n",
              "      display: none;\n",
              "      fill: #1967D2;\n",
              "      height: 32px;\n",
              "      padding: 0 0 0 0;\n",
              "      width: 32px;\n",
              "    }\n",
              "\n",
              "    .colab-df-convert:hover {\n",
              "      background-color: #E2EBFA;\n",
              "      box-shadow: 0px 1px 2px rgba(60, 64, 67, 0.3), 0px 1px 3px 1px rgba(60, 64, 67, 0.15);\n",
              "      fill: #174EA6;\n",
              "    }\n",
              "\n",
              "    [theme=dark] .colab-df-convert {\n",
              "      background-color: #3B4455;\n",
              "      fill: #D2E3FC;\n",
              "    }\n",
              "\n",
              "    [theme=dark] .colab-df-convert:hover {\n",
              "      background-color: #434B5C;\n",
              "      box-shadow: 0px 1px 3px 1px rgba(0, 0, 0, 0.15);\n",
              "      filter: drop-shadow(0px 1px 2px rgba(0, 0, 0, 0.3));\n",
              "      fill: #FFFFFF;\n",
              "    }\n",
              "  </style>\n",
              "\n",
              "      <script>\n",
              "        const buttonEl =\n",
              "          document.querySelector('#df-ac25581c-9712-4f20-8474-9ece70ea141e button.colab-df-convert');\n",
              "        buttonEl.style.display =\n",
              "          google.colab.kernel.accessAllowed ? 'block' : 'none';\n",
              "\n",
              "        async function convertToInteractive(key) {\n",
              "          const element = document.querySelector('#df-ac25581c-9712-4f20-8474-9ece70ea141e');\n",
              "          const dataTable =\n",
              "            await google.colab.kernel.invokeFunction('convertToInteractive',\n",
              "                                                     [key], {});\n",
              "          if (!dataTable) return;\n",
              "\n",
              "          const docLinkHtml = 'Like what you see? Visit the ' +\n",
              "            '<a target=\"_blank\" href=https://colab.research.google.com/notebooks/data_table.ipynb>data table notebook</a>'\n",
              "            + ' to learn more about interactive tables.';\n",
              "          element.innerHTML = '';\n",
              "          dataTable['output_type'] = 'display_data';\n",
              "          await google.colab.output.renderOutput(dataTable, element);\n",
              "          const docLink = document.createElement('div');\n",
              "          docLink.innerHTML = docLinkHtml;\n",
              "          element.appendChild(docLink);\n",
              "        }\n",
              "      </script>\n",
              "    </div>\n",
              "  </div>\n",
              "  "
            ]
          },
          "metadata": {},
          "execution_count": 217
        }
      ]
    },
    {
      "cell_type": "code",
      "source": [
        "def entities_in_string(a_string):\n",
        "    result = ner.findNamedEntities(JString(str(a_string.replace('i', 'İ').upper())))\n",
        "    namedEntities = result.getNamedEntities();\n",
        "    return namedEntities#nerin fonksiyon hali"
      ],
      "metadata": {
        "id": "5yOSYKEEXiNv"
      },
      "id": "5yOSYKEEXiNv",
      "execution_count": 218,
      "outputs": []
    },
    {
      "cell_type": "code",
      "source": [
        "data[\"NER\"]=0\n",
        "t=0;\n",
        "for i in data.sentence:\n",
        "    a=entities_in_string(i)\n",
        "    data.loc[t,\"NER\"]=len(a)\n",
        "    t+=1"
      ],
      "metadata": {
        "id": "OZvzmmunXk63"
      },
      "id": "OZvzmmunXk63",
      "execution_count": 242,
      "outputs": []
    },
    {
      "cell_type": "code",
      "source": [
        "def tfidf(thres):\n",
        "    data[\"tfidf\"]=0\n",
        "    ind=0\n",
        "    ind2=0\n",
        "    while ind<len(data.sentence):\n",
        "        id=data.loc[ind,\"news_id\"]\n",
        "        metin=ret_text(ind)\n",
        "        vectorizer = TfidfVectorizer()\n",
        "        X = vectorizer.fit_transform([metin])\n",
        "        X.toarray()\n",
        "        tfidf_dict = dict(zip(vectorizer.get_feature_names_out(), X.toarray().sum(axis=0)))\n",
        "        arr=[]\n",
        "        print(\"works\")\n",
        "        for word in  tfidf_dict:\n",
        "            if tfidf_dict[word]>thres:\n",
        "                arr.append(word)\n",
        "        #print(arr)\n",
        "        while ind<len(data.news_id)and ind2==data.loc[ind,\"news_id\"]:\n",
        "            for word in arr:\n",
        "                if word in data.loc[ind,\"sentence\"]:\n",
        "                    data.loc[ind,\"tfidf\"]+=1\n",
        "            ind+=1\n",
        "        \n",
        "        ind2+=1"
      ],
      "metadata": {
        "id": "Z0A7z-ymWnw7"
      },
      "id": "Z0A7z-ymWnw7",
      "execution_count": 220,
      "outputs": []
    },
    {
      "cell_type": "code",
      "source": [
        "def ret_text(ind):\n",
        "    id=data.loc[ind,\"news_id\"]\n",
        "    metin=\"\"\n",
        "    while ind<len(data.news_id) and data.loc[ind,\"news_id\"]==id:\n",
        "        metin+=data.loc[ind,\"sentence\"]\n",
        "        ind+=1\n",
        "    return metin"
      ],
      "metadata": {
        "id": "63FMN-n6XnSx"
      },
      "id": "63FMN-n6XnSx",
      "execution_count": 221,
      "outputs": []
    },
    {
      "cell_type": "code",
      "source": [
        "tfidf(0.2)"
      ],
      "metadata": {
        "colab": {
          "base_uri": "https://localhost:8080/"
        },
        "id": "Nwgo4kZMXp00",
        "outputId": "cfcde171-a756-457b-f197-c971afa85325"
      },
      "id": "Nwgo4kZMXp00",
      "execution_count": 243,
      "outputs": [
        {
          "output_type": "stream",
          "name": "stdout",
          "text": [
            "works\n"
          ]
        }
      ]
    },
    {
      "cell_type": "code",
      "source": [
        "dep_parser = DependencyParser()\n",
        "def dependency_parser():\n",
        "    data[\"noun_phrase\"]=0\n",
        "    i=0\n",
        "    for sentence in data.sentence:\n",
        "        #print(sentence)\n",
        "        try:\n",
        "            parsed=dep_parser.predict(sentence)\n",
        "            for token in parsed:\n",
        "                if(token[3]==\"nmod\"):\n",
        "                    data.loc[i,\"noun_phrase\"]+=1\n",
        "        except Exception:\n",
        "            a=sentence.split()\n",
        "            parsed=dep_parser.predict(\" \".join(a[0:len(a)//2]))\n",
        "            for token in parsed:\n",
        "                if(token[3]==\"nmod\"):\n",
        "                    data.loc[i,\"noun_phrase\"]+=1\n",
        "            parsed=dep_parser.predict(\" \".join(a[len(a)//2:len(a)]))\n",
        "            for token in parsed:\n",
        "                if(token[3]==\"nmod\"):\n",
        "                    data.loc[i,\"noun_phrase\"]+=1\n",
        "        \n",
        "        i+=1\n",
        "                "
      ],
      "metadata": {
        "id": "VGpTzN6CXt66"
      },
      "id": "VGpTzN6CXt66",
      "execution_count": 223,
      "outputs": []
    },
    {
      "cell_type": "code",
      "source": [
        "dependency_parser()"
      ],
      "metadata": {
        "id": "TQbVURCrXvyt"
      },
      "id": "TQbVURCrXvyt",
      "execution_count": 229,
      "outputs": []
    },
    {
      "cell_type": "code",
      "source": [
        "data"
      ],
      "metadata": {
        "colab": {
          "base_uri": "https://localhost:8080/",
          "height": 337
        },
        "id": "INVey0mvsXtA",
        "outputId": "c8807384-9529-40c6-a44f-f3a6ca523f1a"
      },
      "id": "INVey0mvsXtA",
      "execution_count": 244,
      "outputs": [
        {
          "output_type": "execute_result",
          "data": {
            "text/plain": [
              "   news_id                                           sentence  \\\n",
              "0      0.0  Salı günü yayınlanan bir röportajda Krishna, ş...   \n",
              "1      0.0  Krishna , \"Beş yıllık bir süre içinde bunun yü...   \n",
              "2      0.0  Bir IBM sözcüsü, şirketin şu anda bu pozisyonl...   \n",
              "3      0.0  Teknoloji devinin başka bir sözcüsü de genel b...   \n",
              "4      0.0  IBM'in hala binlerce pozisyon için aktif olara...   \n",
              "\n",
              "                                               words  title  NER  tfidf  \\\n",
              "0  [Salı, günü, yayınlanan, bir, röportajda, Kris...    NaN    0      3   \n",
              "1  [Krishna, Beş, yıllık, bir, süre, içinde, bunu...    NaN    0      2   \n",
              "2  [Bir, IBM, sözcüsü, şirketin, şu, anda, bu, po...    NaN    0      1   \n",
              "3  [Teknoloji, devinin, başka, bir, sözcüsü, de, ...    NaN    1      3   \n",
              "4  [IBMin, hala, binlerce, pozisyon, için, aktif,...    NaN    0      1   \n",
              "\n",
              "   sentence_length  position  noun_phrase  \n",
              "0               40  1.000000            5  \n",
              "1               31  0.500000            0  \n",
              "2               25  0.333333            0  \n",
              "3               39  0.250000            0  \n",
              "4               11  0.200000            0  "
            ],
            "text/html": [
              "\n",
              "  <div id=\"df-56c3c650-5c50-4b6e-beaa-3c6f578c1651\">\n",
              "    <div class=\"colab-df-container\">\n",
              "      <div>\n",
              "<style scoped>\n",
              "    .dataframe tbody tr th:only-of-type {\n",
              "        vertical-align: middle;\n",
              "    }\n",
              "\n",
              "    .dataframe tbody tr th {\n",
              "        vertical-align: top;\n",
              "    }\n",
              "\n",
              "    .dataframe thead th {\n",
              "        text-align: right;\n",
              "    }\n",
              "</style>\n",
              "<table border=\"1\" class=\"dataframe\">\n",
              "  <thead>\n",
              "    <tr style=\"text-align: right;\">\n",
              "      <th></th>\n",
              "      <th>news_id</th>\n",
              "      <th>sentence</th>\n",
              "      <th>words</th>\n",
              "      <th>title</th>\n",
              "      <th>NER</th>\n",
              "      <th>tfidf</th>\n",
              "      <th>sentence_length</th>\n",
              "      <th>position</th>\n",
              "      <th>noun_phrase</th>\n",
              "    </tr>\n",
              "  </thead>\n",
              "  <tbody>\n",
              "    <tr>\n",
              "      <th>0</th>\n",
              "      <td>0.0</td>\n",
              "      <td>Salı günü yayınlanan bir röportajda Krishna, ş...</td>\n",
              "      <td>[Salı, günü, yayınlanan, bir, röportajda, Kris...</td>\n",
              "      <td>NaN</td>\n",
              "      <td>0</td>\n",
              "      <td>3</td>\n",
              "      <td>40</td>\n",
              "      <td>1.000000</td>\n",
              "      <td>5</td>\n",
              "    </tr>\n",
              "    <tr>\n",
              "      <th>1</th>\n",
              "      <td>0.0</td>\n",
              "      <td>Krishna , \"Beş yıllık bir süre içinde bunun yü...</td>\n",
              "      <td>[Krishna, Beş, yıllık, bir, süre, içinde, bunu...</td>\n",
              "      <td>NaN</td>\n",
              "      <td>0</td>\n",
              "      <td>2</td>\n",
              "      <td>31</td>\n",
              "      <td>0.500000</td>\n",
              "      <td>0</td>\n",
              "    </tr>\n",
              "    <tr>\n",
              "      <th>2</th>\n",
              "      <td>0.0</td>\n",
              "      <td>Bir IBM sözcüsü, şirketin şu anda bu pozisyonl...</td>\n",
              "      <td>[Bir, IBM, sözcüsü, şirketin, şu, anda, bu, po...</td>\n",
              "      <td>NaN</td>\n",
              "      <td>0</td>\n",
              "      <td>1</td>\n",
              "      <td>25</td>\n",
              "      <td>0.333333</td>\n",
              "      <td>0</td>\n",
              "    </tr>\n",
              "    <tr>\n",
              "      <th>3</th>\n",
              "      <td>0.0</td>\n",
              "      <td>Teknoloji devinin başka bir sözcüsü de genel b...</td>\n",
              "      <td>[Teknoloji, devinin, başka, bir, sözcüsü, de, ...</td>\n",
              "      <td>NaN</td>\n",
              "      <td>1</td>\n",
              "      <td>3</td>\n",
              "      <td>39</td>\n",
              "      <td>0.250000</td>\n",
              "      <td>0</td>\n",
              "    </tr>\n",
              "    <tr>\n",
              "      <th>4</th>\n",
              "      <td>0.0</td>\n",
              "      <td>IBM'in hala binlerce pozisyon için aktif olara...</td>\n",
              "      <td>[IBMin, hala, binlerce, pozisyon, için, aktif,...</td>\n",
              "      <td>NaN</td>\n",
              "      <td>0</td>\n",
              "      <td>1</td>\n",
              "      <td>11</td>\n",
              "      <td>0.200000</td>\n",
              "      <td>0</td>\n",
              "    </tr>\n",
              "  </tbody>\n",
              "</table>\n",
              "</div>\n",
              "      <button class=\"colab-df-convert\" onclick=\"convertToInteractive('df-56c3c650-5c50-4b6e-beaa-3c6f578c1651')\"\n",
              "              title=\"Convert this dataframe to an interactive table.\"\n",
              "              style=\"display:none;\">\n",
              "        \n",
              "  <svg xmlns=\"http://www.w3.org/2000/svg\" height=\"24px\"viewBox=\"0 0 24 24\"\n",
              "       width=\"24px\">\n",
              "    <path d=\"M0 0h24v24H0V0z\" fill=\"none\"/>\n",
              "    <path d=\"M18.56 5.44l.94 2.06.94-2.06 2.06-.94-2.06-.94-.94-2.06-.94 2.06-2.06.94zm-11 1L8.5 8.5l.94-2.06 2.06-.94-2.06-.94L8.5 2.5l-.94 2.06-2.06.94zm10 10l.94 2.06.94-2.06 2.06-.94-2.06-.94-.94-2.06-.94 2.06-2.06.94z\"/><path d=\"M17.41 7.96l-1.37-1.37c-.4-.4-.92-.59-1.43-.59-.52 0-1.04.2-1.43.59L10.3 9.45l-7.72 7.72c-.78.78-.78 2.05 0 2.83L4 21.41c.39.39.9.59 1.41.59.51 0 1.02-.2 1.41-.59l7.78-7.78 2.81-2.81c.8-.78.8-2.07 0-2.86zM5.41 20L4 18.59l7.72-7.72 1.47 1.35L5.41 20z\"/>\n",
              "  </svg>\n",
              "      </button>\n",
              "      \n",
              "  <style>\n",
              "    .colab-df-container {\n",
              "      display:flex;\n",
              "      flex-wrap:wrap;\n",
              "      gap: 12px;\n",
              "    }\n",
              "\n",
              "    .colab-df-convert {\n",
              "      background-color: #E8F0FE;\n",
              "      border: none;\n",
              "      border-radius: 50%;\n",
              "      cursor: pointer;\n",
              "      display: none;\n",
              "      fill: #1967D2;\n",
              "      height: 32px;\n",
              "      padding: 0 0 0 0;\n",
              "      width: 32px;\n",
              "    }\n",
              "\n",
              "    .colab-df-convert:hover {\n",
              "      background-color: #E2EBFA;\n",
              "      box-shadow: 0px 1px 2px rgba(60, 64, 67, 0.3), 0px 1px 3px 1px rgba(60, 64, 67, 0.15);\n",
              "      fill: #174EA6;\n",
              "    }\n",
              "\n",
              "    [theme=dark] .colab-df-convert {\n",
              "      background-color: #3B4455;\n",
              "      fill: #D2E3FC;\n",
              "    }\n",
              "\n",
              "    [theme=dark] .colab-df-convert:hover {\n",
              "      background-color: #434B5C;\n",
              "      box-shadow: 0px 1px 3px 1px rgba(0, 0, 0, 0.15);\n",
              "      filter: drop-shadow(0px 1px 2px rgba(0, 0, 0, 0.3));\n",
              "      fill: #FFFFFF;\n",
              "    }\n",
              "  </style>\n",
              "\n",
              "      <script>\n",
              "        const buttonEl =\n",
              "          document.querySelector('#df-56c3c650-5c50-4b6e-beaa-3c6f578c1651 button.colab-df-convert');\n",
              "        buttonEl.style.display =\n",
              "          google.colab.kernel.accessAllowed ? 'block' : 'none';\n",
              "\n",
              "        async function convertToInteractive(key) {\n",
              "          const element = document.querySelector('#df-56c3c650-5c50-4b6e-beaa-3c6f578c1651');\n",
              "          const dataTable =\n",
              "            await google.colab.kernel.invokeFunction('convertToInteractive',\n",
              "                                                     [key], {});\n",
              "          if (!dataTable) return;\n",
              "\n",
              "          const docLinkHtml = 'Like what you see? Visit the ' +\n",
              "            '<a target=\"_blank\" href=https://colab.research.google.com/notebooks/data_table.ipynb>data table notebook</a>'\n",
              "            + ' to learn more about interactive tables.';\n",
              "          element.innerHTML = '';\n",
              "          dataTable['output_type'] = 'display_data';\n",
              "          await google.colab.output.renderOutput(dataTable, element);\n",
              "          const docLink = document.createElement('div');\n",
              "          docLink.innerHTML = docLinkHtml;\n",
              "          element.appendChild(docLink);\n",
              "        }\n",
              "      </script>\n",
              "    </div>\n",
              "  </div>\n",
              "  "
            ]
          },
          "metadata": {},
          "execution_count": 244
        }
      ]
    },
    {
      "cell_type": "code",
      "source": [
        "def add_length():\n",
        "    data[\"sentence_length\"]=0\n",
        "    for i in range(len(data.words)):\n",
        "        data.loc[i,\"sentence_length\"]=len(data.loc[i,\"words\"])"
      ],
      "metadata": {
        "id": "lHMtD_sWc_Qg"
      },
      "id": "lHMtD_sWc_Qg",
      "execution_count": 245,
      "outputs": []
    },
    {
      "cell_type": "code",
      "source": [
        "add_length()"
      ],
      "metadata": {
        "id": "1y83jWBxX4Oa"
      },
      "id": "1y83jWBxX4Oa",
      "execution_count": 246,
      "outputs": []
    },
    {
      "cell_type": "code",
      "source": [
        "def add_sentence_position():\n",
        "    data[\"position\"]=0.0\n",
        "    ind=0\n",
        "    rate=1\n",
        "    metin_ind=0\n",
        "    while ind<len(data.news_id):\n",
        "        if(data.loc[ind,\"news_id\"]==metin_ind):\n",
        "            data.loc[ind,\"position\"]=1/rate\n",
        "            rate+=1\n",
        "            ind+=1\n",
        "        else:\n",
        "            rate=1\n",
        "            metin_ind+=1"
      ],
      "metadata": {
        "id": "4hOom7NhX9Wx"
      },
      "id": "4hOom7NhX9Wx",
      "execution_count": 247,
      "outputs": []
    },
    {
      "cell_type": "code",
      "source": [
        "add_sentence_position()"
      ],
      "metadata": {
        "id": "-OXMK_3AX_lt"
      },
      "id": "-OXMK_3AX_lt",
      "execution_count": 248,
      "outputs": []
    },
    {
      "cell_type": "code",
      "source": [
        "data"
      ],
      "metadata": {
        "colab": {
          "base_uri": "https://localhost:8080/",
          "height": 337
        },
        "id": "wLBCHYoYZ4Sy",
        "outputId": "abff63a0-1c77-4aed-8d48-0211b0088321"
      },
      "id": "wLBCHYoYZ4Sy",
      "execution_count": 249,
      "outputs": [
        {
          "output_type": "execute_result",
          "data": {
            "text/plain": [
              "   news_id                                           sentence  \\\n",
              "0      0.0  Salı günü yayınlanan bir röportajda Krishna, ş...   \n",
              "1      0.0  Krishna , \"Beş yıllık bir süre içinde bunun yü...   \n",
              "2      0.0  Bir IBM sözcüsü, şirketin şu anda bu pozisyonl...   \n",
              "3      0.0  Teknoloji devinin başka bir sözcüsü de genel b...   \n",
              "4      0.0  IBM'in hala binlerce pozisyon için aktif olara...   \n",
              "\n",
              "                                               words  title  NER  tfidf  \\\n",
              "0  [Salı, günü, yayınlanan, bir, röportajda, Kris...    NaN    0      3   \n",
              "1  [Krishna, Beş, yıllık, bir, süre, içinde, bunu...    NaN    0      2   \n",
              "2  [Bir, IBM, sözcüsü, şirketin, şu, anda, bu, po...    NaN    0      1   \n",
              "3  [Teknoloji, devinin, başka, bir, sözcüsü, de, ...    NaN    1      3   \n",
              "4  [IBMin, hala, binlerce, pozisyon, için, aktif,...    NaN    0      1   \n",
              "\n",
              "   sentence_length  position  noun_phrase  \n",
              "0               40  1.000000            5  \n",
              "1               31  0.500000            0  \n",
              "2               25  0.333333            0  \n",
              "3               39  0.250000            0  \n",
              "4               11  0.200000            0  "
            ],
            "text/html": [
              "\n",
              "  <div id=\"df-25ff2007-ca71-45f8-962f-b6181c596c28\">\n",
              "    <div class=\"colab-df-container\">\n",
              "      <div>\n",
              "<style scoped>\n",
              "    .dataframe tbody tr th:only-of-type {\n",
              "        vertical-align: middle;\n",
              "    }\n",
              "\n",
              "    .dataframe tbody tr th {\n",
              "        vertical-align: top;\n",
              "    }\n",
              "\n",
              "    .dataframe thead th {\n",
              "        text-align: right;\n",
              "    }\n",
              "</style>\n",
              "<table border=\"1\" class=\"dataframe\">\n",
              "  <thead>\n",
              "    <tr style=\"text-align: right;\">\n",
              "      <th></th>\n",
              "      <th>news_id</th>\n",
              "      <th>sentence</th>\n",
              "      <th>words</th>\n",
              "      <th>title</th>\n",
              "      <th>NER</th>\n",
              "      <th>tfidf</th>\n",
              "      <th>sentence_length</th>\n",
              "      <th>position</th>\n",
              "      <th>noun_phrase</th>\n",
              "    </tr>\n",
              "  </thead>\n",
              "  <tbody>\n",
              "    <tr>\n",
              "      <th>0</th>\n",
              "      <td>0.0</td>\n",
              "      <td>Salı günü yayınlanan bir röportajda Krishna, ş...</td>\n",
              "      <td>[Salı, günü, yayınlanan, bir, röportajda, Kris...</td>\n",
              "      <td>NaN</td>\n",
              "      <td>0</td>\n",
              "      <td>3</td>\n",
              "      <td>40</td>\n",
              "      <td>1.000000</td>\n",
              "      <td>5</td>\n",
              "    </tr>\n",
              "    <tr>\n",
              "      <th>1</th>\n",
              "      <td>0.0</td>\n",
              "      <td>Krishna , \"Beş yıllık bir süre içinde bunun yü...</td>\n",
              "      <td>[Krishna, Beş, yıllık, bir, süre, içinde, bunu...</td>\n",
              "      <td>NaN</td>\n",
              "      <td>0</td>\n",
              "      <td>2</td>\n",
              "      <td>31</td>\n",
              "      <td>0.500000</td>\n",
              "      <td>0</td>\n",
              "    </tr>\n",
              "    <tr>\n",
              "      <th>2</th>\n",
              "      <td>0.0</td>\n",
              "      <td>Bir IBM sözcüsü, şirketin şu anda bu pozisyonl...</td>\n",
              "      <td>[Bir, IBM, sözcüsü, şirketin, şu, anda, bu, po...</td>\n",
              "      <td>NaN</td>\n",
              "      <td>0</td>\n",
              "      <td>1</td>\n",
              "      <td>25</td>\n",
              "      <td>0.333333</td>\n",
              "      <td>0</td>\n",
              "    </tr>\n",
              "    <tr>\n",
              "      <th>3</th>\n",
              "      <td>0.0</td>\n",
              "      <td>Teknoloji devinin başka bir sözcüsü de genel b...</td>\n",
              "      <td>[Teknoloji, devinin, başka, bir, sözcüsü, de, ...</td>\n",
              "      <td>NaN</td>\n",
              "      <td>1</td>\n",
              "      <td>3</td>\n",
              "      <td>39</td>\n",
              "      <td>0.250000</td>\n",
              "      <td>0</td>\n",
              "    </tr>\n",
              "    <tr>\n",
              "      <th>4</th>\n",
              "      <td>0.0</td>\n",
              "      <td>IBM'in hala binlerce pozisyon için aktif olara...</td>\n",
              "      <td>[IBMin, hala, binlerce, pozisyon, için, aktif,...</td>\n",
              "      <td>NaN</td>\n",
              "      <td>0</td>\n",
              "      <td>1</td>\n",
              "      <td>11</td>\n",
              "      <td>0.200000</td>\n",
              "      <td>0</td>\n",
              "    </tr>\n",
              "  </tbody>\n",
              "</table>\n",
              "</div>\n",
              "      <button class=\"colab-df-convert\" onclick=\"convertToInteractive('df-25ff2007-ca71-45f8-962f-b6181c596c28')\"\n",
              "              title=\"Convert this dataframe to an interactive table.\"\n",
              "              style=\"display:none;\">\n",
              "        \n",
              "  <svg xmlns=\"http://www.w3.org/2000/svg\" height=\"24px\"viewBox=\"0 0 24 24\"\n",
              "       width=\"24px\">\n",
              "    <path d=\"M0 0h24v24H0V0z\" fill=\"none\"/>\n",
              "    <path d=\"M18.56 5.44l.94 2.06.94-2.06 2.06-.94-2.06-.94-.94-2.06-.94 2.06-2.06.94zm-11 1L8.5 8.5l.94-2.06 2.06-.94-2.06-.94L8.5 2.5l-.94 2.06-2.06.94zm10 10l.94 2.06.94-2.06 2.06-.94-2.06-.94-.94-2.06-.94 2.06-2.06.94z\"/><path d=\"M17.41 7.96l-1.37-1.37c-.4-.4-.92-.59-1.43-.59-.52 0-1.04.2-1.43.59L10.3 9.45l-7.72 7.72c-.78.78-.78 2.05 0 2.83L4 21.41c.39.39.9.59 1.41.59.51 0 1.02-.2 1.41-.59l7.78-7.78 2.81-2.81c.8-.78.8-2.07 0-2.86zM5.41 20L4 18.59l7.72-7.72 1.47 1.35L5.41 20z\"/>\n",
              "  </svg>\n",
              "      </button>\n",
              "      \n",
              "  <style>\n",
              "    .colab-df-container {\n",
              "      display:flex;\n",
              "      flex-wrap:wrap;\n",
              "      gap: 12px;\n",
              "    }\n",
              "\n",
              "    .colab-df-convert {\n",
              "      background-color: #E8F0FE;\n",
              "      border: none;\n",
              "      border-radius: 50%;\n",
              "      cursor: pointer;\n",
              "      display: none;\n",
              "      fill: #1967D2;\n",
              "      height: 32px;\n",
              "      padding: 0 0 0 0;\n",
              "      width: 32px;\n",
              "    }\n",
              "\n",
              "    .colab-df-convert:hover {\n",
              "      background-color: #E2EBFA;\n",
              "      box-shadow: 0px 1px 2px rgba(60, 64, 67, 0.3), 0px 1px 3px 1px rgba(60, 64, 67, 0.15);\n",
              "      fill: #174EA6;\n",
              "    }\n",
              "\n",
              "    [theme=dark] .colab-df-convert {\n",
              "      background-color: #3B4455;\n",
              "      fill: #D2E3FC;\n",
              "    }\n",
              "\n",
              "    [theme=dark] .colab-df-convert:hover {\n",
              "      background-color: #434B5C;\n",
              "      box-shadow: 0px 1px 3px 1px rgba(0, 0, 0, 0.15);\n",
              "      filter: drop-shadow(0px 1px 2px rgba(0, 0, 0, 0.3));\n",
              "      fill: #FFFFFF;\n",
              "    }\n",
              "  </style>\n",
              "\n",
              "      <script>\n",
              "        const buttonEl =\n",
              "          document.querySelector('#df-25ff2007-ca71-45f8-962f-b6181c596c28 button.colab-df-convert');\n",
              "        buttonEl.style.display =\n",
              "          google.colab.kernel.accessAllowed ? 'block' : 'none';\n",
              "\n",
              "        async function convertToInteractive(key) {\n",
              "          const element = document.querySelector('#df-25ff2007-ca71-45f8-962f-b6181c596c28');\n",
              "          const dataTable =\n",
              "            await google.colab.kernel.invokeFunction('convertToInteractive',\n",
              "                                                     [key], {});\n",
              "          if (!dataTable) return;\n",
              "\n",
              "          const docLinkHtml = 'Like what you see? Visit the ' +\n",
              "            '<a target=\"_blank\" href=https://colab.research.google.com/notebooks/data_table.ipynb>data table notebook</a>'\n",
              "            + ' to learn more about interactive tables.';\n",
              "          element.innerHTML = '';\n",
              "          dataTable['output_type'] = 'display_data';\n",
              "          await google.colab.output.renderOutput(dataTable, element);\n",
              "          const docLink = document.createElement('div');\n",
              "          docLink.innerHTML = docLinkHtml;\n",
              "          element.appendChild(docLink);\n",
              "        }\n",
              "      </script>\n",
              "    </div>\n",
              "  </div>\n",
              "  "
            ]
          },
          "metadata": {},
          "execution_count": 249
        }
      ]
    },
    {
      "cell_type": "code",
      "source": [
        "X=data\n",
        "Y_pred = regressor.predict(data.loc[:,[\"NER\",\"noun_phrase\",\"tfidf\",\"sentence_length\",\"position\"]])"
      ],
      "metadata": {
        "id": "A4DaiPzDaJRi"
      },
      "id": "A4DaiPzDaJRi",
      "execution_count": 250,
      "outputs": []
    },
    {
      "cell_type": "code",
      "source": [
        "Y_pred"
      ],
      "metadata": {
        "colab": {
          "base_uri": "https://localhost:8080/"
        },
        "id": "RDXHmHDTaLpr",
        "outputId": "34904fec-6e4a-476a-c1f6-c58cae7a4744"
      },
      "id": "RDXHmHDTaLpr",
      "execution_count": 251,
      "outputs": [
        {
          "output_type": "execute_result",
          "data": {
            "text/plain": [
              "array([0.34191711, 0.29275893, 0.34866282, 0.26404607, 0.30825319])"
            ]
          },
          "metadata": {},
          "execution_count": 251
        }
      ]
    },
    {
      "cell_type": "code",
      "source": [
        "def getMaxs(X,Y):\n",
        "  max_values = []\n",
        "  real_max_values=[]\n",
        "  index=0\n",
        "  real_index=0\n",
        "  curr_id=0\n",
        "  max=0\n",
        "  real_max=0\n",
        "  for i in range(len(X.loc[:,\"news_id\"])):\n",
        "    if Y[i]>max:\n",
        "      max=Y[i]\n",
        "      index=i\n",
        "  max_values.append(X.loc[index,:])\n",
        "  real_max_values.append(X.loc[real_index,:])\n",
        "  return (max_values,real_max_values)"
      ],
      "metadata": {
        "id": "b23mxAAJdiBz"
      },
      "id": "b23mxAAJdiBz",
      "execution_count": 252,
      "outputs": []
    },
    {
      "cell_type": "code",
      "source": [
        "Y_pred"
      ],
      "metadata": {
        "colab": {
          "base_uri": "https://localhost:8080/"
        },
        "id": "T8eNzkxXei96",
        "outputId": "aaba75d6-cac8-470b-baef-184fc8714c8a"
      },
      "id": "T8eNzkxXei96",
      "execution_count": 253,
      "outputs": [
        {
          "output_type": "execute_result",
          "data": {
            "text/plain": [
              "array([0.34191711, 0.29275893, 0.34866282, 0.26404607, 0.30825319])"
            ]
          },
          "metadata": {},
          "execution_count": 253
        }
      ]
    },
    {
      "cell_type": "code",
      "source": [
        "(b,r_b)=getMaxs(X,Y_pred)"
      ],
      "metadata": {
        "id": "mUUvfL8kdiEa"
      },
      "id": "mUUvfL8kdiEa",
      "execution_count": 254,
      "outputs": []
    },
    {
      "cell_type": "code",
      "source": [
        "b"
      ],
      "metadata": {
        "colab": {
          "base_uri": "https://localhost:8080/"
        },
        "id": "YzxNbVFmeA_m",
        "outputId": "e25ce135-c940-46dc-a5ee-9fcb47c3320e"
      },
      "id": "YzxNbVFmeA_m",
      "execution_count": 255,
      "outputs": [
        {
          "output_type": "execute_result",
          "data": {
            "text/plain": [
              "[news_id                                                          0.0\n",
              " sentence           Bir IBM sözcüsü, şirketin şu anda bu pozisyonl...\n",
              " words              [Bir, IBM, sözcüsü, şirketin, şu, anda, bu, po...\n",
              " title                                                            NaN\n",
              " NER                                                                0\n",
              " tfidf                                                              1\n",
              " sentence_length                                                   25\n",
              " position                                                    0.333333\n",
              " noun_phrase                                                        0\n",
              " Name: 2, dtype: object]"
            ]
          },
          "metadata": {},
          "execution_count": 255
        }
      ]
    },
    {
      "cell_type": "code",
      "source": [
        "dep_parser = DependencyParser()\n",
        "def dependency_parser():\n",
        "    deps=[]\n",
        "    i=0\n",
        "    \n",
        "    for sentence in b:\n",
        "        #print(sentence)\n",
        "        try:\n",
        "            parsed=dep_parser.predict(sentence[\"sentence\"])\n",
        "            deps.append(parsed)\n",
        "        except Exception:\n",
        "          try:\n",
        "            h=sentence[\"sentence\"].split()\n",
        "            parsed=dep_parser.predict(\" \".join(h[0:len(h)//2]))\n",
        "            parsed+=dep_parser.predict(\" \".join(h[len(h)//2:len(h)]))\n",
        "            deps.append(parsed)\n",
        "          except Exception:\n",
        "            deps.append(sentence[\"sentence\"])\n",
        "            continue\n",
        "        i+=1\n",
        "    return deps"
      ],
      "metadata": {
        "id": "Ko8Z6PGnZuZc"
      },
      "id": "Ko8Z6PGnZuZc",
      "execution_count": 256,
      "outputs": []
    },
    {
      "cell_type": "code",
      "source": [
        "deps_parser=dependency_parser()"
      ],
      "metadata": {
        "id": "HVSjpYWDaJTs"
      },
      "id": "HVSjpYWDaJTs",
      "execution_count": 257,
      "outputs": []
    },
    {
      "cell_type": "code",
      "source": [
        "deps_parser"
      ],
      "metadata": {
        "colab": {
          "base_uri": "https://localhost:8080/"
        },
        "id": "yPyxgu69wcmD",
        "outputId": "b0e01936-8d9c-413f-bb7d-bb0d583bd9f3"
      },
      "id": "yPyxgu69wcmD",
      "execution_count": 271,
      "outputs": [
        {
          "output_type": "execute_result",
          "data": {
            "text/plain": [
              "[[(1, 'Bir', 3, 'det'),\n",
              "  (2, 'IBM', 3, 'nmod:poss'),\n",
              "  (3, 'sözcüsü', 24, 'nsubj'),\n",
              "  (4, ',', 3, 'punct'),\n",
              "  (5, 'şirketin', 12, 'nsubj'),\n",
              "  (6, 'şu', 7, 'det'),\n",
              "  (7, 'anda', 10, 'obl'),\n",
              "  (8, 'bu', 9, 'det'),\n",
              "  (9, 'pozisyonları', 10, 'obj'),\n",
              "  (10, 'dolduran', 12, 'acl'),\n",
              "  (11, 'herhangi', 12, 'det'),\n",
              "  (12, 'bir', 13, 'det'),\n",
              "  (13, 'kişiyi', 16, 'obj'),\n",
              "  (14, 'kovma', 15, 'nmod:poss'),\n",
              "  (15, 'niyetinde', 16, 'obl'),\n",
              "  (16, 'olmadığını', 24, 'ccomp'),\n",
              "  (17, ',', 24, 'punct'),\n",
              "  (18, 'ancak', 21, 'cc'),\n",
              "  (19, 'yıpranma', 20, 'nmod:poss'),\n",
              "  (20, 'nedeniyle', 21, 'obl'),\n",
              "  (21, 'boşalan', 22, 'acl'),\n",
              "  (22, 'işlerin', 24, 'nsubj'),\n",
              "  (23, 'artık', 24, 'advmod'),\n",
              "  (24, 'yeniden', 26, 'advmod'),\n",
              "  (25, 'doldurulmayacağına', 24, 'ccomp'),\n",
              "  (26, 'dikkat', 0, 'root'),\n",
              "  (27, 'çekti', 26, 'compound'),\n",
              "  (28, '.', 26, 'punct')]]"
            ]
          },
          "metadata": {},
          "execution_count": 271
        }
      ]
    },
    {
      "cell_type": "code",
      "source": [
        "titles=[]\n",
        "for deps_pars in deps_parser:\n",
        "  root=0\n",
        "  zero=0\n",
        "  title = set()\n",
        "  indexes=set()\n",
        "  deps_pars\n",
        "  if type(deps_pars[0])==str:\n",
        "    titles.append(\"şok şok şok\")\n",
        "    continue\n",
        "  for j in range(len(deps_pars)):\n",
        "    i=deps_pars[j]\n",
        "    if i[2]==0:\n",
        "      zero=i\n",
        "      indexes.add(i[0])\n",
        "      title.add(i)\n",
        "    if i[3]==\"root\":\n",
        "      root=i\n",
        "      indexes.add(i[0])\n",
        "      title.add(i)\n",
        "  \n",
        "  for j in range(len(deps_pars)):\n",
        "    i=deps_pars[j]\n",
        "    if (root!=0 and i[0]+1==root[0]) or (zero!=0 and  i[0]+1==zero[0]):\n",
        "      if i[2]!=\"punct\":\n",
        "        title.add(i)\n",
        "        indexes.add(i[0])\n",
        "\n",
        "    if  (root!=0 and (i[0]-1==root[0] or i[0]+1==root[0]) and i[3]==\"conj\") or (zero!=0 and (i[0]-1==zero[0] or i[0]+1==zero[0]) and i[3]==\"conj\"):\n",
        "      if i[2]!=\"punct\":\n",
        "        title.add(i)\n",
        "        indexes.add(i[0])\n",
        "\n",
        "    if ((root!=0 and i[2]==root[0] ) or (zero!=0 and i[2]==zero[0]) ) and (i[3]==\"nsubj\" or i[3]==\"compound\" or i[3]==\"flat\"   ):\n",
        "        if i[2]!=\"punct\":\n",
        "          title.add(i)\n",
        "          indexes.add(i[0])\n",
        "\n",
        "  for i in deps_pars:\n",
        "    if i[2] in indexes and (i[3]==\"flat\" or i[3]==\"amod\" or i[3]==\"nmod\" or i[3]==\"nmod:poss\" or i[3]==\"csubj\"or i[3]==\"nsubj\" or i[3]==\"obl\" or i[3]==\"compound\" or i[3]==\"det\" or i[3]==\"nummod\"or i[3]==\"advmod\"):\n",
        "      if i[2]!=\"punct\":\n",
        "        title.add(i)\n",
        "        indexes.add(i[0])\n",
        "\n",
        "  for i in deps_pars:\n",
        "    if i[2] in indexes and (i[3]==\"flat\" or i[3]==\"amod\" or i[3]==\"nmod\" or i[3]==\"nmod:poss\" or i[3]==\"csubj\"or i[3]==\"nsubj\" or i[3]==\"obl\" or i[3]==\"compound\" or i[3]==\"det\" or i[3]==\"nummod\"or i[3]==\"advmod\"):\n",
        "      if i[2]!=\"punct\":\n",
        "        title.add(i)\n",
        "        indexes.add(i[0])\n",
        "\n",
        "  for i in deps_pars:\n",
        "    if i[2] in indexes and (i[3]==\"flat\" or i[3]==\"amod\" or i[3]==\"nmod\" or i[3]==\"nmod:poss\" or i[3]==\"csubj\"or i[3]==\"nsubj\" or i[3]==\"obl\" or i[3]==\"compound\" or i[3]==\"det\" or i[3]==\"nummod\"or i[3]==\"advmod\"):\n",
        "      if i[2]!=\"punct\":\n",
        "        title.add(i)\n",
        "        indexes.add(i[0])\n",
        "  if(len(title)==0 or title==None):\n",
        "    title=\"şok şok şok\"\n",
        "  titles.append(title)\n",
        "\n",
        "\n"
      ],
      "metadata": {
        "id": "OzFCIhqpB9bT"
      },
      "execution_count": 270,
      "outputs": [],
      "id": "OzFCIhqpB9bT"
    },
    {
      "cell_type": "code",
      "source": [
        "titles"
      ],
      "metadata": {
        "colab": {
          "base_uri": "https://localhost:8080/"
        },
        "id": "AK6gAzIUaJZQ",
        "outputId": "7ab0784a-f953-4072-ae4a-76fd35e10b20"
      },
      "id": "AK6gAzIUaJZQ",
      "execution_count": 268,
      "outputs": [
        {
          "output_type": "execute_result",
          "data": {
            "text/plain": [
              "[{(1, 'Bir', 3, 'det'),\n",
              "  (2, 'IBM', 3, 'nmod:poss'),\n",
              "  (3, 'sözcüsü', 24, 'nsubj'),\n",
              "  (22, 'işlerin', 24, 'nsubj'),\n",
              "  (23, 'artık', 24, 'advmod'),\n",
              "  (24, 'yeniden', 26, 'advmod'),\n",
              "  (25, 'doldurulmayacağına', 24, 'ccomp'),\n",
              "  (26, 'dikkat', 0, 'root'),\n",
              "  (27, 'çekti', 26, 'compound')}]"
            ]
          },
          "metadata": {},
          "execution_count": 268
        }
      ]
    },
    {
      "cell_type": "code",
      "source": [
        "def title_similarity():\n",
        "    for i in range(len(data.sentence)):\n",
        "        title=stopword_remover.drop_stop_words(nltk.word_tokenize(data.loc[i,\"title\"].translate(translator).replace(\"“\",\"\").replace(\"’\",\"\")))\n",
        "        embeddings=giveEmbeddings([data.loc[i,\"sentence\"],data.loc[i,\"title\"]])\n",
        "        similarity=cosine_similarity([embeddings[0].numpy() ], [embeddings[1].numpy()])\n",
        "        data.loc[i,\"result\"]=similarity[0][0]"
      ],
      "metadata": {
        "id": "saYieyMKNAFV"
      },
      "id": "saYieyMKNAFV",
      "execution_count": null,
      "outputs": []
    },
    {
      "cell_type": "code",
      "source": [
        "toplam=0\n",
        "for f in range(10):\n",
        "  embeddings=giveEmbeddings([basliks[f],predicted_s[f]])\n",
        "  similarity=cosine_similarity([embeddings[0].numpy()], [embeddings[1].numpy()])\n",
        "  print(similarity)     "
      ],
      "metadata": {
        "id": "2OSJ3E-8NAHW"
      },
      "id": "2OSJ3E-8NAHW",
      "execution_count": null,
      "outputs": []
    },
    {
      "cell_type": "code",
      "source": [
        "toplam/10"
      ],
      "metadata": {
        "colab": {
          "base_uri": "https://localhost:8080/"
        },
        "id": "c5W5GhluOJ2g",
        "outputId": "e851cf28-9ed0-4b91-afb1-1c47946a5d23"
      },
      "id": "c5W5GhluOJ2g",
      "execution_count": null,
      "outputs": [
        {
          "output_type": "execute_result",
          "data": {
            "text/plain": [
              "array([[0.31325048]], dtype=float32)"
            ]
          },
          "metadata": {},
          "execution_count": 93
        }
      ]
    },
    {
      "cell_type": "code",
      "source": [
        "toplam=0\n",
        "for f in range(10):\n",
        "  embeddings=giveEmbeddings([a[f][\"title\"],predicted_s[f]])\n",
        "  similarity=cosine_similarity([embeddings[0].numpy()], [embeddings[1].numpy()])\n",
        "  toplam+=  similarity  "
      ],
      "metadata": {
        "id": "hOYTI9sqOJ6y"
      },
      "id": "hOYTI9sqOJ6y",
      "execution_count": null,
      "outputs": []
    }
  ],
  "metadata": {
    "kernelspec": {
      "display_name": "Python 3 (ipykernel)",
      "language": "python",
      "name": "python3"
    },
    "language_info": {
      "codemirror_mode": {
        "name": "ipython",
        "version": 3
      },
      "file_extension": ".py",
      "mimetype": "text/x-python",
      "name": "python",
      "nbconvert_exporter": "python",
      "pygments_lexer": "ipython3",
      "version": "3.10.9"
    },
    "colab": {
      "provenance": []
    },
    "gpuClass": "standard",
    "widgets": {
      "application/vnd.jupyter.widget-state+json": {
        "8af8c3c4285b4457bce0767c20109a92": {
          "model_module": "@jupyter-widgets/controls",
          "model_name": "HBoxModel",
          "model_module_version": "1.5.0",
          "state": {
            "_dom_classes": [],
            "_model_module": "@jupyter-widgets/controls",
            "_model_module_version": "1.5.0",
            "_model_name": "HBoxModel",
            "_view_count": null,
            "_view_module": "@jupyter-widgets/controls",
            "_view_module_version": "1.5.0",
            "_view_name": "HBoxView",
            "box_style": "",
            "children": [
              "IPY_MODEL_7fc0feb3e0224fa2b3c3946fe3696c67",
              "IPY_MODEL_61616abb5f1d42c88211297baab1ef6c",
              "IPY_MODEL_f62912a763744837abd891c75dc9fc66"
            ],
            "layout": "IPY_MODEL_db688d55d4ce401abdb7534aba093218"
          }
        },
        "7fc0feb3e0224fa2b3c3946fe3696c67": {
          "model_module": "@jupyter-widgets/controls",
          "model_name": "HTMLModel",
          "model_module_version": "1.5.0",
          "state": {
            "_dom_classes": [],
            "_model_module": "@jupyter-widgets/controls",
            "_model_module_version": "1.5.0",
            "_model_name": "HTMLModel",
            "_view_count": null,
            "_view_module": "@jupyter-widgets/controls",
            "_view_module_version": "1.5.0",
            "_view_name": "HTMLView",
            "description": "",
            "description_tooltip": null,
            "layout": "IPY_MODEL_4bd79ec5f6a441fb82f81befa379eb78",
            "placeholder": "​",
            "style": "IPY_MODEL_79bde942d11b4cb586476924b30e296f",
            "value": "Downloading (…)okenizer_config.json: 100%"
          }
        },
        "61616abb5f1d42c88211297baab1ef6c": {
          "model_module": "@jupyter-widgets/controls",
          "model_name": "FloatProgressModel",
          "model_module_version": "1.5.0",
          "state": {
            "_dom_classes": [],
            "_model_module": "@jupyter-widgets/controls",
            "_model_module_version": "1.5.0",
            "_model_name": "FloatProgressModel",
            "_view_count": null,
            "_view_module": "@jupyter-widgets/controls",
            "_view_module_version": "1.5.0",
            "_view_name": "ProgressView",
            "bar_style": "success",
            "description": "",
            "description_tooltip": null,
            "layout": "IPY_MODEL_20829a7484cc42f4bc2186616a9adb7e",
            "max": 431,
            "min": 0,
            "orientation": "horizontal",
            "style": "IPY_MODEL_cc045d918cad4cd79829a5c54bd6c4b1",
            "value": 431
          }
        },
        "f62912a763744837abd891c75dc9fc66": {
          "model_module": "@jupyter-widgets/controls",
          "model_name": "HTMLModel",
          "model_module_version": "1.5.0",
          "state": {
            "_dom_classes": [],
            "_model_module": "@jupyter-widgets/controls",
            "_model_module_version": "1.5.0",
            "_model_name": "HTMLModel",
            "_view_count": null,
            "_view_module": "@jupyter-widgets/controls",
            "_view_module_version": "1.5.0",
            "_view_name": "HTMLView",
            "description": "",
            "description_tooltip": null,
            "layout": "IPY_MODEL_0dbaf666758a44d7aa5576b7804dd2b4",
            "placeholder": "​",
            "style": "IPY_MODEL_71e3fa7c4bd646bd87c361ce81bacd80",
            "value": " 431/431 [00:00&lt;00:00, 19.4kB/s]"
          }
        },
        "db688d55d4ce401abdb7534aba093218": {
          "model_module": "@jupyter-widgets/base",
          "model_name": "LayoutModel",
          "model_module_version": "1.2.0",
          "state": {
            "_model_module": "@jupyter-widgets/base",
            "_model_module_version": "1.2.0",
            "_model_name": "LayoutModel",
            "_view_count": null,
            "_view_module": "@jupyter-widgets/base",
            "_view_module_version": "1.2.0",
            "_view_name": "LayoutView",
            "align_content": null,
            "align_items": null,
            "align_self": null,
            "border": null,
            "bottom": null,
            "display": null,
            "flex": null,
            "flex_flow": null,
            "grid_area": null,
            "grid_auto_columns": null,
            "grid_auto_flow": null,
            "grid_auto_rows": null,
            "grid_column": null,
            "grid_gap": null,
            "grid_row": null,
            "grid_template_areas": null,
            "grid_template_columns": null,
            "grid_template_rows": null,
            "height": null,
            "justify_content": null,
            "justify_items": null,
            "left": null,
            "margin": null,
            "max_height": null,
            "max_width": null,
            "min_height": null,
            "min_width": null,
            "object_fit": null,
            "object_position": null,
            "order": null,
            "overflow": null,
            "overflow_x": null,
            "overflow_y": null,
            "padding": null,
            "right": null,
            "top": null,
            "visibility": null,
            "width": null
          }
        },
        "4bd79ec5f6a441fb82f81befa379eb78": {
          "model_module": "@jupyter-widgets/base",
          "model_name": "LayoutModel",
          "model_module_version": "1.2.0",
          "state": {
            "_model_module": "@jupyter-widgets/base",
            "_model_module_version": "1.2.0",
            "_model_name": "LayoutModel",
            "_view_count": null,
            "_view_module": "@jupyter-widgets/base",
            "_view_module_version": "1.2.0",
            "_view_name": "LayoutView",
            "align_content": null,
            "align_items": null,
            "align_self": null,
            "border": null,
            "bottom": null,
            "display": null,
            "flex": null,
            "flex_flow": null,
            "grid_area": null,
            "grid_auto_columns": null,
            "grid_auto_flow": null,
            "grid_auto_rows": null,
            "grid_column": null,
            "grid_gap": null,
            "grid_row": null,
            "grid_template_areas": null,
            "grid_template_columns": null,
            "grid_template_rows": null,
            "height": null,
            "justify_content": null,
            "justify_items": null,
            "left": null,
            "margin": null,
            "max_height": null,
            "max_width": null,
            "min_height": null,
            "min_width": null,
            "object_fit": null,
            "object_position": null,
            "order": null,
            "overflow": null,
            "overflow_x": null,
            "overflow_y": null,
            "padding": null,
            "right": null,
            "top": null,
            "visibility": null,
            "width": null
          }
        },
        "79bde942d11b4cb586476924b30e296f": {
          "model_module": "@jupyter-widgets/controls",
          "model_name": "DescriptionStyleModel",
          "model_module_version": "1.5.0",
          "state": {
            "_model_module": "@jupyter-widgets/controls",
            "_model_module_version": "1.5.0",
            "_model_name": "DescriptionStyleModel",
            "_view_count": null,
            "_view_module": "@jupyter-widgets/base",
            "_view_module_version": "1.2.0",
            "_view_name": "StyleView",
            "description_width": ""
          }
        },
        "20829a7484cc42f4bc2186616a9adb7e": {
          "model_module": "@jupyter-widgets/base",
          "model_name": "LayoutModel",
          "model_module_version": "1.2.0",
          "state": {
            "_model_module": "@jupyter-widgets/base",
            "_model_module_version": "1.2.0",
            "_model_name": "LayoutModel",
            "_view_count": null,
            "_view_module": "@jupyter-widgets/base",
            "_view_module_version": "1.2.0",
            "_view_name": "LayoutView",
            "align_content": null,
            "align_items": null,
            "align_self": null,
            "border": null,
            "bottom": null,
            "display": null,
            "flex": null,
            "flex_flow": null,
            "grid_area": null,
            "grid_auto_columns": null,
            "grid_auto_flow": null,
            "grid_auto_rows": null,
            "grid_column": null,
            "grid_gap": null,
            "grid_row": null,
            "grid_template_areas": null,
            "grid_template_columns": null,
            "grid_template_rows": null,
            "height": null,
            "justify_content": null,
            "justify_items": null,
            "left": null,
            "margin": null,
            "max_height": null,
            "max_width": null,
            "min_height": null,
            "min_width": null,
            "object_fit": null,
            "object_position": null,
            "order": null,
            "overflow": null,
            "overflow_x": null,
            "overflow_y": null,
            "padding": null,
            "right": null,
            "top": null,
            "visibility": null,
            "width": null
          }
        },
        "cc045d918cad4cd79829a5c54bd6c4b1": {
          "model_module": "@jupyter-widgets/controls",
          "model_name": "ProgressStyleModel",
          "model_module_version": "1.5.0",
          "state": {
            "_model_module": "@jupyter-widgets/controls",
            "_model_module_version": "1.5.0",
            "_model_name": "ProgressStyleModel",
            "_view_count": null,
            "_view_module": "@jupyter-widgets/base",
            "_view_module_version": "1.2.0",
            "_view_name": "StyleView",
            "bar_color": null,
            "description_width": ""
          }
        },
        "0dbaf666758a44d7aa5576b7804dd2b4": {
          "model_module": "@jupyter-widgets/base",
          "model_name": "LayoutModel",
          "model_module_version": "1.2.0",
          "state": {
            "_model_module": "@jupyter-widgets/base",
            "_model_module_version": "1.2.0",
            "_model_name": "LayoutModel",
            "_view_count": null,
            "_view_module": "@jupyter-widgets/base",
            "_view_module_version": "1.2.0",
            "_view_name": "LayoutView",
            "align_content": null,
            "align_items": null,
            "align_self": null,
            "border": null,
            "bottom": null,
            "display": null,
            "flex": null,
            "flex_flow": null,
            "grid_area": null,
            "grid_auto_columns": null,
            "grid_auto_flow": null,
            "grid_auto_rows": null,
            "grid_column": null,
            "grid_gap": null,
            "grid_row": null,
            "grid_template_areas": null,
            "grid_template_columns": null,
            "grid_template_rows": null,
            "height": null,
            "justify_content": null,
            "justify_items": null,
            "left": null,
            "margin": null,
            "max_height": null,
            "max_width": null,
            "min_height": null,
            "min_width": null,
            "object_fit": null,
            "object_position": null,
            "order": null,
            "overflow": null,
            "overflow_x": null,
            "overflow_y": null,
            "padding": null,
            "right": null,
            "top": null,
            "visibility": null,
            "width": null
          }
        },
        "71e3fa7c4bd646bd87c361ce81bacd80": {
          "model_module": "@jupyter-widgets/controls",
          "model_name": "DescriptionStyleModel",
          "model_module_version": "1.5.0",
          "state": {
            "_model_module": "@jupyter-widgets/controls",
            "_model_module_version": "1.5.0",
            "_model_name": "DescriptionStyleModel",
            "_view_count": null,
            "_view_module": "@jupyter-widgets/base",
            "_view_module_version": "1.2.0",
            "_view_name": "StyleView",
            "description_width": ""
          }
        },
        "f11888a7930b49fa98cbea09c0473596": {
          "model_module": "@jupyter-widgets/controls",
          "model_name": "HBoxModel",
          "model_module_version": "1.5.0",
          "state": {
            "_dom_classes": [],
            "_model_module": "@jupyter-widgets/controls",
            "_model_module_version": "1.5.0",
            "_model_name": "HBoxModel",
            "_view_count": null,
            "_view_module": "@jupyter-widgets/controls",
            "_view_module_version": "1.5.0",
            "_view_name": "HBoxView",
            "box_style": "",
            "children": [
              "IPY_MODEL_6d7069ce9d854a21a2d7fb00039dcf26",
              "IPY_MODEL_b945e0f0161c40b0b7924b9732f4e3b9",
              "IPY_MODEL_450cc5388b954f138eb993db33fb937f"
            ],
            "layout": "IPY_MODEL_f6f496c78ef6434ebdfdf41298db4a30"
          }
        },
        "6d7069ce9d854a21a2d7fb00039dcf26": {
          "model_module": "@jupyter-widgets/controls",
          "model_name": "HTMLModel",
          "model_module_version": "1.5.0",
          "state": {
            "_dom_classes": [],
            "_model_module": "@jupyter-widgets/controls",
            "_model_module_version": "1.5.0",
            "_model_name": "HTMLModel",
            "_view_count": null,
            "_view_module": "@jupyter-widgets/controls",
            "_view_module_version": "1.5.0",
            "_view_name": "HTMLView",
            "description": "",
            "description_tooltip": null,
            "layout": "IPY_MODEL_9a375dd2b3d74092a45a148f24bed8cc",
            "placeholder": "​",
            "style": "IPY_MODEL_a069b66e843f4f699b9e73b3e257f69e",
            "value": "Downloading (…)solve/main/vocab.txt: 100%"
          }
        },
        "b945e0f0161c40b0b7924b9732f4e3b9": {
          "model_module": "@jupyter-widgets/controls",
          "model_name": "FloatProgressModel",
          "model_module_version": "1.5.0",
          "state": {
            "_dom_classes": [],
            "_model_module": "@jupyter-widgets/controls",
            "_model_module_version": "1.5.0",
            "_model_name": "FloatProgressModel",
            "_view_count": null,
            "_view_module": "@jupyter-widgets/controls",
            "_view_module_version": "1.5.0",
            "_view_name": "ProgressView",
            "bar_style": "success",
            "description": "",
            "description_tooltip": null,
            "layout": "IPY_MODEL_1cfa2b8e60f941bf89a3c313996ac930",
            "max": 251003,
            "min": 0,
            "orientation": "horizontal",
            "style": "IPY_MODEL_cd59c8f7d11c4446aa3b8f618357635b",
            "value": 251003
          }
        },
        "450cc5388b954f138eb993db33fb937f": {
          "model_module": "@jupyter-widgets/controls",
          "model_name": "HTMLModel",
          "model_module_version": "1.5.0",
          "state": {
            "_dom_classes": [],
            "_model_module": "@jupyter-widgets/controls",
            "_model_module_version": "1.5.0",
            "_model_name": "HTMLModel",
            "_view_count": null,
            "_view_module": "@jupyter-widgets/controls",
            "_view_module_version": "1.5.0",
            "_view_name": "HTMLView",
            "description": "",
            "description_tooltip": null,
            "layout": "IPY_MODEL_4d01c7a4256347a5b8796c0a8414be13",
            "placeholder": "​",
            "style": "IPY_MODEL_75bdb04326a841ad99767e56a8493f41",
            "value": " 251k/251k [00:00&lt;00:00, 1.29MB/s]"
          }
        },
        "f6f496c78ef6434ebdfdf41298db4a30": {
          "model_module": "@jupyter-widgets/base",
          "model_name": "LayoutModel",
          "model_module_version": "1.2.0",
          "state": {
            "_model_module": "@jupyter-widgets/base",
            "_model_module_version": "1.2.0",
            "_model_name": "LayoutModel",
            "_view_count": null,
            "_view_module": "@jupyter-widgets/base",
            "_view_module_version": "1.2.0",
            "_view_name": "LayoutView",
            "align_content": null,
            "align_items": null,
            "align_self": null,
            "border": null,
            "bottom": null,
            "display": null,
            "flex": null,
            "flex_flow": null,
            "grid_area": null,
            "grid_auto_columns": null,
            "grid_auto_flow": null,
            "grid_auto_rows": null,
            "grid_column": null,
            "grid_gap": null,
            "grid_row": null,
            "grid_template_areas": null,
            "grid_template_columns": null,
            "grid_template_rows": null,
            "height": null,
            "justify_content": null,
            "justify_items": null,
            "left": null,
            "margin": null,
            "max_height": null,
            "max_width": null,
            "min_height": null,
            "min_width": null,
            "object_fit": null,
            "object_position": null,
            "order": null,
            "overflow": null,
            "overflow_x": null,
            "overflow_y": null,
            "padding": null,
            "right": null,
            "top": null,
            "visibility": null,
            "width": null
          }
        },
        "9a375dd2b3d74092a45a148f24bed8cc": {
          "model_module": "@jupyter-widgets/base",
          "model_name": "LayoutModel",
          "model_module_version": "1.2.0",
          "state": {
            "_model_module": "@jupyter-widgets/base",
            "_model_module_version": "1.2.0",
            "_model_name": "LayoutModel",
            "_view_count": null,
            "_view_module": "@jupyter-widgets/base",
            "_view_module_version": "1.2.0",
            "_view_name": "LayoutView",
            "align_content": null,
            "align_items": null,
            "align_self": null,
            "border": null,
            "bottom": null,
            "display": null,
            "flex": null,
            "flex_flow": null,
            "grid_area": null,
            "grid_auto_columns": null,
            "grid_auto_flow": null,
            "grid_auto_rows": null,
            "grid_column": null,
            "grid_gap": null,
            "grid_row": null,
            "grid_template_areas": null,
            "grid_template_columns": null,
            "grid_template_rows": null,
            "height": null,
            "justify_content": null,
            "justify_items": null,
            "left": null,
            "margin": null,
            "max_height": null,
            "max_width": null,
            "min_height": null,
            "min_width": null,
            "object_fit": null,
            "object_position": null,
            "order": null,
            "overflow": null,
            "overflow_x": null,
            "overflow_y": null,
            "padding": null,
            "right": null,
            "top": null,
            "visibility": null,
            "width": null
          }
        },
        "a069b66e843f4f699b9e73b3e257f69e": {
          "model_module": "@jupyter-widgets/controls",
          "model_name": "DescriptionStyleModel",
          "model_module_version": "1.5.0",
          "state": {
            "_model_module": "@jupyter-widgets/controls",
            "_model_module_version": "1.5.0",
            "_model_name": "DescriptionStyleModel",
            "_view_count": null,
            "_view_module": "@jupyter-widgets/base",
            "_view_module_version": "1.2.0",
            "_view_name": "StyleView",
            "description_width": ""
          }
        },
        "1cfa2b8e60f941bf89a3c313996ac930": {
          "model_module": "@jupyter-widgets/base",
          "model_name": "LayoutModel",
          "model_module_version": "1.2.0",
          "state": {
            "_model_module": "@jupyter-widgets/base",
            "_model_module_version": "1.2.0",
            "_model_name": "LayoutModel",
            "_view_count": null,
            "_view_module": "@jupyter-widgets/base",
            "_view_module_version": "1.2.0",
            "_view_name": "LayoutView",
            "align_content": null,
            "align_items": null,
            "align_self": null,
            "border": null,
            "bottom": null,
            "display": null,
            "flex": null,
            "flex_flow": null,
            "grid_area": null,
            "grid_auto_columns": null,
            "grid_auto_flow": null,
            "grid_auto_rows": null,
            "grid_column": null,
            "grid_gap": null,
            "grid_row": null,
            "grid_template_areas": null,
            "grid_template_columns": null,
            "grid_template_rows": null,
            "height": null,
            "justify_content": null,
            "justify_items": null,
            "left": null,
            "margin": null,
            "max_height": null,
            "max_width": null,
            "min_height": null,
            "min_width": null,
            "object_fit": null,
            "object_position": null,
            "order": null,
            "overflow": null,
            "overflow_x": null,
            "overflow_y": null,
            "padding": null,
            "right": null,
            "top": null,
            "visibility": null,
            "width": null
          }
        },
        "cd59c8f7d11c4446aa3b8f618357635b": {
          "model_module": "@jupyter-widgets/controls",
          "model_name": "ProgressStyleModel",
          "model_module_version": "1.5.0",
          "state": {
            "_model_module": "@jupyter-widgets/controls",
            "_model_module_version": "1.5.0",
            "_model_name": "ProgressStyleModel",
            "_view_count": null,
            "_view_module": "@jupyter-widgets/base",
            "_view_module_version": "1.2.0",
            "_view_name": "StyleView",
            "bar_color": null,
            "description_width": ""
          }
        },
        "4d01c7a4256347a5b8796c0a8414be13": {
          "model_module": "@jupyter-widgets/base",
          "model_name": "LayoutModel",
          "model_module_version": "1.2.0",
          "state": {
            "_model_module": "@jupyter-widgets/base",
            "_model_module_version": "1.2.0",
            "_model_name": "LayoutModel",
            "_view_count": null,
            "_view_module": "@jupyter-widgets/base",
            "_view_module_version": "1.2.0",
            "_view_name": "LayoutView",
            "align_content": null,
            "align_items": null,
            "align_self": null,
            "border": null,
            "bottom": null,
            "display": null,
            "flex": null,
            "flex_flow": null,
            "grid_area": null,
            "grid_auto_columns": null,
            "grid_auto_flow": null,
            "grid_auto_rows": null,
            "grid_column": null,
            "grid_gap": null,
            "grid_row": null,
            "grid_template_areas": null,
            "grid_template_columns": null,
            "grid_template_rows": null,
            "height": null,
            "justify_content": null,
            "justify_items": null,
            "left": null,
            "margin": null,
            "max_height": null,
            "max_width": null,
            "min_height": null,
            "min_width": null,
            "object_fit": null,
            "object_position": null,
            "order": null,
            "overflow": null,
            "overflow_x": null,
            "overflow_y": null,
            "padding": null,
            "right": null,
            "top": null,
            "visibility": null,
            "width": null
          }
        },
        "75bdb04326a841ad99767e56a8493f41": {
          "model_module": "@jupyter-widgets/controls",
          "model_name": "DescriptionStyleModel",
          "model_module_version": "1.5.0",
          "state": {
            "_model_module": "@jupyter-widgets/controls",
            "_model_module_version": "1.5.0",
            "_model_name": "DescriptionStyleModel",
            "_view_count": null,
            "_view_module": "@jupyter-widgets/base",
            "_view_module_version": "1.2.0",
            "_view_name": "StyleView",
            "description_width": ""
          }
        },
        "299c4572d50e4c3c9f3932ef4a2b9ad8": {
          "model_module": "@jupyter-widgets/controls",
          "model_name": "HBoxModel",
          "model_module_version": "1.5.0",
          "state": {
            "_dom_classes": [],
            "_model_module": "@jupyter-widgets/controls",
            "_model_module_version": "1.5.0",
            "_model_name": "HBoxModel",
            "_view_count": null,
            "_view_module": "@jupyter-widgets/controls",
            "_view_module_version": "1.5.0",
            "_view_name": "HBoxView",
            "box_style": "",
            "children": [
              "IPY_MODEL_754fd5bbdc7548d3a695ad96703b90df",
              "IPY_MODEL_53647f2f15404e099682e6f173ae64d3",
              "IPY_MODEL_97a8e8be96074891bc8eafd445bb6208"
            ],
            "layout": "IPY_MODEL_e536be6dd60c45ed84993832735d78c1"
          }
        },
        "754fd5bbdc7548d3a695ad96703b90df": {
          "model_module": "@jupyter-widgets/controls",
          "model_name": "HTMLModel",
          "model_module_version": "1.5.0",
          "state": {
            "_dom_classes": [],
            "_model_module": "@jupyter-widgets/controls",
            "_model_module_version": "1.5.0",
            "_model_name": "HTMLModel",
            "_view_count": null,
            "_view_module": "@jupyter-widgets/controls",
            "_view_module_version": "1.5.0",
            "_view_name": "HTMLView",
            "description": "",
            "description_tooltip": null,
            "layout": "IPY_MODEL_9a980ff79a1f4026a82bc9a3e682cfe7",
            "placeholder": "​",
            "style": "IPY_MODEL_9c8caaf09e174ffaaeafb157346ac16f",
            "value": "Downloading (…)/main/tokenizer.json: 100%"
          }
        },
        "53647f2f15404e099682e6f173ae64d3": {
          "model_module": "@jupyter-widgets/controls",
          "model_name": "FloatProgressModel",
          "model_module_version": "1.5.0",
          "state": {
            "_dom_classes": [],
            "_model_module": "@jupyter-widgets/controls",
            "_model_module_version": "1.5.0",
            "_model_name": "FloatProgressModel",
            "_view_count": null,
            "_view_module": "@jupyter-widgets/controls",
            "_view_module_version": "1.5.0",
            "_view_name": "ProgressView",
            "bar_style": "success",
            "description": "",
            "description_tooltip": null,
            "layout": "IPY_MODEL_06b92ac0be774144906b827dc9e42a80",
            "max": 497553,
            "min": 0,
            "orientation": "horizontal",
            "style": "IPY_MODEL_9cd3dfc33f09465eb55501641862882a",
            "value": 497553
          }
        },
        "97a8e8be96074891bc8eafd445bb6208": {
          "model_module": "@jupyter-widgets/controls",
          "model_name": "HTMLModel",
          "model_module_version": "1.5.0",
          "state": {
            "_dom_classes": [],
            "_model_module": "@jupyter-widgets/controls",
            "_model_module_version": "1.5.0",
            "_model_name": "HTMLModel",
            "_view_count": null,
            "_view_module": "@jupyter-widgets/controls",
            "_view_module_version": "1.5.0",
            "_view_name": "HTMLView",
            "description": "",
            "description_tooltip": null,
            "layout": "IPY_MODEL_38bab171b6f546f2a906abdee93712b9",
            "placeholder": "​",
            "style": "IPY_MODEL_0a2c106d43eb4b40be906080a67187a6",
            "value": " 498k/498k [00:00&lt;00:00, 6.71MB/s]"
          }
        },
        "e536be6dd60c45ed84993832735d78c1": {
          "model_module": "@jupyter-widgets/base",
          "model_name": "LayoutModel",
          "model_module_version": "1.2.0",
          "state": {
            "_model_module": "@jupyter-widgets/base",
            "_model_module_version": "1.2.0",
            "_model_name": "LayoutModel",
            "_view_count": null,
            "_view_module": "@jupyter-widgets/base",
            "_view_module_version": "1.2.0",
            "_view_name": "LayoutView",
            "align_content": null,
            "align_items": null,
            "align_self": null,
            "border": null,
            "bottom": null,
            "display": null,
            "flex": null,
            "flex_flow": null,
            "grid_area": null,
            "grid_auto_columns": null,
            "grid_auto_flow": null,
            "grid_auto_rows": null,
            "grid_column": null,
            "grid_gap": null,
            "grid_row": null,
            "grid_template_areas": null,
            "grid_template_columns": null,
            "grid_template_rows": null,
            "height": null,
            "justify_content": null,
            "justify_items": null,
            "left": null,
            "margin": null,
            "max_height": null,
            "max_width": null,
            "min_height": null,
            "min_width": null,
            "object_fit": null,
            "object_position": null,
            "order": null,
            "overflow": null,
            "overflow_x": null,
            "overflow_y": null,
            "padding": null,
            "right": null,
            "top": null,
            "visibility": null,
            "width": null
          }
        },
        "9a980ff79a1f4026a82bc9a3e682cfe7": {
          "model_module": "@jupyter-widgets/base",
          "model_name": "LayoutModel",
          "model_module_version": "1.2.0",
          "state": {
            "_model_module": "@jupyter-widgets/base",
            "_model_module_version": "1.2.0",
            "_model_name": "LayoutModel",
            "_view_count": null,
            "_view_module": "@jupyter-widgets/base",
            "_view_module_version": "1.2.0",
            "_view_name": "LayoutView",
            "align_content": null,
            "align_items": null,
            "align_self": null,
            "border": null,
            "bottom": null,
            "display": null,
            "flex": null,
            "flex_flow": null,
            "grid_area": null,
            "grid_auto_columns": null,
            "grid_auto_flow": null,
            "grid_auto_rows": null,
            "grid_column": null,
            "grid_gap": null,
            "grid_row": null,
            "grid_template_areas": null,
            "grid_template_columns": null,
            "grid_template_rows": null,
            "height": null,
            "justify_content": null,
            "justify_items": null,
            "left": null,
            "margin": null,
            "max_height": null,
            "max_width": null,
            "min_height": null,
            "min_width": null,
            "object_fit": null,
            "object_position": null,
            "order": null,
            "overflow": null,
            "overflow_x": null,
            "overflow_y": null,
            "padding": null,
            "right": null,
            "top": null,
            "visibility": null,
            "width": null
          }
        },
        "9c8caaf09e174ffaaeafb157346ac16f": {
          "model_module": "@jupyter-widgets/controls",
          "model_name": "DescriptionStyleModel",
          "model_module_version": "1.5.0",
          "state": {
            "_model_module": "@jupyter-widgets/controls",
            "_model_module_version": "1.5.0",
            "_model_name": "DescriptionStyleModel",
            "_view_count": null,
            "_view_module": "@jupyter-widgets/base",
            "_view_module_version": "1.2.0",
            "_view_name": "StyleView",
            "description_width": ""
          }
        },
        "06b92ac0be774144906b827dc9e42a80": {
          "model_module": "@jupyter-widgets/base",
          "model_name": "LayoutModel",
          "model_module_version": "1.2.0",
          "state": {
            "_model_module": "@jupyter-widgets/base",
            "_model_module_version": "1.2.0",
            "_model_name": "LayoutModel",
            "_view_count": null,
            "_view_module": "@jupyter-widgets/base",
            "_view_module_version": "1.2.0",
            "_view_name": "LayoutView",
            "align_content": null,
            "align_items": null,
            "align_self": null,
            "border": null,
            "bottom": null,
            "display": null,
            "flex": null,
            "flex_flow": null,
            "grid_area": null,
            "grid_auto_columns": null,
            "grid_auto_flow": null,
            "grid_auto_rows": null,
            "grid_column": null,
            "grid_gap": null,
            "grid_row": null,
            "grid_template_areas": null,
            "grid_template_columns": null,
            "grid_template_rows": null,
            "height": null,
            "justify_content": null,
            "justify_items": null,
            "left": null,
            "margin": null,
            "max_height": null,
            "max_width": null,
            "min_height": null,
            "min_width": null,
            "object_fit": null,
            "object_position": null,
            "order": null,
            "overflow": null,
            "overflow_x": null,
            "overflow_y": null,
            "padding": null,
            "right": null,
            "top": null,
            "visibility": null,
            "width": null
          }
        },
        "9cd3dfc33f09465eb55501641862882a": {
          "model_module": "@jupyter-widgets/controls",
          "model_name": "ProgressStyleModel",
          "model_module_version": "1.5.0",
          "state": {
            "_model_module": "@jupyter-widgets/controls",
            "_model_module_version": "1.5.0",
            "_model_name": "ProgressStyleModel",
            "_view_count": null,
            "_view_module": "@jupyter-widgets/base",
            "_view_module_version": "1.2.0",
            "_view_name": "StyleView",
            "bar_color": null,
            "description_width": ""
          }
        },
        "38bab171b6f546f2a906abdee93712b9": {
          "model_module": "@jupyter-widgets/base",
          "model_name": "LayoutModel",
          "model_module_version": "1.2.0",
          "state": {
            "_model_module": "@jupyter-widgets/base",
            "_model_module_version": "1.2.0",
            "_model_name": "LayoutModel",
            "_view_count": null,
            "_view_module": "@jupyter-widgets/base",
            "_view_module_version": "1.2.0",
            "_view_name": "LayoutView",
            "align_content": null,
            "align_items": null,
            "align_self": null,
            "border": null,
            "bottom": null,
            "display": null,
            "flex": null,
            "flex_flow": null,
            "grid_area": null,
            "grid_auto_columns": null,
            "grid_auto_flow": null,
            "grid_auto_rows": null,
            "grid_column": null,
            "grid_gap": null,
            "grid_row": null,
            "grid_template_areas": null,
            "grid_template_columns": null,
            "grid_template_rows": null,
            "height": null,
            "justify_content": null,
            "justify_items": null,
            "left": null,
            "margin": null,
            "max_height": null,
            "max_width": null,
            "min_height": null,
            "min_width": null,
            "object_fit": null,
            "object_position": null,
            "order": null,
            "overflow": null,
            "overflow_x": null,
            "overflow_y": null,
            "padding": null,
            "right": null,
            "top": null,
            "visibility": null,
            "width": null
          }
        },
        "0a2c106d43eb4b40be906080a67187a6": {
          "model_module": "@jupyter-widgets/controls",
          "model_name": "DescriptionStyleModel",
          "model_module_version": "1.5.0",
          "state": {
            "_model_module": "@jupyter-widgets/controls",
            "_model_module_version": "1.5.0",
            "_model_name": "DescriptionStyleModel",
            "_view_count": null,
            "_view_module": "@jupyter-widgets/base",
            "_view_module_version": "1.2.0",
            "_view_name": "StyleView",
            "description_width": ""
          }
        },
        "0d6acc6cc81b43cbb60f3f14948cb100": {
          "model_module": "@jupyter-widgets/controls",
          "model_name": "HBoxModel",
          "model_module_version": "1.5.0",
          "state": {
            "_dom_classes": [],
            "_model_module": "@jupyter-widgets/controls",
            "_model_module_version": "1.5.0",
            "_model_name": "HBoxModel",
            "_view_count": null,
            "_view_module": "@jupyter-widgets/controls",
            "_view_module_version": "1.5.0",
            "_view_name": "HBoxView",
            "box_style": "",
            "children": [
              "IPY_MODEL_edf1fdafe41445988fceff0a621d0e6a",
              "IPY_MODEL_5fc78bc6f6914e6b9afdbb7f435eadf5",
              "IPY_MODEL_44c15eb4c02c4bb28c743b7882fbfcff"
            ],
            "layout": "IPY_MODEL_89754674d2e3499eab8080ee1aad8278"
          }
        },
        "edf1fdafe41445988fceff0a621d0e6a": {
          "model_module": "@jupyter-widgets/controls",
          "model_name": "HTMLModel",
          "model_module_version": "1.5.0",
          "state": {
            "_dom_classes": [],
            "_model_module": "@jupyter-widgets/controls",
            "_model_module_version": "1.5.0",
            "_model_name": "HTMLModel",
            "_view_count": null,
            "_view_module": "@jupyter-widgets/controls",
            "_view_module_version": "1.5.0",
            "_view_name": "HTMLView",
            "description": "",
            "description_tooltip": null,
            "layout": "IPY_MODEL_b8231372149c416eba849060caa5bdf5",
            "placeholder": "​",
            "style": "IPY_MODEL_baa18f348e12433d9221e94bb1a1dfad",
            "value": "Downloading (…)cial_tokens_map.json: 100%"
          }
        },
        "5fc78bc6f6914e6b9afdbb7f435eadf5": {
          "model_module": "@jupyter-widgets/controls",
          "model_name": "FloatProgressModel",
          "model_module_version": "1.5.0",
          "state": {
            "_dom_classes": [],
            "_model_module": "@jupyter-widgets/controls",
            "_model_module_version": "1.5.0",
            "_model_name": "FloatProgressModel",
            "_view_count": null,
            "_view_module": "@jupyter-widgets/controls",
            "_view_module_version": "1.5.0",
            "_view_name": "ProgressView",
            "bar_style": "success",
            "description": "",
            "description_tooltip": null,
            "layout": "IPY_MODEL_6d28af0cbb794284aadbcd2a327752b2",
            "max": 112,
            "min": 0,
            "orientation": "horizontal",
            "style": "IPY_MODEL_a873b5c8e63e4b54a184e8b4b5ee8d83",
            "value": 112
          }
        },
        "44c15eb4c02c4bb28c743b7882fbfcff": {
          "model_module": "@jupyter-widgets/controls",
          "model_name": "HTMLModel",
          "model_module_version": "1.5.0",
          "state": {
            "_dom_classes": [],
            "_model_module": "@jupyter-widgets/controls",
            "_model_module_version": "1.5.0",
            "_model_name": "HTMLModel",
            "_view_count": null,
            "_view_module": "@jupyter-widgets/controls",
            "_view_module_version": "1.5.0",
            "_view_name": "HTMLView",
            "description": "",
            "description_tooltip": null,
            "layout": "IPY_MODEL_f2e7f03b61a348928df61177346fce5f",
            "placeholder": "​",
            "style": "IPY_MODEL_ded6ad7b6618466594aa8d1804bb3518",
            "value": " 112/112 [00:00&lt;00:00, 4.31kB/s]"
          }
        },
        "89754674d2e3499eab8080ee1aad8278": {
          "model_module": "@jupyter-widgets/base",
          "model_name": "LayoutModel",
          "model_module_version": "1.2.0",
          "state": {
            "_model_module": "@jupyter-widgets/base",
            "_model_module_version": "1.2.0",
            "_model_name": "LayoutModel",
            "_view_count": null,
            "_view_module": "@jupyter-widgets/base",
            "_view_module_version": "1.2.0",
            "_view_name": "LayoutView",
            "align_content": null,
            "align_items": null,
            "align_self": null,
            "border": null,
            "bottom": null,
            "display": null,
            "flex": null,
            "flex_flow": null,
            "grid_area": null,
            "grid_auto_columns": null,
            "grid_auto_flow": null,
            "grid_auto_rows": null,
            "grid_column": null,
            "grid_gap": null,
            "grid_row": null,
            "grid_template_areas": null,
            "grid_template_columns": null,
            "grid_template_rows": null,
            "height": null,
            "justify_content": null,
            "justify_items": null,
            "left": null,
            "margin": null,
            "max_height": null,
            "max_width": null,
            "min_height": null,
            "min_width": null,
            "object_fit": null,
            "object_position": null,
            "order": null,
            "overflow": null,
            "overflow_x": null,
            "overflow_y": null,
            "padding": null,
            "right": null,
            "top": null,
            "visibility": null,
            "width": null
          }
        },
        "b8231372149c416eba849060caa5bdf5": {
          "model_module": "@jupyter-widgets/base",
          "model_name": "LayoutModel",
          "model_module_version": "1.2.0",
          "state": {
            "_model_module": "@jupyter-widgets/base",
            "_model_module_version": "1.2.0",
            "_model_name": "LayoutModel",
            "_view_count": null,
            "_view_module": "@jupyter-widgets/base",
            "_view_module_version": "1.2.0",
            "_view_name": "LayoutView",
            "align_content": null,
            "align_items": null,
            "align_self": null,
            "border": null,
            "bottom": null,
            "display": null,
            "flex": null,
            "flex_flow": null,
            "grid_area": null,
            "grid_auto_columns": null,
            "grid_auto_flow": null,
            "grid_auto_rows": null,
            "grid_column": null,
            "grid_gap": null,
            "grid_row": null,
            "grid_template_areas": null,
            "grid_template_columns": null,
            "grid_template_rows": null,
            "height": null,
            "justify_content": null,
            "justify_items": null,
            "left": null,
            "margin": null,
            "max_height": null,
            "max_width": null,
            "min_height": null,
            "min_width": null,
            "object_fit": null,
            "object_position": null,
            "order": null,
            "overflow": null,
            "overflow_x": null,
            "overflow_y": null,
            "padding": null,
            "right": null,
            "top": null,
            "visibility": null,
            "width": null
          }
        },
        "baa18f348e12433d9221e94bb1a1dfad": {
          "model_module": "@jupyter-widgets/controls",
          "model_name": "DescriptionStyleModel",
          "model_module_version": "1.5.0",
          "state": {
            "_model_module": "@jupyter-widgets/controls",
            "_model_module_version": "1.5.0",
            "_model_name": "DescriptionStyleModel",
            "_view_count": null,
            "_view_module": "@jupyter-widgets/base",
            "_view_module_version": "1.2.0",
            "_view_name": "StyleView",
            "description_width": ""
          }
        },
        "6d28af0cbb794284aadbcd2a327752b2": {
          "model_module": "@jupyter-widgets/base",
          "model_name": "LayoutModel",
          "model_module_version": "1.2.0",
          "state": {
            "_model_module": "@jupyter-widgets/base",
            "_model_module_version": "1.2.0",
            "_model_name": "LayoutModel",
            "_view_count": null,
            "_view_module": "@jupyter-widgets/base",
            "_view_module_version": "1.2.0",
            "_view_name": "LayoutView",
            "align_content": null,
            "align_items": null,
            "align_self": null,
            "border": null,
            "bottom": null,
            "display": null,
            "flex": null,
            "flex_flow": null,
            "grid_area": null,
            "grid_auto_columns": null,
            "grid_auto_flow": null,
            "grid_auto_rows": null,
            "grid_column": null,
            "grid_gap": null,
            "grid_row": null,
            "grid_template_areas": null,
            "grid_template_columns": null,
            "grid_template_rows": null,
            "height": null,
            "justify_content": null,
            "justify_items": null,
            "left": null,
            "margin": null,
            "max_height": null,
            "max_width": null,
            "min_height": null,
            "min_width": null,
            "object_fit": null,
            "object_position": null,
            "order": null,
            "overflow": null,
            "overflow_x": null,
            "overflow_y": null,
            "padding": null,
            "right": null,
            "top": null,
            "visibility": null,
            "width": null
          }
        },
        "a873b5c8e63e4b54a184e8b4b5ee8d83": {
          "model_module": "@jupyter-widgets/controls",
          "model_name": "ProgressStyleModel",
          "model_module_version": "1.5.0",
          "state": {
            "_model_module": "@jupyter-widgets/controls",
            "_model_module_version": "1.5.0",
            "_model_name": "ProgressStyleModel",
            "_view_count": null,
            "_view_module": "@jupyter-widgets/base",
            "_view_module_version": "1.2.0",
            "_view_name": "StyleView",
            "bar_color": null,
            "description_width": ""
          }
        },
        "f2e7f03b61a348928df61177346fce5f": {
          "model_module": "@jupyter-widgets/base",
          "model_name": "LayoutModel",
          "model_module_version": "1.2.0",
          "state": {
            "_model_module": "@jupyter-widgets/base",
            "_model_module_version": "1.2.0",
            "_model_name": "LayoutModel",
            "_view_count": null,
            "_view_module": "@jupyter-widgets/base",
            "_view_module_version": "1.2.0",
            "_view_name": "LayoutView",
            "align_content": null,
            "align_items": null,
            "align_self": null,
            "border": null,
            "bottom": null,
            "display": null,
            "flex": null,
            "flex_flow": null,
            "grid_area": null,
            "grid_auto_columns": null,
            "grid_auto_flow": null,
            "grid_auto_rows": null,
            "grid_column": null,
            "grid_gap": null,
            "grid_row": null,
            "grid_template_areas": null,
            "grid_template_columns": null,
            "grid_template_rows": null,
            "height": null,
            "justify_content": null,
            "justify_items": null,
            "left": null,
            "margin": null,
            "max_height": null,
            "max_width": null,
            "min_height": null,
            "min_width": null,
            "object_fit": null,
            "object_position": null,
            "order": null,
            "overflow": null,
            "overflow_x": null,
            "overflow_y": null,
            "padding": null,
            "right": null,
            "top": null,
            "visibility": null,
            "width": null
          }
        },
        "ded6ad7b6618466594aa8d1804bb3518": {
          "model_module": "@jupyter-widgets/controls",
          "model_name": "DescriptionStyleModel",
          "model_module_version": "1.5.0",
          "state": {
            "_model_module": "@jupyter-widgets/controls",
            "_model_module_version": "1.5.0",
            "_model_name": "DescriptionStyleModel",
            "_view_count": null,
            "_view_module": "@jupyter-widgets/base",
            "_view_module_version": "1.2.0",
            "_view_name": "StyleView",
            "description_width": ""
          }
        },
        "bfcb6cfa34ef4cd185304ee653c0cca6": {
          "model_module": "@jupyter-widgets/controls",
          "model_name": "HBoxModel",
          "model_module_version": "1.5.0",
          "state": {
            "_dom_classes": [],
            "_model_module": "@jupyter-widgets/controls",
            "_model_module_version": "1.5.0",
            "_model_name": "HBoxModel",
            "_view_count": null,
            "_view_module": "@jupyter-widgets/controls",
            "_view_module_version": "1.5.0",
            "_view_name": "HBoxView",
            "box_style": "",
            "children": [
              "IPY_MODEL_0554f8d31f8b45c2ba9f28f9e053b921",
              "IPY_MODEL_03efc46182f94cd397ef1cfd794fb0d1",
              "IPY_MODEL_c4e7f4b320944e88a0210ec8411fd42f"
            ],
            "layout": "IPY_MODEL_47baaa959014485cb59facd5f91a05d6"
          }
        },
        "0554f8d31f8b45c2ba9f28f9e053b921": {
          "model_module": "@jupyter-widgets/controls",
          "model_name": "HTMLModel",
          "model_module_version": "1.5.0",
          "state": {
            "_dom_classes": [],
            "_model_module": "@jupyter-widgets/controls",
            "_model_module_version": "1.5.0",
            "_model_name": "HTMLModel",
            "_view_count": null,
            "_view_module": "@jupyter-widgets/controls",
            "_view_module_version": "1.5.0",
            "_view_name": "HTMLView",
            "description": "",
            "description_tooltip": null,
            "layout": "IPY_MODEL_36e041631acf45559cb1331e7d588af3",
            "placeholder": "​",
            "style": "IPY_MODEL_aefeb752e1ad45d3b590b4eb8d0cd9d5",
            "value": "Downloading (…)lve/main/config.json: 100%"
          }
        },
        "03efc46182f94cd397ef1cfd794fb0d1": {
          "model_module": "@jupyter-widgets/controls",
          "model_name": "FloatProgressModel",
          "model_module_version": "1.5.0",
          "state": {
            "_dom_classes": [],
            "_model_module": "@jupyter-widgets/controls",
            "_model_module_version": "1.5.0",
            "_model_name": "FloatProgressModel",
            "_view_count": null,
            "_view_module": "@jupyter-widgets/controls",
            "_view_module_version": "1.5.0",
            "_view_name": "ProgressView",
            "bar_style": "success",
            "description": "",
            "description_tooltip": null,
            "layout": "IPY_MODEL_0cdbc56ee2324d1e969e0e547f164cc9",
            "max": 693,
            "min": 0,
            "orientation": "horizontal",
            "style": "IPY_MODEL_e4910670055d432d9040e93542444d05",
            "value": 693
          }
        },
        "c4e7f4b320944e88a0210ec8411fd42f": {
          "model_module": "@jupyter-widgets/controls",
          "model_name": "HTMLModel",
          "model_module_version": "1.5.0",
          "state": {
            "_dom_classes": [],
            "_model_module": "@jupyter-widgets/controls",
            "_model_module_version": "1.5.0",
            "_model_name": "HTMLModel",
            "_view_count": null,
            "_view_module": "@jupyter-widgets/controls",
            "_view_module_version": "1.5.0",
            "_view_name": "HTMLView",
            "description": "",
            "description_tooltip": null,
            "layout": "IPY_MODEL_e3cb00e844bc4df3abc36a62d47eb5bd",
            "placeholder": "​",
            "style": "IPY_MODEL_735570731aca4f4997e277050321c1a5",
            "value": " 693/693 [00:00&lt;00:00, 42.6kB/s]"
          }
        },
        "47baaa959014485cb59facd5f91a05d6": {
          "model_module": "@jupyter-widgets/base",
          "model_name": "LayoutModel",
          "model_module_version": "1.2.0",
          "state": {
            "_model_module": "@jupyter-widgets/base",
            "_model_module_version": "1.2.0",
            "_model_name": "LayoutModel",
            "_view_count": null,
            "_view_module": "@jupyter-widgets/base",
            "_view_module_version": "1.2.0",
            "_view_name": "LayoutView",
            "align_content": null,
            "align_items": null,
            "align_self": null,
            "border": null,
            "bottom": null,
            "display": null,
            "flex": null,
            "flex_flow": null,
            "grid_area": null,
            "grid_auto_columns": null,
            "grid_auto_flow": null,
            "grid_auto_rows": null,
            "grid_column": null,
            "grid_gap": null,
            "grid_row": null,
            "grid_template_areas": null,
            "grid_template_columns": null,
            "grid_template_rows": null,
            "height": null,
            "justify_content": null,
            "justify_items": null,
            "left": null,
            "margin": null,
            "max_height": null,
            "max_width": null,
            "min_height": null,
            "min_width": null,
            "object_fit": null,
            "object_position": null,
            "order": null,
            "overflow": null,
            "overflow_x": null,
            "overflow_y": null,
            "padding": null,
            "right": null,
            "top": null,
            "visibility": null,
            "width": null
          }
        },
        "36e041631acf45559cb1331e7d588af3": {
          "model_module": "@jupyter-widgets/base",
          "model_name": "LayoutModel",
          "model_module_version": "1.2.0",
          "state": {
            "_model_module": "@jupyter-widgets/base",
            "_model_module_version": "1.2.0",
            "_model_name": "LayoutModel",
            "_view_count": null,
            "_view_module": "@jupyter-widgets/base",
            "_view_module_version": "1.2.0",
            "_view_name": "LayoutView",
            "align_content": null,
            "align_items": null,
            "align_self": null,
            "border": null,
            "bottom": null,
            "display": null,
            "flex": null,
            "flex_flow": null,
            "grid_area": null,
            "grid_auto_columns": null,
            "grid_auto_flow": null,
            "grid_auto_rows": null,
            "grid_column": null,
            "grid_gap": null,
            "grid_row": null,
            "grid_template_areas": null,
            "grid_template_columns": null,
            "grid_template_rows": null,
            "height": null,
            "justify_content": null,
            "justify_items": null,
            "left": null,
            "margin": null,
            "max_height": null,
            "max_width": null,
            "min_height": null,
            "min_width": null,
            "object_fit": null,
            "object_position": null,
            "order": null,
            "overflow": null,
            "overflow_x": null,
            "overflow_y": null,
            "padding": null,
            "right": null,
            "top": null,
            "visibility": null,
            "width": null
          }
        },
        "aefeb752e1ad45d3b590b4eb8d0cd9d5": {
          "model_module": "@jupyter-widgets/controls",
          "model_name": "DescriptionStyleModel",
          "model_module_version": "1.5.0",
          "state": {
            "_model_module": "@jupyter-widgets/controls",
            "_model_module_version": "1.5.0",
            "_model_name": "DescriptionStyleModel",
            "_view_count": null,
            "_view_module": "@jupyter-widgets/base",
            "_view_module_version": "1.2.0",
            "_view_name": "StyleView",
            "description_width": ""
          }
        },
        "0cdbc56ee2324d1e969e0e547f164cc9": {
          "model_module": "@jupyter-widgets/base",
          "model_name": "LayoutModel",
          "model_module_version": "1.2.0",
          "state": {
            "_model_module": "@jupyter-widgets/base",
            "_model_module_version": "1.2.0",
            "_model_name": "LayoutModel",
            "_view_count": null,
            "_view_module": "@jupyter-widgets/base",
            "_view_module_version": "1.2.0",
            "_view_name": "LayoutView",
            "align_content": null,
            "align_items": null,
            "align_self": null,
            "border": null,
            "bottom": null,
            "display": null,
            "flex": null,
            "flex_flow": null,
            "grid_area": null,
            "grid_auto_columns": null,
            "grid_auto_flow": null,
            "grid_auto_rows": null,
            "grid_column": null,
            "grid_gap": null,
            "grid_row": null,
            "grid_template_areas": null,
            "grid_template_columns": null,
            "grid_template_rows": null,
            "height": null,
            "justify_content": null,
            "justify_items": null,
            "left": null,
            "margin": null,
            "max_height": null,
            "max_width": null,
            "min_height": null,
            "min_width": null,
            "object_fit": null,
            "object_position": null,
            "order": null,
            "overflow": null,
            "overflow_x": null,
            "overflow_y": null,
            "padding": null,
            "right": null,
            "top": null,
            "visibility": null,
            "width": null
          }
        },
        "e4910670055d432d9040e93542444d05": {
          "model_module": "@jupyter-widgets/controls",
          "model_name": "ProgressStyleModel",
          "model_module_version": "1.5.0",
          "state": {
            "_model_module": "@jupyter-widgets/controls",
            "_model_module_version": "1.5.0",
            "_model_name": "ProgressStyleModel",
            "_view_count": null,
            "_view_module": "@jupyter-widgets/base",
            "_view_module_version": "1.2.0",
            "_view_name": "StyleView",
            "bar_color": null,
            "description_width": ""
          }
        },
        "e3cb00e844bc4df3abc36a62d47eb5bd": {
          "model_module": "@jupyter-widgets/base",
          "model_name": "LayoutModel",
          "model_module_version": "1.2.0",
          "state": {
            "_model_module": "@jupyter-widgets/base",
            "_model_module_version": "1.2.0",
            "_model_name": "LayoutModel",
            "_view_count": null,
            "_view_module": "@jupyter-widgets/base",
            "_view_module_version": "1.2.0",
            "_view_name": "LayoutView",
            "align_content": null,
            "align_items": null,
            "align_self": null,
            "border": null,
            "bottom": null,
            "display": null,
            "flex": null,
            "flex_flow": null,
            "grid_area": null,
            "grid_auto_columns": null,
            "grid_auto_flow": null,
            "grid_auto_rows": null,
            "grid_column": null,
            "grid_gap": null,
            "grid_row": null,
            "grid_template_areas": null,
            "grid_template_columns": null,
            "grid_template_rows": null,
            "height": null,
            "justify_content": null,
            "justify_items": null,
            "left": null,
            "margin": null,
            "max_height": null,
            "max_width": null,
            "min_height": null,
            "min_width": null,
            "object_fit": null,
            "object_position": null,
            "order": null,
            "overflow": null,
            "overflow_x": null,
            "overflow_y": null,
            "padding": null,
            "right": null,
            "top": null,
            "visibility": null,
            "width": null
          }
        },
        "735570731aca4f4997e277050321c1a5": {
          "model_module": "@jupyter-widgets/controls",
          "model_name": "DescriptionStyleModel",
          "model_module_version": "1.5.0",
          "state": {
            "_model_module": "@jupyter-widgets/controls",
            "_model_module_version": "1.5.0",
            "_model_name": "DescriptionStyleModel",
            "_view_count": null,
            "_view_module": "@jupyter-widgets/base",
            "_view_module_version": "1.2.0",
            "_view_name": "StyleView",
            "description_width": ""
          }
        },
        "7e4db9372a4b4fd8b5270a95dc516a62": {
          "model_module": "@jupyter-widgets/controls",
          "model_name": "HBoxModel",
          "model_module_version": "1.5.0",
          "state": {
            "_dom_classes": [],
            "_model_module": "@jupyter-widgets/controls",
            "_model_module_version": "1.5.0",
            "_model_name": "HBoxModel",
            "_view_count": null,
            "_view_module": "@jupyter-widgets/controls",
            "_view_module_version": "1.5.0",
            "_view_name": "HBoxView",
            "box_style": "",
            "children": [
              "IPY_MODEL_d151e47920cd4c7888de56bab0034fd7",
              "IPY_MODEL_535806b0a115458ab5c306bc039ebe5a",
              "IPY_MODEL_874387186fa441f1bd37e22b0c7c15ff"
            ],
            "layout": "IPY_MODEL_7be87c177f4e4791905cee7a37084b4c"
          }
        },
        "d151e47920cd4c7888de56bab0034fd7": {
          "model_module": "@jupyter-widgets/controls",
          "model_name": "HTMLModel",
          "model_module_version": "1.5.0",
          "state": {
            "_dom_classes": [],
            "_model_module": "@jupyter-widgets/controls",
            "_model_module_version": "1.5.0",
            "_model_name": "HTMLModel",
            "_view_count": null,
            "_view_module": "@jupyter-widgets/controls",
            "_view_module_version": "1.5.0",
            "_view_name": "HTMLView",
            "description": "",
            "description_tooltip": null,
            "layout": "IPY_MODEL_7c97ef7ade3e424fb730e06a7edc27a4",
            "placeholder": "​",
            "style": "IPY_MODEL_8d403ae2ce0f4456bd240c8c5883bb78",
            "value": "Downloading pytorch_model.bin: 100%"
          }
        },
        "535806b0a115458ab5c306bc039ebe5a": {
          "model_module": "@jupyter-widgets/controls",
          "model_name": "FloatProgressModel",
          "model_module_version": "1.5.0",
          "state": {
            "_dom_classes": [],
            "_model_module": "@jupyter-widgets/controls",
            "_model_module_version": "1.5.0",
            "_model_name": "FloatProgressModel",
            "_view_count": null,
            "_view_module": "@jupyter-widgets/controls",
            "_view_module_version": "1.5.0",
            "_view_name": "ProgressView",
            "bar_style": "success",
            "description": "",
            "description_tooltip": null,
            "layout": "IPY_MODEL_981592bd6a094e7896a7b05f2d42d071",
            "max": 442547953,
            "min": 0,
            "orientation": "horizontal",
            "style": "IPY_MODEL_5cca8201861a499ab7d0408cf1e23e29",
            "value": 442547953
          }
        },
        "874387186fa441f1bd37e22b0c7c15ff": {
          "model_module": "@jupyter-widgets/controls",
          "model_name": "HTMLModel",
          "model_module_version": "1.5.0",
          "state": {
            "_dom_classes": [],
            "_model_module": "@jupyter-widgets/controls",
            "_model_module_version": "1.5.0",
            "_model_name": "HTMLModel",
            "_view_count": null,
            "_view_module": "@jupyter-widgets/controls",
            "_view_module_version": "1.5.0",
            "_view_name": "HTMLView",
            "description": "",
            "description_tooltip": null,
            "layout": "IPY_MODEL_282778606ece4c778975e8676e7ffe93",
            "placeholder": "​",
            "style": "IPY_MODEL_15cc683812ec4c6fb6ee7047ec82b343",
            "value": " 443M/443M [00:08&lt;00:00, 49.4MB/s]"
          }
        },
        "7be87c177f4e4791905cee7a37084b4c": {
          "model_module": "@jupyter-widgets/base",
          "model_name": "LayoutModel",
          "model_module_version": "1.2.0",
          "state": {
            "_model_module": "@jupyter-widgets/base",
            "_model_module_version": "1.2.0",
            "_model_name": "LayoutModel",
            "_view_count": null,
            "_view_module": "@jupyter-widgets/base",
            "_view_module_version": "1.2.0",
            "_view_name": "LayoutView",
            "align_content": null,
            "align_items": null,
            "align_self": null,
            "border": null,
            "bottom": null,
            "display": null,
            "flex": null,
            "flex_flow": null,
            "grid_area": null,
            "grid_auto_columns": null,
            "grid_auto_flow": null,
            "grid_auto_rows": null,
            "grid_column": null,
            "grid_gap": null,
            "grid_row": null,
            "grid_template_areas": null,
            "grid_template_columns": null,
            "grid_template_rows": null,
            "height": null,
            "justify_content": null,
            "justify_items": null,
            "left": null,
            "margin": null,
            "max_height": null,
            "max_width": null,
            "min_height": null,
            "min_width": null,
            "object_fit": null,
            "object_position": null,
            "order": null,
            "overflow": null,
            "overflow_x": null,
            "overflow_y": null,
            "padding": null,
            "right": null,
            "top": null,
            "visibility": null,
            "width": null
          }
        },
        "7c97ef7ade3e424fb730e06a7edc27a4": {
          "model_module": "@jupyter-widgets/base",
          "model_name": "LayoutModel",
          "model_module_version": "1.2.0",
          "state": {
            "_model_module": "@jupyter-widgets/base",
            "_model_module_version": "1.2.0",
            "_model_name": "LayoutModel",
            "_view_count": null,
            "_view_module": "@jupyter-widgets/base",
            "_view_module_version": "1.2.0",
            "_view_name": "LayoutView",
            "align_content": null,
            "align_items": null,
            "align_self": null,
            "border": null,
            "bottom": null,
            "display": null,
            "flex": null,
            "flex_flow": null,
            "grid_area": null,
            "grid_auto_columns": null,
            "grid_auto_flow": null,
            "grid_auto_rows": null,
            "grid_column": null,
            "grid_gap": null,
            "grid_row": null,
            "grid_template_areas": null,
            "grid_template_columns": null,
            "grid_template_rows": null,
            "height": null,
            "justify_content": null,
            "justify_items": null,
            "left": null,
            "margin": null,
            "max_height": null,
            "max_width": null,
            "min_height": null,
            "min_width": null,
            "object_fit": null,
            "object_position": null,
            "order": null,
            "overflow": null,
            "overflow_x": null,
            "overflow_y": null,
            "padding": null,
            "right": null,
            "top": null,
            "visibility": null,
            "width": null
          }
        },
        "8d403ae2ce0f4456bd240c8c5883bb78": {
          "model_module": "@jupyter-widgets/controls",
          "model_name": "DescriptionStyleModel",
          "model_module_version": "1.5.0",
          "state": {
            "_model_module": "@jupyter-widgets/controls",
            "_model_module_version": "1.5.0",
            "_model_name": "DescriptionStyleModel",
            "_view_count": null,
            "_view_module": "@jupyter-widgets/base",
            "_view_module_version": "1.2.0",
            "_view_name": "StyleView",
            "description_width": ""
          }
        },
        "981592bd6a094e7896a7b05f2d42d071": {
          "model_module": "@jupyter-widgets/base",
          "model_name": "LayoutModel",
          "model_module_version": "1.2.0",
          "state": {
            "_model_module": "@jupyter-widgets/base",
            "_model_module_version": "1.2.0",
            "_model_name": "LayoutModel",
            "_view_count": null,
            "_view_module": "@jupyter-widgets/base",
            "_view_module_version": "1.2.0",
            "_view_name": "LayoutView",
            "align_content": null,
            "align_items": null,
            "align_self": null,
            "border": null,
            "bottom": null,
            "display": null,
            "flex": null,
            "flex_flow": null,
            "grid_area": null,
            "grid_auto_columns": null,
            "grid_auto_flow": null,
            "grid_auto_rows": null,
            "grid_column": null,
            "grid_gap": null,
            "grid_row": null,
            "grid_template_areas": null,
            "grid_template_columns": null,
            "grid_template_rows": null,
            "height": null,
            "justify_content": null,
            "justify_items": null,
            "left": null,
            "margin": null,
            "max_height": null,
            "max_width": null,
            "min_height": null,
            "min_width": null,
            "object_fit": null,
            "object_position": null,
            "order": null,
            "overflow": null,
            "overflow_x": null,
            "overflow_y": null,
            "padding": null,
            "right": null,
            "top": null,
            "visibility": null,
            "width": null
          }
        },
        "5cca8201861a499ab7d0408cf1e23e29": {
          "model_module": "@jupyter-widgets/controls",
          "model_name": "ProgressStyleModel",
          "model_module_version": "1.5.0",
          "state": {
            "_model_module": "@jupyter-widgets/controls",
            "_model_module_version": "1.5.0",
            "_model_name": "ProgressStyleModel",
            "_view_count": null,
            "_view_module": "@jupyter-widgets/base",
            "_view_module_version": "1.2.0",
            "_view_name": "StyleView",
            "bar_color": null,
            "description_width": ""
          }
        },
        "282778606ece4c778975e8676e7ffe93": {
          "model_module": "@jupyter-widgets/base",
          "model_name": "LayoutModel",
          "model_module_version": "1.2.0",
          "state": {
            "_model_module": "@jupyter-widgets/base",
            "_model_module_version": "1.2.0",
            "_model_name": "LayoutModel",
            "_view_count": null,
            "_view_module": "@jupyter-widgets/base",
            "_view_module_version": "1.2.0",
            "_view_name": "LayoutView",
            "align_content": null,
            "align_items": null,
            "align_self": null,
            "border": null,
            "bottom": null,
            "display": null,
            "flex": null,
            "flex_flow": null,
            "grid_area": null,
            "grid_auto_columns": null,
            "grid_auto_flow": null,
            "grid_auto_rows": null,
            "grid_column": null,
            "grid_gap": null,
            "grid_row": null,
            "grid_template_areas": null,
            "grid_template_columns": null,
            "grid_template_rows": null,
            "height": null,
            "justify_content": null,
            "justify_items": null,
            "left": null,
            "margin": null,
            "max_height": null,
            "max_width": null,
            "min_height": null,
            "min_width": null,
            "object_fit": null,
            "object_position": null,
            "order": null,
            "overflow": null,
            "overflow_x": null,
            "overflow_y": null,
            "padding": null,
            "right": null,
            "top": null,
            "visibility": null,
            "width": null
          }
        },
        "15cc683812ec4c6fb6ee7047ec82b343": {
          "model_module": "@jupyter-widgets/controls",
          "model_name": "DescriptionStyleModel",
          "model_module_version": "1.5.0",
          "state": {
            "_model_module": "@jupyter-widgets/controls",
            "_model_module_version": "1.5.0",
            "_model_name": "DescriptionStyleModel",
            "_view_count": null,
            "_view_module": "@jupyter-widgets/base",
            "_view_module_version": "1.2.0",
            "_view_name": "StyleView",
            "description_width": ""
          }
        }
      }
    },
    "accelerator": "GPU"
  },
  "nbformat": 4,
  "nbformat_minor": 5
}